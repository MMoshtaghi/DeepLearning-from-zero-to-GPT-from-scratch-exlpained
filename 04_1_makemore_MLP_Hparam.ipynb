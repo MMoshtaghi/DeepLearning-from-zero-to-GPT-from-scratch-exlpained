{
 "cells": [
  {
   "cell_type": "code",
   "execution_count": 1,
   "metadata": {},
   "outputs": [],
   "source": [
    "import math\n",
    "import random\n",
    "import numpy as np\n",
    "import matplotlib.pyplot as plt\n",
    "import seaborn as sns\n",
    "sns.set_theme(style=\"dark\")\n",
    "%matplotlib inline\n",
    "''' %matplotlib inline sets the backend of matplotlib to\n",
    "the 'inline' backend. When using the 'inline' backend,\n",
    "your matplotlib graphs will be included in your notebook,\n",
    "next to the code.'''\n",
    "\n",
    "import  torch\n",
    "import torch.nn.functional as F\n",
    "'''\n",
    "To get same results when sampling during different runs.\n",
    "If you are using cuDNN, you should set the deterministic behavior.\n",
    "This might make your code quite slow, but might be a good method to check your code and deactivate it later.\n",
    "'''\n",
    "torch.backends.cudnn.deterministic = True"
   ]
  },
  {
   "attachments": {},
   "cell_type": "markdown",
   "metadata": {},
   "source": [
    "# A multi-character level MLP Language Model\n",
    "Now here we want to consider a wider range of character inputs to predict the next character!\n",
    "\n",
    "Benjio et al 2003 (MLP LM) was proposed a LM for words, we use it for characters:\n",
    "\n",
    "    1- bc of the exponentially growing number of states as we increase the number of input chunks of words & characters, (like for 2 characters we had 27 * 27, for 3 char it will be  27**3 and so on!!), we can't continue with the probabilistic approach anymore, but we scale the NN.\n",
    "\n",
    "    2- we are going to embed each word or character to a latent vector (embedding).\n",
    "    \n",
    "    3- This is a cool idea and allow us for out-of distribution generalization:\n",
    "    \n",
    "        3.1- During test time, the network might encounter inputs that has never exactly seen during in the empirical dataset (out-of-empirical-distribution).\n",
    "\n",
    "        3.2 but if we train the network to put similar words or characters embeddings close together, then for example if it has seen \"A dog is running in a room\", it will ba able to change the words or characters with same semantic or grammar rule, and say \"A cat is running in a room\" or \"The cat is running in the room\". Even though you have not seen them!\n",
    "\n",
    "        3.3- we have look up table to map the 27 characters to its multi dimensional embedding index"
   ]
  },
  {
   "cell_type": "code",
   "execution_count": 2,
   "metadata": {},
   "outputs": [],
   "source": [
    "\n",
    "words = open('names.txt', 'r').read().splitlines()"
   ]
  },
  {
   "cell_type": "code",
   "execution_count": 3,
   "metadata": {},
   "outputs": [],
   "source": [
    "# sets takes an input, create a set of all items,\n",
    "# & doesn't allow duplicates :)\n",
    "# then we want a sorted list of course, the order matters! \n",
    "chars = sorted(list(set(''.join(words))))\n",
    "# a map or dict:\n",
    "# start from 1\n",
    "s_to_i = { s:i for i, s in enumerate(chars, start=1)}\n",
    "s_to_i['.'] = 0\n",
    "i_to_s = { i:s for s,i in s_to_i.items()}"
   ]
  },
  {
   "cell_type": "code",
   "execution_count": 4,
   "metadata": {},
   "outputs": [],
   "source": [
    "import itertools\n",
    "def plot_heatmap(tensor, nrow=None, ncol=None, fig_size=(10,10)):\n",
    "    if (nrow is None) or (ncol is None):\n",
    "        nrow = tensor.shape[0]\n",
    "        ncol = tensor.shape[1]\n",
    "    plt.figure(figsize=fig_size)\n",
    "    plt.imshow(tensor.detach().numpy(), cmap= 'Blues')\n",
    "    # manually write text on each cell (seaborn annot doesn't look good)\n",
    "    for i, j in itertools.product(range(nrow), range(ncol)):\n",
    "        # x:col, y:rows, the origin is top left corner, makes bottom <->top\n",
    "        plt.text(x=j, y=i, s=f'{tensor[i,j].item():.2f}', ha='center', va='center', color='grey')\n",
    "    plt.axis('off')"
   ]
  },
  {
   "attachments": {},
   "cell_type": "markdown",
   "metadata": {},
   "source": [
    "## Splitting dataset into Training Dev & Test sets\n",
    "\n",
    "1. split rate 80%, 10%, 10%\n",
    "\n",
    "2. Dev or Validation set is for hyper parameter tuning\n",
    "\n",
    "3. test should be touched at he end"
   ]
  },
  {
   "cell_type": "code",
   "execution_count": 6,
   "metadata": {},
   "outputs": [
    {
     "name": "stdout",
     "output_type": "stream",
     "text": [
      "Tr: xs.shape = torch.Size([182580, 4])\n",
      "Dev: xs.shape = torch.Size([22767, 4])\n",
      "Ts: xs.shape = torch.Size([22799, 4])\n",
      "TR_SIZE = 182580\n",
      "WINDOW_SIZE = 4\n",
      "NCLASS = 27\n"
     ]
    }
   ],
   "source": [
    "WINDOW_SIZE = 4\n",
    "\n",
    "def build_dataset(words:list, type:str):\n",
    "    xs, ys = [], []\n",
    "\n",
    "    # context input window: how many characters do we take to predict the next one?\n",
    "    \n",
    "\n",
    "    for w in words:\n",
    "        context_window = [0]*WINDOW_SIZE\n",
    "        for ch in f'{w}.':\n",
    "            idx_y = s_to_i[ch]\n",
    "            ys.append(idx_y)\n",
    "\n",
    "            xs.append(context_window) # input : ch1\n",
    "            # print(''.join(i_to_s[i] for i in context_window) + f' ---> {ch}' )\n",
    "\n",
    "            # shift_to_left context window and append the idx_y\n",
    "            context_window = context_window[1:] + [idx_y]\n",
    "    xs = torch.tensor(xs)\n",
    "    # ys = torch.Tensor(ys)\n",
    "    ys = torch.tensor(ys)\n",
    "    print(f'{type}: {xs.shape = }')\n",
    "    return xs, ys\n",
    "\n",
    "\n",
    "import random\n",
    "random.seed(42)\n",
    "random.shuffle(words)\n",
    "n80 = int( 0.8*len(words) )\n",
    "n90 = int( 0.9*len(words) )\n",
    "Xtr, Ytr = build_dataset(words[:n80], 'Tr')\n",
    "Xdev, Ydev = build_dataset(words[n80:n90], 'Dev')\n",
    "Xts, Yts = build_dataset(words[n90:], 'Ts')\n",
    "TR_SIZE = Xtr.shape[0]\n",
    "DEV_SIZE = Xdev.shape[0]\n",
    "TS_SIZE = Xts.shape[0]\n",
    "print(f'{TR_SIZE = }')\n",
    "print(f'{WINDOW_SIZE = }')\n",
    "NCLASS = 27\n",
    "print(f'{NCLASS = }')"
   ]
  },
  {
   "attachments": {},
   "cell_type": "markdown",
   "metadata": {},
   "source": [
    "## The summary of parameters"
   ]
  },
  {
   "cell_type": "code",
   "execution_count": 10,
   "metadata": {},
   "outputs": [
    {
     "data": {
      "text/plain": [
       "3681"
      ]
     },
     "execution_count": 10,
     "metadata": {},
     "output_type": "execute_result"
    }
   ],
   "source": [
    "EMB_DIM = 2\n",
    "HLAYER_SIZE = 100\n",
    "\n",
    "g = torch.Generator().manual_seed(2147483647)\n",
    "emb_lkt = torch.randn( NCLASS, EMB_DIM, generator=g)\n",
    "W1 = torch.randn( WINDOW_SIZE*EMB_DIM, HLAYER_SIZE , generator=g)\n",
    "b1 = torch.randn( HLAYER_SIZE, generator=g)\n",
    "W2 = torch.randn( HLAYER_SIZE, NCLASS, generator=g)\n",
    "b2 = torch.randn( NCLASS, generator=g)\n",
    "parameters = [emb_lkt, W1, b1, W2, b2]\n",
    "for p in parameters:\n",
    "    p.requires_grad = True\n",
    "    p.grad = None\n",
    "sum(p.nelement() for p in parameters)"
   ]
  },
  {
   "attachments": {},
   "cell_type": "markdown",
   "metadata": {},
   "source": [
    "## Training loop with PyTorch Functional"
   ]
  },
  {
   "attachments": {},
   "cell_type": "markdown",
   "metadata": {},
   "source": [
    "### the loop"
   ]
  },
  {
   "cell_type": "code",
   "execution_count": 11,
   "metadata": {},
   "outputs": [
    {
     "name": "stdout",
     "output_type": "stream",
     "text": [
      "loss: 2.2109198570251465\n"
     ]
    }
   ],
   "source": [
    "lr = 0.1\n",
    "BATCH_SIZE = 32\n",
    "NSTEPS = 100000\n",
    "\n",
    "for i in range(NSTEPS):\n",
    "    \n",
    "    # Forward path\n",
    "    mini_batch_idx = torch.randint(low=0, high=TR_SIZE, size=(BATCH_SIZE,))\n",
    "    emb = emb_lkt[Xtr[mini_batch_idx]] # BATCH_SIZE, WINDOW_SIZE, emb_dim\n",
    "    h = torch.tanh(emb.view(BATCH_SIZE, -1)@W1 + b1 ) # BATCH_SIZE, hlayer_size\n",
    "    logits = h @ W2 + b2 # * log counts [BATCH_SIZE, NCLASS]\n",
    "    # counts = logits.exp() # * equivalent to counts [b, NCLASS]\n",
    "    # probs = counts / counts.sum(dim=1 , keepdim=True) #[b, NCLASS]\n",
    "     \n",
    "    # loss = -probs[torch.arange(BATCH_SIZE), ys].log().mean() + l2coef*(W**2).mean()\n",
    "\n",
    "    loss_mini = F.cross_entropy(logits, Ytr[mini_batch_idx])\n",
    "\n",
    "    # for p in parameters:\n",
    "    #     p.grad = None\n",
    "    loss_mini.backward()\n",
    "\n",
    "    # update &\n",
    "    # set the weight grads to None, PyTorch interpret it as 0\n",
    "    # but None is more efficient\n",
    "    for p in parameters:\n",
    "        p.data -= lr*p.grad\n",
    "        p.grad = None\n",
    "\n",
    "    # track stats\n",
    "    if i % 10000 == 0:\n",
    "        print(f'iteration: {i:7d} / {NSTEPS:7d} | mini loss: {loss_mini.item():.4f}')\n",
    "\n",
    "# print(f'loss_mini: {loss_mini.item()}')"
   ]
  },
  {
   "attachments": {},
   "cell_type": "markdown",
   "metadata": {},
   "source": [
    "## Evaluating hyper-parameters with Dev set"
   ]
  },
  {
   "cell_type": "markdown",
   "metadata": {},
   "source": [
    "### loss evaluation function"
   ]
  },
  {
   "cell_type": "code",
   "execution_count": null,
   "metadata": {},
   "outputs": [],
   "source": [
    "# This decorator disables gradient tracking for final training, dev, and test evaluation\n",
    "# we don't optimize here\n",
    "@torch.no_grad()\n",
    "def evaluate_loss(ds_type): # ds_type: dataset type\n",
    "    X,Y = {\n",
    "        'train': (Xtr, Ytr),\n",
    "        'dev': (Xdev, Ydev),\n",
    "        'test': (Xts, Yts),\n",
    "    }[ds_type]\n",
    "\n",
    "    emb = emb_lkt[X] # BATCH_SIZE, WINDOW_SIZE, emb_dim\n",
    "    h = torch.tanh(emb.view(-1, WINDOW_SIZE*EMB_DIM)@W1 + b1 ) # BATCH_SIZE, hlayer_size\n",
    "    logits = h @ W2 + b2 # * log counts [BATCH_SIZE, NCLASS]\n",
    "    \n",
    "    loss = F.cross_entropy(logits, Y)\n",
    "    print(f'{ds_type} loss: {loss.item()}')\n"
   ]
  },
  {
   "cell_type": "markdown",
   "metadata": {},
   "source": [
    "1- if the training loss is roughly equal (.2f) to the dev loss, it means the model is under-fitted. it's not big enough to just purely memorizes the data. so we can scale the model and increase the number of parameters, meaning the size of hidden layer and embeddings.\n",
    "\n",
    "2- On the other side, if your overfitting to traing data set, it means the model is to big and over-parameterized. so you have 2 options find a larger dataset, or lower the number of parameters."
   ]
  },
  {
   "cell_type": "markdown",
   "metadata": {},
   "source": [
    "Also tune the lr here! first continue with 0.1 till you don't improvement in the total train loss then go with 0.01 and lower. see the dev_loss as well."
   ]
  },
  {
   "attachments": {},
   "cell_type": "markdown",
   "metadata": {},
   "source": [
    "### increasing the size of Hidden Layer\n",
    "Also tune the lr here! first continue with 0.1 till you don't improvement in the total train loss then go with 0.01 and lower. see the dev_loss as well."
   ]
  },
  {
   "cell_type": "code",
   "execution_count": null,
   "metadata": {},
   "outputs": [
    {
     "data": {
      "text/plain": [
       "10881"
      ]
     },
     "metadata": {},
     "output_type": "display_data"
    }
   ],
   "source": [
    "EMB_DIM = 2\n",
    "HLAYER_SIZE = 300\n",
    "\n",
    "g = torch.Generator().manual_seed(2147483647)\n",
    "emb_lkt = torch.randn( NCLASS, EMB_DIM, generator=g)\n",
    "W1 = torch.randn( WINDOW_SIZE*EMB_DIM, HLAYER_SIZE , generator=g)\n",
    "b1 = torch.randn( HLAYER_SIZE, generator=g)\n",
    "W2 = torch.randn( HLAYER_SIZE, NCLASS, generator=g)\n",
    "b2 = torch.randn( NCLASS, generator=g)\n",
    "parameters = [emb_lkt, W1, b1, W2, b2]\n",
    "for p in parameters:\n",
    "    p.requires_grad = True\n",
    "    p.grad = None\n",
    "sum(p.nelement() for p in parameters)"
   ]
  },
  {
   "cell_type": "code",
   "execution_count": null,
   "metadata": {},
   "outputs": [],
   "source": [
    "lri = []\n",
    "lr_expo = torch.linspace(start=-3, end=0, steps=1000)\n",
    "exponential_lr = 10**lr_expo"
   ]
  },
  {
   "cell_type": "code",
   "execution_count": null,
   "metadata": {},
   "outputs": [
    {
     "name": "stdout",
     "output_type": "stream",
     "text": [
      "loss_mini: 1.905316710472107\n"
     ]
    }
   ],
   "source": [
    "BATCH_SIZE = 32\n",
    "loglossi = []\n",
    "stepi = []\n",
    "\n",
    "NSTEPS = 10000\n",
    "\n",
    "for i in range(NSTEPS):\n",
    "    \n",
    "    # Forward path\n",
    "    mini_batch_idx = torch.randint(low=0, high=TR_SIZE, size=(BATCH_SIZE,))\n",
    "    emb = emb_lkt[Xtr[mini_batch_idx]] # BATCH_SIZE, WINDOW_SIZE, emb_dim\n",
    "    h = torch.tanh(emb.view(BATCH_SIZE, WINDOW_SIZE*EMB_DIM)@W1 + b1 ) # BATCH_SIZE, hlayer_size\n",
    "    logits = h @ W2 + b2 # * log counts [BATCH_SIZE, NCLASS]\n",
    "    # counts = logits.exp() # * equivalent to counts [b, NCLASS]\n",
    "    # probs = counts / counts.sum(dim=1 , keepdim=True) #[b, NCLASS]\n",
    "     \n",
    "    # loss = -probs[torch.arange(BATCH_SIZE), ys].log().mean() + l2coef*(W**2).mean()\n",
    "\n",
    "    loss_mini = F.cross_entropy(logits, Ytr[mini_batch_idx])\n",
    "    \n",
    "    loglossi.append(loss_mini.log10().item())\n",
    "    stepi.append(i)\n",
    "\n",
    "    # lr exploration\n",
    "    lr = exponential_lr[i]\n",
    "    lri.append(lr_expo[i]) # store the exponent\n",
    "    # # after finding the lr\n",
    "    # lr = 0.1\n",
    "\n",
    "\n",
    "    loss_mini.backward()\n",
    "\n",
    "    # update &\n",
    "    # set the weight grads to None, PyTorch interpret it as 0\n",
    "    # but None is more efficient\n",
    "    for p in parameters:\n",
    "        p.data -= lr*p.grad\n",
    "        p.grad = None\n",
    "\n",
    "    # track stats\n",
    "    if i % 10000 == 0:\n",
    "        print(f'iteration: {i:7d} / {NSTEPS:7d} | mini loss: {loss_mini.item():.4f}')\n",
    "\n",
    "# print(f'loss_mini: {loss_mini.item()}')"
   ]
  },
  {
   "cell_type": "code",
   "execution_count": null,
   "metadata": {},
   "outputs": [],
   "source": [
    "evaluate_loss('train')\n",
    "evaluate_loss('dev')"
   ]
  },
  {
   "cell_type": "code",
   "execution_count": null,
   "metadata": {},
   "outputs": [],
   "source": [
    "plt.plot(lri, loglossi)"
   ]
  },
  {
   "cell_type": "code",
   "execution_count": null,
   "metadata": {},
   "outputs": [],
   "source": [
    "plt.plot(stepi, loglossi)"
   ]
  },
  {
   "attachments": {},
   "cell_type": "markdown",
   "metadata": {},
   "source": [
    "### Embedding Visualization"
   ]
  },
  {
   "cell_type": "code",
   "execution_count": 24,
   "metadata": {},
   "outputs": [
    {
     "data": {
      "image/png": "[encoded data removed]",
      "text/plain": [
       "<Figure size 800x800 with 1 Axes>"
      ]
     },
     "metadata": {},
     "output_type": "display_data"
    }
   ],
   "source": [
    "plt.figure(figsize=(8,8))\n",
    "plt.scatter(x= emb_lkt[:,0].data, y=emb_lkt[:,1].data, s=200)\n",
    "for i in range(NCLASS):\n",
    "    plt.text(x=emb_lkt[i,0].item(), y=emb_lkt[i,1].item(), s=i_to_s[i], ha='center', va='center', color='white')\n",
    "plt.grid('minor')"
   ]
  },
  {
   "attachments": {},
   "cell_type": "markdown",
   "metadata": {},
   "source": [
    "### increasing the size of Embeddings\n",
    "Also tune the lr here! first continue with 0.1 till you don't improvement in the total train loss then go with 0.01 and lower. see the dev_loss as well."
   ]
  },
  {
   "cell_type": "code",
   "execution_count": null,
   "metadata": {},
   "outputs": [
    {
     "data": {
      "text/plain": [
       "10881"
      ]
     },
     "metadata": {},
     "output_type": "display_data"
    }
   ],
   "source": [
    "EMB_DIM = 10\n",
    "HLAYER_SIZE = 300\n",
    "\n",
    "g = torch.Generator().manual_seed(2147483647)\n",
    "emb_lkt = torch.randn( NCLASS, EMB_DIM, generator=g)\n",
    "W1 = torch.randn( WINDOW_SIZE*EMB_DIM, HLAYER_SIZE , generator=g)\n",
    "b1 = torch.randn( HLAYER_SIZE, generator=g)\n",
    "W2 = torch.randn( HLAYER_SIZE, NCLASS, generator=g)\n",
    "b2 = torch.randn( NCLASS, generator=g)\n",
    "parameters = [emb_lkt, W1, b1, W2, b2]\n",
    "for p in parameters:\n",
    "    p.requires_grad = True\n",
    "    p.grad = None\n",
    "sum(p.nelement() for p in parameters)"
   ]
  },
  {
   "cell_type": "code",
   "execution_count": null,
   "metadata": {},
   "outputs": [
    {
     "name": "stdout",
     "output_type": "stream",
     "text": [
      "loss_mini: 1.905316710472107\n"
     ]
    }
   ],
   "source": [
    "lri = []\n",
    "lr_expo = torch.linspace(start=-3, end=0, steps=1000)\n",
    "exponential_lr = 10**lr_expo\n",
    "\n",
    "BATCH_SIZE = 32\n",
    "loglossi = []\n",
    "stepi = []\n",
    "\n",
    "NSTEPS = 10000\n",
    "\n",
    "for i in range(NSTEPS):\n",
    "    \n",
    "    # Forward path\n",
    "    mini_batch_idx = torch.randint(low=0, high=TR_SIZE, size=(BATCH_SIZE,))\n",
    "    emb = emb_lkt[Xtr[mini_batch_idx]] # BATCH_SIZE, WINDOW_SIZE, emb_dim\n",
    "    h = torch.tanh(emb.view(BATCH_SIZE, WINDOW_SIZE*EMB_DIM)@W1 + b1 ) # BATCH_SIZE, hlayer_size\n",
    "    logits = h @ W2 + b2 # * log counts [BATCH_SIZE, NCLASS]\n",
    "    # counts = logits.exp() # * equivalent to counts [b, NCLASS]\n",
    "    # probs = counts / counts.sum(dim=1 , keepdim=True) #[b, NCLASS]\n",
    "     \n",
    "    # loss = -probs[torch.arange(BATCH_SIZE), ys].log().mean() + l2coef*(W**2).mean()\n",
    "\n",
    "    loss_mini = F.cross_entropy(logits, Ytr[mini_batch_idx])\n",
    "    \n",
    "    loglossi.append(loss_mini.log10().item())\n",
    "    stepi.append(i)\n",
    "\n",
    "    lr = exponential_lr[i]\n",
    "    lri.append(lr_expo[i]) # store the exponent\n",
    "\n",
    "    loss_mini.backward()\n",
    "\n",
    "    # update &\n",
    "    # set the weight grads to None, PyTorch interpret it as 0\n",
    "    # but None is more efficient\n",
    "    for p in parameters:\n",
    "        p.data -= lr*p.grad\n",
    "        p.grad = None\n",
    "\n",
    "    # track stats\n",
    "    if i % 10000 == 0:\n",
    "        print(f'iteration: {i:7d} / {NSTEPS:7d} | mini loss: {loss_mini.item():.4f}')\n",
    "\n",
    "# print(f'loss_mini: {loss_mini.item()}')"
   ]
  },
  {
   "cell_type": "code",
   "execution_count": null,
   "metadata": {},
   "outputs": [],
   "source": [
    "evaluate_loss('train')\n",
    "evaluate_loss('dev')"
   ]
  },
  {
   "cell_type": "code",
   "execution_count": null,
   "metadata": {},
   "outputs": [],
   "source": [
    "plt.plot(lri, loglossi)"
   ]
  },
  {
   "cell_type": "code",
   "execution_count": 51,
   "metadata": {},
   "outputs": [
    {
     "data": {
      "text/plain": [
       "[<matplotlib.lines.Line2D at 0x7f7318cbfd60>]"
      ]
     },
     "execution_count": 51,
     "metadata": {},
     "output_type": "execute_result"
    },
    {
     "data": {
      "image/png": "[encoded data removed]",
      "text/plain": [
       "<Figure size 640x480 with 1 Axes>"
      ]
     },
     "metadata": {},
     "output_type": "display_data"
    }
   ],
   "source": [
    "plt.plot(stepi, loglossi)"
   ]
  },
  {
   "attachments": {},
   "cell_type": "markdown",
   "metadata": {},
   "source": [
    "## Let's Generate some samples like Bigram"
   ]
  },
  {
   "cell_type": "code",
   "execution_count": 56,
   "metadata": {},
   "outputs": [
    {
     "name": "stdout",
     "output_type": "stream",
     "text": [
      "mila\n",
      "uvannecterry\n",
      "graisen\n",
      "blicha\n",
      "maryens\n",
      "rikal\n",
      "clarel\n",
      "daltie\n",
      "destmauland\n",
      "futhi\n"
     ]
    }
   ],
   "source": [
    "\n",
    "g = torch.Generator().manual_seed(2147483647)\n",
    "for _ in range(10):\n",
    "    idx_y = 0\n",
    "    name = ''\n",
    "    context_window = [0]*WINDOW_SIZE\n",
    "    \n",
    "    while True:\n",
    "        # Forward path\n",
    "        emb = emb_lkt[torch.tensor([context_window])] # BATCH_SIZE=1, WINDOW_SIZE, emb_dim\n",
    "        h = torch.tanh(emb.view(-1, WINDOW_SIZE*EMB_DIM)@W1 + b1 ) # BATCH_SIZE, hlayer_size\n",
    "        logits = h @ W2 + b2 # * log counts [BATCH_SIZE, NCLASS]\n",
    "        probs = F.softmax(logits, dim=1)\n",
    "        \n",
    "        idx_y = torch.multinomial(probs.detach(), num_samples=1, replacement=True, generator=g).item()\n",
    "        # shift_to_left context window and append the idx_y\n",
    "        context_window = context_window[1:] + [idx_y]\n",
    "        if idx_y == 0:\n",
    "            break\n",
    "        ch = i_to_s[idx_y]\n",
    "        # print(ch)\n",
    "        name += ch\n",
    "    print(name)"
   ]
  }
 ],
 "metadata": {
  "kernelspec": {
   "display_name": "torch113_1",
   "language": "python",
   "name": "python3"
  },
  "language_info": {
   "codemirror_mode": {
    "name": "ipython",
    "version": 3
   },
   "file_extension": ".py",
   "mimetype": "text/x-python",
   "name": "python",
   "nbconvert_exporter": "python",
   "pygments_lexer": "ipython3",
   "version": "3.10.9"
  },
  "orig_nbformat": 4,
  "vscode": {
   "interpreter": {
    "hash": "dfd31d78f929449d598c868a4ab28a111e30d94109ecabb7e57cae0b5fb90da4"
   }
  }
 },
 "nbformat": 4,
 "nbformat_minor": 2
}
