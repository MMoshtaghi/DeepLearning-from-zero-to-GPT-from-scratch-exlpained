{
 "cells": [
  {
   "cell_type": "code",
   "execution_count": 1,
   "metadata": {},
   "outputs": [
    {
     "data": {
      "text/plain": [
       "\" %matplotlib inline sets the backend of matplotlib to\\nthe 'inline' backend. When using the 'inline' backend,\\nyour matplotlib graphs will be included in your notebook,\\nnext to the code.\""
      ]
     },
     "execution_count": 1,
     "metadata": {},
     "output_type": "execute_result"
    }
   ],
   "source": [
    "import math\n",
    "import numpy as np\n",
    "import matplotlib.pyplot as plt\n",
    "%matplotlib inline\n",
    "''' %matplotlib inline sets the backend of matplotlib to\n",
    "the 'inline' backend. When using the 'inline' backend,\n",
    "your matplotlib graphs will be included in your notebook,\n",
    "next to the code.'''"
   ]
  },
  {
   "attachments": {},
   "cell_type": "markdown",
   "metadata": {},
   "source": [
    "### The Visualization "
   ]
  },
  {
   "cell_type": "code",
   "execution_count": 2,
   "metadata": {},
   "outputs": [],
   "source": [
    "from graphviz import Digraph\n",
    "\n",
    "def trace(root):\n",
    "    '''\n",
    "    Build a set of all nodes and edges in a graph,\n",
    "    the order does not matter\n",
    "    '''\n",
    "    nodes, edges = set(), set()\n",
    "    \n",
    "    def build(v): # a heuristic topological sort function\n",
    "        if v not in nodes:\n",
    "            nodes.add(v)\n",
    "            for child in v._prev:\n",
    "                edges.add((child, v)) # define edge like this\n",
    "                build(child)\n",
    "\n",
    "    build(root)\n",
    "    return nodes, edges\n",
    "\n",
    "# first have an scheme of your desired graph based on the nodes and operations\n",
    "def draw_dot(root):\n",
    "    dot = Digraph(format='svg', graph_attr={'rankdir': 'LR'}) # LR : left to right\n",
    "\n",
    "    nodes, edges = trace(root)\n",
    "    for n in nodes:\n",
    "        uid = str(id(n))\n",
    "        # for any value in the graph, create a rectangular (record') node for it\n",
    "        # a visual node\n",
    "        dot.node(name=uid, label=f'{n.label} | data: {n.data} | grad: {n.grad}', shape='record')\n",
    "        if n._op:\n",
    "            # if this value is result of some operation, create an operation node for it\n",
    "            dot.node(name=uid+n._op , label=n._op) # n._op is a string\n",
    "            # and connect the op node to the value node\n",
    "            dot.edge(uid+n._op , uid)\n",
    "            for child in n._prev:\n",
    "                dot.edge( str(id(child)) , uid+n._op)\n",
    "    return dot"
   ]
  },
  {
   "attachments": {},
   "cell_type": "markdown",
   "metadata": {},
   "source": [
    "## engine file"
   ]
  },
  {
   "attachments": {},
   "cell_type": "markdown",
   "metadata": {},
   "source": [
    "Let's write our backprop as a method that can run from any node as root:"
   ]
  },
  {
   "cell_type": "code",
   "execution_count": 9,
   "metadata": {},
   "outputs": [],
   "source": [
    "class Value:\n",
    "    \n",
    "    def __init__(self, data, _prev=(), _op='', label=''):\n",
    "        self.data = data\n",
    "        self._prev = set(_prev) # the order does not matter, use set instead of list\n",
    "        self._op = _op\n",
    "        self.label = label\n",
    "\n",
    "        self.grad = 0.0\n",
    "\n",
    "        # After the forwrd path (when we have the data vlaue of all nodes)\n",
    "        # we start the backprop (to get the gradients for each node)\n",
    "        # the output node of each operation knows the operation and children\n",
    "        # since we dont have a backprop for leaf nodes, and \n",
    "        # each operation has different local gradient\n",
    "        # we can't define a general method in the class.\n",
    "        # so at the time of doing the operation,\n",
    "        # we can both define the local gradiant function\n",
    "        # and store the whole chain rule function in an attribute to call later.\n",
    "        # then call the local this function attribute from end node to the begining.\n",
    "        self._backprop = lambda: None\n",
    "    \n",
    "    def __repr__(self) -> str:\n",
    "        return f'Value({self.label}:{self.data})'\n",
    "    \n",
    "    def __add__(self, other):\n",
    "        out = Value(self.data + other.data, (self, other), '+')\n",
    "        \n",
    "        def _backprop():\n",
    "            # partial derivatives for each input:\n",
    "            self.grad = out.grad\n",
    "            other.grad = out.grad\n",
    "\n",
    "        out._backprop = _backprop\n",
    "        return out\n",
    "    \n",
    "    def __mul__(self, other):\n",
    "        out = Value(self.data * other.data, (self, other), '*')\n",
    "        \n",
    "        def _backprop():\n",
    "            # partial derivatives for each input:\n",
    "            self.grad = other.data * out.grad\n",
    "            other.grad = self.data * out.grad\n",
    "        \n",
    "        out._backprop = _backprop\n",
    "        return out\n",
    "    \n",
    "    def exp(self):\n",
    "        out = Value(np.exp(self.data), (self,), 'exp')\n",
    "        \n",
    "        def _backprop():\n",
    "            self.grad = np.exp(self.data) * out.grad\n",
    "        \n",
    "        out._backprop = _backprop\n",
    "        return out\n",
    "    \n",
    "    def tanh(self):\n",
    "        tanh = (np.exp(2*self.data) - 1)/(np.exp(2*self.data) + 1)\n",
    "        out = Value( tanh, (self,), 'tanh')\n",
    "        \n",
    "        def _backprop():\n",
    "            self.grad = (1 - tanh**2) * out.grad\n",
    "        \n",
    "        out._backprop = _backprop\n",
    "        return out\n",
    "    \n",
    "    def backprop(self):\n",
    "        topo_sort_list = []\n",
    "        visited = set() # the order does not matter, use set instead of list\n",
    "        \n",
    "        def build_topo(root):\n",
    "            if root not in visited:\n",
    "                visited.add(root)\n",
    "                # Appending to topo_sort before its children are processed\n",
    "                # will give us out to left sort,\n",
    "                # but not out to leaf sort in case of b (bias leaf), try it & see it\n",
    "                for child in root._prev:\n",
    "                    build_topo(child)\n",
    "                # Appending after its children are processed\n",
    "                # will give us leaf to out sort\n",
    "                topo_sort_list.append(root)\n",
    "        \n",
    "        build_topo(root=self)\n",
    "        \n",
    "        self.grad = 1.0\n",
    "        for node in reversed(topo_sort_list):\n",
    "            node._backprop()\n"
   ]
  },
  {
   "attachments": {},
   "cell_type": "markdown",
   "metadata": {},
   "source": [
    "## NN architecture file\n",
    "### A single Neuron with 2 inputs and one output"
   ]
  },
  {
   "cell_type": "code",
   "execution_count": 10,
   "metadata": {},
   "outputs": [],
   "source": [
    "# inputs x1,x2\n",
    "x1 = Value(2.0, label='x1')\n",
    "x2 = Value(0.0, label='x2')\n",
    "# weights\n",
    "w1 = Value(-3.0, label='w1')\n",
    "w2 = Value(1.0, label='w2')\n",
    "# bias of Neuron\n",
    "b = Value(10.7, label='b')\n",
    "\n",
    "# we do the multiplication one-by-one\n",
    "# so that we have the pointers to all intermediate values\n",
    "\n",
    "x1w1 = x1*w1;               x1w1.label = 'x1w1'\n",
    "x2w2 = x2*w2;               x2w2.label = 'x2w2'\n",
    "\n",
    "x1w1addx2w2 = x1w1 + x2w2;  x1w1addx2w2.label = 'x1w1addx2w2'\n",
    "n = x1w1addx2w2 + b;        n.label = 'n'\n",
    "\n",
    "o = n.tanh();                o.label = 'o'"
   ]
  },
  {
   "cell_type": "code",
   "execution_count": 11,
   "metadata": {},
   "outputs": [
    {
     "data": {
      "image/svg+xml": "<?xml version=\"1.0\" encoding=\"UTF-8\" standalone=\"no\"?>\n<!DOCTYPE svg PUBLIC \"-//W3C//DTD SVG 1.1//EN\"\n \"http://www.w3.org/Graphics/SVG/1.1/DTD/svg11.dtd\">\n<!-- Generated by graphviz version 2.50.0 (0)\n -->\n<!-- Pages: 1 -->\n<svg width=\"1230pt\" height=\"342pt\"\n viewBox=\"0.00 0.00 1229.69 342.00\" xmlns=\"http://www.w3.org/2000/svg\" xmlns:xlink=\"http://www.w3.org/1999/xlink\">\n<g id=\"graph0\" class=\"graph\" transform=\"scale(1 1) rotate(0) translate(4 338)\">\n<polygon fill=\"white\" stroke=\"transparent\" points=\"-4,4 -4,-338 1225.69,-338 1225.69,4 -4,4\"/>\n<!-- 139864972644448 -->\n<g id=\"node1\" class=\"node\">\n<title>139864972644448</title>\n<polygon fill=\"none\" stroke=\"black\" points=\"1.5,-264.5 1.5,-333.5 82.5,-333.5 82.5,-264.5 1.5,-264.5\"/>\n<text text-anchor=\"middle\" x=\"42\" y=\"-318.3\" font-family=\"Times,serif\" font-size=\"14.00\">x2</text>\n<polyline fill=\"none\" stroke=\"black\" points=\"1.5,-310.5 82.5,-310.5 \"/>\n<text text-anchor=\"middle\" x=\"42\" y=\"-295.3\" font-family=\"Times,serif\" font-size=\"14.00\">data: 0.0</text>\n<polyline fill=\"none\" stroke=\"black\" points=\"1.5,-287.5 82.5,-287.5 \"/>\n<text text-anchor=\"middle\" x=\"42\" y=\"-272.3\" font-family=\"Times,serif\" font-size=\"14.00\">grad: 0.0</text>\n</g>\n<!-- 139864342278256* -->\n<g id=\"node3\" class=\"node\">\n<title>139864342278256*</title>\n<ellipse fill=\"none\" stroke=\"black\" cx=\"147\" cy=\"-211\" rx=\"27\" ry=\"18\"/>\n<text text-anchor=\"middle\" x=\"147\" y=\"-207.3\" font-family=\"Times,serif\" font-size=\"14.00\">*</text>\n</g>\n<!-- 139864972644448&#45;&gt;139864342278256* -->\n<g id=\"edge2\" class=\"edge\">\n<title>139864972644448&#45;&gt;139864342278256*</title>\n<path fill=\"none\" stroke=\"black\" d=\"M82.53,-265.23C95.8,-253.89 110.2,-241.58 121.92,-231.57\"/>\n<polygon fill=\"black\" stroke=\"black\" points=\"124.24,-234.2 129.57,-225.04 119.69,-228.88 124.24,-234.2\"/>\n</g>\n<!-- 139864342278256 -->\n<g id=\"node2\" class=\"node\">\n<title>139864342278256</title>\n<polygon fill=\"none\" stroke=\"black\" points=\"211.5,-176.5 211.5,-245.5 292.5,-245.5 292.5,-176.5 211.5,-176.5\"/>\n<text text-anchor=\"middle\" x=\"252\" y=\"-230.3\" font-family=\"Times,serif\" font-size=\"14.00\">x2w2</text>\n<polyline fill=\"none\" stroke=\"black\" points=\"211.5,-222.5 292.5,-222.5 \"/>\n<text text-anchor=\"middle\" x=\"252\" y=\"-207.3\" font-family=\"Times,serif\" font-size=\"14.00\">data: 0.0</text>\n<polyline fill=\"none\" stroke=\"black\" points=\"211.5,-199.5 292.5,-199.5 \"/>\n<text text-anchor=\"middle\" x=\"252\" y=\"-184.3\" font-family=\"Times,serif\" font-size=\"14.00\">grad: 0.0</text>\n</g>\n<!-- 139864342274320+ -->\n<g id=\"node7\" class=\"node\">\n<title>139864342274320+</title>\n<ellipse fill=\"none\" stroke=\"black\" cx=\"357\" cy=\"-167\" rx=\"27\" ry=\"18\"/>\n<text text-anchor=\"middle\" x=\"357\" y=\"-163.3\" font-family=\"Times,serif\" font-size=\"14.00\">+</text>\n</g>\n<!-- 139864342278256&#45;&gt;139864342274320+ -->\n<g id=\"edge6\" class=\"edge\">\n<title>139864342278256&#45;&gt;139864342274320+</title>\n<path fill=\"none\" stroke=\"black\" d=\"M292.53,-194.11C303.1,-189.6 314.39,-184.77 324.47,-180.47\"/>\n<polygon fill=\"black\" stroke=\"black\" points=\"325.88,-183.67 333.71,-176.52 323.14,-177.23 325.88,-183.67\"/>\n</g>\n<!-- 139864342278256*&#45;&gt;139864342278256 -->\n<g id=\"edge1\" class=\"edge\">\n<title>139864342278256*&#45;&gt;139864342278256</title>\n<path fill=\"none\" stroke=\"black\" d=\"M174.26,-211C182.49,-211 191.86,-211 201.16,-211\"/>\n<polygon fill=\"black\" stroke=\"black\" points=\"201.16,-214.5 211.16,-211 201.16,-207.5 201.16,-214.5\"/>\n</g>\n<!-- 139864341868896 -->\n<g id=\"node4\" class=\"node\">\n<title>139864341868896</title>\n<polygon fill=\"none\" stroke=\"black\" points=\"1.5,-176.5 1.5,-245.5 82.5,-245.5 82.5,-176.5 1.5,-176.5\"/>\n<text text-anchor=\"middle\" x=\"42\" y=\"-230.3\" font-family=\"Times,serif\" font-size=\"14.00\">w2</text>\n<polyline fill=\"none\" stroke=\"black\" points=\"1.5,-222.5 82.5,-222.5 \"/>\n<text text-anchor=\"middle\" x=\"42\" y=\"-207.3\" font-family=\"Times,serif\" font-size=\"14.00\">data: 1.0</text>\n<polyline fill=\"none\" stroke=\"black\" points=\"1.5,-199.5 82.5,-199.5 \"/>\n<text text-anchor=\"middle\" x=\"42\" y=\"-184.3\" font-family=\"Times,serif\" font-size=\"14.00\">grad: 0.0</text>\n</g>\n<!-- 139864341868896&#45;&gt;139864342278256* -->\n<g id=\"edge3\" class=\"edge\">\n<title>139864341868896&#45;&gt;139864342278256*</title>\n<path fill=\"none\" stroke=\"black\" d=\"M82.53,-211C91.4,-211 100.78,-211 109.52,-211\"/>\n<polygon fill=\"black\" stroke=\"black\" points=\"109.79,-214.5 119.79,-211 109.79,-207.5 109.79,-214.5\"/>\n</g>\n<!-- 139864341869424 -->\n<g id=\"node5\" class=\"node\">\n<title>139864341869424</title>\n<polygon fill=\"none\" stroke=\"black\" points=\"435,-44.5 435,-113.5 524,-113.5 524,-44.5 435,-44.5\"/>\n<text text-anchor=\"middle\" x=\"479.5\" y=\"-98.3\" font-family=\"Times,serif\" font-size=\"14.00\">b</text>\n<polyline fill=\"none\" stroke=\"black\" points=\"435,-90.5 524,-90.5 \"/>\n<text text-anchor=\"middle\" x=\"479.5\" y=\"-75.3\" font-family=\"Times,serif\" font-size=\"14.00\">data: 10.7</text>\n<polyline fill=\"none\" stroke=\"black\" points=\"435,-67.5 524,-67.5 \"/>\n<text text-anchor=\"middle\" x=\"479.5\" y=\"-52.3\" font-family=\"Times,serif\" font-size=\"14.00\">grad: 0.0</text>\n</g>\n<!-- 139864342278496+ -->\n<g id=\"node11\" class=\"node\">\n<title>139864342278496+</title>\n<ellipse fill=\"none\" stroke=\"black\" cx=\"602\" cy=\"-123\" rx=\"27\" ry=\"18\"/>\n<text text-anchor=\"middle\" x=\"602\" y=\"-119.3\" font-family=\"Times,serif\" font-size=\"14.00\">+</text>\n</g>\n<!-- 139864341869424&#45;&gt;139864342278496+ -->\n<g id=\"edge9\" class=\"edge\">\n<title>139864341869424&#45;&gt;139864342278496+</title>\n<path fill=\"none\" stroke=\"black\" d=\"M524,-94.89C538.65,-100.23 554.73,-106.11 568.39,-111.09\"/>\n<polygon fill=\"black\" stroke=\"black\" points=\"567.26,-114.41 577.86,-114.55 569.66,-107.83 567.26,-114.41\"/>\n</g>\n<!-- 139864342274320 -->\n<g id=\"node6\" class=\"node\">\n<title>139864342274320</title>\n<polygon fill=\"none\" stroke=\"black\" points=\"420,-132.5 420,-201.5 539,-201.5 539,-132.5 420,-132.5\"/>\n<text text-anchor=\"middle\" x=\"479.5\" y=\"-186.3\" font-family=\"Times,serif\" font-size=\"14.00\">x1w1addx2w2</text>\n<polyline fill=\"none\" stroke=\"black\" points=\"420,-178.5 539,-178.5 \"/>\n<text text-anchor=\"middle\" x=\"479.5\" y=\"-163.3\" font-family=\"Times,serif\" font-size=\"14.00\">data: &#45;6.0</text>\n<polyline fill=\"none\" stroke=\"black\" points=\"420,-155.5 539,-155.5 \"/>\n<text text-anchor=\"middle\" x=\"479.5\" y=\"-140.3\" font-family=\"Times,serif\" font-size=\"14.00\">grad: 0.0</text>\n</g>\n<!-- 139864342274320&#45;&gt;139864342278496+ -->\n<g id=\"edge8\" class=\"edge\">\n<title>139864342274320&#45;&gt;139864342278496+</title>\n<path fill=\"none\" stroke=\"black\" d=\"M539.34,-145.52C549.32,-141.87 559.36,-138.21 568.35,-134.92\"/>\n<polygon fill=\"black\" stroke=\"black\" points=\"569.8,-138.12 577.99,-131.4 567.4,-131.54 569.8,-138.12\"/>\n</g>\n<!-- 139864342274320+&#45;&gt;139864342274320 -->\n<g id=\"edge4\" class=\"edge\">\n<title>139864342274320+&#45;&gt;139864342274320</title>\n<path fill=\"none\" stroke=\"black\" d=\"M384.15,-167C391.79,-167 400.53,-167 409.53,-167\"/>\n<polygon fill=\"black\" stroke=\"black\" points=\"409.76,-170.5 419.76,-167 409.76,-163.5 409.76,-170.5\"/>\n</g>\n<!-- 139864341868512 -->\n<g id=\"node8\" class=\"node\">\n<title>139864341868512</title>\n<polygon fill=\"none\" stroke=\"black\" points=\"210,-88.5 210,-157.5 294,-157.5 294,-88.5 210,-88.5\"/>\n<text text-anchor=\"middle\" x=\"252\" y=\"-142.3\" font-family=\"Times,serif\" font-size=\"14.00\">x1w1</text>\n<polyline fill=\"none\" stroke=\"black\" points=\"210,-134.5 294,-134.5 \"/>\n<text text-anchor=\"middle\" x=\"252\" y=\"-119.3\" font-family=\"Times,serif\" font-size=\"14.00\">data: &#45;6.0</text>\n<polyline fill=\"none\" stroke=\"black\" points=\"210,-111.5 294,-111.5 \"/>\n<text text-anchor=\"middle\" x=\"252\" y=\"-96.3\" font-family=\"Times,serif\" font-size=\"14.00\">grad: 0.0</text>\n</g>\n<!-- 139864341868512&#45;&gt;139864342274320+ -->\n<g id=\"edge5\" class=\"edge\">\n<title>139864341868512&#45;&gt;139864342274320+</title>\n<path fill=\"none\" stroke=\"black\" d=\"M294,-140.52C304.19,-144.87 314.94,-149.46 324.58,-153.58\"/>\n<polygon fill=\"black\" stroke=\"black\" points=\"323.22,-156.8 333.79,-157.51 325.97,-150.36 323.22,-156.8\"/>\n</g>\n<!-- 139864972653376 -->\n<g id=\"node9\" class=\"node\">\n<title>139864972653376</title>\n<polygon fill=\"none\" stroke=\"black\" points=\"0,-88.5 0,-157.5 84,-157.5 84,-88.5 0,-88.5\"/>\n<text text-anchor=\"middle\" x=\"42\" y=\"-142.3\" font-family=\"Times,serif\" font-size=\"14.00\">w1</text>\n<polyline fill=\"none\" stroke=\"black\" points=\"0,-134.5 84,-134.5 \"/>\n<text text-anchor=\"middle\" x=\"42\" y=\"-119.3\" font-family=\"Times,serif\" font-size=\"14.00\">data: &#45;3.0</text>\n<polyline fill=\"none\" stroke=\"black\" points=\"0,-111.5 84,-111.5 \"/>\n<text text-anchor=\"middle\" x=\"42\" y=\"-96.3\" font-family=\"Times,serif\" font-size=\"14.00\">grad: 0.0</text>\n</g>\n<!-- 139864341868512* -->\n<g id=\"node15\" class=\"node\">\n<title>139864341868512*</title>\n<ellipse fill=\"none\" stroke=\"black\" cx=\"147\" cy=\"-123\" rx=\"27\" ry=\"18\"/>\n<text text-anchor=\"middle\" x=\"147\" y=\"-119.3\" font-family=\"Times,serif\" font-size=\"14.00\">*</text>\n</g>\n<!-- 139864972653376&#45;&gt;139864341868512* -->\n<g id=\"edge14\" class=\"edge\">\n<title>139864972653376&#45;&gt;139864341868512*</title>\n<path fill=\"none\" stroke=\"black\" d=\"M84,-123C92.52,-123 101.45,-123 109.78,-123\"/>\n<polygon fill=\"black\" stroke=\"black\" points=\"109.95,-126.5 119.95,-123 109.95,-119.5 109.95,-126.5\"/>\n</g>\n<!-- 139864342278496 -->\n<g id=\"node10\" class=\"node\">\n<title>139864342278496</title>\n<polygon fill=\"none\" stroke=\"black\" points=\"665,-88.5 665,-157.5 871,-157.5 871,-88.5 665,-88.5\"/>\n<text text-anchor=\"middle\" x=\"768\" y=\"-142.3\" font-family=\"Times,serif\" font-size=\"14.00\">n</text>\n<polyline fill=\"none\" stroke=\"black\" points=\"665,-134.5 871,-134.5 \"/>\n<text text-anchor=\"middle\" x=\"768\" y=\"-119.3\" font-family=\"Times,serif\" font-size=\"14.00\">data: 4.699999999999999</text>\n<polyline fill=\"none\" stroke=\"black\" points=\"665,-111.5 871,-111.5 \"/>\n<text text-anchor=\"middle\" x=\"768\" y=\"-96.3\" font-family=\"Times,serif\" font-size=\"14.00\">grad: 0.0</text>\n</g>\n<!-- 139864342274416tanh -->\n<g id=\"node13\" class=\"node\">\n<title>139864342274416tanh</title>\n<ellipse fill=\"none\" stroke=\"black\" cx=\"938.85\" cy=\"-123\" rx=\"31.7\" ry=\"18\"/>\n<text text-anchor=\"middle\" x=\"938.85\" y=\"-119.3\" font-family=\"Times,serif\" font-size=\"14.00\">tanh</text>\n</g>\n<!-- 139864342278496&#45;&gt;139864342274416tanh -->\n<g id=\"edge11\" class=\"edge\">\n<title>139864342278496&#45;&gt;139864342274416tanh</title>\n<path fill=\"none\" stroke=\"black\" d=\"M871.11,-123C880.1,-123 888.8,-123 896.79,-123\"/>\n<polygon fill=\"black\" stroke=\"black\" points=\"896.85,-126.5 906.85,-123 896.85,-119.5 896.85,-126.5\"/>\n</g>\n<!-- 139864342278496+&#45;&gt;139864342278496 -->\n<g id=\"edge7\" class=\"edge\">\n<title>139864342278496+&#45;&gt;139864342278496</title>\n<path fill=\"none\" stroke=\"black\" d=\"M629.35,-123C636.8,-123 645.4,-123 654.61,-123\"/>\n<polygon fill=\"black\" stroke=\"black\" points=\"654.8,-126.5 664.8,-123 654.8,-119.5 654.8,-126.5\"/>\n</g>\n<!-- 139864342274416 -->\n<g id=\"node12\" class=\"node\">\n<title>139864342274416</title>\n<polygon fill=\"none\" stroke=\"black\" points=\"1006.69,-88.5 1006.69,-157.5 1221.69,-157.5 1221.69,-88.5 1006.69,-88.5\"/>\n<text text-anchor=\"middle\" x=\"1114.19\" y=\"-142.3\" font-family=\"Times,serif\" font-size=\"14.00\">o</text>\n<polyline fill=\"none\" stroke=\"black\" points=\"1006.69,-134.5 1221.69,-134.5 \"/>\n<text text-anchor=\"middle\" x=\"1114.19\" y=\"-119.3\" font-family=\"Times,serif\" font-size=\"14.00\">data: 0.9998345655542966</text>\n<polyline fill=\"none\" stroke=\"black\" points=\"1006.69,-111.5 1221.69,-111.5 \"/>\n<text text-anchor=\"middle\" x=\"1114.19\" y=\"-96.3\" font-family=\"Times,serif\" font-size=\"14.00\">grad: 0.0</text>\n</g>\n<!-- 139864342274416tanh&#45;&gt;139864342274416 -->\n<g id=\"edge10\" class=\"edge\">\n<title>139864342274416tanh&#45;&gt;139864342274416</title>\n<path fill=\"none\" stroke=\"black\" d=\"M970.84,-123C978.49,-123 987.15,-123 996.32,-123\"/>\n<polygon fill=\"black\" stroke=\"black\" points=\"996.45,-126.5 1006.45,-123 996.45,-119.5 996.45,-126.5\"/>\n</g>\n<!-- 139864972645264 -->\n<g id=\"node14\" class=\"node\">\n<title>139864972645264</title>\n<polygon fill=\"none\" stroke=\"black\" points=\"1.5,-0.5 1.5,-69.5 82.5,-69.5 82.5,-0.5 1.5,-0.5\"/>\n<text text-anchor=\"middle\" x=\"42\" y=\"-54.3\" font-family=\"Times,serif\" font-size=\"14.00\">x1</text>\n<polyline fill=\"none\" stroke=\"black\" points=\"1.5,-46.5 82.5,-46.5 \"/>\n<text text-anchor=\"middle\" x=\"42\" y=\"-31.3\" font-family=\"Times,serif\" font-size=\"14.00\">data: 2.0</text>\n<polyline fill=\"none\" stroke=\"black\" points=\"1.5,-23.5 82.5,-23.5 \"/>\n<text text-anchor=\"middle\" x=\"42\" y=\"-8.3\" font-family=\"Times,serif\" font-size=\"14.00\">grad: 0.0</text>\n</g>\n<!-- 139864972645264&#45;&gt;139864341868512* -->\n<g id=\"edge13\" class=\"edge\">\n<title>139864972645264&#45;&gt;139864341868512*</title>\n<path fill=\"none\" stroke=\"black\" d=\"M82.53,-68.77C95.8,-80.11 110.2,-92.42 121.92,-102.43\"/>\n<polygon fill=\"black\" stroke=\"black\" points=\"119.69,-105.12 129.57,-108.96 124.24,-99.8 119.69,-105.12\"/>\n</g>\n<!-- 139864341868512*&#45;&gt;139864341868512 -->\n<g id=\"edge12\" class=\"edge\">\n<title>139864341868512*&#45;&gt;139864341868512</title>\n<path fill=\"none\" stroke=\"black\" d=\"M174.26,-123C182.05,-123 190.88,-123 199.69,-123\"/>\n<polygon fill=\"black\" stroke=\"black\" points=\"199.97,-126.5 209.97,-123 199.97,-119.5 199.97,-126.5\"/>\n</g>\n</g>\n</svg>\n",
      "text/plain": [
       "<graphviz.graphs.Digraph at 0x7f34da02d270>"
      ]
     },
     "execution_count": 11,
     "metadata": {},
     "output_type": "execute_result"
    }
   ],
   "source": [
    "draw_dot(o)"
   ]
  },
  {
   "cell_type": "code",
   "execution_count": 12,
   "metadata": {},
   "outputs": [],
   "source": [
    "o.backprop()"
   ]
  },
  {
   "cell_type": "code",
   "execution_count": 13,
   "metadata": {},
   "outputs": [
    {
     "data": {
      "image/svg+xml": "<?xml version=\"1.0\" encoding=\"UTF-8\" standalone=\"no\"?>\n<!DOCTYPE svg PUBLIC \"-//W3C//DTD SVG 1.1//EN\"\n \"http://www.w3.org/Graphics/SVG/1.1/DTD/svg11.dtd\">\n<!-- Generated by graphviz version 2.50.0 (0)\n -->\n<!-- Pages: 1 -->\n<svg width=\"1745pt\" height=\"342pt\"\n viewBox=\"0.00 0.00 1744.69 342.00\" xmlns=\"http://www.w3.org/2000/svg\" xmlns:xlink=\"http://www.w3.org/1999/xlink\">\n<g id=\"graph0\" class=\"graph\" transform=\"scale(1 1) rotate(0) translate(4 338)\">\n<polygon fill=\"white\" stroke=\"transparent\" points=\"-4,4 -4,-338 1740.69,-338 1740.69,4 -4,4\"/>\n<!-- 139864972644448 -->\n<g id=\"node1\" class=\"node\">\n<title>139864972644448</title>\n<polygon fill=\"none\" stroke=\"black\" points=\"0,-264.5 0,-333.5 252,-333.5 252,-264.5 0,-264.5\"/>\n<text text-anchor=\"middle\" x=\"126\" y=\"-318.3\" font-family=\"Times,serif\" font-size=\"14.00\">x2</text>\n<polyline fill=\"none\" stroke=\"black\" points=\"0,-310.5 252,-310.5 \"/>\n<text text-anchor=\"middle\" x=\"126\" y=\"-295.3\" font-family=\"Times,serif\" font-size=\"14.00\">data: 0.0</text>\n<polyline fill=\"none\" stroke=\"black\" points=\"0,-287.5 252,-287.5 \"/>\n<text text-anchor=\"middle\" x=\"126\" y=\"-272.3\" font-family=\"Times,serif\" font-size=\"14.00\">grad: 0.00033084152285089985</text>\n</g>\n<!-- 139864342278256* -->\n<g id=\"node3\" class=\"node\">\n<title>139864342278256*</title>\n<ellipse fill=\"none\" stroke=\"black\" cx=\"315\" cy=\"-211\" rx=\"27\" ry=\"18\"/>\n<text text-anchor=\"middle\" x=\"315\" y=\"-207.3\" font-family=\"Times,serif\" font-size=\"14.00\">*</text>\n</g>\n<!-- 139864972644448&#45;&gt;139864342278256* -->\n<g id=\"edge2\" class=\"edge\">\n<title>139864972644448&#45;&gt;139864342278256*</title>\n<path fill=\"none\" stroke=\"black\" d=\"M232.27,-264.38C239.03,-261.41 245.67,-258.28 252,-255 264.95,-248.3 278.27,-239.18 289.22,-230.99\"/>\n<polygon fill=\"black\" stroke=\"black\" points=\"291.65,-233.54 297.45,-224.68 287.39,-227.99 291.65,-233.54\"/>\n</g>\n<!-- 139864342278256 -->\n<g id=\"node2\" class=\"node\">\n<title>139864342278256</title>\n<polygon fill=\"none\" stroke=\"black\" points=\"378,-176.5 378,-245.5 630,-245.5 630,-176.5 378,-176.5\"/>\n<text text-anchor=\"middle\" x=\"504\" y=\"-230.3\" font-family=\"Times,serif\" font-size=\"14.00\">x2w2</text>\n<polyline fill=\"none\" stroke=\"black\" points=\"378,-222.5 630,-222.5 \"/>\n<text text-anchor=\"middle\" x=\"504\" y=\"-207.3\" font-family=\"Times,serif\" font-size=\"14.00\">data: 0.0</text>\n<polyline fill=\"none\" stroke=\"black\" points=\"378,-199.5 630,-199.5 \"/>\n<text text-anchor=\"middle\" x=\"504\" y=\"-184.3\" font-family=\"Times,serif\" font-size=\"14.00\">grad: 0.00033084152285089985</text>\n</g>\n<!-- 139864342274320+ -->\n<g id=\"node7\" class=\"node\">\n<title>139864342274320+</title>\n<ellipse fill=\"none\" stroke=\"black\" cx=\"693\" cy=\"-167\" rx=\"27\" ry=\"18\"/>\n<text text-anchor=\"middle\" x=\"693\" y=\"-163.3\" font-family=\"Times,serif\" font-size=\"14.00\">+</text>\n</g>\n<!-- 139864342278256&#45;&gt;139864342274320+ -->\n<g id=\"edge6\" class=\"edge\">\n<title>139864342278256&#45;&gt;139864342274320+</title>\n<path fill=\"none\" stroke=\"black\" d=\"M630.25,-181.53C639.98,-179.24 649.19,-177.07 657.38,-175.14\"/>\n<polygon fill=\"black\" stroke=\"black\" points=\"658.25,-178.54 667.18,-172.84 656.64,-171.72 658.25,-178.54\"/>\n</g>\n<!-- 139864342278256*&#45;&gt;139864342278256 -->\n<g id=\"edge1\" class=\"edge\">\n<title>139864342278256*&#45;&gt;139864342278256</title>\n<path fill=\"none\" stroke=\"black\" d=\"M342,-211C349.52,-211 358.3,-211 367.79,-211\"/>\n<polygon fill=\"black\" stroke=\"black\" points=\"367.92,-214.5 377.92,-211 367.92,-207.5 367.92,-214.5\"/>\n</g>\n<!-- 139864341868896 -->\n<g id=\"node4\" class=\"node\">\n<title>139864341868896</title>\n<polygon fill=\"none\" stroke=\"black\" points=\"85.5,-176.5 85.5,-245.5 166.5,-245.5 166.5,-176.5 85.5,-176.5\"/>\n<text text-anchor=\"middle\" x=\"126\" y=\"-230.3\" font-family=\"Times,serif\" font-size=\"14.00\">w2</text>\n<polyline fill=\"none\" stroke=\"black\" points=\"85.5,-222.5 166.5,-222.5 \"/>\n<text text-anchor=\"middle\" x=\"126\" y=\"-207.3\" font-family=\"Times,serif\" font-size=\"14.00\">data: 1.0</text>\n<polyline fill=\"none\" stroke=\"black\" points=\"85.5,-199.5 166.5,-199.5 \"/>\n<text text-anchor=\"middle\" x=\"126\" y=\"-184.3\" font-family=\"Times,serif\" font-size=\"14.00\">grad: 0.0</text>\n</g>\n<!-- 139864341868896&#45;&gt;139864342278256* -->\n<g id=\"edge3\" class=\"edge\">\n<title>139864341868896&#45;&gt;139864342278256*</title>\n<path fill=\"none\" stroke=\"black\" d=\"M166.66,-211C199.5,-211 245.8,-211 277.68,-211\"/>\n<polygon fill=\"black\" stroke=\"black\" points=\"277.91,-214.5 287.91,-211 277.91,-207.5 277.91,-214.5\"/>\n</g>\n<!-- 139864341869424 -->\n<g id=\"node5\" class=\"node\">\n<title>139864341869424</title>\n<polygon fill=\"none\" stroke=\"black\" points=\"756,-44.5 756,-113.5 1008,-113.5 1008,-44.5 756,-44.5\"/>\n<text text-anchor=\"middle\" x=\"882\" y=\"-98.3\" font-family=\"Times,serif\" font-size=\"14.00\">b</text>\n<polyline fill=\"none\" stroke=\"black\" points=\"756,-90.5 1008,-90.5 \"/>\n<text text-anchor=\"middle\" x=\"882\" y=\"-75.3\" font-family=\"Times,serif\" font-size=\"14.00\">data: 10.7</text>\n<polyline fill=\"none\" stroke=\"black\" points=\"756,-67.5 1008,-67.5 \"/>\n<text text-anchor=\"middle\" x=\"882\" y=\"-52.3\" font-family=\"Times,serif\" font-size=\"14.00\">grad: 0.00033084152285089985</text>\n</g>\n<!-- 139864342278496+ -->\n<g id=\"node11\" class=\"node\">\n<title>139864342278496+</title>\n<ellipse fill=\"none\" stroke=\"black\" cx=\"1071\" cy=\"-123\" rx=\"27\" ry=\"18\"/>\n<text text-anchor=\"middle\" x=\"1071\" y=\"-119.3\" font-family=\"Times,serif\" font-size=\"14.00\">+</text>\n</g>\n<!-- 139864341869424&#45;&gt;139864342278496+ -->\n<g id=\"edge9\" class=\"edge\">\n<title>139864341869424&#45;&gt;139864342278496+</title>\n<path fill=\"none\" stroke=\"black\" d=\"M1008.25,-108.47C1017.98,-110.76 1027.19,-112.93 1035.38,-114.86\"/>\n<polygon fill=\"black\" stroke=\"black\" points=\"1034.64,-118.28 1045.18,-117.16 1036.25,-111.46 1034.64,-118.28\"/>\n</g>\n<!-- 139864342274320 -->\n<g id=\"node6\" class=\"node\">\n<title>139864342274320</title>\n<polygon fill=\"none\" stroke=\"black\" points=\"756,-132.5 756,-201.5 1008,-201.5 1008,-132.5 756,-132.5\"/>\n<text text-anchor=\"middle\" x=\"882\" y=\"-186.3\" font-family=\"Times,serif\" font-size=\"14.00\">x1w1addx2w2</text>\n<polyline fill=\"none\" stroke=\"black\" points=\"756,-178.5 1008,-178.5 \"/>\n<text text-anchor=\"middle\" x=\"882\" y=\"-163.3\" font-family=\"Times,serif\" font-size=\"14.00\">data: &#45;6.0</text>\n<polyline fill=\"none\" stroke=\"black\" points=\"756,-155.5 1008,-155.5 \"/>\n<text text-anchor=\"middle\" x=\"882\" y=\"-140.3\" font-family=\"Times,serif\" font-size=\"14.00\">grad: 0.00033084152285089985</text>\n</g>\n<!-- 139864342274320&#45;&gt;139864342278496+ -->\n<g id=\"edge8\" class=\"edge\">\n<title>139864342274320&#45;&gt;139864342278496+</title>\n<path fill=\"none\" stroke=\"black\" d=\"M1008.25,-137.53C1017.98,-135.24 1027.19,-133.07 1035.38,-131.14\"/>\n<polygon fill=\"black\" stroke=\"black\" points=\"1036.25,-134.54 1045.18,-128.84 1034.64,-127.72 1036.25,-134.54\"/>\n</g>\n<!-- 139864342274320+&#45;&gt;139864342274320 -->\n<g id=\"edge4\" class=\"edge\">\n<title>139864342274320+&#45;&gt;139864342274320</title>\n<path fill=\"none\" stroke=\"black\" d=\"M720,-167C727.52,-167 736.3,-167 745.79,-167\"/>\n<polygon fill=\"black\" stroke=\"black\" points=\"745.92,-170.5 755.92,-167 745.92,-163.5 745.92,-170.5\"/>\n</g>\n<!-- 139864341868512 -->\n<g id=\"node8\" class=\"node\">\n<title>139864341868512</title>\n<polygon fill=\"none\" stroke=\"black\" points=\"378,-88.5 378,-157.5 630,-157.5 630,-88.5 378,-88.5\"/>\n<text text-anchor=\"middle\" x=\"504\" y=\"-142.3\" font-family=\"Times,serif\" font-size=\"14.00\">x1w1</text>\n<polyline fill=\"none\" stroke=\"black\" points=\"378,-134.5 630,-134.5 \"/>\n<text text-anchor=\"middle\" x=\"504\" y=\"-119.3\" font-family=\"Times,serif\" font-size=\"14.00\">data: &#45;6.0</text>\n<polyline fill=\"none\" stroke=\"black\" points=\"378,-111.5 630,-111.5 \"/>\n<text text-anchor=\"middle\" x=\"504\" y=\"-96.3\" font-family=\"Times,serif\" font-size=\"14.00\">grad: 0.00033084152285089985</text>\n</g>\n<!-- 139864341868512&#45;&gt;139864342274320+ -->\n<g id=\"edge5\" class=\"edge\">\n<title>139864341868512&#45;&gt;139864342274320+</title>\n<path fill=\"none\" stroke=\"black\" d=\"M630.25,-152.47C639.98,-154.76 649.19,-156.93 657.38,-158.86\"/>\n<polygon fill=\"black\" stroke=\"black\" points=\"656.64,-162.28 667.18,-161.16 658.25,-155.46 656.64,-162.28\"/>\n</g>\n<!-- 139864972653376 -->\n<g id=\"node9\" class=\"node\">\n<title>139864972653376</title>\n<polygon fill=\"none\" stroke=\"black\" points=\"4.5,-88.5 4.5,-157.5 247.5,-157.5 247.5,-88.5 4.5,-88.5\"/>\n<text text-anchor=\"middle\" x=\"126\" y=\"-142.3\" font-family=\"Times,serif\" font-size=\"14.00\">w1</text>\n<polyline fill=\"none\" stroke=\"black\" points=\"4.5,-134.5 247.5,-134.5 \"/>\n<text text-anchor=\"middle\" x=\"126\" y=\"-119.3\" font-family=\"Times,serif\" font-size=\"14.00\">data: &#45;3.0</text>\n<polyline fill=\"none\" stroke=\"black\" points=\"4.5,-111.5 247.5,-111.5 \"/>\n<text text-anchor=\"middle\" x=\"126\" y=\"-96.3\" font-family=\"Times,serif\" font-size=\"14.00\">grad: 0.0006616830457017997</text>\n</g>\n<!-- 139864341868512* -->\n<g id=\"node15\" class=\"node\">\n<title>139864341868512*</title>\n<ellipse fill=\"none\" stroke=\"black\" cx=\"315\" cy=\"-123\" rx=\"27\" ry=\"18\"/>\n<text text-anchor=\"middle\" x=\"315\" y=\"-119.3\" font-family=\"Times,serif\" font-size=\"14.00\">*</text>\n</g>\n<!-- 139864972653376&#45;&gt;139864341868512* -->\n<g id=\"edge14\" class=\"edge\">\n<title>139864972653376&#45;&gt;139864341868512*</title>\n<path fill=\"none\" stroke=\"black\" d=\"M247.54,-123C258.31,-123 268.56,-123 277.64,-123\"/>\n<polygon fill=\"black\" stroke=\"black\" points=\"277.72,-126.5 287.72,-123 277.72,-119.5 277.72,-126.5\"/>\n</g>\n<!-- 139864342278496 -->\n<g id=\"node10\" class=\"node\">\n<title>139864342278496</title>\n<polygon fill=\"none\" stroke=\"black\" points=\"1134,-88.5 1134,-157.5 1386,-157.5 1386,-88.5 1134,-88.5\"/>\n<text text-anchor=\"middle\" x=\"1260\" y=\"-142.3\" font-family=\"Times,serif\" font-size=\"14.00\">n</text>\n<polyline fill=\"none\" stroke=\"black\" points=\"1134,-134.5 1386,-134.5 \"/>\n<text text-anchor=\"middle\" x=\"1260\" y=\"-119.3\" font-family=\"Times,serif\" font-size=\"14.00\">data: 4.699999999999999</text>\n<polyline fill=\"none\" stroke=\"black\" points=\"1134,-111.5 1386,-111.5 \"/>\n<text text-anchor=\"middle\" x=\"1260\" y=\"-96.3\" font-family=\"Times,serif\" font-size=\"14.00\">grad: 0.00033084152285089985</text>\n</g>\n<!-- 139864342274416tanh -->\n<g id=\"node13\" class=\"node\">\n<title>139864342274416tanh</title>\n<ellipse fill=\"none\" stroke=\"black\" cx=\"1453.85\" cy=\"-123\" rx=\"31.7\" ry=\"18\"/>\n<text text-anchor=\"middle\" x=\"1453.85\" y=\"-119.3\" font-family=\"Times,serif\" font-size=\"14.00\">tanh</text>\n</g>\n<!-- 139864342278496&#45;&gt;139864342274416tanh -->\n<g id=\"edge11\" class=\"edge\">\n<title>139864342278496&#45;&gt;139864342274416tanh</title>\n<path fill=\"none\" stroke=\"black\" d=\"M1386.02,-123C1395.14,-123 1403.88,-123 1411.86,-123\"/>\n<polygon fill=\"black\" stroke=\"black\" points=\"1411.87,-126.5 1421.87,-123 1411.87,-119.5 1411.87,-126.5\"/>\n</g>\n<!-- 139864342278496+&#45;&gt;139864342278496 -->\n<g id=\"edge7\" class=\"edge\">\n<title>139864342278496+&#45;&gt;139864342278496</title>\n<path fill=\"none\" stroke=\"black\" d=\"M1098,-123C1105.52,-123 1114.3,-123 1123.79,-123\"/>\n<polygon fill=\"black\" stroke=\"black\" points=\"1123.92,-126.5 1133.92,-123 1123.92,-119.5 1123.92,-126.5\"/>\n</g>\n<!-- 139864342274416 -->\n<g id=\"node12\" class=\"node\">\n<title>139864342274416</title>\n<polygon fill=\"none\" stroke=\"black\" points=\"1521.69,-88.5 1521.69,-157.5 1736.69,-157.5 1736.69,-88.5 1521.69,-88.5\"/>\n<text text-anchor=\"middle\" x=\"1629.19\" y=\"-142.3\" font-family=\"Times,serif\" font-size=\"14.00\">o</text>\n<polyline fill=\"none\" stroke=\"black\" points=\"1521.69,-134.5 1736.69,-134.5 \"/>\n<text text-anchor=\"middle\" x=\"1629.19\" y=\"-119.3\" font-family=\"Times,serif\" font-size=\"14.00\">data: 0.9998345655542966</text>\n<polyline fill=\"none\" stroke=\"black\" points=\"1521.69,-111.5 1736.69,-111.5 \"/>\n<text text-anchor=\"middle\" x=\"1629.19\" y=\"-96.3\" font-family=\"Times,serif\" font-size=\"14.00\">grad: 1.0</text>\n</g>\n<!-- 139864342274416tanh&#45;&gt;139864342274416 -->\n<g id=\"edge10\" class=\"edge\">\n<title>139864342274416tanh&#45;&gt;139864342274416</title>\n<path fill=\"none\" stroke=\"black\" d=\"M1485.84,-123C1493.49,-123 1502.15,-123 1511.32,-123\"/>\n<polygon fill=\"black\" stroke=\"black\" points=\"1511.45,-126.5 1521.45,-123 1511.45,-119.5 1511.45,-126.5\"/>\n</g>\n<!-- 139864972645264 -->\n<g id=\"node14\" class=\"node\">\n<title>139864972645264</title>\n<polygon fill=\"none\" stroke=\"black\" points=\"2,-0.5 2,-69.5 250,-69.5 250,-0.5 2,-0.5\"/>\n<text text-anchor=\"middle\" x=\"126\" y=\"-54.3\" font-family=\"Times,serif\" font-size=\"14.00\">x1</text>\n<polyline fill=\"none\" stroke=\"black\" points=\"2,-46.5 250,-46.5 \"/>\n<text text-anchor=\"middle\" x=\"126\" y=\"-31.3\" font-family=\"Times,serif\" font-size=\"14.00\">data: 2.0</text>\n<polyline fill=\"none\" stroke=\"black\" points=\"2,-23.5 250,-23.5 \"/>\n<text text-anchor=\"middle\" x=\"126\" y=\"-8.3\" font-family=\"Times,serif\" font-size=\"14.00\">grad: &#45;0.0009925245685526995</text>\n</g>\n<!-- 139864972645264&#45;&gt;139864341868512* -->\n<g id=\"edge13\" class=\"edge\">\n<title>139864972645264&#45;&gt;139864341868512*</title>\n<path fill=\"none\" stroke=\"black\" d=\"M232.27,-69.62C239.03,-72.59 245.67,-75.72 252,-79 264.95,-85.7 278.27,-94.82 289.22,-103.01\"/>\n<polygon fill=\"black\" stroke=\"black\" points=\"287.39,-106.01 297.45,-109.32 291.65,-100.46 287.39,-106.01\"/>\n</g>\n<!-- 139864341868512*&#45;&gt;139864341868512 -->\n<g id=\"edge12\" class=\"edge\">\n<title>139864341868512*&#45;&gt;139864341868512</title>\n<path fill=\"none\" stroke=\"black\" d=\"M342,-123C349.52,-123 358.3,-123 367.79,-123\"/>\n<polygon fill=\"black\" stroke=\"black\" points=\"367.92,-126.5 377.92,-123 367.92,-119.5 367.92,-126.5\"/>\n</g>\n</g>\n</svg>\n",
      "text/plain": [
       "<graphviz.graphs.Digraph at 0x7f34da02e050>"
      ]
     },
     "execution_count": 13,
     "metadata": {},
     "output_type": "execute_result"
    }
   ],
   "source": [
    "draw_dot(o)"
   ]
  },
  {
   "attachments": {},
   "cell_type": "markdown",
   "metadata": {},
   "source": [
    "## Multivariable General Chain Rule\n",
    "\n",
    "### Problem\n",
    "What if one node was involved in more than one operation!!\n",
    "\n",
    "Then in  we overwrite the gradient from one operation on another operation\n",
    "like:\n",
    "n = x1 + x1 -> dn/dx1 = 2\n",
    "but below you see that dn/dx1 = 1!!"
   ]
  },
  {
   "cell_type": "code",
   "execution_count": 14,
   "metadata": {},
   "outputs": [
    {
     "data": {
      "image/svg+xml": "<?xml version=\"1.0\" encoding=\"UTF-8\" standalone=\"no\"?>\n<!DOCTYPE svg PUBLIC \"-//W3C//DTD SVG 1.1//EN\"\n \"http://www.w3.org/Graphics/SVG/1.1/DTD/svg11.dtd\">\n<!-- Generated by graphviz version 2.50.0 (0)\n -->\n<!-- Pages: 1 -->\n<svg width=\"296pt\" height=\"78pt\"\n viewBox=\"0.00 0.00 296.00 78.00\" xmlns=\"http://www.w3.org/2000/svg\" xmlns:xlink=\"http://www.w3.org/1999/xlink\">\n<g id=\"graph0\" class=\"graph\" transform=\"scale(1 1) rotate(0) translate(4 74)\">\n<polygon fill=\"white\" stroke=\"transparent\" points=\"-4,4 -4,-74 292,-74 292,4 -4,4\"/>\n<!-- 139864342273792 -->\n<g id=\"node1\" class=\"node\">\n<title>139864342273792</title>\n<polygon fill=\"none\" stroke=\"black\" points=\"207,-0.5 207,-69.5 288,-69.5 288,-0.5 207,-0.5\"/>\n<text text-anchor=\"middle\" x=\"247.5\" y=\"-54.3\" font-family=\"Times,serif\" font-size=\"14.00\">n</text>\n<polyline fill=\"none\" stroke=\"black\" points=\"207,-46.5 288,-46.5 \"/>\n<text text-anchor=\"middle\" x=\"247.5\" y=\"-31.3\" font-family=\"Times,serif\" font-size=\"14.00\">data: 4.0</text>\n<polyline fill=\"none\" stroke=\"black\" points=\"207,-23.5 288,-23.5 \"/>\n<text text-anchor=\"middle\" x=\"247.5\" y=\"-8.3\" font-family=\"Times,serif\" font-size=\"14.00\">grad: 1.0</text>\n</g>\n<!-- 139864342273792+ -->\n<g id=\"node2\" class=\"node\">\n<title>139864342273792+</title>\n<ellipse fill=\"none\" stroke=\"black\" cx=\"144\" cy=\"-35\" rx=\"27\" ry=\"18\"/>\n<text text-anchor=\"middle\" x=\"144\" y=\"-31.3\" font-family=\"Times,serif\" font-size=\"14.00\">+</text>\n</g>\n<!-- 139864342273792+&#45;&gt;139864342273792 -->\n<g id=\"edge1\" class=\"edge\">\n<title>139864342273792+&#45;&gt;139864342273792</title>\n<path fill=\"none\" stroke=\"black\" d=\"M171.14,-35C178.91,-35 187.69,-35 196.45,-35\"/>\n<polygon fill=\"black\" stroke=\"black\" points=\"196.65,-38.5 206.65,-35 196.65,-31.5 196.65,-38.5\"/>\n</g>\n<!-- 139864342276000 -->\n<g id=\"node3\" class=\"node\">\n<title>139864342276000</title>\n<polygon fill=\"none\" stroke=\"black\" points=\"0,-0.5 0,-69.5 81,-69.5 81,-0.5 0,-0.5\"/>\n<text text-anchor=\"middle\" x=\"40.5\" y=\"-54.3\" font-family=\"Times,serif\" font-size=\"14.00\">x1</text>\n<polyline fill=\"none\" stroke=\"black\" points=\"0,-46.5 81,-46.5 \"/>\n<text text-anchor=\"middle\" x=\"40.5\" y=\"-31.3\" font-family=\"Times,serif\" font-size=\"14.00\">data: 2.0</text>\n<polyline fill=\"none\" stroke=\"black\" points=\"0,-23.5 81,-23.5 \"/>\n<text text-anchor=\"middle\" x=\"40.5\" y=\"-8.3\" font-family=\"Times,serif\" font-size=\"14.00\">grad: 1.0</text>\n</g>\n<!-- 139864342276000&#45;&gt;139864342273792+ -->\n<g id=\"edge2\" class=\"edge\">\n<title>139864342276000&#45;&gt;139864342273792+</title>\n<path fill=\"none\" stroke=\"black\" d=\"M81.03,-35C89.49,-35 98.38,-35 106.7,-35\"/>\n<polygon fill=\"black\" stroke=\"black\" points=\"106.87,-38.5 116.87,-35 106.87,-31.5 106.87,-38.5\"/>\n</g>\n</g>\n</svg>\n",
      "text/plain": [
       "<graphviz.graphs.Digraph at 0x7f34da02dfc0>"
      ]
     },
     "execution_count": 14,
     "metadata": {},
     "output_type": "execute_result"
    }
   ],
   "source": [
    "# input x1\n",
    "x1 = Value(2.0, label='x1')\n",
    "\n",
    "n = x1 + x1;        n.label = 'n'\n",
    "n.backprop()\n",
    "draw_dot(n)"
   ]
  },
  {
   "attachments": {},
   "cell_type": "markdown",
   "metadata": {},
   "source": [
    "or like here:\n",
    "we x1.grad from * operation overwrite the + operation and make it 0!!\n",
    "\n",
    "we can say + is one neuron and * is another neuron\n",
    "so if we have multiple neurons, what should we do!?"
   ]
  },
  {
   "cell_type": "code",
   "execution_count": 15,
   "metadata": {},
   "outputs": [
    {
     "data": {
      "image/svg+xml": "<?xml version=\"1.0\" encoding=\"UTF-8\" standalone=\"no\"?>\n<!DOCTYPE svg PUBLIC \"-//W3C//DTD SVG 1.1//EN\"\n \"http://www.w3.org/Graphics/SVG/1.1/DTD/svg11.dtd\">\n<!-- Generated by graphviz version 2.50.0 (0)\n -->\n<!-- Pages: 1 -->\n<svg width=\"503pt\" height=\"166pt\"\n viewBox=\"0.00 0.00 503.00 166.00\" xmlns=\"http://www.w3.org/2000/svg\" xmlns:xlink=\"http://www.w3.org/1999/xlink\">\n<g id=\"graph0\" class=\"graph\" transform=\"scale(1 1) rotate(0) translate(4 162)\">\n<polygon fill=\"white\" stroke=\"transparent\" points=\"-4,4 -4,-162 499,-162 499,4 -4,4\"/>\n<!-- 139864342278160 -->\n<g id=\"node1\" class=\"node\">\n<title>139864342278160</title>\n<polygon fill=\"none\" stroke=\"black\" points=\"0,-88.5 0,-157.5 81,-157.5 81,-88.5 0,-88.5\"/>\n<text text-anchor=\"middle\" x=\"40.5\" y=\"-142.3\" font-family=\"Times,serif\" font-size=\"14.00\">x1</text>\n<polyline fill=\"none\" stroke=\"black\" points=\"0,-134.5 81,-134.5 \"/>\n<text text-anchor=\"middle\" x=\"40.5\" y=\"-119.3\" font-family=\"Times,serif\" font-size=\"14.00\">data: 2.0</text>\n<polyline fill=\"none\" stroke=\"black\" points=\"0,-111.5 81,-111.5 \"/>\n<text text-anchor=\"middle\" x=\"40.5\" y=\"-96.3\" font-family=\"Times,serif\" font-size=\"14.00\">grad: 1.0</text>\n</g>\n<!-- 139864342275616+ -->\n<g id=\"node3\" class=\"node\">\n<title>139864342275616+</title>\n<ellipse fill=\"none\" stroke=\"black\" cx=\"144\" cy=\"-123\" rx=\"27\" ry=\"18\"/>\n<text text-anchor=\"middle\" x=\"144\" y=\"-119.3\" font-family=\"Times,serif\" font-size=\"14.00\">+</text>\n</g>\n<!-- 139864342278160&#45;&gt;139864342275616+ -->\n<g id=\"edge2\" class=\"edge\">\n<title>139864342278160&#45;&gt;139864342275616+</title>\n<path fill=\"none\" stroke=\"black\" d=\"M81.03,-123C89.49,-123 98.38,-123 106.7,-123\"/>\n<polygon fill=\"black\" stroke=\"black\" points=\"106.87,-126.5 116.87,-123 106.87,-119.5 106.87,-126.5\"/>\n</g>\n<!-- 139864342274128* -->\n<g id=\"node6\" class=\"node\">\n<title>139864342274128*</title>\n<ellipse fill=\"none\" stroke=\"black\" cx=\"144\" cy=\"-35\" rx=\"27\" ry=\"18\"/>\n<text text-anchor=\"middle\" x=\"144\" y=\"-31.3\" font-family=\"Times,serif\" font-size=\"14.00\">*</text>\n</g>\n<!-- 139864342278160&#45;&gt;139864342274128* -->\n<g id=\"edge5\" class=\"edge\">\n<title>139864342278160&#45;&gt;139864342274128*</title>\n<path fill=\"none\" stroke=\"black\" d=\"M81.03,-88.72C93.84,-77.62 107.66,-65.64 118.98,-55.82\"/>\n<polygon fill=\"black\" stroke=\"black\" points=\"121.48,-58.29 126.74,-49.09 116.89,-53 121.48,-58.29\"/>\n</g>\n<!-- 139864342275616 -->\n<g id=\"node2\" class=\"node\">\n<title>139864342275616</title>\n<polygon fill=\"none\" stroke=\"black\" points=\"207,-88.5 207,-157.5 288,-157.5 288,-88.5 207,-88.5\"/>\n<text text-anchor=\"middle\" x=\"247.5\" y=\"-142.3\" font-family=\"Times,serif\" font-size=\"14.00\">x1addx2</text>\n<polyline fill=\"none\" stroke=\"black\" points=\"207,-134.5 288,-134.5 \"/>\n<text text-anchor=\"middle\" x=\"247.5\" y=\"-119.3\" font-family=\"Times,serif\" font-size=\"14.00\">data: 2.0</text>\n<polyline fill=\"none\" stroke=\"black\" points=\"207,-111.5 288,-111.5 \"/>\n<text text-anchor=\"middle\" x=\"247.5\" y=\"-96.3\" font-family=\"Times,serif\" font-size=\"14.00\">grad: 1.0</text>\n</g>\n<!-- 139864342272592+ -->\n<g id=\"node8\" class=\"node\">\n<title>139864342272592+</title>\n<ellipse fill=\"none\" stroke=\"black\" cx=\"351\" cy=\"-79\" rx=\"27\" ry=\"18\"/>\n<text text-anchor=\"middle\" x=\"351\" y=\"-75.3\" font-family=\"Times,serif\" font-size=\"14.00\">+</text>\n</g>\n<!-- 139864342275616&#45;&gt;139864342272592+ -->\n<g id=\"edge8\" class=\"edge\">\n<title>139864342275616&#45;&gt;139864342272592+</title>\n<path fill=\"none\" stroke=\"black\" d=\"M288.03,-105.86C298.22,-101.45 309.04,-96.76 318.74,-92.55\"/>\n<polygon fill=\"black\" stroke=\"black\" points=\"320.22,-95.72 328,-88.54 317.44,-89.3 320.22,-95.72\"/>\n</g>\n<!-- 139864342275616+&#45;&gt;139864342275616 -->\n<g id=\"edge1\" class=\"edge\">\n<title>139864342275616+&#45;&gt;139864342275616</title>\n<path fill=\"none\" stroke=\"black\" d=\"M171.14,-123C178.91,-123 187.69,-123 196.45,-123\"/>\n<polygon fill=\"black\" stroke=\"black\" points=\"196.65,-126.5 206.65,-123 196.65,-119.5 196.65,-126.5\"/>\n</g>\n<!-- 139864341868752 -->\n<g id=\"node4\" class=\"node\">\n<title>139864341868752</title>\n<polygon fill=\"none\" stroke=\"black\" points=\"0,-0.5 0,-69.5 81,-69.5 81,-0.5 0,-0.5\"/>\n<text text-anchor=\"middle\" x=\"40.5\" y=\"-54.3\" font-family=\"Times,serif\" font-size=\"14.00\">x2</text>\n<polyline fill=\"none\" stroke=\"black\" points=\"0,-46.5 81,-46.5 \"/>\n<text text-anchor=\"middle\" x=\"40.5\" y=\"-31.3\" font-family=\"Times,serif\" font-size=\"14.00\">data: 0.0</text>\n<polyline fill=\"none\" stroke=\"black\" points=\"0,-23.5 81,-23.5 \"/>\n<text text-anchor=\"middle\" x=\"40.5\" y=\"-8.3\" font-family=\"Times,serif\" font-size=\"14.00\">grad: 1.0</text>\n</g>\n<!-- 139864341868752&#45;&gt;139864342275616+ -->\n<g id=\"edge3\" class=\"edge\">\n<title>139864341868752&#45;&gt;139864342275616+</title>\n<path fill=\"none\" stroke=\"black\" d=\"M81.03,-69.28C93.84,-80.38 107.66,-92.36 118.98,-102.18\"/>\n<polygon fill=\"black\" stroke=\"black\" points=\"116.89,-105 126.74,-108.91 121.48,-99.71 116.89,-105\"/>\n</g>\n<!-- 139864341868752&#45;&gt;139864342274128* -->\n<g id=\"edge6\" class=\"edge\">\n<title>139864341868752&#45;&gt;139864342274128*</title>\n<path fill=\"none\" stroke=\"black\" d=\"M81.03,-35C89.49,-35 98.38,-35 106.7,-35\"/>\n<polygon fill=\"black\" stroke=\"black\" points=\"106.87,-38.5 116.87,-35 106.87,-31.5 106.87,-38.5\"/>\n</g>\n<!-- 139864342274128 -->\n<g id=\"node5\" class=\"node\">\n<title>139864342274128</title>\n<polygon fill=\"none\" stroke=\"black\" points=\"207,-0.5 207,-69.5 288,-69.5 288,-0.5 207,-0.5\"/>\n<text text-anchor=\"middle\" x=\"247.5\" y=\"-54.3\" font-family=\"Times,serif\" font-size=\"14.00\">x1x2</text>\n<polyline fill=\"none\" stroke=\"black\" points=\"207,-46.5 288,-46.5 \"/>\n<text text-anchor=\"middle\" x=\"247.5\" y=\"-31.3\" font-family=\"Times,serif\" font-size=\"14.00\">data: 0.0</text>\n<polyline fill=\"none\" stroke=\"black\" points=\"207,-23.5 288,-23.5 \"/>\n<text text-anchor=\"middle\" x=\"247.5\" y=\"-8.3\" font-family=\"Times,serif\" font-size=\"14.00\">grad: 1.0</text>\n</g>\n<!-- 139864342274128&#45;&gt;139864342272592+ -->\n<g id=\"edge9\" class=\"edge\">\n<title>139864342274128&#45;&gt;139864342272592+</title>\n<path fill=\"none\" stroke=\"black\" d=\"M288.03,-52.14C298.22,-56.55 309.04,-61.24 318.74,-65.45\"/>\n<polygon fill=\"black\" stroke=\"black\" points=\"317.44,-68.7 328,-69.46 320.22,-62.28 317.44,-68.7\"/>\n</g>\n<!-- 139864342274128*&#45;&gt;139864342274128 -->\n<g id=\"edge4\" class=\"edge\">\n<title>139864342274128*&#45;&gt;139864342274128</title>\n<path fill=\"none\" stroke=\"black\" d=\"M171.14,-35C178.91,-35 187.69,-35 196.45,-35\"/>\n<polygon fill=\"black\" stroke=\"black\" points=\"196.65,-38.5 206.65,-35 196.65,-31.5 196.65,-38.5\"/>\n</g>\n<!-- 139864342272592 -->\n<g id=\"node7\" class=\"node\">\n<title>139864342272592</title>\n<polygon fill=\"none\" stroke=\"black\" points=\"414,-44.5 414,-113.5 495,-113.5 495,-44.5 414,-44.5\"/>\n<text text-anchor=\"middle\" x=\"454.5\" y=\"-98.3\" font-family=\"Times,serif\" font-size=\"14.00\">n</text>\n<polyline fill=\"none\" stroke=\"black\" points=\"414,-90.5 495,-90.5 \"/>\n<text text-anchor=\"middle\" x=\"454.5\" y=\"-75.3\" font-family=\"Times,serif\" font-size=\"14.00\">data: 2.0</text>\n<polyline fill=\"none\" stroke=\"black\" points=\"414,-67.5 495,-67.5 \"/>\n<text text-anchor=\"middle\" x=\"454.5\" y=\"-52.3\" font-family=\"Times,serif\" font-size=\"14.00\">grad: 1.0</text>\n</g>\n<!-- 139864342272592+&#45;&gt;139864342272592 -->\n<g id=\"edge7\" class=\"edge\">\n<title>139864342272592+&#45;&gt;139864342272592</title>\n<path fill=\"none\" stroke=\"black\" d=\"M378.14,-79C385.91,-79 394.69,-79 403.45,-79\"/>\n<polygon fill=\"black\" stroke=\"black\" points=\"403.65,-82.5 413.65,-79 403.65,-75.5 403.65,-82.5\"/>\n</g>\n</g>\n</svg>\n",
      "text/plain": [
       "<graphviz.graphs.Digraph at 0x7f34b47029b0>"
      ]
     },
     "execution_count": 15,
     "metadata": {},
     "output_type": "execute_result"
    }
   ],
   "source": [
    "x1 = Value(2.0, label='x1')\n",
    "x2 = Value(0.0, label='x2')\n",
    "\n",
    "x1x2 = x1 * x2;         x1x2.label = 'x1x2'\n",
    "x1addx2 = x1 + x2;      x1addx2.label = 'x1addx2'\n",
    "n = x1x2 + x1addx2;     n.label = 'n'\n",
    "n.backprop()\n",
    "draw_dot(n)"
   ]
  },
  {
   "attachments": {},
   "cell_type": "markdown",
   "metadata": {},
   "source": [
    "### Solution:\n",
    "the general chain rule -> accumilate gradients from different paths"
   ]
  },
  {
   "attachments": {},
   "cell_type": "markdown",
   "metadata": {},
   "source": [
    "## updated engine file"
   ]
  },
  {
   "cell_type": "code",
   "execution_count": 16,
   "metadata": {},
   "outputs": [],
   "source": [
    "class Value:\n",
    "    \n",
    "    def __init__(self, data, _prev=(), _op='', label=''):\n",
    "        self.data = data\n",
    "        self._prev = set(_prev) # the order does not matter, use set instead of list\n",
    "        self._op = _op\n",
    "        self.label = label\n",
    "\n",
    "        self.grad = 0.0\n",
    "\n",
    "        # After the forwrd path (when we have the data vlaue of all nodes)\n",
    "        # we start the backprop (to get the gradients for each node)\n",
    "        # the output node of each operation knows the operation and children\n",
    "        # since we dont have a backprop for leaf nodes, and \n",
    "        # each operation has different local gradient\n",
    "        # we can't define a general method in the class.\n",
    "        # so at the time of doing the operation,\n",
    "        # we can both define the local gradiant function\n",
    "        # and store the whole chain rule function in an attribute to call later.\n",
    "        # then call the local this function attribute from end node to the begining.\n",
    "        self._backprop = lambda: None\n",
    "    \n",
    "    def __repr__(self) -> str:\n",
    "        return f'Value({self.label}:{self.data})'\n",
    "    \n",
    "    def __add__(self, other):\n",
    "        out = Value(self.data + other.data, (self, other), '+')\n",
    "        \n",
    "        def _backprop():\n",
    "            # partial derivatives for each input:\n",
    "            self.grad += out.grad\n",
    "            other.grad += out.grad\n",
    "\n",
    "        out._backprop = _backprop\n",
    "        return out\n",
    "    \n",
    "    def __mul__(self, other):\n",
    "        out = Value(self.data * other.data, (self, other), '*')\n",
    "        \n",
    "        def _backprop():\n",
    "            # partial derivatives for each input:\n",
    "            self.grad += other.data * out.grad\n",
    "            other.grad += self.data * out.grad\n",
    "        \n",
    "        out._backprop = _backprop\n",
    "        return out\n",
    "    \n",
    "    def exp(self):\n",
    "        out = Value(np.exp(self.data), (self,), 'exp')\n",
    "        \n",
    "        def _backprop():\n",
    "            self.grad += np.exp(self.data) * out.grad\n",
    "        \n",
    "        out._backprop = _backprop\n",
    "        return out\n",
    "    \n",
    "    def tanh(self):\n",
    "        tanh = (np.exp(2*self.data) - 1)/(np.exp(2*self.data) + 1)\n",
    "        out = Value( tanh, (self,), 'tanh')\n",
    "        \n",
    "        def _backprop():\n",
    "            self.grad += (1 - tanh**2) * out.grad\n",
    "        \n",
    "        out._backprop = _backprop\n",
    "        return out\n",
    "    \n",
    "    def backprop(self):\n",
    "        topo_sort_list = []\n",
    "        visited = set() # the order does not matter, use set instead of list\n",
    "        \n",
    "        def build_topo(root):\n",
    "            if root not in visited:\n",
    "                visited.add(root)\n",
    "                # Appending to topo_sort before its children are processed\n",
    "                # will give us out to left sort,\n",
    "                # but not out to leaf sort in case of b (bias leaf), try it & see it\n",
    "                for child in root._prev:\n",
    "                    build_topo(child)\n",
    "                # Appending after its children are processed\n",
    "                # will give us leaf to out sort\n",
    "                topo_sort_list.append(root)\n",
    "        \n",
    "        build_topo(root=self)\n",
    "        \n",
    "        self.grad = 1.0\n",
    "        for node in reversed(topo_sort_list):\n",
    "            node._backprop()\n"
   ]
  },
  {
   "cell_type": "markdown",
   "metadata": {},
   "source": [
    "## NN architecture file\n",
    "### A single Neuron with 2 inputs and one output"
   ]
  },
  {
   "cell_type": "code",
   "execution_count": 17,
   "metadata": {},
   "outputs": [],
   "source": [
    "# inputs x1,x2\n",
    "x1 = Value(2.0, label='x1')\n",
    "x2 = Value(0.0, label='x2')\n",
    "# weights\n",
    "w1 = Value(-3.0, label='w1')\n",
    "w2 = Value(1.0, label='w2')\n",
    "# bias of Neuron\n",
    "b = Value(10.7, label='b')\n",
    "\n",
    "# we do the multiplication one-by-one\n",
    "# so that we have the pointers to all intermediate values\n",
    "\n",
    "x1w1 = x1*w1;               x1w1.label = 'x1w1'\n",
    "x2w2 = x2*w2;               x2w2.label = 'x2w2'\n",
    "\n",
    "x1w1addx2w2 = x1w1 + x2w2;  x1w1addx2w2.label = 'x1w1addx2w2'\n",
    "n = x1w1addx2w2 + b;        n.label = 'n'\n",
    "\n",
    "o = n.tanh();                o.label = 'o'\n",
    "o.backprop()"
   ]
  },
  {
   "cell_type": "code",
   "execution_count": 18,
   "metadata": {},
   "outputs": [
    {
     "data": {
      "image/svg+xml": "<?xml version=\"1.0\" encoding=\"UTF-8\" standalone=\"no\"?>\n<!DOCTYPE svg PUBLIC \"-//W3C//DTD SVG 1.1//EN\"\n \"http://www.w3.org/Graphics/SVG/1.1/DTD/svg11.dtd\">\n<!-- Generated by graphviz version 2.50.0 (0)\n -->\n<!-- Pages: 1 -->\n<svg width=\"1745pt\" height=\"342pt\"\n viewBox=\"0.00 0.00 1744.69 342.00\" xmlns=\"http://www.w3.org/2000/svg\" xmlns:xlink=\"http://www.w3.org/1999/xlink\">\n<g id=\"graph0\" class=\"graph\" transform=\"scale(1 1) rotate(0) translate(4 338)\">\n<polygon fill=\"white\" stroke=\"transparent\" points=\"-4,4 -4,-338 1740.69,-338 1740.69,4 -4,4\"/>\n<!-- 139864340036672 -->\n<g id=\"node1\" class=\"node\">\n<title>139864340036672</title>\n<polygon fill=\"none\" stroke=\"black\" points=\"1134,-176.5 1134,-245.5 1386,-245.5 1386,-176.5 1134,-176.5\"/>\n<text text-anchor=\"middle\" x=\"1260\" y=\"-230.3\" font-family=\"Times,serif\" font-size=\"14.00\">n</text>\n<polyline fill=\"none\" stroke=\"black\" points=\"1134,-222.5 1386,-222.5 \"/>\n<text text-anchor=\"middle\" x=\"1260\" y=\"-207.3\" font-family=\"Times,serif\" font-size=\"14.00\">data: 4.699999999999999</text>\n<polyline fill=\"none\" stroke=\"black\" points=\"1134,-199.5 1386,-199.5 \"/>\n<text text-anchor=\"middle\" x=\"1260\" y=\"-184.3\" font-family=\"Times,serif\" font-size=\"14.00\">grad: 0.00033084152285089985</text>\n</g>\n<!-- 139864340026352tanh -->\n<g id=\"node15\" class=\"node\">\n<title>139864340026352tanh</title>\n<ellipse fill=\"none\" stroke=\"black\" cx=\"1453.85\" cy=\"-211\" rx=\"31.7\" ry=\"18\"/>\n<text text-anchor=\"middle\" x=\"1453.85\" y=\"-207.3\" font-family=\"Times,serif\" font-size=\"14.00\">tanh</text>\n</g>\n<!-- 139864340036672&#45;&gt;139864340026352tanh -->\n<g id=\"edge14\" class=\"edge\">\n<title>139864340036672&#45;&gt;139864340026352tanh</title>\n<path fill=\"none\" stroke=\"black\" d=\"M1386.02,-211C1395.14,-211 1403.88,-211 1411.86,-211\"/>\n<polygon fill=\"black\" stroke=\"black\" points=\"1411.87,-214.5 1421.87,-211 1411.87,-207.5 1411.87,-214.5\"/>\n</g>\n<!-- 139864340036672+ -->\n<g id=\"node2\" class=\"node\">\n<title>139864340036672+</title>\n<ellipse fill=\"none\" stroke=\"black\" cx=\"1071\" cy=\"-211\" rx=\"27\" ry=\"18\"/>\n<text text-anchor=\"middle\" x=\"1071\" y=\"-207.3\" font-family=\"Times,serif\" font-size=\"14.00\">+</text>\n</g>\n<!-- 139864340036672+&#45;&gt;139864340036672 -->\n<g id=\"edge1\" class=\"edge\">\n<title>139864340036672+&#45;&gt;139864340036672</title>\n<path fill=\"none\" stroke=\"black\" d=\"M1098,-211C1105.52,-211 1114.3,-211 1123.79,-211\"/>\n<polygon fill=\"black\" stroke=\"black\" points=\"1123.92,-214.5 1133.92,-211 1123.92,-207.5 1123.92,-214.5\"/>\n</g>\n<!-- 139864340034368 -->\n<g id=\"node3\" class=\"node\">\n<title>139864340034368</title>\n<polygon fill=\"none\" stroke=\"black\" points=\"756,-220.5 756,-289.5 1008,-289.5 1008,-220.5 756,-220.5\"/>\n<text text-anchor=\"middle\" x=\"882\" y=\"-274.3\" font-family=\"Times,serif\" font-size=\"14.00\">b</text>\n<polyline fill=\"none\" stroke=\"black\" points=\"756,-266.5 1008,-266.5 \"/>\n<text text-anchor=\"middle\" x=\"882\" y=\"-251.3\" font-family=\"Times,serif\" font-size=\"14.00\">data: 10.7</text>\n<polyline fill=\"none\" stroke=\"black\" points=\"756,-243.5 1008,-243.5 \"/>\n<text text-anchor=\"middle\" x=\"882\" y=\"-228.3\" font-family=\"Times,serif\" font-size=\"14.00\">grad: 0.00033084152285089985</text>\n</g>\n<!-- 139864340034368&#45;&gt;139864340036672+ -->\n<g id=\"edge2\" class=\"edge\">\n<title>139864340034368&#45;&gt;139864340036672+</title>\n<path fill=\"none\" stroke=\"black\" d=\"M1008.25,-225.53C1017.98,-223.24 1027.19,-221.07 1035.38,-219.14\"/>\n<polygon fill=\"black\" stroke=\"black\" points=\"1036.25,-222.54 1045.18,-216.84 1034.64,-215.72 1036.25,-222.54\"/>\n</g>\n<!-- 139864340032736 -->\n<g id=\"node4\" class=\"node\">\n<title>139864340032736</title>\n<polygon fill=\"none\" stroke=\"black\" points=\"756,-132.5 756,-201.5 1008,-201.5 1008,-132.5 756,-132.5\"/>\n<text text-anchor=\"middle\" x=\"882\" y=\"-186.3\" font-family=\"Times,serif\" font-size=\"14.00\">x1w1addx2w2</text>\n<polyline fill=\"none\" stroke=\"black\" points=\"756,-178.5 1008,-178.5 \"/>\n<text text-anchor=\"middle\" x=\"882\" y=\"-163.3\" font-family=\"Times,serif\" font-size=\"14.00\">data: &#45;6.0</text>\n<polyline fill=\"none\" stroke=\"black\" points=\"756,-155.5 1008,-155.5 \"/>\n<text text-anchor=\"middle\" x=\"882\" y=\"-140.3\" font-family=\"Times,serif\" font-size=\"14.00\">grad: 0.00033084152285089985</text>\n</g>\n<!-- 139864340032736&#45;&gt;139864340036672+ -->\n<g id=\"edge3\" class=\"edge\">\n<title>139864340032736&#45;&gt;139864340036672+</title>\n<path fill=\"none\" stroke=\"black\" d=\"M1008.25,-196.47C1017.98,-198.76 1027.19,-200.93 1035.38,-202.86\"/>\n<polygon fill=\"black\" stroke=\"black\" points=\"1034.64,-206.28 1045.18,-205.16 1036.25,-199.46 1034.64,-206.28\"/>\n</g>\n<!-- 139864340027888 -->\n<g id=\"node5\" class=\"node\">\n<title>139864340027888</title>\n<polygon fill=\"none\" stroke=\"black\" points=\"0,-88.5 0,-157.5 252,-157.5 252,-88.5 0,-88.5\"/>\n<text text-anchor=\"middle\" x=\"126\" y=\"-142.3\" font-family=\"Times,serif\" font-size=\"14.00\">x2</text>\n<polyline fill=\"none\" stroke=\"black\" points=\"0,-134.5 252,-134.5 \"/>\n<text text-anchor=\"middle\" x=\"126\" y=\"-119.3\" font-family=\"Times,serif\" font-size=\"14.00\">data: 0.0</text>\n<polyline fill=\"none\" stroke=\"black\" points=\"0,-111.5 252,-111.5 \"/>\n<text text-anchor=\"middle\" x=\"126\" y=\"-96.3\" font-family=\"Times,serif\" font-size=\"14.00\">grad: 0.00033084152285089985</text>\n</g>\n<!-- 139864340032928* -->\n<g id=\"node12\" class=\"node\">\n<title>139864340032928*</title>\n<ellipse fill=\"none\" stroke=\"black\" cx=\"315\" cy=\"-123\" rx=\"27\" ry=\"18\"/>\n<text text-anchor=\"middle\" x=\"315\" y=\"-119.3\" font-family=\"Times,serif\" font-size=\"14.00\">*</text>\n</g>\n<!-- 139864340027888&#45;&gt;139864340032928* -->\n<g id=\"edge12\" class=\"edge\">\n<title>139864340027888&#45;&gt;139864340032928*</title>\n<path fill=\"none\" stroke=\"black\" d=\"M252.25,-123C261.4,-123 270.09,-123 277.9,-123\"/>\n<polygon fill=\"black\" stroke=\"black\" points=\"277.98,-126.5 287.98,-123 277.98,-119.5 277.98,-126.5\"/>\n</g>\n<!-- 139864340025536 -->\n<g id=\"node6\" class=\"node\">\n<title>139864340025536</title>\n<polygon fill=\"none\" stroke=\"black\" points=\"378,-176.5 378,-245.5 630,-245.5 630,-176.5 378,-176.5\"/>\n<text text-anchor=\"middle\" x=\"504\" y=\"-230.3\" font-family=\"Times,serif\" font-size=\"14.00\">x1w1</text>\n<polyline fill=\"none\" stroke=\"black\" points=\"378,-222.5 630,-222.5 \"/>\n<text text-anchor=\"middle\" x=\"504\" y=\"-207.3\" font-family=\"Times,serif\" font-size=\"14.00\">data: &#45;6.0</text>\n<polyline fill=\"none\" stroke=\"black\" points=\"378,-199.5 630,-199.5 \"/>\n<text text-anchor=\"middle\" x=\"504\" y=\"-184.3\" font-family=\"Times,serif\" font-size=\"14.00\">grad: 0.00033084152285089985</text>\n</g>\n<!-- 139864340032736+ -->\n<g id=\"node10\" class=\"node\">\n<title>139864340032736+</title>\n<ellipse fill=\"none\" stroke=\"black\" cx=\"693\" cy=\"-167\" rx=\"27\" ry=\"18\"/>\n<text text-anchor=\"middle\" x=\"693\" y=\"-163.3\" font-family=\"Times,serif\" font-size=\"14.00\">+</text>\n</g>\n<!-- 139864340025536&#45;&gt;139864340032736+ -->\n<g id=\"edge9\" class=\"edge\">\n<title>139864340025536&#45;&gt;139864340032736+</title>\n<path fill=\"none\" stroke=\"black\" d=\"M630.25,-181.53C639.98,-179.24 649.19,-177.07 657.38,-175.14\"/>\n<polygon fill=\"black\" stroke=\"black\" points=\"658.25,-178.54 667.18,-172.84 656.64,-171.72 658.25,-178.54\"/>\n</g>\n<!-- 139864340025536* -->\n<g id=\"node7\" class=\"node\">\n<title>139864340025536*</title>\n<ellipse fill=\"none\" stroke=\"black\" cx=\"315\" cy=\"-211\" rx=\"27\" ry=\"18\"/>\n<text text-anchor=\"middle\" x=\"315\" y=\"-207.3\" font-family=\"Times,serif\" font-size=\"14.00\">*</text>\n</g>\n<!-- 139864340025536*&#45;&gt;139864340025536 -->\n<g id=\"edge4\" class=\"edge\">\n<title>139864340025536*&#45;&gt;139864340025536</title>\n<path fill=\"none\" stroke=\"black\" d=\"M342,-211C349.52,-211 358.3,-211 367.79,-211\"/>\n<polygon fill=\"black\" stroke=\"black\" points=\"367.92,-214.5 377.92,-211 367.92,-207.5 367.92,-214.5\"/>\n</g>\n<!-- 139864340034320 -->\n<g id=\"node8\" class=\"node\">\n<title>139864340034320</title>\n<polygon fill=\"none\" stroke=\"black\" points=\"2,-264.5 2,-333.5 250,-333.5 250,-264.5 2,-264.5\"/>\n<text text-anchor=\"middle\" x=\"126\" y=\"-318.3\" font-family=\"Times,serif\" font-size=\"14.00\">x1</text>\n<polyline fill=\"none\" stroke=\"black\" points=\"2,-310.5 250,-310.5 \"/>\n<text text-anchor=\"middle\" x=\"126\" y=\"-295.3\" font-family=\"Times,serif\" font-size=\"14.00\">data: 2.0</text>\n<polyline fill=\"none\" stroke=\"black\" points=\"2,-287.5 250,-287.5 \"/>\n<text text-anchor=\"middle\" x=\"126\" y=\"-272.3\" font-family=\"Times,serif\" font-size=\"14.00\">grad: &#45;0.0009925245685526995</text>\n</g>\n<!-- 139864340034320&#45;&gt;139864340025536* -->\n<g id=\"edge5\" class=\"edge\">\n<title>139864340034320&#45;&gt;139864340025536*</title>\n<path fill=\"none\" stroke=\"black\" d=\"M232.27,-264.38C239.03,-261.41 245.67,-258.28 252,-255 264.95,-248.3 278.27,-239.18 289.22,-230.99\"/>\n<polygon fill=\"black\" stroke=\"black\" points=\"291.65,-233.54 297.45,-224.68 287.39,-227.99 291.65,-233.54\"/>\n</g>\n<!-- 139864340021600 -->\n<g id=\"node9\" class=\"node\">\n<title>139864340021600</title>\n<polygon fill=\"none\" stroke=\"black\" points=\"4.5,-176.5 4.5,-245.5 247.5,-245.5 247.5,-176.5 4.5,-176.5\"/>\n<text text-anchor=\"middle\" x=\"126\" y=\"-230.3\" font-family=\"Times,serif\" font-size=\"14.00\">w1</text>\n<polyline fill=\"none\" stroke=\"black\" points=\"4.5,-222.5 247.5,-222.5 \"/>\n<text text-anchor=\"middle\" x=\"126\" y=\"-207.3\" font-family=\"Times,serif\" font-size=\"14.00\">data: &#45;3.0</text>\n<polyline fill=\"none\" stroke=\"black\" points=\"4.5,-199.5 247.5,-199.5 \"/>\n<text text-anchor=\"middle\" x=\"126\" y=\"-184.3\" font-family=\"Times,serif\" font-size=\"14.00\">grad: 0.0006616830457017997</text>\n</g>\n<!-- 139864340021600&#45;&gt;139864340025536* -->\n<g id=\"edge6\" class=\"edge\">\n<title>139864340021600&#45;&gt;139864340025536*</title>\n<path fill=\"none\" stroke=\"black\" d=\"M247.54,-211C258.31,-211 268.56,-211 277.64,-211\"/>\n<polygon fill=\"black\" stroke=\"black\" points=\"277.72,-214.5 287.72,-211 277.72,-207.5 277.72,-214.5\"/>\n</g>\n<!-- 139864340032736+&#45;&gt;139864340032736 -->\n<g id=\"edge7\" class=\"edge\">\n<title>139864340032736+&#45;&gt;139864340032736</title>\n<path fill=\"none\" stroke=\"black\" d=\"M720,-167C727.52,-167 736.3,-167 745.79,-167\"/>\n<polygon fill=\"black\" stroke=\"black\" points=\"745.92,-170.5 755.92,-167 745.92,-163.5 745.92,-170.5\"/>\n</g>\n<!-- 139864340032928 -->\n<g id=\"node11\" class=\"node\">\n<title>139864340032928</title>\n<polygon fill=\"none\" stroke=\"black\" points=\"378,-88.5 378,-157.5 630,-157.5 630,-88.5 378,-88.5\"/>\n<text text-anchor=\"middle\" x=\"504\" y=\"-142.3\" font-family=\"Times,serif\" font-size=\"14.00\">x2w2</text>\n<polyline fill=\"none\" stroke=\"black\" points=\"378,-134.5 630,-134.5 \"/>\n<text text-anchor=\"middle\" x=\"504\" y=\"-119.3\" font-family=\"Times,serif\" font-size=\"14.00\">data: 0.0</text>\n<polyline fill=\"none\" stroke=\"black\" points=\"378,-111.5 630,-111.5 \"/>\n<text text-anchor=\"middle\" x=\"504\" y=\"-96.3\" font-family=\"Times,serif\" font-size=\"14.00\">grad: 0.00033084152285089985</text>\n</g>\n<!-- 139864340032928&#45;&gt;139864340032736+ -->\n<g id=\"edge8\" class=\"edge\">\n<title>139864340032928&#45;&gt;139864340032736+</title>\n<path fill=\"none\" stroke=\"black\" d=\"M630.25,-152.47C639.98,-154.76 649.19,-156.93 657.38,-158.86\"/>\n<polygon fill=\"black\" stroke=\"black\" points=\"656.64,-162.28 667.18,-161.16 658.25,-155.46 656.64,-162.28\"/>\n</g>\n<!-- 139864340032928*&#45;&gt;139864340032928 -->\n<g id=\"edge10\" class=\"edge\">\n<title>139864340032928*&#45;&gt;139864340032928</title>\n<path fill=\"none\" stroke=\"black\" d=\"M342,-123C349.52,-123 358.3,-123 367.79,-123\"/>\n<polygon fill=\"black\" stroke=\"black\" points=\"367.92,-126.5 377.92,-123 367.92,-119.5 367.92,-126.5\"/>\n</g>\n<!-- 139864340021696 -->\n<g id=\"node13\" class=\"node\">\n<title>139864340021696</title>\n<polygon fill=\"none\" stroke=\"black\" points=\"85.5,-0.5 85.5,-69.5 166.5,-69.5 166.5,-0.5 85.5,-0.5\"/>\n<text text-anchor=\"middle\" x=\"126\" y=\"-54.3\" font-family=\"Times,serif\" font-size=\"14.00\">w2</text>\n<polyline fill=\"none\" stroke=\"black\" points=\"85.5,-46.5 166.5,-46.5 \"/>\n<text text-anchor=\"middle\" x=\"126\" y=\"-31.3\" font-family=\"Times,serif\" font-size=\"14.00\">data: 1.0</text>\n<polyline fill=\"none\" stroke=\"black\" points=\"85.5,-23.5 166.5,-23.5 \"/>\n<text text-anchor=\"middle\" x=\"126\" y=\"-8.3\" font-family=\"Times,serif\" font-size=\"14.00\">grad: 0.0</text>\n</g>\n<!-- 139864340021696&#45;&gt;139864340032928* -->\n<g id=\"edge11\" class=\"edge\">\n<title>139864340021696&#45;&gt;139864340032928*</title>\n<path fill=\"none\" stroke=\"black\" d=\"M166.74,-45.88C191.9,-53.52 224.73,-64.88 252,-79 264.95,-85.7 278.27,-94.82 289.22,-103.01\"/>\n<polygon fill=\"black\" stroke=\"black\" points=\"287.39,-106.01 297.45,-109.32 291.65,-100.46 287.39,-106.01\"/>\n</g>\n<!-- 139864340026352 -->\n<g id=\"node14\" class=\"node\">\n<title>139864340026352</title>\n<polygon fill=\"none\" stroke=\"black\" points=\"1521.69,-176.5 1521.69,-245.5 1736.69,-245.5 1736.69,-176.5 1521.69,-176.5\"/>\n<text text-anchor=\"middle\" x=\"1629.19\" y=\"-230.3\" font-family=\"Times,serif\" font-size=\"14.00\">o</text>\n<polyline fill=\"none\" stroke=\"black\" points=\"1521.69,-222.5 1736.69,-222.5 \"/>\n<text text-anchor=\"middle\" x=\"1629.19\" y=\"-207.3\" font-family=\"Times,serif\" font-size=\"14.00\">data: 0.9998345655542966</text>\n<polyline fill=\"none\" stroke=\"black\" points=\"1521.69,-199.5 1736.69,-199.5 \"/>\n<text text-anchor=\"middle\" x=\"1629.19\" y=\"-184.3\" font-family=\"Times,serif\" font-size=\"14.00\">grad: 1.0</text>\n</g>\n<!-- 139864340026352tanh&#45;&gt;139864340026352 -->\n<g id=\"edge13\" class=\"edge\">\n<title>139864340026352tanh&#45;&gt;139864340026352</title>\n<path fill=\"none\" stroke=\"black\" d=\"M1485.84,-211C1493.49,-211 1502.15,-211 1511.32,-211\"/>\n<polygon fill=\"black\" stroke=\"black\" points=\"1511.45,-214.5 1521.45,-211 1511.45,-207.5 1511.45,-214.5\"/>\n</g>\n</g>\n</svg>\n",
      "text/plain": [
       "<graphviz.graphs.Digraph at 0x7f34b44df2e0>"
      ]
     },
     "execution_count": 18,
     "metadata": {},
     "output_type": "execute_result"
    }
   ],
   "source": [
    "draw_dot(o)"
   ]
  },
  {
   "cell_type": "code",
   "execution_count": 19,
   "metadata": {},
   "outputs": [
    {
     "data": {
      "image/svg+xml": "<?xml version=\"1.0\" encoding=\"UTF-8\" standalone=\"no\"?>\n<!DOCTYPE svg PUBLIC \"-//W3C//DTD SVG 1.1//EN\"\n \"http://www.w3.org/Graphics/SVG/1.1/DTD/svg11.dtd\">\n<!-- Generated by graphviz version 2.50.0 (0)\n -->\n<!-- Pages: 1 -->\n<svg width=\"296pt\" height=\"78pt\"\n viewBox=\"0.00 0.00 296.00 78.00\" xmlns=\"http://www.w3.org/2000/svg\" xmlns:xlink=\"http://www.w3.org/1999/xlink\">\n<g id=\"graph0\" class=\"graph\" transform=\"scale(1 1) rotate(0) translate(4 74)\">\n<polygon fill=\"white\" stroke=\"transparent\" points=\"-4,4 -4,-74 292,-74 292,4 -4,4\"/>\n<!-- 139864340022032 -->\n<g id=\"node1\" class=\"node\">\n<title>139864340022032</title>\n<polygon fill=\"none\" stroke=\"black\" points=\"207,-0.5 207,-69.5 288,-69.5 288,-0.5 207,-0.5\"/>\n<text text-anchor=\"middle\" x=\"247.5\" y=\"-54.3\" font-family=\"Times,serif\" font-size=\"14.00\">n</text>\n<polyline fill=\"none\" stroke=\"black\" points=\"207,-46.5 288,-46.5 \"/>\n<text text-anchor=\"middle\" x=\"247.5\" y=\"-31.3\" font-family=\"Times,serif\" font-size=\"14.00\">data: 4.0</text>\n<polyline fill=\"none\" stroke=\"black\" points=\"207,-23.5 288,-23.5 \"/>\n<text text-anchor=\"middle\" x=\"247.5\" y=\"-8.3\" font-family=\"Times,serif\" font-size=\"14.00\">grad: 1.0</text>\n</g>\n<!-- 139864340022032+ -->\n<g id=\"node2\" class=\"node\">\n<title>139864340022032+</title>\n<ellipse fill=\"none\" stroke=\"black\" cx=\"144\" cy=\"-35\" rx=\"27\" ry=\"18\"/>\n<text text-anchor=\"middle\" x=\"144\" y=\"-31.3\" font-family=\"Times,serif\" font-size=\"14.00\">+</text>\n</g>\n<!-- 139864340022032+&#45;&gt;139864340022032 -->\n<g id=\"edge1\" class=\"edge\">\n<title>139864340022032+&#45;&gt;139864340022032</title>\n<path fill=\"none\" stroke=\"black\" d=\"M171.14,-35C178.91,-35 187.69,-35 196.45,-35\"/>\n<polygon fill=\"black\" stroke=\"black\" points=\"196.65,-38.5 206.65,-35 196.65,-31.5 196.65,-38.5\"/>\n</g>\n<!-- 139864340030192 -->\n<g id=\"node3\" class=\"node\">\n<title>139864340030192</title>\n<polygon fill=\"none\" stroke=\"black\" points=\"0,-0.5 0,-69.5 81,-69.5 81,-0.5 0,-0.5\"/>\n<text text-anchor=\"middle\" x=\"40.5\" y=\"-54.3\" font-family=\"Times,serif\" font-size=\"14.00\">x1</text>\n<polyline fill=\"none\" stroke=\"black\" points=\"0,-46.5 81,-46.5 \"/>\n<text text-anchor=\"middle\" x=\"40.5\" y=\"-31.3\" font-family=\"Times,serif\" font-size=\"14.00\">data: 2.0</text>\n<polyline fill=\"none\" stroke=\"black\" points=\"0,-23.5 81,-23.5 \"/>\n<text text-anchor=\"middle\" x=\"40.5\" y=\"-8.3\" font-family=\"Times,serif\" font-size=\"14.00\">grad: 2.0</text>\n</g>\n<!-- 139864340030192&#45;&gt;139864340022032+ -->\n<g id=\"edge2\" class=\"edge\">\n<title>139864340030192&#45;&gt;139864340022032+</title>\n<path fill=\"none\" stroke=\"black\" d=\"M81.03,-35C89.49,-35 98.38,-35 106.7,-35\"/>\n<polygon fill=\"black\" stroke=\"black\" points=\"106.87,-38.5 116.87,-35 106.87,-31.5 106.87,-38.5\"/>\n</g>\n</g>\n</svg>\n",
      "text/plain": [
       "<graphviz.graphs.Digraph at 0x7f34b44ddae0>"
      ]
     },
     "execution_count": 19,
     "metadata": {},
     "output_type": "execute_result"
    }
   ],
   "source": [
    "# input x1\n",
    "x1 = Value(2.0, label='x1')\n",
    "\n",
    "n = x1 + x1;        n.label = 'n'\n",
    "n.backprop()\n",
    "draw_dot(n)"
   ]
  },
  {
   "cell_type": "code",
   "execution_count": 20,
   "metadata": {},
   "outputs": [
    {
     "data": {
      "image/svg+xml": "<?xml version=\"1.0\" encoding=\"UTF-8\" standalone=\"no\"?>\n<!DOCTYPE svg PUBLIC \"-//W3C//DTD SVG 1.1//EN\"\n \"http://www.w3.org/Graphics/SVG/1.1/DTD/svg11.dtd\">\n<!-- Generated by graphviz version 2.50.0 (0)\n -->\n<!-- Pages: 1 -->\n<svg width=\"503pt\" height=\"166pt\"\n viewBox=\"0.00 0.00 503.00 166.00\" xmlns=\"http://www.w3.org/2000/svg\" xmlns:xlink=\"http://www.w3.org/1999/xlink\">\n<g id=\"graph0\" class=\"graph\" transform=\"scale(1 1) rotate(0) translate(4 162)\">\n<polygon fill=\"white\" stroke=\"transparent\" points=\"-4,4 -4,-162 499,-162 499,4 -4,4\"/>\n<!-- 139864340034704 -->\n<g id=\"node1\" class=\"node\">\n<title>139864340034704</title>\n<polygon fill=\"none\" stroke=\"black\" points=\"0,-88.5 0,-157.5 81,-157.5 81,-88.5 0,-88.5\"/>\n<text text-anchor=\"middle\" x=\"40.5\" y=\"-142.3\" font-family=\"Times,serif\" font-size=\"14.00\">x1</text>\n<polyline fill=\"none\" stroke=\"black\" points=\"0,-134.5 81,-134.5 \"/>\n<text text-anchor=\"middle\" x=\"40.5\" y=\"-119.3\" font-family=\"Times,serif\" font-size=\"14.00\">data: 2.0</text>\n<polyline fill=\"none\" stroke=\"black\" points=\"0,-111.5 81,-111.5 \"/>\n<text text-anchor=\"middle\" x=\"40.5\" y=\"-96.3\" font-family=\"Times,serif\" font-size=\"14.00\">grad: 1.0</text>\n</g>\n<!-- 139864340024720+ -->\n<g id=\"node7\" class=\"node\">\n<title>139864340024720+</title>\n<ellipse fill=\"none\" stroke=\"black\" cx=\"144\" cy=\"-123\" rx=\"27\" ry=\"18\"/>\n<text text-anchor=\"middle\" x=\"144\" y=\"-119.3\" font-family=\"Times,serif\" font-size=\"14.00\">+</text>\n</g>\n<!-- 139864340034704&#45;&gt;139864340024720+ -->\n<g id=\"edge5\" class=\"edge\">\n<title>139864340034704&#45;&gt;139864340024720+</title>\n<path fill=\"none\" stroke=\"black\" d=\"M81.03,-123C89.49,-123 98.38,-123 106.7,-123\"/>\n<polygon fill=\"black\" stroke=\"black\" points=\"106.87,-126.5 116.87,-123 106.87,-119.5 106.87,-126.5\"/>\n</g>\n<!-- 139864340030960* -->\n<g id=\"node8\" class=\"node\">\n<title>139864340030960*</title>\n<ellipse fill=\"none\" stroke=\"black\" cx=\"144\" cy=\"-35\" rx=\"27\" ry=\"18\"/>\n<text text-anchor=\"middle\" x=\"144\" y=\"-31.3\" font-family=\"Times,serif\" font-size=\"14.00\">*</text>\n</g>\n<!-- 139864340034704&#45;&gt;139864340030960* -->\n<g id=\"edge8\" class=\"edge\">\n<title>139864340034704&#45;&gt;139864340030960*</title>\n<path fill=\"none\" stroke=\"black\" d=\"M81.03,-88.72C93.84,-77.62 107.66,-65.64 118.98,-55.82\"/>\n<polygon fill=\"black\" stroke=\"black\" points=\"121.48,-58.29 126.74,-49.09 116.89,-53 121.48,-58.29\"/>\n</g>\n<!-- 139864340028224 -->\n<g id=\"node2\" class=\"node\">\n<title>139864340028224</title>\n<polygon fill=\"none\" stroke=\"black\" points=\"0,-0.5 0,-69.5 81,-69.5 81,-0.5 0,-0.5\"/>\n<text text-anchor=\"middle\" x=\"40.5\" y=\"-54.3\" font-family=\"Times,serif\" font-size=\"14.00\">x2</text>\n<polyline fill=\"none\" stroke=\"black\" points=\"0,-46.5 81,-46.5 \"/>\n<text text-anchor=\"middle\" x=\"40.5\" y=\"-31.3\" font-family=\"Times,serif\" font-size=\"14.00\">data: 0.0</text>\n<polyline fill=\"none\" stroke=\"black\" points=\"0,-23.5 81,-23.5 \"/>\n<text text-anchor=\"middle\" x=\"40.5\" y=\"-8.3\" font-family=\"Times,serif\" font-size=\"14.00\">grad: 3.0</text>\n</g>\n<!-- 139864340028224&#45;&gt;139864340024720+ -->\n<g id=\"edge6\" class=\"edge\">\n<title>139864340028224&#45;&gt;139864340024720+</title>\n<path fill=\"none\" stroke=\"black\" d=\"M81.03,-69.28C93.84,-80.38 107.66,-92.36 118.98,-102.18\"/>\n<polygon fill=\"black\" stroke=\"black\" points=\"116.89,-105 126.74,-108.91 121.48,-99.71 116.89,-105\"/>\n</g>\n<!-- 139864340028224&#45;&gt;139864340030960* -->\n<g id=\"edge9\" class=\"edge\">\n<title>139864340028224&#45;&gt;139864340030960*</title>\n<path fill=\"none\" stroke=\"black\" d=\"M81.03,-35C89.49,-35 98.38,-35 106.7,-35\"/>\n<polygon fill=\"black\" stroke=\"black\" points=\"106.87,-38.5 116.87,-35 106.87,-31.5 106.87,-38.5\"/>\n</g>\n<!-- 139864340023136 -->\n<g id=\"node3\" class=\"node\">\n<title>139864340023136</title>\n<polygon fill=\"none\" stroke=\"black\" points=\"414,-44.5 414,-113.5 495,-113.5 495,-44.5 414,-44.5\"/>\n<text text-anchor=\"middle\" x=\"454.5\" y=\"-98.3\" font-family=\"Times,serif\" font-size=\"14.00\">n</text>\n<polyline fill=\"none\" stroke=\"black\" points=\"414,-90.5 495,-90.5 \"/>\n<text text-anchor=\"middle\" x=\"454.5\" y=\"-75.3\" font-family=\"Times,serif\" font-size=\"14.00\">data: 2.0</text>\n<polyline fill=\"none\" stroke=\"black\" points=\"414,-67.5 495,-67.5 \"/>\n<text text-anchor=\"middle\" x=\"454.5\" y=\"-52.3\" font-family=\"Times,serif\" font-size=\"14.00\">grad: 1.0</text>\n</g>\n<!-- 139864340023136+ -->\n<g id=\"node4\" class=\"node\">\n<title>139864340023136+</title>\n<ellipse fill=\"none\" stroke=\"black\" cx=\"351\" cy=\"-79\" rx=\"27\" ry=\"18\"/>\n<text text-anchor=\"middle\" x=\"351\" y=\"-75.3\" font-family=\"Times,serif\" font-size=\"14.00\">+</text>\n</g>\n<!-- 139864340023136+&#45;&gt;139864340023136 -->\n<g id=\"edge1\" class=\"edge\">\n<title>139864340023136+&#45;&gt;139864340023136</title>\n<path fill=\"none\" stroke=\"black\" d=\"M378.14,-79C385.91,-79 394.69,-79 403.45,-79\"/>\n<polygon fill=\"black\" stroke=\"black\" points=\"403.65,-82.5 413.65,-79 403.65,-75.5 403.65,-82.5\"/>\n</g>\n<!-- 139864340024720 -->\n<g id=\"node5\" class=\"node\">\n<title>139864340024720</title>\n<polygon fill=\"none\" stroke=\"black\" points=\"207,-88.5 207,-157.5 288,-157.5 288,-88.5 207,-88.5\"/>\n<text text-anchor=\"middle\" x=\"247.5\" y=\"-142.3\" font-family=\"Times,serif\" font-size=\"14.00\">x1addx2</text>\n<polyline fill=\"none\" stroke=\"black\" points=\"207,-134.5 288,-134.5 \"/>\n<text text-anchor=\"middle\" x=\"247.5\" y=\"-119.3\" font-family=\"Times,serif\" font-size=\"14.00\">data: 2.0</text>\n<polyline fill=\"none\" stroke=\"black\" points=\"207,-111.5 288,-111.5 \"/>\n<text text-anchor=\"middle\" x=\"247.5\" y=\"-96.3\" font-family=\"Times,serif\" font-size=\"14.00\">grad: 1.0</text>\n</g>\n<!-- 139864340024720&#45;&gt;139864340023136+ -->\n<g id=\"edge2\" class=\"edge\">\n<title>139864340024720&#45;&gt;139864340023136+</title>\n<path fill=\"none\" stroke=\"black\" d=\"M288.03,-105.86C298.22,-101.45 309.04,-96.76 318.74,-92.55\"/>\n<polygon fill=\"black\" stroke=\"black\" points=\"320.22,-95.72 328,-88.54 317.44,-89.3 320.22,-95.72\"/>\n</g>\n<!-- 139864340030960 -->\n<g id=\"node6\" class=\"node\">\n<title>139864340030960</title>\n<polygon fill=\"none\" stroke=\"black\" points=\"207,-0.5 207,-69.5 288,-69.5 288,-0.5 207,-0.5\"/>\n<text text-anchor=\"middle\" x=\"247.5\" y=\"-54.3\" font-family=\"Times,serif\" font-size=\"14.00\">x1x2</text>\n<polyline fill=\"none\" stroke=\"black\" points=\"207,-46.5 288,-46.5 \"/>\n<text text-anchor=\"middle\" x=\"247.5\" y=\"-31.3\" font-family=\"Times,serif\" font-size=\"14.00\">data: 0.0</text>\n<polyline fill=\"none\" stroke=\"black\" points=\"207,-23.5 288,-23.5 \"/>\n<text text-anchor=\"middle\" x=\"247.5\" y=\"-8.3\" font-family=\"Times,serif\" font-size=\"14.00\">grad: 1.0</text>\n</g>\n<!-- 139864340030960&#45;&gt;139864340023136+ -->\n<g id=\"edge3\" class=\"edge\">\n<title>139864340030960&#45;&gt;139864340023136+</title>\n<path fill=\"none\" stroke=\"black\" d=\"M288.03,-52.14C298.22,-56.55 309.04,-61.24 318.74,-65.45\"/>\n<polygon fill=\"black\" stroke=\"black\" points=\"317.44,-68.7 328,-69.46 320.22,-62.28 317.44,-68.7\"/>\n</g>\n<!-- 139864340024720+&#45;&gt;139864340024720 -->\n<g id=\"edge4\" class=\"edge\">\n<title>139864340024720+&#45;&gt;139864340024720</title>\n<path fill=\"none\" stroke=\"black\" d=\"M171.14,-123C178.91,-123 187.69,-123 196.45,-123\"/>\n<polygon fill=\"black\" stroke=\"black\" points=\"196.65,-126.5 206.65,-123 196.65,-119.5 196.65,-126.5\"/>\n</g>\n<!-- 139864340030960*&#45;&gt;139864340030960 -->\n<g id=\"edge7\" class=\"edge\">\n<title>139864340030960*&#45;&gt;139864340030960</title>\n<path fill=\"none\" stroke=\"black\" d=\"M171.14,-35C178.91,-35 187.69,-35 196.45,-35\"/>\n<polygon fill=\"black\" stroke=\"black\" points=\"196.65,-38.5 206.65,-35 196.65,-31.5 196.65,-38.5\"/>\n</g>\n</g>\n</svg>\n",
      "text/plain": [
       "<graphviz.graphs.Digraph at 0x7f34b44dd240>"
      ]
     },
     "execution_count": 20,
     "metadata": {},
     "output_type": "execute_result"
    }
   ],
   "source": [
    "x1 = Value(2.0, label='x1')\n",
    "x2 = Value(0.0, label='x2')\n",
    "\n",
    "x1x2 = x1 * x2;         x1x2.label = 'x1x2'\n",
    "x1addx2 = x1 + x2;      x1addx2.label = 'x1addx2'\n",
    "n = x1x2 + x1addx2;     n.label = 'n'\n",
    "n.backprop()\n",
    "draw_dot(n)"
   ]
  }
 ],
 "metadata": {
  "kernelspec": {
   "display_name": "torch113_1",
   "language": "python",
   "name": "python3"
  },
  "language_info": {
   "codemirror_mode": {
    "name": "ipython",
    "version": 3
   },
   "file_extension": ".py",
   "mimetype": "text/x-python",
   "name": "python",
   "nbconvert_exporter": "python",
   "pygments_lexer": "ipython3",
   "version": "3.10.9"
  },
  "orig_nbformat": 4,
  "vscode": {
   "interpreter": {
    "hash": "dfd31d78f929449d598c868a4ab28a111e30d94109ecabb7e57cae0b5fb90da4"
   }
  }
 },
 "nbformat": 4,
 "nbformat_minor": 2
}
