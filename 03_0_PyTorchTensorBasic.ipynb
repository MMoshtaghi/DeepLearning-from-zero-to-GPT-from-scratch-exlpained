{
 "cells": [
  {
   "cell_type": "code",
   "execution_count": 2,
   "metadata": {},
   "outputs": [],
   "source": [
    "import torch"
   ]
  },
  {
   "attachments": {},
   "cell_type": "markdown",
   "metadata": {},
   "source": [
    "# ON CPU"
   ]
  },
  {
   "cell_type": "code",
   "execution_count": 3,
   "metadata": {},
   "outputs": [
    {
     "data": {
      "text/plain": [
       "tensor([[[-1.7733e-33,  4.5712e-41, -1.2933e-33],\n",
       "         [ 4.5712e-41,  3.7698e+05,  2.8982e-32]],\n",
       "\n",
       "        [[-1.7684e-33,  4.5712e-41, -1.2930e-33],\n",
       "         [ 4.5712e-41,  3.1794e+17,  8.2923e+33]]])"
      ]
     },
     "execution_count": 3,
     "metadata": {},
     "output_type": "execute_result"
    }
   ],
   "source": [
    "x = torch.empty(2,2,3) # empty tensor (size) bach:2 height:2 width:2\n",
    "x"
   ]
  },
  {
   "cell_type": "code",
   "execution_count": 4,
   "metadata": {},
   "outputs": [
    {
     "data": {
      "text/plain": [
       "tensor([[[0.],\n",
       "         [0.]],\n",
       "\n",
       "        [[0.],\n",
       "         [0.]],\n",
       "\n",
       "        [[0.],\n",
       "         [0.]]])"
      ]
     },
     "execution_count": 4,
     "metadata": {},
     "output_type": "execute_result"
    }
   ],
   "source": [
    "x = torch.zeros(3,2,1) # zero tensors\n",
    "x"
   ]
  },
  {
   "cell_type": "code",
   "execution_count": 5,
   "metadata": {},
   "outputs": [
    {
     "data": {
      "text/plain": [
       "tensor([[1., 1.],\n",
       "        [1., 1.]])"
      ]
     },
     "execution_count": 5,
     "metadata": {},
     "output_type": "execute_result"
    }
   ],
   "source": [
    "x= torch.ones(2,2)\n",
    "x"
   ]
  },
  {
   "cell_type": "code",
   "execution_count": 6,
   "metadata": {},
   "outputs": [
    {
     "data": {
      "text/plain": [
       "tensor([[[[0.0441, 0.1756, 0.7029],\n",
       "          [0.1009, 0.3011, 0.7961],\n",
       "          [0.6550, 0.8190, 0.2666],\n",
       "          [0.9339, 0.2002, 0.9472]],\n",
       "\n",
       "         [[0.6590, 0.8166, 0.9442],\n",
       "          [0.6805, 0.1154, 0.9531],\n",
       "          [0.1024, 0.5431, 0.4360],\n",
       "          [0.8130, 0.9741, 0.2040]],\n",
       "\n",
       "         [[0.1626, 0.5444, 0.8273],\n",
       "          [0.8381, 0.8286, 0.3371],\n",
       "          [0.0722, 0.4167, 0.5708],\n",
       "          [0.6049, 0.8232, 0.7187]],\n",
       "\n",
       "         [[0.8725, 0.4065, 0.5583],\n",
       "          [0.0271, 0.4976, 0.5193],\n",
       "          [0.7172, 0.3713, 0.6299],\n",
       "          [0.0366, 0.9645, 0.2243]]],\n",
       "\n",
       "\n",
       "        [[[0.9011, 0.5212, 0.6104],\n",
       "          [0.0015, 0.0910, 0.3590],\n",
       "          [0.9170, 0.8424, 0.7941],\n",
       "          [0.2271, 0.7310, 0.5250]],\n",
       "\n",
       "         [[0.9901, 0.4966, 0.1120],\n",
       "          [0.4185, 0.0562, 0.9614],\n",
       "          [0.9874, 0.7156, 0.4120],\n",
       "          [0.6559, 0.1584, 0.2308]],\n",
       "\n",
       "         [[0.1804, 0.3510, 0.4487],\n",
       "          [0.0497, 0.1705, 0.9722],\n",
       "          [0.7835, 0.2736, 0.2773],\n",
       "          [0.0433, 0.6237, 0.4278]],\n",
       "\n",
       "         [[0.9921, 0.4463, 0.5191],\n",
       "          [0.2912, 0.5205, 0.7790],\n",
       "          [0.7614, 0.2262, 0.8037],\n",
       "          [0.8871, 0.9673, 0.4289]]]])"
      ]
     },
     "execution_count": 6,
     "metadata": {},
     "output_type": "execute_result"
    }
   ],
   "source": [
    "x = torch.rand(2,4,4,3) # random tensor (image) b2,h4,w4,c3\n",
    "x"
   ]
  },
  {
   "cell_type": "code",
   "execution_count": 7,
   "metadata": {},
   "outputs": [
    {
     "data": {
      "text/plain": [
       "tensor([[-0.4207,  0.7966],\n",
       "        [-1.1666,  0.6328]])"
      ]
     },
     "execution_count": 7,
     "metadata": {},
     "output_type": "execute_result"
    }
   ],
   "source": [
    "x = torch.randn(2, 2) # random Normal tensor (image) b2,h4,w4,c3\n",
    "x"
   ]
  },
  {
   "cell_type": "code",
   "execution_count": 8,
   "metadata": {},
   "outputs": [
    {
     "data": {
      "text/plain": [
       "tensor([[1, 1],\n",
       "        [1, 1]], dtype=torch.int32)"
      ]
     },
     "execution_count": 8,
     "metadata": {},
     "output_type": "execute_result"
    }
   ],
   "source": [
    "x = torch.ones(2,2, dtype=torch.int) # int32\n",
    "x"
   ]
  },
  {
   "cell_type": "code",
   "execution_count": 9,
   "metadata": {},
   "outputs": [
    {
     "name": "stdout",
     "output_type": "stream",
     "text": [
      "torch.Size([2, 2])\n"
     ]
    },
    {
     "data": {
      "text/plain": [
       "torch.float64"
      ]
     },
     "execution_count": 9,
     "metadata": {},
     "output_type": "execute_result"
    }
   ],
   "source": [
    "x = torch.rand(2,2, dtype=torch.double) # float64\n",
    "print(x.size())\n",
    "x.dtype"
   ]
  },
  {
   "cell_type": "code",
   "execution_count": 10,
   "metadata": {},
   "outputs": [
    {
     "data": {
      "text/plain": [
       "tensor([2.5000, 0.1000])"
      ]
     },
     "execution_count": 10,
     "metadata": {},
     "output_type": "execute_result"
    }
   ],
   "source": [
    "x = torch.tensor([2.5, 0.1]) # from a list\n",
    "x"
   ]
  },
  {
   "cell_type": "code",
   "execution_count": 11,
   "metadata": {},
   "outputs": [
    {
     "name": "stdout",
     "output_type": "stream",
     "text": [
      "tensor([[0.9000, 1.3000, 1.1000],\n",
      "        [1.0000, 0.8000, 0.9000]])\n",
      "tensor([[-0.1000,  0.3000,  0.9000],\n",
      "        [-0.4000,  0.2000,  0.5000]])\n",
      "tensor([[0.2000, 0.4000, 0.1000],\n",
      "        [0.2100, 0.1500, 0.1400]])\n"
     ]
    },
    {
     "data": {
      "text/plain": [
       "tensor([[ 0.8000,  1.6000, 10.0000],\n",
       "        [ 0.4286,  1.6667,  3.5000]])"
      ]
     },
     "execution_count": 11,
     "metadata": {},
     "output_type": "execute_result"
    }
   ],
   "source": [
    "x = torch.tensor([[0.4, 0.8, 1.0],\n",
    "                [0.3, 0.5, 0.7]])\n",
    "y = torch.tensor([[0.5, 0.5, 0.1],\n",
    "                [0.7, 0.3, 0.2]])\n",
    "sum = x + y\n",
    "sub = x - y\n",
    "pointwise_mul = x * y\n",
    "pointwise_div = x / y\n",
    "# sum = torch.add(x, y)\n",
    "# sub = torch.sub(x, y)\n",
    "# mul = torch.mul(x, y)\n",
    "# dev = torch.div(x, y)\n",
    "print(sum)\n",
    "print(sub)\n",
    "print(pointwise_mul)\n",
    "pointwise_div"
   ]
  },
  {
   "cell_type": "code",
   "execution_count": 12,
   "metadata": {},
   "outputs": [
    {
     "data": {
      "text/plain": [
       "' x = torch.rand(2, 3)\\ny = torch.rand(2, 2) # shape mismatch!!\\nz = torch.add(x, y)\\nz '"
      ]
     },
     "execution_count": 12,
     "metadata": {},
     "output_type": "execute_result"
    }
   ],
   "source": [
    "\"\"\" x = torch.rand(2, 3)\n",
    "y = torch.rand(2, 2) # shape mismatch!!\n",
    "z = torch.add(x, y)\n",
    "z \"\"\""
   ]
  },
  {
   "cell_type": "code",
   "execution_count": 13,
   "metadata": {},
   "outputs": [
    {
     "name": "stdout",
     "output_type": "stream",
     "text": [
      "tensor([[0.9000, 1.3000, 1.1000],\n",
      "        [1.0000, 0.8000, 0.9000]])\n",
      "tensor([[0.5000, 0.5000, 0.1000],\n",
      "        [0.7000, 0.3000, 0.2000]])\n",
      "tensor([[0.2000, 0.4000, 0.1000],\n",
      "        [0.2100, 0.1500, 0.1400]])\n"
     ]
    },
    {
     "data": {
      "text/plain": [
       "tensor([[0.5000, 0.5000, 0.1000],\n",
       "        [0.7000, 0.3000, 0.2000]])"
      ]
     },
     "execution_count": 13,
     "metadata": {},
     "output_type": "execute_result"
    }
   ],
   "source": [
    "x = torch.tensor([[0.4, 0.8, 1.0],\n",
    "                [0.3, 0.5, 0.7]])\n",
    "y = torch.tensor([[0.5, 0.5, 0.1],\n",
    "                [0.7, 0.3, 0.2]])\n",
    "y.add_(x) # inplace add, in PyTorch all inplace operations has a tailing underscore_\n",
    "print(y)\n",
    "y.sub_(x)\n",
    "print(y)\n",
    "y.mul_(x)\n",
    "print(y)\n",
    "y.div_(x)\n",
    "y"
   ]
  },
  {
   "cell_type": "code",
   "execution_count": 14,
   "metadata": {},
   "outputs": [
    {
     "name": "stdout",
     "output_type": "stream",
     "text": [
      "tensor(0.5000)\n",
      "0.5\n",
      "tensor([0.8000, 0.5000])\n"
     ]
    },
    {
     "data": {
      "text/plain": [
       "tensor([0.4000, 0.8000, 1.0000])"
      ]
     },
     "execution_count": 14,
     "metadata": {},
     "output_type": "execute_result"
    }
   ],
   "source": [
    "print(x[1,1])\n",
    "print(x[1,1].item())\n",
    "print(x[:,1]) # slicing 2nd col\n",
    "x[0,:] # 1st row"
   ]
  },
  {
   "cell_type": "code",
   "execution_count": 15,
   "metadata": {},
   "outputs": [
    {
     "name": "stdout",
     "output_type": "stream",
     "text": [
      "tensor([[0.4000, 0.8000, 1.0000, 0.3000, 0.5000, 0.7000]])\n",
      "tensor([[0.4000, 0.8000],\n",
      "        [1.0000, 0.3000],\n",
      "        [0.5000, 0.7000]])\n",
      "tensor([[0.4000, 0.8000, 1.0000],\n",
      "        [0.3000, 0.5000, 0.7000]])\n"
     ]
    }
   ],
   "source": [
    "# reshaping\n",
    "x = torch.tensor([[0.4, 0.8, 1.0],\n",
    "                [0.3, 0.5, 0.7]])\n",
    "y = torch.tensor([[0.5, 0.5, 0.1],\n",
    "                [0.7, 0.3, 0.2]])\n",
    "\n",
    "x_reshape = x.view(-1, 6) # -1 means infer the # rows from total # of items, I just care about # of col\n",
    "print(x_reshape)\n",
    "x_reshape = x.view(3, -1) # notice it's not transpose!!!! it first vectorize it, then creat the matrix again\n",
    "print(x_reshape)\n",
    "x_reshape = x.view(2, 3) # notice it's not transpose!!!! it first vectorize it, then creat the matrix again\n",
    "print(x_reshape)"
   ]
  },
  {
   "cell_type": "code",
   "execution_count": 16,
   "metadata": {},
   "outputs": [
    {
     "data": {
      "text/plain": [
       "' x_reshape = x.view(3,3) # mismatch shape '"
      ]
     },
     "execution_count": 16,
     "metadata": {},
     "output_type": "execute_result"
    }
   ],
   "source": [
    "\"\"\" x_reshape = x.view(3,3) # mismatch shape \"\"\""
   ]
  },
  {
   "cell_type": "code",
   "execution_count": 17,
   "metadata": {},
   "outputs": [],
   "source": [
    "import numpy as np"
   ]
  },
  {
   "cell_type": "code",
   "execution_count": 18,
   "metadata": {},
   "outputs": [
    {
     "data": {
      "text/plain": [
       "array([[0.4, 0.8, 1. ],\n",
       "       [0.3, 0.5, 0.7]], dtype=float32)"
      ]
     },
     "execution_count": 18,
     "metadata": {},
     "output_type": "execute_result"
    }
   ],
   "source": [
    "x_np = x.numpy()\n",
    "# if the tensor is on the CPU (numpy does not work on GPU)\n",
    "# and share the same memory location,\n",
    "# then changing one will change the other\n",
    "x_np"
   ]
  },
  {
   "cell_type": "code",
   "execution_count": 19,
   "metadata": {},
   "outputs": [
    {
     "name": "stdout",
     "output_type": "stream",
     "text": [
      "tensor([[1.4000, 1.8000, 2.0000],\n",
      "        [1.3000, 1.5000, 1.7000]])\n"
     ]
    },
    {
     "data": {
      "text/plain": [
       "array([[1.4, 1.8, 2. ],\n",
       "       [1.3, 1.5, 1.7]], dtype=float32)"
      ]
     },
     "execution_count": 19,
     "metadata": {},
     "output_type": "execute_result"
    }
   ],
   "source": [
    "x.add_(1)\n",
    "print(x)\n",
    "x_np"
   ]
  },
  {
   "cell_type": "code",
   "execution_count": 20,
   "metadata": {},
   "outputs": [
    {
     "data": {
      "text/plain": [
       "array([[1., 1., 1.],\n",
       "       [1., 1., 1.]])"
      ]
     },
     "execution_count": 20,
     "metadata": {},
     "output_type": "execute_result"
    }
   ],
   "source": [
    "x_np = np.ones([2,3])\n",
    "x_np"
   ]
  },
  {
   "cell_type": "code",
   "execution_count": 21,
   "metadata": {},
   "outputs": [
    {
     "data": {
      "text/plain": [
       "tensor([[1, 1, 1],\n",
       "        [1, 1, 1]], dtype=torch.int32)"
      ]
     },
     "execution_count": 21,
     "metadata": {},
     "output_type": "execute_result"
    }
   ],
   "source": [
    "x = torch.from_numpy(x_np).type(dtype=torch.int)\n",
    "x"
   ]
  },
  {
   "cell_type": "code",
   "execution_count": 22,
   "metadata": {},
   "outputs": [
    {
     "name": "stdout",
     "output_type": "stream",
     "text": [
      "[[2. 2. 2.]\n",
      " [2. 2. 2.]]\n"
     ]
    },
    {
     "data": {
      "text/plain": [
       "tensor([[1, 1, 1],\n",
       "        [1, 1, 1]], dtype=torch.int32)"
      ]
     },
     "execution_count": 22,
     "metadata": {},
     "output_type": "execute_result"
    }
   ],
   "source": [
    "x_np += np.ones([2,3])\n",
    "print(x_np)\n",
    "x"
   ]
  },
  {
   "attachments": {},
   "cell_type": "markdown",
   "metadata": {},
   "source": [
    "# ON GPU\n",
    "\n",
    "Notice: numpy can only handle CPU operations!!"
   ]
  },
  {
   "cell_type": "code",
   "execution_count": 23,
   "metadata": {},
   "outputs": [
    {
     "name": "stdout",
     "output_type": "stream",
     "text": [
      "cuda\n",
      "tensor([[0.8805, 0.6595, 0.7280],\n",
      "        [0.0570, 0.8821, 0.4852]], device='cuda:0')\n",
      "tensor([[0.8210, 0.7386, 0.3912],\n",
      "        [0.4478, 0.8428, 0.6041]], device='cuda:0')\n",
      "tensor([[1.7015, 1.3981, 1.1192],\n",
      "        [0.5048, 1.7249, 1.0893]], device='cuda:0')\n"
     ]
    }
   ],
   "source": [
    "# let's do it on GPU\n",
    "if torch.cuda.is_available():\n",
    "    cuda = torch.device(\"cuda\")\n",
    "    print(cuda)\n",
    "    x = torch.rand([2,3], device=cuda) # creat it on GPU mem\n",
    "    print(x)\n",
    "    y = torch.rand([2,3]) # creat on CPU mem\n",
    "    y = y.to(cuda) # move it to GPU mem\n",
    "    print(y)\n",
    "    z = x + y # torch.add(x, y) # it's done on GPU\n",
    "    print(z) # z is on GPU mem"
   ]
  },
  {
   "cell_type": "code",
   "execution_count": 24,
   "metadata": {},
   "outputs": [
    {
     "data": {
      "text/plain": [
       "tensor([[1.7015, 1.3981, 1.1192],\n",
       "        [0.5048, 1.7249, 1.0893]])"
      ]
     },
     "execution_count": 24,
     "metadata": {},
     "output_type": "execute_result"
    }
   ],
   "source": [
    "\"\"\" z = z.numpy() # error\n",
    "z \"\"\"\n",
    "z = z.to(device='cpu')\n",
    "z.numpy()\n",
    "z"
   ]
  },
  {
   "cell_type": "code",
   "execution_count": 25,
   "metadata": {},
   "outputs": [
    {
     "data": {
      "text/plain": [
       "tensor([1., 1., 1., 1., 1.], requires_grad=True)"
      ]
     },
     "execution_count": 25,
     "metadata": {},
     "output_type": "execute_result"
    }
   ],
   "source": [
    "# when you have variable that you want to calc gradient later\n",
    "# like your loss, weights or latent cariable,\n",
    "# set another argument to True\n",
    "x = torch.ones(5, requires_grad=True)\n",
    "x"
   ]
  }
 ],
 "metadata": {
  "kernelspec": {
   "display_name": "torch113_1",
   "language": "python",
   "name": "python3"
  },
  "language_info": {
   "codemirror_mode": {
    "name": "ipython",
    "version": 3
   },
   "file_extension": ".py",
   "mimetype": "text/x-python",
   "name": "python",
   "nbconvert_exporter": "python",
   "pygments_lexer": "ipython3",
   "version": "3.10.9"
  },
  "orig_nbformat": 4,
  "vscode": {
   "interpreter": {
    "hash": "dfd31d78f929449d598c868a4ab28a111e30d94109ecabb7e57cae0b5fb90da4"
   }
  }
 },
 "nbformat": 4,
 "nbformat_minor": 2
}
