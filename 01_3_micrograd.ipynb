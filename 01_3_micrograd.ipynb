{
 "cells": [
  {
   "cell_type": "code",
   "execution_count": 1,
   "metadata": {},
   "outputs": [
    {
     "data": {
      "text/plain": [
       "\" %matplotlib inline sets the backend of matplotlib to\\nthe 'inline' backend. When using the 'inline' backend,\\nyour matplotlib graphs will be included in your notebook,\\nnext to the code.\""
      ]
     },
     "execution_count": 1,
     "metadata": {},
     "output_type": "execute_result"
    }
   ],
   "source": [
    "import math\n",
    "import numpy as np\n",
    "import matplotlib.pyplot as plt\n",
    "%matplotlib inline\n",
    "''' %matplotlib inline sets the backend of matplotlib to\n",
    "the 'inline' backend. When using the 'inline' backend,\n",
    "your matplotlib graphs will be included in your notebook,\n",
    "next to the code.'''"
   ]
  },
  {
   "cell_type": "code",
   "execution_count": 2,
   "metadata": {},
   "outputs": [],
   "source": [
    "from graphviz import Digraph\n",
    "\n",
    "def trace(root):\n",
    "    '''\n",
    "    Build a set of all nodes and edges in a graph,\n",
    "    the order does not matter\n",
    "    '''\n",
    "    nodes, edges = set(), set()\n",
    "    \n",
    "    def build(v): # a heuristic topological sort function\n",
    "        if v not in nodes:\n",
    "            nodes.add(v)\n",
    "            for child in v._prev:\n",
    "                edges.add((child, v)) # define edge like this\n",
    "                build(child)\n",
    "\n",
    "    build(root)\n",
    "    return nodes, edges\n",
    "\n",
    "# first have an scheme of your desired graph based on the nodes and operations\n",
    "def draw_dot(root):\n",
    "    dot = Digraph(format='svg', graph_attr={'rankdir': 'LR'}) # LR : left to right\n",
    "\n",
    "    nodes, edges = trace(root)\n",
    "    for n in nodes:\n",
    "        uid = str(id(n))\n",
    "        # for any value in the graph, create a rectangular (record') node for it\n",
    "        # a visual node\n",
    "        dot.node(name=uid, label=f'{n.label} | data: {n.data} | grad: {n.grad}', shape='record')\n",
    "        if n._op:\n",
    "            # if this value is result of some operation, create an operation node for it\n",
    "            dot.node(name=uid+n._op , label=n._op) # n._op is a string\n",
    "            # and connect the op node to the value node\n",
    "            dot.edge(uid+n._op , uid)\n",
    "            for child in n._prev:\n",
    "                dot.edge( str(id(child)) , uid+n._op)\n",
    "    return dot"
   ]
  },
  {
   "attachments": {},
   "cell_type": "markdown",
   "metadata": {},
   "source": [
    "## Engine file changes"
   ]
  },
  {
   "attachments": {},
   "cell_type": "markdown",
   "metadata": {},
   "source": [
    "### 1- Let's make add & mul with numbers possible:\n",
    "like x1 + 2.0 or 2 * x1\n",
    "since they are not the same object type, we can't add them!\n",
    "\n",
    "let's modify the code then:\n",
    "\n",
    "1) x1 + 2.0 is actually x1.__add__(2.0)\n",
    "so we need to modify this method\n",
    "\n",
    "2) but 2 * x1 is actually 2.__mul__(x1) !!\n",
    "we need to define x1.__rmul__(self)\n",
    "which is a fallback, if python can't solve 2 * x1 it checks if it can solve x1 * 2 and that would call x1.__rmul__ :)\n",
    "\n",
    "### 2- divison , power\n",
    "a /b = a * b**-1\n",
    "\n",
    "### 3- subtraction, negation\n",
    "\n",
    "### 4- relu"
   ]
  },
  {
   "cell_type": "code",
   "execution_count": 3,
   "metadata": {},
   "outputs": [],
   "source": [
    "class Value:\n",
    "    \n",
    "    def __init__(self, data, _prev=(), _op='', label=''):\n",
    "        self.data = data\n",
    "        self._prev = set(_prev) # the order does not matter, use set instead of list\n",
    "        self._op = _op\n",
    "        self.label = label\n",
    "\n",
    "        self.grad = 0.0\n",
    "\n",
    "        # After the forwrd path (when we have the data vlaue of all nodes)\n",
    "        # we start the backprop (to get the gradients for each node)\n",
    "        # the output node of each operation knows the operation and children\n",
    "        # since we dont have a backprop for leaf nodes, and \n",
    "        # each operation has different local gradient\n",
    "        # we can't define a general method in the class.\n",
    "        # so at the time of doing the operation,\n",
    "        # we can both define the local gradiant function\n",
    "        # and store the whole chain rule function in an attribute to call later.\n",
    "        # then call the local this function attribute from end node to the begining.\n",
    "        self._backprop = lambda: None\n",
    "    \n",
    "    def __repr__(self) -> str:\n",
    "        return f'Value({self.label}:{self.data})'\n",
    "    \n",
    "    def __add__(self, other):\n",
    "        # check if 'other' is an instance of 'Value'\n",
    "        other = other if isinstance(other, Value) else Value(other)\n",
    "\n",
    "        out = Value(self.data + other.data, (self, other), _op='+')\n",
    "        \n",
    "        def _backprop():\n",
    "            # partial derivatives for each input:\n",
    "            self.grad += out.grad\n",
    "            other.grad += out.grad\n",
    "\n",
    "        out._backprop = _backprop\n",
    "        return out\n",
    "    \n",
    "    def __radd__(self, other):\n",
    "        return self + other\n",
    "    \n",
    "    def __sub__(self, other):\n",
    "        return self + -1*other\n",
    "    \n",
    "    def __rsub__(self, other):\n",
    "        return -1*(self + -1*other)\n",
    "    \n",
    "    def __neg__(self):\n",
    "        return self * -1\n",
    "\n",
    "    def __mul__(self, other):\n",
    "        # check if 'other' is an instance of 'Value'\n",
    "        other = other if isinstance(other, Value) else Value(other)\n",
    "\n",
    "        out = Value(self.data * other.data, (self, other), _op='*')\n",
    "        \n",
    "        def _backprop():\n",
    "            # partial derivatives for each input:\n",
    "            self.grad += other.data * out.grad\n",
    "            other.grad += self.data * out.grad\n",
    "        \n",
    "        out._backprop = _backprop\n",
    "        return out\n",
    "    \n",
    "    def __rmul__(self, other):\n",
    "        return self * other\n",
    "\n",
    "    def __truediv__(self, other):\n",
    "        return self * other**-1\n",
    "\n",
    "    def __rtruediv__(self, other):\n",
    "        return other * self**-1\n",
    "    \n",
    "    def __pow__(self, other):\n",
    "        # only support int or float powers for now!!\n",
    "        # in case of other of type 'Value', we would need another method\n",
    "        assert isinstance(other, (int, float))\n",
    "        \n",
    "        out = Value(self.data**other, (self,), _op=f'**{other}')\n",
    "\n",
    "        def _backprop():\n",
    "            self.grad += (other * self.data**(other - 1)) * out.grad\n",
    "        \n",
    "        out._backprop = _backprop\n",
    "        return out\n",
    "\n",
    "    def relu(self):\n",
    "        out = Value( self.data if self.data > 0.0 else 0.0 , (self,), _op='ReLU' )\n",
    "        \n",
    "        def _backprop():\n",
    "            self.grad += out.grad * (out.data > 0.0)\n",
    "        \n",
    "        out._backprop = _backprop\n",
    "        return out\n",
    "    \n",
    "    def exp(self):\n",
    "        out = Value(np.exp(self.data), (self,), _op='exp')\n",
    "        \n",
    "        def _backprop():\n",
    "            self.grad += out.data * out.grad\n",
    "        \n",
    "        out._backprop = _backprop\n",
    "        return out\n",
    "    \n",
    "    def tanh(self):\n",
    "        tanh = (np.exp(2*self.data) - 1)/(np.exp(2*self.data) + 1)\n",
    "        out = Value( tanh, (self,), _op='tanh')\n",
    "        \n",
    "        def _backprop():\n",
    "            self.grad += (1 - tanh**2) * out.grad\n",
    "        \n",
    "        out._backprop = _backprop\n",
    "        return out\n",
    "    \n",
    "    def backprop(self):\n",
    "        topo_sort_list = []\n",
    "        visited = set() # the order does not matter, use set instead of list\n",
    "        \n",
    "        def build_topo(root):\n",
    "            if root not in visited:\n",
    "                visited.add(root)\n",
    "                # Appending to topo_sort before its children are processed\n",
    "                # will give us out-to-left sort,\n",
    "                # but not out to leaf sort in case of b (bias leaf), try it & see it\n",
    "                for child in root._prev:\n",
    "                    build_topo(child)\n",
    "                # Appending after its children are processed\n",
    "                # will give us leaf-to-out sort\n",
    "                topo_sort_list.append(root)\n",
    "        \n",
    "        build_topo(root=self)\n",
    "        \n",
    "        self.grad = 1.0\n",
    "        for node in reversed(topo_sort_list):\n",
    "            node._backprop()\n"
   ]
  },
  {
   "cell_type": "code",
   "execution_count": 25,
   "metadata": {},
   "outputs": [
    {
     "data": {
      "text/plain": [
       "Value(:0.6666666666666666)"
      ]
     },
     "execution_count": 25,
     "metadata": {},
     "output_type": "execute_result"
    }
   ],
   "source": [
    "a = Value(2.0)\n",
    "b = Value(3.0)\n",
    "a / b"
   ]
  },
  {
   "attachments": {},
   "cell_type": "markdown",
   "metadata": {},
   "source": [
    "## NN architecture file changes\n",
    "\n",
    "### 1) let's break up tanh to a bunch of expressions based exp\n",
    "(np.exp(2*self.data) - 1)/(np.exp(2*self.data) + 1)"
   ]
  },
  {
   "cell_type": "code",
   "execution_count": 53,
   "metadata": {},
   "outputs": [
    {
     "data": {
      "image/svg+xml": "<?xml version=\"1.0\" encoding=\"UTF-8\" standalone=\"no\"?>\n<!DOCTYPE svg PUBLIC \"-//W3C//DTD SVG 1.1//EN\"\n \"http://www.w3.org/Graphics/SVG/1.1/DTD/svg11.dtd\">\n<!-- Generated by graphviz version 2.50.0 (0)\n -->\n<!-- Pages: 1 -->\n<svg width=\"1601pt\" height=\"342pt\"\n viewBox=\"0.00 0.00 1600.69 342.00\" xmlns=\"http://www.w3.org/2000/svg\" xmlns:xlink=\"http://www.w3.org/1999/xlink\">\n<g id=\"graph0\" class=\"graph\" transform=\"scale(1 1) rotate(0) translate(4 338)\">\n<polygon fill=\"white\" stroke=\"transparent\" points=\"-4,4 -4,-338 1596.69,-338 1596.69,4 -4,4\"/>\n<!-- 139938479072272 -->\n<g id=\"node1\" class=\"node\">\n<title>139938479072272</title>\n<polygon fill=\"none\" stroke=\"black\" points=\"1377.69,-88.5 1377.69,-157.5 1592.69,-157.5 1592.69,-88.5 1377.69,-88.5\"/>\n<text text-anchor=\"middle\" x=\"1485.19\" y=\"-142.3\" font-family=\"Times,serif\" font-size=\"14.00\">o</text>\n<polyline fill=\"none\" stroke=\"black\" points=\"1377.69,-134.5 1592.69,-134.5 \"/>\n<text text-anchor=\"middle\" x=\"1485.19\" y=\"-119.3\" font-family=\"Times,serif\" font-size=\"14.00\">data: 0.7071067811767758</text>\n<polyline fill=\"none\" stroke=\"black\" points=\"1377.69,-111.5 1592.69,-111.5 \"/>\n<text text-anchor=\"middle\" x=\"1485.19\" y=\"-96.3\" font-family=\"Times,serif\" font-size=\"14.00\">grad: 1.0</text>\n</g>\n<!-- 139938479072272tanh -->\n<g id=\"node2\" class=\"node\">\n<title>139938479072272tanh</title>\n<ellipse fill=\"none\" stroke=\"black\" cx=\"1309.85\" cy=\"-123\" rx=\"31.7\" ry=\"18\"/>\n<text text-anchor=\"middle\" x=\"1309.85\" y=\"-119.3\" font-family=\"Times,serif\" font-size=\"14.00\">tanh</text>\n</g>\n<!-- 139938479072272tanh&#45;&gt;139938479072272 -->\n<g id=\"edge1\" class=\"edge\">\n<title>139938479072272tanh&#45;&gt;139938479072272</title>\n<path fill=\"none\" stroke=\"black\" d=\"M1341.84,-123C1349.49,-123 1358.15,-123 1367.32,-123\"/>\n<polygon fill=\"black\" stroke=\"black\" points=\"1367.45,-126.5 1377.45,-123 1367.45,-119.5 1367.45,-126.5\"/>\n</g>\n<!-- 139938479070160 -->\n<g id=\"node3\" class=\"node\">\n<title>139938479070160</title>\n<polygon fill=\"none\" stroke=\"black\" points=\"1026,-88.5 1026,-157.5 1242,-157.5 1242,-88.5 1026,-88.5\"/>\n<text text-anchor=\"middle\" x=\"1134\" y=\"-142.3\" font-family=\"Times,serif\" font-size=\"14.00\">n</text>\n<polyline fill=\"none\" stroke=\"black\" points=\"1026,-134.5 1242,-134.5 \"/>\n<text text-anchor=\"middle\" x=\"1134\" y=\"-119.3\" font-family=\"Times,serif\" font-size=\"14.00\">data: 0.8813735869999997</text>\n<polyline fill=\"none\" stroke=\"black\" points=\"1026,-111.5 1242,-111.5 \"/>\n<text text-anchor=\"middle\" x=\"1134\" y=\"-96.3\" font-family=\"Times,serif\" font-size=\"14.00\">grad: 0.5000000000138193</text>\n</g>\n<!-- 139938479070160&#45;&gt;139938479072272tanh -->\n<g id=\"edge2\" class=\"edge\">\n<title>139938479070160&#45;&gt;139938479072272tanh</title>\n<path fill=\"none\" stroke=\"black\" d=\"M1242.13,-123C1251.17,-123 1259.9,-123 1267.89,-123\"/>\n<polygon fill=\"black\" stroke=\"black\" points=\"1267.95,-126.5 1277.95,-123 1267.95,-119.5 1267.95,-126.5\"/>\n</g>\n<!-- 139938479072320 -->\n<g id=\"node4\" class=\"node\">\n<title>139938479072320</title>\n<polygon fill=\"none\" stroke=\"black\" points=\"684,-132.5 684,-201.5 900,-201.5 900,-132.5 684,-132.5\"/>\n<text text-anchor=\"middle\" x=\"792\" y=\"-186.3\" font-family=\"Times,serif\" font-size=\"14.00\">x1w1addx2w2</text>\n<polyline fill=\"none\" stroke=\"black\" points=\"684,-178.5 900,-178.5 \"/>\n<text text-anchor=\"middle\" x=\"792\" y=\"-163.3\" font-family=\"Times,serif\" font-size=\"14.00\">data: &#45;6.0</text>\n<polyline fill=\"none\" stroke=\"black\" points=\"684,-155.5 900,-155.5 \"/>\n<text text-anchor=\"middle\" x=\"792\" y=\"-140.3\" font-family=\"Times,serif\" font-size=\"14.00\">grad: 0.5000000000138193</text>\n</g>\n<!-- 139938479070160+ -->\n<g id=\"node15\" class=\"node\">\n<title>139938479070160+</title>\n<ellipse fill=\"none\" stroke=\"black\" cx=\"963\" cy=\"-123\" rx=\"27\" ry=\"18\"/>\n<text text-anchor=\"middle\" x=\"963\" y=\"-119.3\" font-family=\"Times,serif\" font-size=\"14.00\">+</text>\n</g>\n<!-- 139938479072320&#45;&gt;139938479070160+ -->\n<g id=\"edge14\" class=\"edge\">\n<title>139938479072320&#45;&gt;139938479070160+</title>\n<path fill=\"none\" stroke=\"black\" d=\"M900.03,-139.13C910,-136.54 919.51,-134.06 927.96,-131.86\"/>\n<polygon fill=\"black\" stroke=\"black\" points=\"928.91,-135.23 937.7,-129.33 927.15,-128.46 928.91,-135.23\"/>\n</g>\n<!-- 139938479072320+ -->\n<g id=\"node5\" class=\"node\">\n<title>139938479072320+</title>\n<ellipse fill=\"none\" stroke=\"black\" cx=\"621\" cy=\"-167\" rx=\"27\" ry=\"18\"/>\n<text text-anchor=\"middle\" x=\"621\" y=\"-163.3\" font-family=\"Times,serif\" font-size=\"14.00\">+</text>\n</g>\n<!-- 139938479072320+&#45;&gt;139938479072320 -->\n<g id=\"edge3\" class=\"edge\">\n<title>139938479072320+&#45;&gt;139938479072320</title>\n<path fill=\"none\" stroke=\"black\" d=\"M648.04,-167C655.59,-167 664.38,-167 673.8,-167\"/>\n<polygon fill=\"black\" stroke=\"black\" points=\"673.83,-170.5 683.83,-167 673.83,-163.5 673.83,-170.5\"/>\n</g>\n<!-- 139938479078176 -->\n<g id=\"node6\" class=\"node\">\n<title>139938479078176</title>\n<polygon fill=\"none\" stroke=\"black\" points=\"342,-176.5 342,-245.5 558,-245.5 558,-176.5 342,-176.5\"/>\n<text text-anchor=\"middle\" x=\"450\" y=\"-230.3\" font-family=\"Times,serif\" font-size=\"14.00\">x2w2</text>\n<polyline fill=\"none\" stroke=\"black\" points=\"342,-222.5 558,-222.5 \"/>\n<text text-anchor=\"middle\" x=\"450\" y=\"-207.3\" font-family=\"Times,serif\" font-size=\"14.00\">data: 0.0</text>\n<polyline fill=\"none\" stroke=\"black\" points=\"342,-199.5 558,-199.5 \"/>\n<text text-anchor=\"middle\" x=\"450\" y=\"-184.3\" font-family=\"Times,serif\" font-size=\"14.00\">grad: 0.5000000000138193</text>\n</g>\n<!-- 139938479078176&#45;&gt;139938479072320+ -->\n<g id=\"edge4\" class=\"edge\">\n<title>139938479078176&#45;&gt;139938479072320+</title>\n<path fill=\"none\" stroke=\"black\" d=\"M558.03,-183.13C568,-180.54 577.51,-178.06 585.96,-175.86\"/>\n<polygon fill=\"black\" stroke=\"black\" points=\"586.91,-179.23 595.7,-173.33 585.15,-172.46 586.91,-179.23\"/>\n</g>\n<!-- 139938479071072 -->\n<g id=\"node7\" class=\"node\">\n<title>139938479071072</title>\n<polygon fill=\"none\" stroke=\"black\" points=\"342,-88.5 342,-157.5 558,-157.5 558,-88.5 342,-88.5\"/>\n<text text-anchor=\"middle\" x=\"450\" y=\"-142.3\" font-family=\"Times,serif\" font-size=\"14.00\">x1w1</text>\n<polyline fill=\"none\" stroke=\"black\" points=\"342,-134.5 558,-134.5 \"/>\n<text text-anchor=\"middle\" x=\"450\" y=\"-119.3\" font-family=\"Times,serif\" font-size=\"14.00\">data: &#45;6.0</text>\n<polyline fill=\"none\" stroke=\"black\" points=\"342,-111.5 558,-111.5 \"/>\n<text text-anchor=\"middle\" x=\"450\" y=\"-96.3\" font-family=\"Times,serif\" font-size=\"14.00\">grad: 0.5000000000138193</text>\n</g>\n<!-- 139938479071072&#45;&gt;139938479072320+ -->\n<g id=\"edge5\" class=\"edge\">\n<title>139938479071072&#45;&gt;139938479072320+</title>\n<path fill=\"none\" stroke=\"black\" d=\"M558.03,-150.87C568,-153.46 577.51,-155.94 585.96,-158.14\"/>\n<polygon fill=\"black\" stroke=\"black\" points=\"585.15,-161.54 595.7,-160.67 586.91,-154.77 585.15,-161.54\"/>\n</g>\n<!-- 139938479063296 -->\n<g id=\"node8\" class=\"node\">\n<title>139938479063296</title>\n<polygon fill=\"none\" stroke=\"black\" points=\"0,-264.5 0,-333.5 216,-333.5 216,-264.5 0,-264.5\"/>\n<text text-anchor=\"middle\" x=\"108\" y=\"-318.3\" font-family=\"Times,serif\" font-size=\"14.00\">x2</text>\n<polyline fill=\"none\" stroke=\"black\" points=\"0,-310.5 216,-310.5 \"/>\n<text text-anchor=\"middle\" x=\"108\" y=\"-295.3\" font-family=\"Times,serif\" font-size=\"14.00\">data: 0.0</text>\n<polyline fill=\"none\" stroke=\"black\" points=\"0,-287.5 216,-287.5 \"/>\n<text text-anchor=\"middle\" x=\"108\" y=\"-272.3\" font-family=\"Times,serif\" font-size=\"14.00\">grad: 0.5000000000138193</text>\n</g>\n<!-- 139938479078176* -->\n<g id=\"node9\" class=\"node\">\n<title>139938479078176*</title>\n<ellipse fill=\"none\" stroke=\"black\" cx=\"279\" cy=\"-211\" rx=\"27\" ry=\"18\"/>\n<text text-anchor=\"middle\" x=\"279\" y=\"-207.3\" font-family=\"Times,serif\" font-size=\"14.00\">*</text>\n</g>\n<!-- 139938479063296&#45;&gt;139938479078176* -->\n<g id=\"edge7\" class=\"edge\">\n<title>139938479063296&#45;&gt;139938479078176*</title>\n<path fill=\"none\" stroke=\"black\" d=\"M197.63,-264.42C203.92,-261.4 210.11,-258.25 216,-255 228.68,-248.01 241.87,-238.94 252.82,-230.84\"/>\n<polygon fill=\"black\" stroke=\"black\" points=\"255.18,-233.44 261.06,-224.62 250.97,-227.85 255.18,-233.44\"/>\n</g>\n<!-- 139938479078176*&#45;&gt;139938479078176 -->\n<g id=\"edge6\" class=\"edge\">\n<title>139938479078176*&#45;&gt;139938479078176</title>\n<path fill=\"none\" stroke=\"black\" d=\"M306.04,-211C313.59,-211 322.38,-211 331.8,-211\"/>\n<polygon fill=\"black\" stroke=\"black\" points=\"331.83,-214.5 341.83,-211 331.83,-207.5 331.83,-214.5\"/>\n</g>\n<!-- 139938479063440 -->\n<g id=\"node10\" class=\"node\">\n<title>139938479063440</title>\n<polygon fill=\"none\" stroke=\"black\" points=\"67.5,-176.5 67.5,-245.5 148.5,-245.5 148.5,-176.5 67.5,-176.5\"/>\n<text text-anchor=\"middle\" x=\"108\" y=\"-230.3\" font-family=\"Times,serif\" font-size=\"14.00\">w2</text>\n<polyline fill=\"none\" stroke=\"black\" points=\"67.5,-222.5 148.5,-222.5 \"/>\n<text text-anchor=\"middle\" x=\"108\" y=\"-207.3\" font-family=\"Times,serif\" font-size=\"14.00\">data: 1.0</text>\n<polyline fill=\"none\" stroke=\"black\" points=\"67.5,-199.5 148.5,-199.5 \"/>\n<text text-anchor=\"middle\" x=\"108\" y=\"-184.3\" font-family=\"Times,serif\" font-size=\"14.00\">grad: 0.0</text>\n</g>\n<!-- 139938479063440&#45;&gt;139938479078176* -->\n<g id=\"edge8\" class=\"edge\">\n<title>139938479063440&#45;&gt;139938479078176*</title>\n<path fill=\"none\" stroke=\"black\" d=\"M148.62,-211C176.7,-211 214.09,-211 241.45,-211\"/>\n<polygon fill=\"black\" stroke=\"black\" points=\"241.77,-214.5 251.77,-211 241.77,-207.5 241.77,-214.5\"/>\n</g>\n<!-- 139938479063344 -->\n<g id=\"node11\" class=\"node\">\n<title>139938479063344</title>\n<polygon fill=\"none\" stroke=\"black\" points=\"684,-44.5 684,-113.5 900,-113.5 900,-44.5 684,-44.5\"/>\n<text text-anchor=\"middle\" x=\"792\" y=\"-98.3\" font-family=\"Times,serif\" font-size=\"14.00\">b</text>\n<polyline fill=\"none\" stroke=\"black\" points=\"684,-90.5 900,-90.5 \"/>\n<text text-anchor=\"middle\" x=\"792\" y=\"-75.3\" font-family=\"Times,serif\" font-size=\"14.00\">data: 6.881373587</text>\n<polyline fill=\"none\" stroke=\"black\" points=\"684,-67.5 900,-67.5 \"/>\n<text text-anchor=\"middle\" x=\"792\" y=\"-52.3\" font-family=\"Times,serif\" font-size=\"14.00\">grad: 0.5000000000138193</text>\n</g>\n<!-- 139938479063344&#45;&gt;139938479070160+ -->\n<g id=\"edge13\" class=\"edge\">\n<title>139938479063344&#45;&gt;139938479070160+</title>\n<path fill=\"none\" stroke=\"black\" d=\"M900.03,-106.87C910,-109.46 919.51,-111.94 927.96,-114.14\"/>\n<polygon fill=\"black\" stroke=\"black\" points=\"927.15,-117.54 937.7,-116.67 928.91,-110.77 927.15,-117.54\"/>\n</g>\n<!-- 139938479071072* -->\n<g id=\"node12\" class=\"node\">\n<title>139938479071072*</title>\n<ellipse fill=\"none\" stroke=\"black\" cx=\"279\" cy=\"-123\" rx=\"27\" ry=\"18\"/>\n<text text-anchor=\"middle\" x=\"279\" y=\"-119.3\" font-family=\"Times,serif\" font-size=\"14.00\">*</text>\n</g>\n<!-- 139938479071072*&#45;&gt;139938479071072 -->\n<g id=\"edge9\" class=\"edge\">\n<title>139938479071072*&#45;&gt;139938479071072</title>\n<path fill=\"none\" stroke=\"black\" d=\"M306.04,-123C313.59,-123 322.38,-123 331.8,-123\"/>\n<polygon fill=\"black\" stroke=\"black\" points=\"331.83,-126.5 341.83,-123 331.83,-119.5 331.83,-126.5\"/>\n</g>\n<!-- 139938479063488 -->\n<g id=\"node13\" class=\"node\">\n<title>139938479063488</title>\n<polygon fill=\"none\" stroke=\"black\" points=\"0,-88.5 0,-157.5 216,-157.5 216,-88.5 0,-88.5\"/>\n<text text-anchor=\"middle\" x=\"108\" y=\"-142.3\" font-family=\"Times,serif\" font-size=\"14.00\">w1</text>\n<polyline fill=\"none\" stroke=\"black\" points=\"0,-134.5 216,-134.5 \"/>\n<text text-anchor=\"middle\" x=\"108\" y=\"-119.3\" font-family=\"Times,serif\" font-size=\"14.00\">data: &#45;3.0</text>\n<polyline fill=\"none\" stroke=\"black\" points=\"0,-111.5 216,-111.5 \"/>\n<text text-anchor=\"middle\" x=\"108\" y=\"-96.3\" font-family=\"Times,serif\" font-size=\"14.00\">grad: 1.0000000000276386</text>\n</g>\n<!-- 139938479063488&#45;&gt;139938479071072* -->\n<g id=\"edge10\" class=\"edge\">\n<title>139938479063488&#45;&gt;139938479071072*</title>\n<path fill=\"none\" stroke=\"black\" d=\"M216.03,-123C225.13,-123 233.85,-123 241.73,-123\"/>\n<polygon fill=\"black\" stroke=\"black\" points=\"241.91,-126.5 251.91,-123 241.91,-119.5 241.91,-126.5\"/>\n</g>\n<!-- 139938479063392 -->\n<g id=\"node14\" class=\"node\">\n<title>139938479063392</title>\n<polygon fill=\"none\" stroke=\"black\" points=\"2,-0.5 2,-69.5 214,-69.5 214,-0.5 2,-0.5\"/>\n<text text-anchor=\"middle\" x=\"108\" y=\"-54.3\" font-family=\"Times,serif\" font-size=\"14.00\">x1</text>\n<polyline fill=\"none\" stroke=\"black\" points=\"2,-46.5 214,-46.5 \"/>\n<text text-anchor=\"middle\" x=\"108\" y=\"-31.3\" font-family=\"Times,serif\" font-size=\"14.00\">data: 2.0</text>\n<polyline fill=\"none\" stroke=\"black\" points=\"2,-23.5 214,-23.5 \"/>\n<text text-anchor=\"middle\" x=\"108\" y=\"-8.3\" font-family=\"Times,serif\" font-size=\"14.00\">grad: &#45;1.500000000041458</text>\n</g>\n<!-- 139938479063392&#45;&gt;139938479071072* -->\n<g id=\"edge11\" class=\"edge\">\n<title>139938479063392&#45;&gt;139938479071072*</title>\n<path fill=\"none\" stroke=\"black\" d=\"M197.63,-69.58C203.92,-72.6 210.11,-75.75 216,-79 228.68,-85.99 241.87,-95.06 252.82,-103.16\"/>\n<polygon fill=\"black\" stroke=\"black\" points=\"250.97,-106.15 261.06,-109.38 255.18,-100.56 250.97,-106.15\"/>\n</g>\n<!-- 139938479070160+&#45;&gt;139938479070160 -->\n<g id=\"edge12\" class=\"edge\">\n<title>139938479070160+&#45;&gt;139938479070160</title>\n<path fill=\"none\" stroke=\"black\" d=\"M990.04,-123C997.59,-123 1006.38,-123 1015.8,-123\"/>\n<polygon fill=\"black\" stroke=\"black\" points=\"1015.83,-126.5 1025.83,-123 1015.83,-119.5 1015.83,-126.5\"/>\n</g>\n</g>\n</svg>\n",
      "text/plain": [
       "<graphviz.graphs.Digraph at 0x7f45f755f2e0>"
      ]
     },
     "execution_count": 53,
     "metadata": {},
     "output_type": "execute_result"
    }
   ],
   "source": [
    "# inputs x1,x2\n",
    "x1 = Value(2.0, label='x1')\n",
    "x2 = Value(0.0, label='x2')\n",
    "# weights\n",
    "w1 = Value(-3.0, label='w1')\n",
    "w2 = Value(1.0, label='w2')\n",
    "# bias of Neuron\n",
    "b = Value(6.881373587, label='b')\n",
    "\n",
    "# we do the multiplication one-by-one\n",
    "# so that we have the pointers to all intermediate values\n",
    "\n",
    "x1w1 = x1*w1;               x1w1.label = 'x1w1'\n",
    "x2w2 = x2*w2;               x2w2.label = 'x2w2'\n",
    "\n",
    "x1w1addx2w2 = x1w1 + x2w2;  x1w1addx2w2.label = 'x1w1addx2w2'\n",
    "n = x1w1addx2w2 + b;        n.label = 'n'\n",
    "o = n.tanh()\n",
    "o.label = 'o'\n",
    "o.backprop()\n",
    "draw_dot(o)"
   ]
  },
  {
   "cell_type": "code",
   "execution_count": 12,
   "metadata": {},
   "outputs": [
    {
     "data": {
      "image/svg+xml": "<?xml version=\"1.0\" encoding=\"UTF-8\" standalone=\"no\"?>\n<!DOCTYPE svg PUBLIC \"-//W3C//DTD SVG 1.1//EN\"\n \"http://www.w3.org/Graphics/SVG/1.1/DTD/svg11.dtd\">\n<!-- Generated by graphviz version 2.50.0 (0)\n -->\n<!-- Pages: 1 -->\n<svg width=\"1627pt\" height=\"518pt\"\n viewBox=\"0.00 0.00 1626.69 518.00\" xmlns=\"http://www.w3.org/2000/svg\" xmlns:xlink=\"http://www.w3.org/1999/xlink\">\n<g id=\"graph0\" class=\"graph\" transform=\"scale(1 1) rotate(0) translate(4 514)\">\n<polygon fill=\"white\" stroke=\"transparent\" points=\"-4,4 -4,-514 1622.69,-514 1622.69,4 -4,4\"/>\n<!-- 139769649843216 -->\n<g id=\"node1\" class=\"node\">\n<title>139769649843216</title>\n<polygon fill=\"none\" stroke=\"black\" points=\"0,-352.5 0,-421.5 225,-421.5 225,-352.5 0,-352.5\"/>\n<text text-anchor=\"middle\" x=\"112.5\" y=\"-406.3\" font-family=\"Times,serif\" font-size=\"14.00\">x2</text>\n<polyline fill=\"none\" stroke=\"black\" points=\"0,-398.5 225,-398.5 \"/>\n<text text-anchor=\"middle\" x=\"112.5\" y=\"-383.3\" font-family=\"Times,serif\" font-size=\"14.00\">data: 0.0</text>\n<polyline fill=\"none\" stroke=\"black\" points=\"0,-375.5 225,-375.5 \"/>\n<text text-anchor=\"middle\" x=\"112.5\" y=\"-360.3\" font-family=\"Times,serif\" font-size=\"14.00\">grad: 0.14130164970632886</text>\n</g>\n<!-- 139769649842784* -->\n<g id=\"node17\" class=\"node\">\n<title>139769649842784*</title>\n<ellipse fill=\"none\" stroke=\"black\" cx=\"288\" cy=\"-387\" rx=\"27\" ry=\"18\"/>\n<text text-anchor=\"middle\" x=\"288\" y=\"-383.3\" font-family=\"Times,serif\" font-size=\"14.00\">*</text>\n</g>\n<!-- 139769649843216&#45;&gt;139769649842784* -->\n<g id=\"edge16\" class=\"edge\">\n<title>139769649843216&#45;&gt;139769649842784*</title>\n<path fill=\"none\" stroke=\"black\" d=\"M225.34,-387C234.36,-387 242.98,-387 250.76,-387\"/>\n<polygon fill=\"black\" stroke=\"black\" points=\"250.83,-390.5 260.83,-387 250.83,-383.5 250.83,-390.5\"/>\n</g>\n<!-- 139769649799632* -->\n<g id=\"node24\" class=\"node\">\n<title>139769649799632*</title>\n<ellipse fill=\"none\" stroke=\"black\" cx=\"288\" cy=\"-299\" rx=\"27\" ry=\"18\"/>\n<text text-anchor=\"middle\" x=\"288\" y=\"-295.3\" font-family=\"Times,serif\" font-size=\"14.00\">*</text>\n</g>\n<!-- 139769649843216&#45;&gt;139769649799632* -->\n<g id=\"edge24\" class=\"edge\">\n<title>139769649843216&#45;&gt;139769649799632*</title>\n<path fill=\"none\" stroke=\"black\" d=\"M206.17,-352.45C212.63,-349.43 218.96,-346.27 225,-343 237.73,-336.1 250.93,-327.04 261.86,-318.93\"/>\n<polygon fill=\"black\" stroke=\"black\" points=\"264.24,-321.52 270.09,-312.69 260.01,-315.95 264.24,-321.52\"/>\n</g>\n<!-- 139769649797664 -->\n<g id=\"node2\" class=\"node\">\n<title>139769649797664</title>\n<polygon fill=\"none\" stroke=\"black\" points=\"702,-176.5 702,-245.5 927,-245.5 927,-176.5 702,-176.5\"/>\n<text text-anchor=\"middle\" x=\"814.5\" y=\"-230.3\" font-family=\"Times,serif\" font-size=\"14.00\">n2</text>\n<polyline fill=\"none\" stroke=\"black\" points=\"702,-222.5 927,-222.5 \"/>\n<text text-anchor=\"middle\" x=\"814.5\" y=\"-207.3\" font-family=\"Times,serif\" font-size=\"14.00\">data: 2.0</text>\n<polyline fill=\"none\" stroke=\"black\" points=\"702,-199.5 927,-199.5 \"/>\n<text text-anchor=\"middle\" x=\"814.5\" y=\"-184.3\" font-family=\"Times,serif\" font-size=\"14.00\">grad: 0.07065082485316443</text>\n</g>\n<!-- 139769649803376tanh -->\n<g id=\"node13\" class=\"node\">\n<title>139769649803376tanh</title>\n<ellipse fill=\"none\" stroke=\"black\" cx=\"994.85\" cy=\"-211\" rx=\"31.7\" ry=\"18\"/>\n<text text-anchor=\"middle\" x=\"994.85\" y=\"-207.3\" font-family=\"Times,serif\" font-size=\"14.00\">tanh</text>\n</g>\n<!-- 139769649797664&#45;&gt;139769649803376tanh -->\n<g id=\"edge11\" class=\"edge\">\n<title>139769649797664&#45;&gt;139769649803376tanh</title>\n<path fill=\"none\" stroke=\"black\" d=\"M927.18,-211C936.06,-211 944.63,-211 952.48,-211\"/>\n<polygon fill=\"black\" stroke=\"black\" points=\"952.73,-214.5 962.73,-211 952.73,-207.5 952.73,-214.5\"/>\n</g>\n<!-- 139769649797664+ -->\n<g id=\"node3\" class=\"node\">\n<title>139769649797664+</title>\n<ellipse fill=\"none\" stroke=\"black\" cx=\"639\" cy=\"-211\" rx=\"27\" ry=\"18\"/>\n<text text-anchor=\"middle\" x=\"639\" y=\"-207.3\" font-family=\"Times,serif\" font-size=\"14.00\">+</text>\n</g>\n<!-- 139769649797664+&#45;&gt;139769649797664 -->\n<g id=\"edge1\" class=\"edge\">\n<title>139769649797664+&#45;&gt;139769649797664</title>\n<path fill=\"none\" stroke=\"black\" d=\"M666.35,-211C673.8,-211 682.43,-211 691.7,-211\"/>\n<polygon fill=\"black\" stroke=\"black\" points=\"691.98,-214.5 701.98,-211 691.98,-207.5 691.98,-214.5\"/>\n</g>\n<!-- 139769649799632 -->\n<g id=\"node4\" class=\"node\">\n<title>139769649799632</title>\n<polygon fill=\"none\" stroke=\"black\" points=\"351,-264.5 351,-333.5 576,-333.5 576,-264.5 351,-264.5\"/>\n<text text-anchor=\"middle\" x=\"463.5\" y=\"-318.3\" font-family=\"Times,serif\" font-size=\"14.00\">x2w22</text>\n<polyline fill=\"none\" stroke=\"black\" points=\"351,-310.5 576,-310.5 \"/>\n<text text-anchor=\"middle\" x=\"463.5\" y=\"-295.3\" font-family=\"Times,serif\" font-size=\"14.00\">data: 0.0</text>\n<polyline fill=\"none\" stroke=\"black\" points=\"351,-287.5 576,-287.5 \"/>\n<text text-anchor=\"middle\" x=\"463.5\" y=\"-272.3\" font-family=\"Times,serif\" font-size=\"14.00\">grad: 0.07065082485316443</text>\n</g>\n<!-- 139769649799632&#45;&gt;139769649797664+ -->\n<g id=\"edge2\" class=\"edge\">\n<title>139769649799632&#45;&gt;139769649797664+</title>\n<path fill=\"none\" stroke=\"black\" d=\"M557.17,-264.45C563.63,-261.43 569.96,-258.27 576,-255 588.73,-248.1 601.93,-239.04 612.86,-230.93\"/>\n<polygon fill=\"black\" stroke=\"black\" points=\"615.24,-233.52 621.09,-224.69 611.01,-227.95 615.24,-233.52\"/>\n</g>\n<!-- 139769649799776 -->\n<g id=\"node5\" class=\"node\">\n<title>139769649799776</title>\n<polygon fill=\"none\" stroke=\"black\" points=\"351,-88.5 351,-157.5 576,-157.5 576,-88.5 351,-88.5\"/>\n<text text-anchor=\"middle\" x=\"463.5\" y=\"-142.3\" font-family=\"Times,serif\" font-size=\"14.00\">x1w21</text>\n<polyline fill=\"none\" stroke=\"black\" points=\"351,-134.5 576,-134.5 \"/>\n<text text-anchor=\"middle\" x=\"463.5\" y=\"-119.3\" font-family=\"Times,serif\" font-size=\"14.00\">data: 2.0</text>\n<polyline fill=\"none\" stroke=\"black\" points=\"351,-111.5 576,-111.5 \"/>\n<text text-anchor=\"middle\" x=\"463.5\" y=\"-96.3\" font-family=\"Times,serif\" font-size=\"14.00\">grad: 0.07065082485316443</text>\n</g>\n<!-- 139769649799776&#45;&gt;139769649797664+ -->\n<g id=\"edge3\" class=\"edge\">\n<title>139769649799776&#45;&gt;139769649797664+</title>\n<path fill=\"none\" stroke=\"black\" d=\"M557.17,-157.55C563.63,-160.57 569.96,-163.73 576,-167 588.73,-173.9 601.93,-182.96 612.86,-191.07\"/>\n<polygon fill=\"black\" stroke=\"black\" points=\"611.01,-194.05 621.09,-197.31 615.24,-188.48 611.01,-194.05\"/>\n</g>\n<!-- 139769649854544 -->\n<g id=\"node6\" class=\"node\">\n<title>139769649854544</title>\n<polygon fill=\"none\" stroke=\"black\" points=\"351,-176.5 351,-245.5 576,-245.5 576,-176.5 351,-176.5\"/>\n<text text-anchor=\"middle\" x=\"463.5\" y=\"-230.3\" font-family=\"Times,serif\" font-size=\"14.00\">x1w11</text>\n<polyline fill=\"none\" stroke=\"black\" points=\"351,-222.5 576,-222.5 \"/>\n<text text-anchor=\"middle\" x=\"463.5\" y=\"-207.3\" font-family=\"Times,serif\" font-size=\"14.00\">data: 2.0</text>\n<polyline fill=\"none\" stroke=\"black\" points=\"351,-199.5 576,-199.5 \"/>\n<text text-anchor=\"middle\" x=\"463.5\" y=\"-184.3\" font-family=\"Times,serif\" font-size=\"14.00\">grad: 0.07065082485316443</text>\n</g>\n<!-- 139769649843312+ -->\n<g id=\"node15\" class=\"node\">\n<title>139769649843312+</title>\n<ellipse fill=\"none\" stroke=\"black\" cx=\"639\" cy=\"-299\" rx=\"27\" ry=\"18\"/>\n<text text-anchor=\"middle\" x=\"639\" y=\"-295.3\" font-family=\"Times,serif\" font-size=\"14.00\">+</text>\n</g>\n<!-- 139769649854544&#45;&gt;139769649843312+ -->\n<g id=\"edge13\" class=\"edge\">\n<title>139769649854544&#45;&gt;139769649843312+</title>\n<path fill=\"none\" stroke=\"black\" d=\"M557.17,-245.55C563.63,-248.57 569.96,-251.73 576,-255 588.73,-261.9 601.93,-270.96 612.86,-279.07\"/>\n<polygon fill=\"black\" stroke=\"black\" points=\"611.01,-282.05 621.09,-285.31 615.24,-276.48 611.01,-282.05\"/>\n</g>\n<!-- 139769649854544* -->\n<g id=\"node7\" class=\"node\">\n<title>139769649854544*</title>\n<ellipse fill=\"none\" stroke=\"black\" cx=\"288\" cy=\"-211\" rx=\"27\" ry=\"18\"/>\n<text text-anchor=\"middle\" x=\"288\" y=\"-207.3\" font-family=\"Times,serif\" font-size=\"14.00\">*</text>\n</g>\n<!-- 139769649854544*&#45;&gt;139769649854544 -->\n<g id=\"edge4\" class=\"edge\">\n<title>139769649854544*&#45;&gt;139769649854544</title>\n<path fill=\"none\" stroke=\"black\" d=\"M315.35,-211C322.8,-211 331.43,-211 340.7,-211\"/>\n<polygon fill=\"black\" stroke=\"black\" points=\"340.98,-214.5 350.98,-211 340.98,-207.5 340.98,-214.5\"/>\n</g>\n<!-- 139769649853200 -->\n<g id=\"node8\" class=\"node\">\n<title>139769649853200</title>\n<polygon fill=\"none\" stroke=\"black\" points=\"0,-88.5 0,-157.5 225,-157.5 225,-88.5 0,-88.5\"/>\n<text text-anchor=\"middle\" x=\"112.5\" y=\"-142.3\" font-family=\"Times,serif\" font-size=\"14.00\">x1</text>\n<polyline fill=\"none\" stroke=\"black\" points=\"0,-134.5 225,-134.5 \"/>\n<text text-anchor=\"middle\" x=\"112.5\" y=\"-119.3\" font-family=\"Times,serif\" font-size=\"14.00\">data: 2.0</text>\n<polyline fill=\"none\" stroke=\"black\" points=\"0,-111.5 225,-111.5 \"/>\n<text text-anchor=\"middle\" x=\"112.5\" y=\"-96.3\" font-family=\"Times,serif\" font-size=\"14.00\">grad: 0.14130164970632886</text>\n</g>\n<!-- 139769649853200&#45;&gt;139769649854544* -->\n<g id=\"edge5\" class=\"edge\">\n<title>139769649853200&#45;&gt;139769649854544*</title>\n<path fill=\"none\" stroke=\"black\" d=\"M206.17,-157.55C212.63,-160.57 218.96,-163.73 225,-167 237.73,-173.9 250.93,-182.96 261.86,-191.07\"/>\n<polygon fill=\"black\" stroke=\"black\" points=\"260.01,-194.05 270.09,-197.31 264.24,-188.48 260.01,-194.05\"/>\n</g>\n<!-- 139769649799776* -->\n<g id=\"node10\" class=\"node\">\n<title>139769649799776*</title>\n<ellipse fill=\"none\" stroke=\"black\" cx=\"288\" cy=\"-123\" rx=\"27\" ry=\"18\"/>\n<text text-anchor=\"middle\" x=\"288\" y=\"-119.3\" font-family=\"Times,serif\" font-size=\"14.00\">*</text>\n</g>\n<!-- 139769649853200&#45;&gt;139769649799776* -->\n<g id=\"edge8\" class=\"edge\">\n<title>139769649853200&#45;&gt;139769649799776*</title>\n<path fill=\"none\" stroke=\"black\" d=\"M225.34,-123C234.36,-123 242.98,-123 250.76,-123\"/>\n<polygon fill=\"black\" stroke=\"black\" points=\"250.83,-126.5 260.83,-123 250.83,-119.5 250.83,-126.5\"/>\n</g>\n<!-- 139769649855264 -->\n<g id=\"node9\" class=\"node\">\n<title>139769649855264</title>\n<polygon fill=\"none\" stroke=\"black\" points=\"0,-176.5 0,-245.5 225,-245.5 225,-176.5 0,-176.5\"/>\n<text text-anchor=\"middle\" x=\"112.5\" y=\"-230.3\" font-family=\"Times,serif\" font-size=\"14.00\">w11</text>\n<polyline fill=\"none\" stroke=\"black\" points=\"0,-222.5 225,-222.5 \"/>\n<text text-anchor=\"middle\" x=\"112.5\" y=\"-207.3\" font-family=\"Times,serif\" font-size=\"14.00\">data: 1.0</text>\n<polyline fill=\"none\" stroke=\"black\" points=\"0,-199.5 225,-199.5 \"/>\n<text text-anchor=\"middle\" x=\"112.5\" y=\"-184.3\" font-family=\"Times,serif\" font-size=\"14.00\">grad: 0.14130164970632886</text>\n</g>\n<!-- 139769649855264&#45;&gt;139769649854544* -->\n<g id=\"edge6\" class=\"edge\">\n<title>139769649855264&#45;&gt;139769649854544*</title>\n<path fill=\"none\" stroke=\"black\" d=\"M225.34,-211C234.36,-211 242.98,-211 250.76,-211\"/>\n<polygon fill=\"black\" stroke=\"black\" points=\"250.83,-214.5 260.83,-211 250.83,-207.5 250.83,-214.5\"/>\n</g>\n<!-- 139769649799776*&#45;&gt;139769649799776 -->\n<g id=\"edge7\" class=\"edge\">\n<title>139769649799776*&#45;&gt;139769649799776</title>\n<path fill=\"none\" stroke=\"black\" d=\"M315.35,-123C322.8,-123 331.43,-123 340.7,-123\"/>\n<polygon fill=\"black\" stroke=\"black\" points=\"340.98,-126.5 350.98,-123 340.98,-119.5 340.98,-126.5\"/>\n</g>\n<!-- 139769649845040 -->\n<g id=\"node11\" class=\"node\">\n<title>139769649845040</title>\n<polygon fill=\"none\" stroke=\"black\" points=\"0,-0.5 0,-69.5 225,-69.5 225,-0.5 0,-0.5\"/>\n<text text-anchor=\"middle\" x=\"112.5\" y=\"-54.3\" font-family=\"Times,serif\" font-size=\"14.00\">w21</text>\n<polyline fill=\"none\" stroke=\"black\" points=\"0,-46.5 225,-46.5 \"/>\n<text text-anchor=\"middle\" x=\"112.5\" y=\"-31.3\" font-family=\"Times,serif\" font-size=\"14.00\">data: 1.0</text>\n<polyline fill=\"none\" stroke=\"black\" points=\"0,-23.5 225,-23.5 \"/>\n<text text-anchor=\"middle\" x=\"112.5\" y=\"-8.3\" font-family=\"Times,serif\" font-size=\"14.00\">grad: 0.14130164970632886</text>\n</g>\n<!-- 139769649845040&#45;&gt;139769649799776* -->\n<g id=\"edge9\" class=\"edge\">\n<title>139769649845040&#45;&gt;139769649799776*</title>\n<path fill=\"none\" stroke=\"black\" d=\"M206.17,-69.55C212.63,-72.57 218.96,-75.73 225,-79 237.73,-85.9 250.93,-94.96 261.86,-103.07\"/>\n<polygon fill=\"black\" stroke=\"black\" points=\"260.01,-106.05 270.09,-109.31 264.24,-100.48 260.01,-106.05\"/>\n</g>\n<!-- 139769649803376 -->\n<g id=\"node12\" class=\"node\">\n<title>139769649803376</title>\n<polygon fill=\"none\" stroke=\"black\" points=\"1062.69,-176.5 1062.69,-245.5 1277.69,-245.5 1277.69,-176.5 1062.69,-176.5\"/>\n<text text-anchor=\"middle\" x=\"1170.19\" y=\"-230.3\" font-family=\"Times,serif\" font-size=\"14.00\">o2</text>\n<polyline fill=\"none\" stroke=\"black\" points=\"1062.69,-222.5 1277.69,-222.5 \"/>\n<text text-anchor=\"middle\" x=\"1170.19\" y=\"-207.3\" font-family=\"Times,serif\" font-size=\"14.00\">data: 0.9640275800758169</text>\n<polyline fill=\"none\" stroke=\"black\" points=\"1062.69,-199.5 1277.69,-199.5 \"/>\n<text text-anchor=\"middle\" x=\"1170.19\" y=\"-184.3\" font-family=\"Times,serif\" font-size=\"14.00\">grad: 1.0</text>\n</g>\n<!-- 139769649803712+ -->\n<g id=\"node23\" class=\"node\">\n<title>139769649803712+</title>\n<ellipse fill=\"none\" stroke=\"black\" cx=\"1340.69\" cy=\"-255\" rx=\"27\" ry=\"18\"/>\n<text text-anchor=\"middle\" x=\"1340.69\" y=\"-251.3\" font-family=\"Times,serif\" font-size=\"14.00\">+</text>\n</g>\n<!-- 139769649803376&#45;&gt;139769649803712+ -->\n<g id=\"edge21\" class=\"edge\">\n<title>139769649803376&#45;&gt;139769649803712+</title>\n<path fill=\"none\" stroke=\"black\" d=\"M1277.91,-238.87C1287.64,-241.41 1296.95,-243.84 1305.25,-246\"/>\n<polygon fill=\"black\" stroke=\"black\" points=\"1304.62,-249.46 1315.18,-248.6 1306.38,-242.68 1304.62,-249.46\"/>\n</g>\n<!-- 139769649803376tanh&#45;&gt;139769649803376 -->\n<g id=\"edge10\" class=\"edge\">\n<title>139769649803376tanh&#45;&gt;139769649803376</title>\n<path fill=\"none\" stroke=\"black\" d=\"M1026.84,-211C1034.49,-211 1043.15,-211 1052.32,-211\"/>\n<polygon fill=\"black\" stroke=\"black\" points=\"1052.45,-214.5 1062.45,-211 1052.45,-207.5 1052.45,-214.5\"/>\n</g>\n<!-- 139769649843312 -->\n<g id=\"node14\" class=\"node\">\n<title>139769649843312</title>\n<polygon fill=\"none\" stroke=\"black\" points=\"702,-264.5 702,-333.5 927,-333.5 927,-264.5 702,-264.5\"/>\n<text text-anchor=\"middle\" x=\"814.5\" y=\"-318.3\" font-family=\"Times,serif\" font-size=\"14.00\">n1</text>\n<polyline fill=\"none\" stroke=\"black\" points=\"702,-310.5 927,-310.5 \"/>\n<text text-anchor=\"middle\" x=\"814.5\" y=\"-295.3\" font-family=\"Times,serif\" font-size=\"14.00\">data: 2.0</text>\n<polyline fill=\"none\" stroke=\"black\" points=\"702,-287.5 927,-287.5 \"/>\n<text text-anchor=\"middle\" x=\"814.5\" y=\"-272.3\" font-family=\"Times,serif\" font-size=\"14.00\">grad: 0.07065082485316443</text>\n</g>\n<!-- 139769649846000tanh -->\n<g id=\"node21\" class=\"node\">\n<title>139769649846000tanh</title>\n<ellipse fill=\"none\" stroke=\"black\" cx=\"994.85\" cy=\"-299\" rx=\"31.7\" ry=\"18\"/>\n<text text-anchor=\"middle\" x=\"994.85\" y=\"-295.3\" font-family=\"Times,serif\" font-size=\"14.00\">tanh</text>\n</g>\n<!-- 139769649843312&#45;&gt;139769649846000tanh -->\n<g id=\"edge19\" class=\"edge\">\n<title>139769649843312&#45;&gt;139769649846000tanh</title>\n<path fill=\"none\" stroke=\"black\" d=\"M927.18,-299C936.06,-299 944.63,-299 952.48,-299\"/>\n<polygon fill=\"black\" stroke=\"black\" points=\"952.73,-302.5 962.73,-299 952.73,-295.5 952.73,-302.5\"/>\n</g>\n<!-- 139769649843312+&#45;&gt;139769649843312 -->\n<g id=\"edge12\" class=\"edge\">\n<title>139769649843312+&#45;&gt;139769649843312</title>\n<path fill=\"none\" stroke=\"black\" d=\"M666.35,-299C673.8,-299 682.43,-299 691.7,-299\"/>\n<polygon fill=\"black\" stroke=\"black\" points=\"691.98,-302.5 701.98,-299 691.98,-295.5 691.98,-302.5\"/>\n</g>\n<!-- 139769649842784 -->\n<g id=\"node16\" class=\"node\">\n<title>139769649842784</title>\n<polygon fill=\"none\" stroke=\"black\" points=\"351,-352.5 351,-421.5 576,-421.5 576,-352.5 351,-352.5\"/>\n<text text-anchor=\"middle\" x=\"463.5\" y=\"-406.3\" font-family=\"Times,serif\" font-size=\"14.00\">x2w12</text>\n<polyline fill=\"none\" stroke=\"black\" points=\"351,-398.5 576,-398.5 \"/>\n<text text-anchor=\"middle\" x=\"463.5\" y=\"-383.3\" font-family=\"Times,serif\" font-size=\"14.00\">data: 0.0</text>\n<polyline fill=\"none\" stroke=\"black\" points=\"351,-375.5 576,-375.5 \"/>\n<text text-anchor=\"middle\" x=\"463.5\" y=\"-360.3\" font-family=\"Times,serif\" font-size=\"14.00\">grad: 0.07065082485316443</text>\n</g>\n<!-- 139769649842784&#45;&gt;139769649843312+ -->\n<g id=\"edge14\" class=\"edge\">\n<title>139769649842784&#45;&gt;139769649843312+</title>\n<path fill=\"none\" stroke=\"black\" d=\"M557.17,-352.45C563.63,-349.43 569.96,-346.27 576,-343 588.73,-336.1 601.93,-327.04 612.86,-318.93\"/>\n<polygon fill=\"black\" stroke=\"black\" points=\"615.24,-321.52 621.09,-312.69 611.01,-315.95 615.24,-321.52\"/>\n</g>\n<!-- 139769649842784*&#45;&gt;139769649842784 -->\n<g id=\"edge15\" class=\"edge\">\n<title>139769649842784*&#45;&gt;139769649842784</title>\n<path fill=\"none\" stroke=\"black\" d=\"M315.35,-387C322.8,-387 331.43,-387 340.7,-387\"/>\n<polygon fill=\"black\" stroke=\"black\" points=\"340.98,-390.5 350.98,-387 340.98,-383.5 340.98,-390.5\"/>\n</g>\n<!-- 139769649842112 -->\n<g id=\"node18\" class=\"node\">\n<title>139769649842112</title>\n<polygon fill=\"none\" stroke=\"black\" points=\"72,-440.5 72,-509.5 153,-509.5 153,-440.5 72,-440.5\"/>\n<text text-anchor=\"middle\" x=\"112.5\" y=\"-494.3\" font-family=\"Times,serif\" font-size=\"14.00\">w12</text>\n<polyline fill=\"none\" stroke=\"black\" points=\"72,-486.5 153,-486.5 \"/>\n<text text-anchor=\"middle\" x=\"112.5\" y=\"-471.3\" font-family=\"Times,serif\" font-size=\"14.00\">data: 1.0</text>\n<polyline fill=\"none\" stroke=\"black\" points=\"72,-463.5 153,-463.5 \"/>\n<text text-anchor=\"middle\" x=\"112.5\" y=\"-448.3\" font-family=\"Times,serif\" font-size=\"14.00\">grad: 0.0</text>\n</g>\n<!-- 139769649842112&#45;&gt;139769649842784* -->\n<g id=\"edge17\" class=\"edge\">\n<title>139769649842112&#45;&gt;139769649842784*</title>\n<path fill=\"none\" stroke=\"black\" d=\"M153.24,-461.96C175.01,-454.17 202.13,-443.39 225,-431 237.73,-424.1 250.93,-415.04 261.86,-406.93\"/>\n<polygon fill=\"black\" stroke=\"black\" points=\"264.24,-409.52 270.09,-400.69 260.01,-403.95 264.24,-409.52\"/>\n</g>\n<!-- 139769649854160 -->\n<g id=\"node19\" class=\"node\">\n<title>139769649854160</title>\n<polygon fill=\"none\" stroke=\"black\" points=\"72,-264.5 72,-333.5 153,-333.5 153,-264.5 72,-264.5\"/>\n<text text-anchor=\"middle\" x=\"112.5\" y=\"-318.3\" font-family=\"Times,serif\" font-size=\"14.00\">w22</text>\n<polyline fill=\"none\" stroke=\"black\" points=\"72,-310.5 153,-310.5 \"/>\n<text text-anchor=\"middle\" x=\"112.5\" y=\"-295.3\" font-family=\"Times,serif\" font-size=\"14.00\">data: 1.0</text>\n<polyline fill=\"none\" stroke=\"black\" points=\"72,-287.5 153,-287.5 \"/>\n<text text-anchor=\"middle\" x=\"112.5\" y=\"-272.3\" font-family=\"Times,serif\" font-size=\"14.00\">grad: 0.0</text>\n</g>\n<!-- 139769649854160&#45;&gt;139769649799632* -->\n<g id=\"edge25\" class=\"edge\">\n<title>139769649854160&#45;&gt;139769649799632*</title>\n<path fill=\"none\" stroke=\"black\" d=\"M153.3,-299C182.58,-299 222.06,-299 250.52,-299\"/>\n<polygon fill=\"black\" stroke=\"black\" points=\"250.84,-302.5 260.84,-299 250.84,-295.5 250.84,-302.5\"/>\n</g>\n<!-- 139769649846000 -->\n<g id=\"node20\" class=\"node\">\n<title>139769649846000</title>\n<polygon fill=\"none\" stroke=\"black\" points=\"1062.69,-264.5 1062.69,-333.5 1277.69,-333.5 1277.69,-264.5 1062.69,-264.5\"/>\n<text text-anchor=\"middle\" x=\"1170.19\" y=\"-318.3\" font-family=\"Times,serif\" font-size=\"14.00\">o1</text>\n<polyline fill=\"none\" stroke=\"black\" points=\"1062.69,-310.5 1277.69,-310.5 \"/>\n<text text-anchor=\"middle\" x=\"1170.19\" y=\"-295.3\" font-family=\"Times,serif\" font-size=\"14.00\">data: 0.9640275800758169</text>\n<polyline fill=\"none\" stroke=\"black\" points=\"1062.69,-287.5 1277.69,-287.5 \"/>\n<text text-anchor=\"middle\" x=\"1170.19\" y=\"-272.3\" font-family=\"Times,serif\" font-size=\"14.00\">grad: 1.0</text>\n</g>\n<!-- 139769649846000&#45;&gt;139769649803712+ -->\n<g id=\"edge22\" class=\"edge\">\n<title>139769649846000&#45;&gt;139769649803712+</title>\n<path fill=\"none\" stroke=\"black\" d=\"M1277.91,-271.13C1287.64,-268.59 1296.95,-266.16 1305.25,-264\"/>\n<polygon fill=\"black\" stroke=\"black\" points=\"1306.38,-267.32 1315.18,-261.4 1304.62,-260.54 1306.38,-267.32\"/>\n</g>\n<!-- 139769649846000tanh&#45;&gt;139769649846000 -->\n<g id=\"edge18\" class=\"edge\">\n<title>139769649846000tanh&#45;&gt;139769649846000</title>\n<path fill=\"none\" stroke=\"black\" d=\"M1026.84,-299C1034.49,-299 1043.15,-299 1052.32,-299\"/>\n<polygon fill=\"black\" stroke=\"black\" points=\"1052.45,-302.5 1062.45,-299 1052.45,-295.5 1052.45,-302.5\"/>\n</g>\n<!-- 139769649803712 -->\n<g id=\"node22\" class=\"node\">\n<title>139769649803712</title>\n<polygon fill=\"none\" stroke=\"black\" points=\"1403.69,-220.5 1403.69,-289.5 1618.69,-289.5 1618.69,-220.5 1403.69,-220.5\"/>\n<text text-anchor=\"middle\" x=\"1511.19\" y=\"-274.3\" font-family=\"Times,serif\" font-size=\"14.00\">o</text>\n<polyline fill=\"none\" stroke=\"black\" points=\"1403.69,-266.5 1618.69,-266.5 \"/>\n<text text-anchor=\"middle\" x=\"1511.19\" y=\"-251.3\" font-family=\"Times,serif\" font-size=\"14.00\">data: 1.9280551601516338</text>\n<polyline fill=\"none\" stroke=\"black\" points=\"1403.69,-243.5 1618.69,-243.5 \"/>\n<text text-anchor=\"middle\" x=\"1511.19\" y=\"-228.3\" font-family=\"Times,serif\" font-size=\"14.00\">grad: 1.0</text>\n</g>\n<!-- 139769649803712+&#45;&gt;139769649803712 -->\n<g id=\"edge20\" class=\"edge\">\n<title>139769649803712+&#45;&gt;139769649803712</title>\n<path fill=\"none\" stroke=\"black\" d=\"M1368.02,-255C1375.43,-255 1384,-255 1393.18,-255\"/>\n<polygon fill=\"black\" stroke=\"black\" points=\"1393.36,-258.5 1403.36,-255 1393.36,-251.5 1393.36,-258.5\"/>\n</g>\n<!-- 139769649799632*&#45;&gt;139769649799632 -->\n<g id=\"edge23\" class=\"edge\">\n<title>139769649799632*&#45;&gt;139769649799632</title>\n<path fill=\"none\" stroke=\"black\" d=\"M315.35,-299C322.8,-299 331.43,-299 340.7,-299\"/>\n<polygon fill=\"black\" stroke=\"black\" points=\"340.98,-302.5 350.98,-299 340.98,-295.5 340.98,-302.5\"/>\n</g>\n</g>\n</svg>\n",
      "text/plain": [
       "<graphviz.graphs.Digraph at 0x7f1ea8547dc0>"
      ]
     },
     "execution_count": 12,
     "metadata": {},
     "output_type": "execute_result"
    }
   ],
   "source": [
    "# inputs x1,x2\n",
    "x1 = Value(2.0, label='x1')\n",
    "x2 = Value(0.0, label='x2')\n",
    "# weights\n",
    "w11 = Value(1.0, label='w11')\n",
    "w12 = Value(1.0, label='w12')\n",
    "# bias of Neuron\n",
    "# b = Value(6.881373587, label='b1')\n",
    "\n",
    "w21 = Value(1.0, label='w21')\n",
    "w22 = Value(1.0, label='w22')\n",
    "# bias of Neuron\n",
    "# b = Value(6.881373587, label='b2')\n",
    "\n",
    "# we do the multiplication one-by-one\n",
    "# so that we have the pointers to all intermediate values\n",
    "\n",
    "x1w11 = x1*w11;               x1w11.label = 'x1w11'\n",
    "x2w12 = x2*w12;               x2w12.label = 'x2w12'\n",
    "n1 = x1w11 + x2w12;           n1.label = 'n1'\n",
    "o1 = n1.tanh()   ;             o1.label = 'o1'\n",
    "\n",
    "x1w21 = x1*w21;               x1w21.label = 'x1w21'\n",
    "x2w22 = x2*w22;               x2w22.label = 'x2w22'\n",
    "n2 = x1w21 + x2w22;           n2.label = 'n2'\n",
    "o2 = n2.tanh();                o2.label = 'o2'\n",
    "\n",
    "# e = (2*n).exp();            e.label = 'e'\n",
    "# o = (e - 1.0)/(e + 1.0) \n",
    "\n",
    "o = o1 + o2\n",
    "o.label = 'o'\n",
    "o.backprop()\n",
    "draw_dot(o)"
   ]
  }
 ],
 "metadata": {
  "kernelspec": {
   "display_name": "torch113_1",
   "language": "python",
   "name": "python3"
  },
  "language_info": {
   "codemirror_mode": {
    "name": "ipython",
    "version": 3
   },
   "file_extension": ".py",
   "mimetype": "text/x-python",
   "name": "python",
   "nbconvert_exporter": "python",
   "pygments_lexer": "ipython3",
   "version": "3.10.9"
  },
  "orig_nbformat": 4,
  "vscode": {
   "interpreter": {
    "hash": "dfd31d78f929449d598c868a4ab28a111e30d94109ecabb7e57cae0b5fb90da4"
   }
  }
 },
 "nbformat": 4,
 "nbformat_minor": 2
}
