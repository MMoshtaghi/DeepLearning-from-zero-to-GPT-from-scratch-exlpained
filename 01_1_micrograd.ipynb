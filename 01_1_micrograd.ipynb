{
 "cells": [
  {
   "attachments": {},
   "cell_type": "markdown",
   "metadata": {},
   "source": [
    "# Micrograd"
   ]
  },
  {
   "attachments": {},
   "cell_type": "markdown",
   "metadata": {},
   "source": [
    "micrograd is basically an autograd engine autograd is short for automatic gradient and really what it does is it implements backpropagation"
   ]
  },
  {
   "attachments": {},
   "cell_type": "markdown",
   "metadata": {},
   "source": [
    "## Back Propagation\n",
    " backpropagation is this algorithm that allows you to efficiently evaluate the gradient of some kind of a loss function with respect to the weights of a neural network and what that allows us to do then is we can iteratively tune the weights of that neural network to minimize the loss function and therefore improve the accuracy of the network"
   ]
  },
  {
   "attachments": {},
   "cell_type": "markdown",
   "metadata": {},
   "source": [
    "MicroGrad has only 2 files:\n",
    "- engine.py : it doesn't know anything about Neural Nets\n",
    "- nn.py : this the neural net architecture"
   ]
  },
  {
   "cell_type": "code",
   "execution_count": 30,
   "metadata": {},
   "outputs": [
    {
     "data": {
      "text/plain": [
       "\" %matplotlib inline sets the backend of matplotlib to\\nthe 'inline' backend. When using the 'inline' backend,\\nyour matplotlib graphs will be included in your notebook,\\nnext to the code.\""
      ]
     },
     "execution_count": 30,
     "metadata": {},
     "output_type": "execute_result"
    }
   ],
   "source": [
    "import math\n",
    "import numpy as np\n",
    "import matplotlib.pyplot as plt\n",
    "%matplotlib inline\n",
    "''' %matplotlib inline sets the backend of matplotlib to\n",
    "the 'inline' backend. When using the 'inline' backend,\n",
    "your matplotlib graphs will be included in your notebook,\n",
    "next to the code.'''"
   ]
  },
  {
   "attachments": {},
   "cell_type": "markdown",
   "metadata": {},
   "source": [
    "### The Visualization "
   ]
  },
  {
   "cell_type": "code",
   "execution_count": 31,
   "metadata": {},
   "outputs": [],
   "source": [
    "from graphviz import Digraph\n",
    "\n",
    "def trace(root):\n",
    "    '''\n",
    "    Build a set of all nodes and edges in a graph,\n",
    "    the order does not matter\n",
    "    '''\n",
    "    nodes, edges = set(), set()\n",
    "    \n",
    "    def build(v): # a heuristic topological sort function\n",
    "        if v not in nodes:\n",
    "            nodes.add(v)\n",
    "            for child in v._prev:\n",
    "                edges.add((child, v)) # define edge like this\n",
    "                build(child)\n",
    "\n",
    "    build(root)\n",
    "    return nodes, edges"
   ]
  },
  {
   "cell_type": "code",
   "execution_count": 32,
   "metadata": {},
   "outputs": [],
   "source": [
    "# first have an scheme of your desired graph based on the nodes and operations\n",
    "def draw_dot(root):\n",
    "    dot = Digraph(format='svg', graph_attr={'rankdir': 'LR'}) # LR : left to right\n",
    "\n",
    "    nodes, edges = trace(root)\n",
    "    for n in nodes:\n",
    "        uid = str(id(n))\n",
    "        # for any value in the graph, create a rectangular (record') node for it\n",
    "        # a visual node\n",
    "        dot.node(name=uid, label=f'{n.label} | data: {n.data} | grad: {n.grad}', shape='record')\n",
    "        if n._op:\n",
    "            # if this value is result of some operation, create an operation node for it\n",
    "            dot.node(name=uid+n._op , label=n._op) # n._op is a string\n",
    "            # and connect the op node to the value node\n",
    "            dot.edge(uid+n._op , uid)\n",
    "            for child in n._prev:\n",
    "                dot.edge( str(id(child)) , uid+n._op)\n",
    "    return dot"
   ]
  },
  {
   "attachments": {},
   "cell_type": "markdown",
   "metadata": {},
   "source": [
    "## engine file"
   ]
  },
  {
   "cell_type": "code",
   "execution_count": 33,
   "metadata": {},
   "outputs": [],
   "source": [
    "class Value:\n",
    "    \n",
    "    def __init__(self, data, _prev=(), _op='', label=''):\n",
    "        self.data = data\n",
    "        self._prev = set(_prev) # the order does not matter, use set instead of list\n",
    "        self._op = _op\n",
    "        self.label = label\n",
    "\n",
    "        self.grad = 0.0\n",
    "\n",
    "        # After the forwrd path (when we have the data vlaue of all nodes)\n",
    "        # we start the backprop (to get the gradients for each node)\n",
    "        # the output node of each operation knows the operation and children\n",
    "        # since we dont have a backprop for leaf nodes, and \n",
    "        # each operation has different local gradient\n",
    "        # we can't define a general method in the class.\n",
    "        # so at the time of doing the operation,\n",
    "        # we can both define the local gradiant function\n",
    "        # and store the whole chain rule function in an attribute to call later.\n",
    "        # then call the local this function attribute from end node to the begining.\n",
    "        self._backprop = lambda: None\n",
    "    \n",
    "    def __repr__(self) -> str:\n",
    "        return f'Value({self.label}:{self.data})'\n",
    "    \n",
    "    def __add__(self, other):\n",
    "        out = Value(self.data + other.data, (self, other), '+')\n",
    "        \n",
    "        def _backprop():\n",
    "            # partial derivatives for each input:\n",
    "            self.grad = out.grad\n",
    "            other.grad = out.grad\n",
    "\n",
    "        out._backprop = _backprop\n",
    "        return out\n",
    "    \n",
    "    def __mul__(self, other):\n",
    "        out = Value(self.data * other.data, (self, other), '*')\n",
    "        \n",
    "        def _backprop():\n",
    "            # partial derivatives for each input:\n",
    "            self.grad = other.data * out.grad\n",
    "            other.grad = self.data * out.grad\n",
    "        \n",
    "        out._backprop = _backprop\n",
    "        return out\n",
    "    \n",
    "    def exp(self):\n",
    "        out = Value(np.exp(self.data), (self,), 'exp')\n",
    "        \n",
    "        def _backprop():\n",
    "            self.grad = np.exp(self.data) * out.grad\n",
    "        \n",
    "        out._backprop = _backprop\n",
    "        return out\n",
    "    \n",
    "    def tanh(self):\n",
    "        tanh = (np.exp(2*self.data) - 1)/(np.exp(2*self.data) + 1)\n",
    "        out = Value( tanh, (self,), 'tanh')\n",
    "        \n",
    "        def _backprop():\n",
    "            self.grad = (1 - tanh**2) * out.grad\n",
    "        \n",
    "        out._backprop = _backprop\n",
    "        return out\n"
   ]
  },
  {
   "attachments": {},
   "cell_type": "markdown",
   "metadata": {},
   "source": [
    "## NN file\n",
    "### A single Neuron with 2 inputs and one output"
   ]
  },
  {
   "cell_type": "code",
   "execution_count": 34,
   "metadata": {},
   "outputs": [],
   "source": [
    "# inputs x1,x2\n",
    "x1 = Value(2.0, label='x1')\n",
    "x2 = Value(0.0, label='x2')\n",
    "# weights\n",
    "w1 = Value(-3.0, label='w1')\n",
    "w2 = Value(1.0, label='w2')\n",
    "# bias of Neuron\n",
    "b = Value(10.7, label='b')\n",
    "\n",
    "# we do the multiplication one-by-one\n",
    "# so that we have the pointers to all intermediate values\n",
    "\n",
    "x1w1 = x1*w1;               x1w1.label = 'x1w1'\n",
    "x2w2 = x2*w2;               x2w2.label = 'x2w2'\n",
    "\n",
    "x1w1addx2w2 = x1w1 + x2w2;  x1w1addx2w2.label = 'x1w1addx2w2'\n",
    "n = x1w1addx2w2 + b;        n.label = 'n'\n",
    "\n",
    "o = n.tanh();                o.label = 'o'; o.grad = 1.0"
   ]
  },
  {
   "cell_type": "code",
   "execution_count": 35,
   "metadata": {},
   "outputs": [
    {
     "data": {
      "image/svg+xml": "<?xml version=\"1.0\" encoding=\"UTF-8\" standalone=\"no\"?>\n<!DOCTYPE svg PUBLIC \"-//W3C//DTD SVG 1.1//EN\"\n \"http://www.w3.org/Graphics/SVG/1.1/DTD/svg11.dtd\">\n<!-- Generated by graphviz version 2.50.0 (0)\n -->\n<!-- Pages: 1 -->\n<svg width=\"1230pt\" height=\"342pt\"\n viewBox=\"0.00 0.00 1229.69 342.00\" xmlns=\"http://www.w3.org/2000/svg\" xmlns:xlink=\"http://www.w3.org/1999/xlink\">\n<g id=\"graph0\" class=\"graph\" transform=\"scale(1 1) rotate(0) translate(4 338)\">\n<polygon fill=\"white\" stroke=\"transparent\" points=\"-4,4 -4,-338 1225.69,-338 1225.69,4 -4,4\"/>\n<!-- 140566088678944 -->\n<g id=\"node1\" class=\"node\">\n<title>140566088678944</title>\n<polygon fill=\"none\" stroke=\"black\" points=\"665,-176.5 665,-245.5 871,-245.5 871,-176.5 665,-176.5\"/>\n<text text-anchor=\"middle\" x=\"768\" y=\"-230.3\" font-family=\"Times,serif\" font-size=\"14.00\">n</text>\n<polyline fill=\"none\" stroke=\"black\" points=\"665,-222.5 871,-222.5 \"/>\n<text text-anchor=\"middle\" x=\"768\" y=\"-207.3\" font-family=\"Times,serif\" font-size=\"14.00\">data: 4.699999999999999</text>\n<polyline fill=\"none\" stroke=\"black\" points=\"665,-199.5 871,-199.5 \"/>\n<text text-anchor=\"middle\" x=\"768\" y=\"-184.3\" font-family=\"Times,serif\" font-size=\"14.00\">grad: 0.0</text>\n</g>\n<!-- 140566088675632tanh -->\n<g id=\"node12\" class=\"node\">\n<title>140566088675632tanh</title>\n<ellipse fill=\"none\" stroke=\"black\" cx=\"938.85\" cy=\"-211\" rx=\"31.7\" ry=\"18\"/>\n<text text-anchor=\"middle\" x=\"938.85\" y=\"-207.3\" font-family=\"Times,serif\" font-size=\"14.00\">tanh</text>\n</g>\n<!-- 140566088678944&#45;&gt;140566088675632tanh -->\n<g id=\"edge8\" class=\"edge\">\n<title>140566088678944&#45;&gt;140566088675632tanh</title>\n<path fill=\"none\" stroke=\"black\" d=\"M871.11,-211C880.1,-211 888.8,-211 896.79,-211\"/>\n<polygon fill=\"black\" stroke=\"black\" points=\"896.85,-214.5 906.85,-211 896.85,-207.5 896.85,-214.5\"/>\n</g>\n<!-- 140566088678944+ -->\n<g id=\"node2\" class=\"node\">\n<title>140566088678944+</title>\n<ellipse fill=\"none\" stroke=\"black\" cx=\"602\" cy=\"-211\" rx=\"27\" ry=\"18\"/>\n<text text-anchor=\"middle\" x=\"602\" y=\"-207.3\" font-family=\"Times,serif\" font-size=\"14.00\">+</text>\n</g>\n<!-- 140566088678944+&#45;&gt;140566088678944 -->\n<g id=\"edge1\" class=\"edge\">\n<title>140566088678944+&#45;&gt;140566088678944</title>\n<path fill=\"none\" stroke=\"black\" d=\"M629.35,-211C636.8,-211 645.4,-211 654.61,-211\"/>\n<polygon fill=\"black\" stroke=\"black\" points=\"654.8,-214.5 664.8,-211 654.8,-207.5 654.8,-214.5\"/>\n</g>\n<!-- 140566096541008 -->\n<g id=\"node3\" class=\"node\">\n<title>140566096541008</title>\n<polygon fill=\"none\" stroke=\"black\" points=\"435,-220.5 435,-289.5 524,-289.5 524,-220.5 435,-220.5\"/>\n<text text-anchor=\"middle\" x=\"479.5\" y=\"-274.3\" font-family=\"Times,serif\" font-size=\"14.00\">b</text>\n<polyline fill=\"none\" stroke=\"black\" points=\"435,-266.5 524,-266.5 \"/>\n<text text-anchor=\"middle\" x=\"479.5\" y=\"-251.3\" font-family=\"Times,serif\" font-size=\"14.00\">data: 10.7</text>\n<polyline fill=\"none\" stroke=\"black\" points=\"435,-243.5 524,-243.5 \"/>\n<text text-anchor=\"middle\" x=\"479.5\" y=\"-228.3\" font-family=\"Times,serif\" font-size=\"14.00\">grad: 0.0</text>\n</g>\n<!-- 140566096541008&#45;&gt;140566088678944+ -->\n<g id=\"edge2\" class=\"edge\">\n<title>140566096541008&#45;&gt;140566088678944+</title>\n<path fill=\"none\" stroke=\"black\" d=\"M524,-239.11C538.65,-233.77 554.73,-227.89 568.39,-222.91\"/>\n<polygon fill=\"black\" stroke=\"black\" points=\"569.66,-226.17 577.86,-219.45 567.26,-219.59 569.66,-226.17\"/>\n</g>\n<!-- 140566088667760 -->\n<g id=\"node4\" class=\"node\">\n<title>140566088667760</title>\n<polygon fill=\"none\" stroke=\"black\" points=\"420,-132.5 420,-201.5 539,-201.5 539,-132.5 420,-132.5\"/>\n<text text-anchor=\"middle\" x=\"479.5\" y=\"-186.3\" font-family=\"Times,serif\" font-size=\"14.00\">x1w1addx2w2</text>\n<polyline fill=\"none\" stroke=\"black\" points=\"420,-178.5 539,-178.5 \"/>\n<text text-anchor=\"middle\" x=\"479.5\" y=\"-163.3\" font-family=\"Times,serif\" font-size=\"14.00\">data: &#45;6.0</text>\n<polyline fill=\"none\" stroke=\"black\" points=\"420,-155.5 539,-155.5 \"/>\n<text text-anchor=\"middle\" x=\"479.5\" y=\"-140.3\" font-family=\"Times,serif\" font-size=\"14.00\">grad: 0.0</text>\n</g>\n<!-- 140566088667760&#45;&gt;140566088678944+ -->\n<g id=\"edge3\" class=\"edge\">\n<title>140566088667760&#45;&gt;140566088678944+</title>\n<path fill=\"none\" stroke=\"black\" d=\"M539.34,-188.48C549.32,-192.13 559.36,-195.79 568.35,-199.08\"/>\n<polygon fill=\"black\" stroke=\"black\" points=\"567.4,-202.46 577.99,-202.6 569.8,-195.88 567.4,-202.46\"/>\n</g>\n<!-- 140566096538176 -->\n<g id=\"node5\" class=\"node\">\n<title>140566096538176</title>\n<polygon fill=\"none\" stroke=\"black\" points=\"1.5,-264.5 1.5,-333.5 82.5,-333.5 82.5,-264.5 1.5,-264.5\"/>\n<text text-anchor=\"middle\" x=\"42\" y=\"-318.3\" font-family=\"Times,serif\" font-size=\"14.00\">w2</text>\n<polyline fill=\"none\" stroke=\"black\" points=\"1.5,-310.5 82.5,-310.5 \"/>\n<text text-anchor=\"middle\" x=\"42\" y=\"-295.3\" font-family=\"Times,serif\" font-size=\"14.00\">data: 1.0</text>\n<polyline fill=\"none\" stroke=\"black\" points=\"1.5,-287.5 82.5,-287.5 \"/>\n<text text-anchor=\"middle\" x=\"42\" y=\"-272.3\" font-family=\"Times,serif\" font-size=\"14.00\">grad: 0.0</text>\n</g>\n<!-- 140566088664496* -->\n<g id=\"node13\" class=\"node\">\n<title>140566088664496*</title>\n<ellipse fill=\"none\" stroke=\"black\" cx=\"147\" cy=\"-211\" rx=\"27\" ry=\"18\"/>\n<text text-anchor=\"middle\" x=\"147\" y=\"-207.3\" font-family=\"Times,serif\" font-size=\"14.00\">*</text>\n</g>\n<!-- 140566096538176&#45;&gt;140566088664496* -->\n<g id=\"edge11\" class=\"edge\">\n<title>140566096538176&#45;&gt;140566088664496*</title>\n<path fill=\"none\" stroke=\"black\" d=\"M82.53,-265.23C95.8,-253.89 110.2,-241.58 121.92,-231.57\"/>\n<polygon fill=\"black\" stroke=\"black\" points=\"124.24,-234.2 129.57,-225.04 119.69,-228.88 124.24,-234.2\"/>\n</g>\n<!-- 140566088667760+ -->\n<g id=\"node6\" class=\"node\">\n<title>140566088667760+</title>\n<ellipse fill=\"none\" stroke=\"black\" cx=\"357\" cy=\"-167\" rx=\"27\" ry=\"18\"/>\n<text text-anchor=\"middle\" x=\"357\" y=\"-163.3\" font-family=\"Times,serif\" font-size=\"14.00\">+</text>\n</g>\n<!-- 140566088667760+&#45;&gt;140566088667760 -->\n<g id=\"edge4\" class=\"edge\">\n<title>140566088667760+&#45;&gt;140566088667760</title>\n<path fill=\"none\" stroke=\"black\" d=\"M384.15,-167C391.79,-167 400.53,-167 409.53,-167\"/>\n<polygon fill=\"black\" stroke=\"black\" points=\"409.76,-170.5 419.76,-167 409.76,-163.5 409.76,-170.5\"/>\n</g>\n<!-- 140566088664496 -->\n<g id=\"node7\" class=\"node\">\n<title>140566088664496</title>\n<polygon fill=\"none\" stroke=\"black\" points=\"211.5,-176.5 211.5,-245.5 292.5,-245.5 292.5,-176.5 211.5,-176.5\"/>\n<text text-anchor=\"middle\" x=\"252\" y=\"-230.3\" font-family=\"Times,serif\" font-size=\"14.00\">x2w2</text>\n<polyline fill=\"none\" stroke=\"black\" points=\"211.5,-222.5 292.5,-222.5 \"/>\n<text text-anchor=\"middle\" x=\"252\" y=\"-207.3\" font-family=\"Times,serif\" font-size=\"14.00\">data: 0.0</text>\n<polyline fill=\"none\" stroke=\"black\" points=\"211.5,-199.5 292.5,-199.5 \"/>\n<text text-anchor=\"middle\" x=\"252\" y=\"-184.3\" font-family=\"Times,serif\" font-size=\"14.00\">grad: 0.0</text>\n</g>\n<!-- 140566088664496&#45;&gt;140566088667760+ -->\n<g id=\"edge5\" class=\"edge\">\n<title>140566088664496&#45;&gt;140566088667760+</title>\n<path fill=\"none\" stroke=\"black\" d=\"M292.53,-194.11C303.1,-189.6 314.39,-184.77 324.47,-180.47\"/>\n<polygon fill=\"black\" stroke=\"black\" points=\"325.88,-183.67 333.71,-176.52 323.14,-177.23 325.88,-183.67\"/>\n</g>\n<!-- 140566088198576 -->\n<g id=\"node8\" class=\"node\">\n<title>140566088198576</title>\n<polygon fill=\"none\" stroke=\"black\" points=\"210,-88.5 210,-157.5 294,-157.5 294,-88.5 210,-88.5\"/>\n<text text-anchor=\"middle\" x=\"252\" y=\"-142.3\" font-family=\"Times,serif\" font-size=\"14.00\">x1w1</text>\n<polyline fill=\"none\" stroke=\"black\" points=\"210,-134.5 294,-134.5 \"/>\n<text text-anchor=\"middle\" x=\"252\" y=\"-119.3\" font-family=\"Times,serif\" font-size=\"14.00\">data: &#45;6.0</text>\n<polyline fill=\"none\" stroke=\"black\" points=\"210,-111.5 294,-111.5 \"/>\n<text text-anchor=\"middle\" x=\"252\" y=\"-96.3\" font-family=\"Times,serif\" font-size=\"14.00\">grad: 0.0</text>\n</g>\n<!-- 140566088198576&#45;&gt;140566088667760+ -->\n<g id=\"edge6\" class=\"edge\">\n<title>140566088198576&#45;&gt;140566088667760+</title>\n<path fill=\"none\" stroke=\"black\" d=\"M294,-140.52C304.19,-144.87 314.94,-149.46 324.58,-153.58\"/>\n<polygon fill=\"black\" stroke=\"black\" points=\"323.22,-156.8 333.79,-157.51 325.97,-150.36 323.22,-156.8\"/>\n</g>\n<!-- 140566096534720 -->\n<g id=\"node9\" class=\"node\">\n<title>140566096534720</title>\n<polygon fill=\"none\" stroke=\"black\" points=\"1.5,-88.5 1.5,-157.5 82.5,-157.5 82.5,-88.5 1.5,-88.5\"/>\n<text text-anchor=\"middle\" x=\"42\" y=\"-142.3\" font-family=\"Times,serif\" font-size=\"14.00\">x1</text>\n<polyline fill=\"none\" stroke=\"black\" points=\"1.5,-134.5 82.5,-134.5 \"/>\n<text text-anchor=\"middle\" x=\"42\" y=\"-119.3\" font-family=\"Times,serif\" font-size=\"14.00\">data: 2.0</text>\n<polyline fill=\"none\" stroke=\"black\" points=\"1.5,-111.5 82.5,-111.5 \"/>\n<text text-anchor=\"middle\" x=\"42\" y=\"-96.3\" font-family=\"Times,serif\" font-size=\"14.00\">grad: 0.0</text>\n</g>\n<!-- 140566088198576* -->\n<g id=\"node14\" class=\"node\">\n<title>140566088198576*</title>\n<ellipse fill=\"none\" stroke=\"black\" cx=\"147\" cy=\"-123\" rx=\"27\" ry=\"18\"/>\n<text text-anchor=\"middle\" x=\"147\" y=\"-119.3\" font-family=\"Times,serif\" font-size=\"14.00\">*</text>\n</g>\n<!-- 140566096534720&#45;&gt;140566088198576* -->\n<g id=\"edge13\" class=\"edge\">\n<title>140566096534720&#45;&gt;140566088198576*</title>\n<path fill=\"none\" stroke=\"black\" d=\"M82.53,-123C91.4,-123 100.78,-123 109.52,-123\"/>\n<polygon fill=\"black\" stroke=\"black\" points=\"109.79,-126.5 119.79,-123 109.79,-119.5 109.79,-126.5\"/>\n</g>\n<!-- 140566096541968 -->\n<g id=\"node10\" class=\"node\">\n<title>140566096541968</title>\n<polygon fill=\"none\" stroke=\"black\" points=\"1.5,-176.5 1.5,-245.5 82.5,-245.5 82.5,-176.5 1.5,-176.5\"/>\n<text text-anchor=\"middle\" x=\"42\" y=\"-230.3\" font-family=\"Times,serif\" font-size=\"14.00\">x2</text>\n<polyline fill=\"none\" stroke=\"black\" points=\"1.5,-222.5 82.5,-222.5 \"/>\n<text text-anchor=\"middle\" x=\"42\" y=\"-207.3\" font-family=\"Times,serif\" font-size=\"14.00\">data: 0.0</text>\n<polyline fill=\"none\" stroke=\"black\" points=\"1.5,-199.5 82.5,-199.5 \"/>\n<text text-anchor=\"middle\" x=\"42\" y=\"-184.3\" font-family=\"Times,serif\" font-size=\"14.00\">grad: 0.0</text>\n</g>\n<!-- 140566096541968&#45;&gt;140566088664496* -->\n<g id=\"edge10\" class=\"edge\">\n<title>140566096541968&#45;&gt;140566088664496*</title>\n<path fill=\"none\" stroke=\"black\" d=\"M82.53,-211C91.4,-211 100.78,-211 109.52,-211\"/>\n<polygon fill=\"black\" stroke=\"black\" points=\"109.79,-214.5 119.79,-211 109.79,-207.5 109.79,-214.5\"/>\n</g>\n<!-- 140566088675632 -->\n<g id=\"node11\" class=\"node\">\n<title>140566088675632</title>\n<polygon fill=\"none\" stroke=\"black\" points=\"1006.69,-176.5 1006.69,-245.5 1221.69,-245.5 1221.69,-176.5 1006.69,-176.5\"/>\n<text text-anchor=\"middle\" x=\"1114.19\" y=\"-230.3\" font-family=\"Times,serif\" font-size=\"14.00\">o</text>\n<polyline fill=\"none\" stroke=\"black\" points=\"1006.69,-222.5 1221.69,-222.5 \"/>\n<text text-anchor=\"middle\" x=\"1114.19\" y=\"-207.3\" font-family=\"Times,serif\" font-size=\"14.00\">data: 0.9998345655542966</text>\n<polyline fill=\"none\" stroke=\"black\" points=\"1006.69,-199.5 1221.69,-199.5 \"/>\n<text text-anchor=\"middle\" x=\"1114.19\" y=\"-184.3\" font-family=\"Times,serif\" font-size=\"14.00\">grad: 1.0</text>\n</g>\n<!-- 140566088675632tanh&#45;&gt;140566088675632 -->\n<g id=\"edge7\" class=\"edge\">\n<title>140566088675632tanh&#45;&gt;140566088675632</title>\n<path fill=\"none\" stroke=\"black\" d=\"M970.84,-211C978.49,-211 987.15,-211 996.32,-211\"/>\n<polygon fill=\"black\" stroke=\"black\" points=\"996.45,-214.5 1006.45,-211 996.45,-207.5 996.45,-214.5\"/>\n</g>\n<!-- 140566088664496*&#45;&gt;140566088664496 -->\n<g id=\"edge9\" class=\"edge\">\n<title>140566088664496*&#45;&gt;140566088664496</title>\n<path fill=\"none\" stroke=\"black\" d=\"M174.26,-211C182.49,-211 191.86,-211 201.16,-211\"/>\n<polygon fill=\"black\" stroke=\"black\" points=\"201.16,-214.5 211.16,-211 201.16,-207.5 201.16,-214.5\"/>\n</g>\n<!-- 140566088198576*&#45;&gt;140566088198576 -->\n<g id=\"edge12\" class=\"edge\">\n<title>140566088198576*&#45;&gt;140566088198576</title>\n<path fill=\"none\" stroke=\"black\" d=\"M174.26,-123C182.05,-123 190.88,-123 199.69,-123\"/>\n<polygon fill=\"black\" stroke=\"black\" points=\"199.97,-126.5 209.97,-123 199.97,-119.5 199.97,-126.5\"/>\n</g>\n<!-- 140566096536544 -->\n<g id=\"node15\" class=\"node\">\n<title>140566096536544</title>\n<polygon fill=\"none\" stroke=\"black\" points=\"0,-0.5 0,-69.5 84,-69.5 84,-0.5 0,-0.5\"/>\n<text text-anchor=\"middle\" x=\"42\" y=\"-54.3\" font-family=\"Times,serif\" font-size=\"14.00\">w1</text>\n<polyline fill=\"none\" stroke=\"black\" points=\"0,-46.5 84,-46.5 \"/>\n<text text-anchor=\"middle\" x=\"42\" y=\"-31.3\" font-family=\"Times,serif\" font-size=\"14.00\">data: &#45;3.0</text>\n<polyline fill=\"none\" stroke=\"black\" points=\"0,-23.5 84,-23.5 \"/>\n<text text-anchor=\"middle\" x=\"42\" y=\"-8.3\" font-family=\"Times,serif\" font-size=\"14.00\">grad: 0.0</text>\n</g>\n<!-- 140566096536544&#45;&gt;140566088198576* -->\n<g id=\"edge14\" class=\"edge\">\n<title>140566096536544&#45;&gt;140566088198576*</title>\n<path fill=\"none\" stroke=\"black\" d=\"M83.41,-69.53C96.38,-80.61 110.34,-92.53 121.77,-102.3\"/>\n<polygon fill=\"black\" stroke=\"black\" points=\"119.73,-105.16 129.6,-108.99 124.27,-99.83 119.73,-105.16\"/>\n</g>\n</g>\n</svg>\n",
      "text/plain": [
       "<graphviz.graphs.Digraph at 0x7fd818406f50>"
      ]
     },
     "execution_count": 35,
     "metadata": {},
     "output_type": "execute_result"
    }
   ],
   "source": [
    "draw_dot(o)"
   ]
  },
  {
   "attachments": {},
   "cell_type": "markdown",
   "metadata": {},
   "source": [
    "## Directed Aciclic Graph Topological Sort List\n",
    "To do the Backprop, we need to start from the end node and go through it's children to eventually reach leaf nodes.\n",
    "\n",
    "so we want a out-to-leaf sort.\n",
    "but it's easier to write a function that gives us a\n",
    "leaf-to-out sort, then we can reverse it."
   ]
  },
  {
   "cell_type": "code",
   "execution_count": 36,
   "metadata": {},
   "outputs": [
    {
     "data": {
      "text/plain": [
       "[Value(b:10.7),\n",
       " Value(x2:0.0),\n",
       " Value(w2:1.0),\n",
       " Value(x2w2:0.0),\n",
       " Value(x1:2.0),\n",
       " Value(w1:-3.0),\n",
       " Value(x1w1:-6.0),\n",
       " Value(x1w1addx2w2:-6.0),\n",
       " Value(n:4.699999999999999),\n",
       " Value(o:0.9998345655542966)]"
      ]
     },
     "execution_count": 36,
     "metadata": {},
     "output_type": "execute_result"
    }
   ],
   "source": [
    "topo_sort_list = []\n",
    "visited = set() # the order does not matter, use set instead of list\n",
    "def build_topo(root):\n",
    "    if root not in visited:\n",
    "        visited.add(root)\n",
    "        # Appending to topo_sort before its children are processed\n",
    "        # will give us out to left sort,\n",
    "        # but not out to leaf sort in case of b (bias leaf), try it & see it\n",
    "        for child in root._prev:\n",
    "            build_topo(child)\n",
    "        # Appending after its children are processed\n",
    "        # will give us leaf to out sort\n",
    "        topo_sort_list.append(root)\n",
    "\n",
    "\n",
    "build_topo(root=o)\n",
    "topo_sort_list"
   ]
  },
  {
   "cell_type": "code",
   "execution_count": 37,
   "metadata": {},
   "outputs": [],
   "source": [
    "for node in reversed(topo_sort_list):\n",
    "    node._backprop()"
   ]
  },
  {
   "cell_type": "code",
   "execution_count": 38,
   "metadata": {},
   "outputs": [
    {
     "data": {
      "image/svg+xml": "<?xml version=\"1.0\" encoding=\"UTF-8\" standalone=\"no\"?>\n<!DOCTYPE svg PUBLIC \"-//W3C//DTD SVG 1.1//EN\"\n \"http://www.w3.org/Graphics/SVG/1.1/DTD/svg11.dtd\">\n<!-- Generated by graphviz version 2.50.0 (0)\n -->\n<!-- Pages: 1 -->\n<svg width=\"1745pt\" height=\"342pt\"\n viewBox=\"0.00 0.00 1744.69 342.00\" xmlns=\"http://www.w3.org/2000/svg\" xmlns:xlink=\"http://www.w3.org/1999/xlink\">\n<g id=\"graph0\" class=\"graph\" transform=\"scale(1 1) rotate(0) translate(4 338)\">\n<polygon fill=\"white\" stroke=\"transparent\" points=\"-4,4 -4,-338 1740.69,-338 1740.69,4 -4,4\"/>\n<!-- 140566088678944 -->\n<g id=\"node1\" class=\"node\">\n<title>140566088678944</title>\n<polygon fill=\"none\" stroke=\"black\" points=\"1134,-176.5 1134,-245.5 1386,-245.5 1386,-176.5 1134,-176.5\"/>\n<text text-anchor=\"middle\" x=\"1260\" y=\"-230.3\" font-family=\"Times,serif\" font-size=\"14.00\">n</text>\n<polyline fill=\"none\" stroke=\"black\" points=\"1134,-222.5 1386,-222.5 \"/>\n<text text-anchor=\"middle\" x=\"1260\" y=\"-207.3\" font-family=\"Times,serif\" font-size=\"14.00\">data: 4.699999999999999</text>\n<polyline fill=\"none\" stroke=\"black\" points=\"1134,-199.5 1386,-199.5 \"/>\n<text text-anchor=\"middle\" x=\"1260\" y=\"-184.3\" font-family=\"Times,serif\" font-size=\"14.00\">grad: 0.00033084152285089985</text>\n</g>\n<!-- 140566088675632tanh -->\n<g id=\"node12\" class=\"node\">\n<title>140566088675632tanh</title>\n<ellipse fill=\"none\" stroke=\"black\" cx=\"1453.85\" cy=\"-211\" rx=\"31.7\" ry=\"18\"/>\n<text text-anchor=\"middle\" x=\"1453.85\" y=\"-207.3\" font-family=\"Times,serif\" font-size=\"14.00\">tanh</text>\n</g>\n<!-- 140566088678944&#45;&gt;140566088675632tanh -->\n<g id=\"edge8\" class=\"edge\">\n<title>140566088678944&#45;&gt;140566088675632tanh</title>\n<path fill=\"none\" stroke=\"black\" d=\"M1386.02,-211C1395.14,-211 1403.88,-211 1411.86,-211\"/>\n<polygon fill=\"black\" stroke=\"black\" points=\"1411.87,-214.5 1421.87,-211 1411.87,-207.5 1411.87,-214.5\"/>\n</g>\n<!-- 140566088678944+ -->\n<g id=\"node2\" class=\"node\">\n<title>140566088678944+</title>\n<ellipse fill=\"none\" stroke=\"black\" cx=\"1071\" cy=\"-211\" rx=\"27\" ry=\"18\"/>\n<text text-anchor=\"middle\" x=\"1071\" y=\"-207.3\" font-family=\"Times,serif\" font-size=\"14.00\">+</text>\n</g>\n<!-- 140566088678944+&#45;&gt;140566088678944 -->\n<g id=\"edge1\" class=\"edge\">\n<title>140566088678944+&#45;&gt;140566088678944</title>\n<path fill=\"none\" stroke=\"black\" d=\"M1098,-211C1105.52,-211 1114.3,-211 1123.79,-211\"/>\n<polygon fill=\"black\" stroke=\"black\" points=\"1123.92,-214.5 1133.92,-211 1123.92,-207.5 1123.92,-214.5\"/>\n</g>\n<!-- 140566096541008 -->\n<g id=\"node3\" class=\"node\">\n<title>140566096541008</title>\n<polygon fill=\"none\" stroke=\"black\" points=\"756,-220.5 756,-289.5 1008,-289.5 1008,-220.5 756,-220.5\"/>\n<text text-anchor=\"middle\" x=\"882\" y=\"-274.3\" font-family=\"Times,serif\" font-size=\"14.00\">b</text>\n<polyline fill=\"none\" stroke=\"black\" points=\"756,-266.5 1008,-266.5 \"/>\n<text text-anchor=\"middle\" x=\"882\" y=\"-251.3\" font-family=\"Times,serif\" font-size=\"14.00\">data: 10.7</text>\n<polyline fill=\"none\" stroke=\"black\" points=\"756,-243.5 1008,-243.5 \"/>\n<text text-anchor=\"middle\" x=\"882\" y=\"-228.3\" font-family=\"Times,serif\" font-size=\"14.00\">grad: 0.00033084152285089985</text>\n</g>\n<!-- 140566096541008&#45;&gt;140566088678944+ -->\n<g id=\"edge2\" class=\"edge\">\n<title>140566096541008&#45;&gt;140566088678944+</title>\n<path fill=\"none\" stroke=\"black\" d=\"M1008.25,-225.53C1017.98,-223.24 1027.19,-221.07 1035.38,-219.14\"/>\n<polygon fill=\"black\" stroke=\"black\" points=\"1036.25,-222.54 1045.18,-216.84 1034.64,-215.72 1036.25,-222.54\"/>\n</g>\n<!-- 140566088667760 -->\n<g id=\"node4\" class=\"node\">\n<title>140566088667760</title>\n<polygon fill=\"none\" stroke=\"black\" points=\"756,-132.5 756,-201.5 1008,-201.5 1008,-132.5 756,-132.5\"/>\n<text text-anchor=\"middle\" x=\"882\" y=\"-186.3\" font-family=\"Times,serif\" font-size=\"14.00\">x1w1addx2w2</text>\n<polyline fill=\"none\" stroke=\"black\" points=\"756,-178.5 1008,-178.5 \"/>\n<text text-anchor=\"middle\" x=\"882\" y=\"-163.3\" font-family=\"Times,serif\" font-size=\"14.00\">data: &#45;6.0</text>\n<polyline fill=\"none\" stroke=\"black\" points=\"756,-155.5 1008,-155.5 \"/>\n<text text-anchor=\"middle\" x=\"882\" y=\"-140.3\" font-family=\"Times,serif\" font-size=\"14.00\">grad: 0.00033084152285089985</text>\n</g>\n<!-- 140566088667760&#45;&gt;140566088678944+ -->\n<g id=\"edge3\" class=\"edge\">\n<title>140566088667760&#45;&gt;140566088678944+</title>\n<path fill=\"none\" stroke=\"black\" d=\"M1008.25,-196.47C1017.98,-198.76 1027.19,-200.93 1035.38,-202.86\"/>\n<polygon fill=\"black\" stroke=\"black\" points=\"1034.64,-206.28 1045.18,-205.16 1036.25,-199.46 1034.64,-206.28\"/>\n</g>\n<!-- 140566096538176 -->\n<g id=\"node5\" class=\"node\">\n<title>140566096538176</title>\n<polygon fill=\"none\" stroke=\"black\" points=\"85.5,-264.5 85.5,-333.5 166.5,-333.5 166.5,-264.5 85.5,-264.5\"/>\n<text text-anchor=\"middle\" x=\"126\" y=\"-318.3\" font-family=\"Times,serif\" font-size=\"14.00\">w2</text>\n<polyline fill=\"none\" stroke=\"black\" points=\"85.5,-310.5 166.5,-310.5 \"/>\n<text text-anchor=\"middle\" x=\"126\" y=\"-295.3\" font-family=\"Times,serif\" font-size=\"14.00\">data: 1.0</text>\n<polyline fill=\"none\" stroke=\"black\" points=\"85.5,-287.5 166.5,-287.5 \"/>\n<text text-anchor=\"middle\" x=\"126\" y=\"-272.3\" font-family=\"Times,serif\" font-size=\"14.00\">grad: 0.0</text>\n</g>\n<!-- 140566088664496* -->\n<g id=\"node13\" class=\"node\">\n<title>140566088664496*</title>\n<ellipse fill=\"none\" stroke=\"black\" cx=\"315\" cy=\"-211\" rx=\"27\" ry=\"18\"/>\n<text text-anchor=\"middle\" x=\"315\" y=\"-207.3\" font-family=\"Times,serif\" font-size=\"14.00\">*</text>\n</g>\n<!-- 140566096538176&#45;&gt;140566088664496* -->\n<g id=\"edge11\" class=\"edge\">\n<title>140566096538176&#45;&gt;140566088664496*</title>\n<path fill=\"none\" stroke=\"black\" d=\"M166.74,-288.12C191.9,-280.48 224.73,-269.12 252,-255 264.95,-248.3 278.27,-239.18 289.22,-230.99\"/>\n<polygon fill=\"black\" stroke=\"black\" points=\"291.65,-233.54 297.45,-224.68 287.39,-227.99 291.65,-233.54\"/>\n</g>\n<!-- 140566088667760+ -->\n<g id=\"node6\" class=\"node\">\n<title>140566088667760+</title>\n<ellipse fill=\"none\" stroke=\"black\" cx=\"693\" cy=\"-167\" rx=\"27\" ry=\"18\"/>\n<text text-anchor=\"middle\" x=\"693\" y=\"-163.3\" font-family=\"Times,serif\" font-size=\"14.00\">+</text>\n</g>\n<!-- 140566088667760+&#45;&gt;140566088667760 -->\n<g id=\"edge4\" class=\"edge\">\n<title>140566088667760+&#45;&gt;140566088667760</title>\n<path fill=\"none\" stroke=\"black\" d=\"M720,-167C727.52,-167 736.3,-167 745.79,-167\"/>\n<polygon fill=\"black\" stroke=\"black\" points=\"745.92,-170.5 755.92,-167 745.92,-163.5 745.92,-170.5\"/>\n</g>\n<!-- 140566088664496 -->\n<g id=\"node7\" class=\"node\">\n<title>140566088664496</title>\n<polygon fill=\"none\" stroke=\"black\" points=\"378,-176.5 378,-245.5 630,-245.5 630,-176.5 378,-176.5\"/>\n<text text-anchor=\"middle\" x=\"504\" y=\"-230.3\" font-family=\"Times,serif\" font-size=\"14.00\">x2w2</text>\n<polyline fill=\"none\" stroke=\"black\" points=\"378,-222.5 630,-222.5 \"/>\n<text text-anchor=\"middle\" x=\"504\" y=\"-207.3\" font-family=\"Times,serif\" font-size=\"14.00\">data: 0.0</text>\n<polyline fill=\"none\" stroke=\"black\" points=\"378,-199.5 630,-199.5 \"/>\n<text text-anchor=\"middle\" x=\"504\" y=\"-184.3\" font-family=\"Times,serif\" font-size=\"14.00\">grad: 0.00033084152285089985</text>\n</g>\n<!-- 140566088664496&#45;&gt;140566088667760+ -->\n<g id=\"edge5\" class=\"edge\">\n<title>140566088664496&#45;&gt;140566088667760+</title>\n<path fill=\"none\" stroke=\"black\" d=\"M630.25,-181.53C639.98,-179.24 649.19,-177.07 657.38,-175.14\"/>\n<polygon fill=\"black\" stroke=\"black\" points=\"658.25,-178.54 667.18,-172.84 656.64,-171.72 658.25,-178.54\"/>\n</g>\n<!-- 140566088198576 -->\n<g id=\"node8\" class=\"node\">\n<title>140566088198576</title>\n<polygon fill=\"none\" stroke=\"black\" points=\"378,-88.5 378,-157.5 630,-157.5 630,-88.5 378,-88.5\"/>\n<text text-anchor=\"middle\" x=\"504\" y=\"-142.3\" font-family=\"Times,serif\" font-size=\"14.00\">x1w1</text>\n<polyline fill=\"none\" stroke=\"black\" points=\"378,-134.5 630,-134.5 \"/>\n<text text-anchor=\"middle\" x=\"504\" y=\"-119.3\" font-family=\"Times,serif\" font-size=\"14.00\">data: &#45;6.0</text>\n<polyline fill=\"none\" stroke=\"black\" points=\"378,-111.5 630,-111.5 \"/>\n<text text-anchor=\"middle\" x=\"504\" y=\"-96.3\" font-family=\"Times,serif\" font-size=\"14.00\">grad: 0.00033084152285089985</text>\n</g>\n<!-- 140566088198576&#45;&gt;140566088667760+ -->\n<g id=\"edge6\" class=\"edge\">\n<title>140566088198576&#45;&gt;140566088667760+</title>\n<path fill=\"none\" stroke=\"black\" d=\"M630.25,-152.47C639.98,-154.76 649.19,-156.93 657.38,-158.86\"/>\n<polygon fill=\"black\" stroke=\"black\" points=\"656.64,-162.28 667.18,-161.16 658.25,-155.46 656.64,-162.28\"/>\n</g>\n<!-- 140566096534720 -->\n<g id=\"node9\" class=\"node\">\n<title>140566096534720</title>\n<polygon fill=\"none\" stroke=\"black\" points=\"2,-88.5 2,-157.5 250,-157.5 250,-88.5 2,-88.5\"/>\n<text text-anchor=\"middle\" x=\"126\" y=\"-142.3\" font-family=\"Times,serif\" font-size=\"14.00\">x1</text>\n<polyline fill=\"none\" stroke=\"black\" points=\"2,-134.5 250,-134.5 \"/>\n<text text-anchor=\"middle\" x=\"126\" y=\"-119.3\" font-family=\"Times,serif\" font-size=\"14.00\">data: 2.0</text>\n<polyline fill=\"none\" stroke=\"black\" points=\"2,-111.5 250,-111.5 \"/>\n<text text-anchor=\"middle\" x=\"126\" y=\"-96.3\" font-family=\"Times,serif\" font-size=\"14.00\">grad: &#45;0.0009925245685526995</text>\n</g>\n<!-- 140566088198576* -->\n<g id=\"node14\" class=\"node\">\n<title>140566088198576*</title>\n<ellipse fill=\"none\" stroke=\"black\" cx=\"315\" cy=\"-123\" rx=\"27\" ry=\"18\"/>\n<text text-anchor=\"middle\" x=\"315\" y=\"-119.3\" font-family=\"Times,serif\" font-size=\"14.00\">*</text>\n</g>\n<!-- 140566096534720&#45;&gt;140566088198576* -->\n<g id=\"edge13\" class=\"edge\">\n<title>140566096534720&#45;&gt;140566088198576*</title>\n<path fill=\"none\" stroke=\"black\" d=\"M250.17,-123C260.07,-123 269.48,-123 277.88,-123\"/>\n<polygon fill=\"black\" stroke=\"black\" points=\"277.95,-126.5 287.95,-123 277.95,-119.5 277.95,-126.5\"/>\n</g>\n<!-- 140566096541968 -->\n<g id=\"node10\" class=\"node\">\n<title>140566096541968</title>\n<polygon fill=\"none\" stroke=\"black\" points=\"0,-176.5 0,-245.5 252,-245.5 252,-176.5 0,-176.5\"/>\n<text text-anchor=\"middle\" x=\"126\" y=\"-230.3\" font-family=\"Times,serif\" font-size=\"14.00\">x2</text>\n<polyline fill=\"none\" stroke=\"black\" points=\"0,-222.5 252,-222.5 \"/>\n<text text-anchor=\"middle\" x=\"126\" y=\"-207.3\" font-family=\"Times,serif\" font-size=\"14.00\">data: 0.0</text>\n<polyline fill=\"none\" stroke=\"black\" points=\"0,-199.5 252,-199.5 \"/>\n<text text-anchor=\"middle\" x=\"126\" y=\"-184.3\" font-family=\"Times,serif\" font-size=\"14.00\">grad: 0.00033084152285089985</text>\n</g>\n<!-- 140566096541968&#45;&gt;140566088664496* -->\n<g id=\"edge10\" class=\"edge\">\n<title>140566096541968&#45;&gt;140566088664496*</title>\n<path fill=\"none\" stroke=\"black\" d=\"M252.25,-211C261.4,-211 270.09,-211 277.9,-211\"/>\n<polygon fill=\"black\" stroke=\"black\" points=\"277.98,-214.5 287.98,-211 277.98,-207.5 277.98,-214.5\"/>\n</g>\n<!-- 140566088675632 -->\n<g id=\"node11\" class=\"node\">\n<title>140566088675632</title>\n<polygon fill=\"none\" stroke=\"black\" points=\"1521.69,-176.5 1521.69,-245.5 1736.69,-245.5 1736.69,-176.5 1521.69,-176.5\"/>\n<text text-anchor=\"middle\" x=\"1629.19\" y=\"-230.3\" font-family=\"Times,serif\" font-size=\"14.00\">o</text>\n<polyline fill=\"none\" stroke=\"black\" points=\"1521.69,-222.5 1736.69,-222.5 \"/>\n<text text-anchor=\"middle\" x=\"1629.19\" y=\"-207.3\" font-family=\"Times,serif\" font-size=\"14.00\">data: 0.9998345655542966</text>\n<polyline fill=\"none\" stroke=\"black\" points=\"1521.69,-199.5 1736.69,-199.5 \"/>\n<text text-anchor=\"middle\" x=\"1629.19\" y=\"-184.3\" font-family=\"Times,serif\" font-size=\"14.00\">grad: 1.0</text>\n</g>\n<!-- 140566088675632tanh&#45;&gt;140566088675632 -->\n<g id=\"edge7\" class=\"edge\">\n<title>140566088675632tanh&#45;&gt;140566088675632</title>\n<path fill=\"none\" stroke=\"black\" d=\"M1485.84,-211C1493.49,-211 1502.15,-211 1511.32,-211\"/>\n<polygon fill=\"black\" stroke=\"black\" points=\"1511.45,-214.5 1521.45,-211 1511.45,-207.5 1511.45,-214.5\"/>\n</g>\n<!-- 140566088664496*&#45;&gt;140566088664496 -->\n<g id=\"edge9\" class=\"edge\">\n<title>140566088664496*&#45;&gt;140566088664496</title>\n<path fill=\"none\" stroke=\"black\" d=\"M342,-211C349.52,-211 358.3,-211 367.79,-211\"/>\n<polygon fill=\"black\" stroke=\"black\" points=\"367.92,-214.5 377.92,-211 367.92,-207.5 367.92,-214.5\"/>\n</g>\n<!-- 140566088198576*&#45;&gt;140566088198576 -->\n<g id=\"edge12\" class=\"edge\">\n<title>140566088198576*&#45;&gt;140566088198576</title>\n<path fill=\"none\" stroke=\"black\" d=\"M342,-123C349.52,-123 358.3,-123 367.79,-123\"/>\n<polygon fill=\"black\" stroke=\"black\" points=\"367.92,-126.5 377.92,-123 367.92,-119.5 367.92,-126.5\"/>\n</g>\n<!-- 140566096536544 -->\n<g id=\"node15\" class=\"node\">\n<title>140566096536544</title>\n<polygon fill=\"none\" stroke=\"black\" points=\"4.5,-0.5 4.5,-69.5 247.5,-69.5 247.5,-0.5 4.5,-0.5\"/>\n<text text-anchor=\"middle\" x=\"126\" y=\"-54.3\" font-family=\"Times,serif\" font-size=\"14.00\">w1</text>\n<polyline fill=\"none\" stroke=\"black\" points=\"4.5,-46.5 247.5,-46.5 \"/>\n<text text-anchor=\"middle\" x=\"126\" y=\"-31.3\" font-family=\"Times,serif\" font-size=\"14.00\">data: &#45;3.0</text>\n<polyline fill=\"none\" stroke=\"black\" points=\"4.5,-23.5 247.5,-23.5 \"/>\n<text text-anchor=\"middle\" x=\"126\" y=\"-8.3\" font-family=\"Times,serif\" font-size=\"14.00\">grad: 0.0006616830457017997</text>\n</g>\n<!-- 140566096536544&#45;&gt;140566088198576* -->\n<g id=\"edge14\" class=\"edge\">\n<title>140566096536544&#45;&gt;140566088198576*</title>\n<path fill=\"none\" stroke=\"black\" d=\"M232.27,-69.62C239.03,-72.59 245.67,-75.72 252,-79 264.95,-85.7 278.27,-94.82 289.22,-103.01\"/>\n<polygon fill=\"black\" stroke=\"black\" points=\"287.39,-106.01 297.45,-109.32 291.65,-100.46 287.39,-106.01\"/>\n</g>\n</g>\n</svg>\n",
      "text/plain": [
       "<graphviz.graphs.Digraph at 0x7fd818406680>"
      ]
     },
     "execution_count": 38,
     "metadata": {},
     "output_type": "execute_result"
    }
   ],
   "source": [
    "draw_dot(o)"
   ]
  },
  {
   "cell_type": "code",
   "execution_count": 39,
   "metadata": {},
   "outputs": [
    {
     "data": {
      "text/plain": [
       "[<matplotlib.lines.Line2D at 0x7fd817cb5b70>]"
      ]
     },
     "execution_count": 39,
     "metadata": {},
     "output_type": "execute_result"
    },
    {
     "data": {
      "image/png": "[encoded data removed]",
      "text/plain": [
       "<Figure size 640x480 with 1 Axes>"
      ]
     },
     "metadata": {},
     "output_type": "display_data"
    }
   ],
   "source": [
    "xs = np.arange(-5 ,5, 0.25)\n",
    "ys = np.tanh(xs)\n",
    "plt.plot(xs,ys)"
   ]
  },
  {
   "cell_type": "code",
   "execution_count": null,
   "metadata": {},
   "outputs": [],
   "source": []
  },
  {
   "cell_type": "code",
   "execution_count": null,
   "metadata": {},
   "outputs": [],
   "source": []
  }
 ],
 "metadata": {
  "kernelspec": {
   "display_name": "torch113_1",
   "language": "python",
   "name": "python3"
  },
  "language_info": {
   "codemirror_mode": {
    "name": "ipython",
    "version": 3
   },
   "file_extension": ".py",
   "mimetype": "text/x-python",
   "name": "python",
   "nbconvert_exporter": "python",
   "pygments_lexer": "ipython3",
   "version": "3.10.9"
  },
  "orig_nbformat": 4,
  "vscode": {
   "interpreter": {
    "hash": "dfd31d78f929449d598c868a4ab28a111e30d94109ecabb7e57cae0b5fb90da4"
   }
  }
 },
 "nbformat": 4,
 "nbformat_minor": 2
}
