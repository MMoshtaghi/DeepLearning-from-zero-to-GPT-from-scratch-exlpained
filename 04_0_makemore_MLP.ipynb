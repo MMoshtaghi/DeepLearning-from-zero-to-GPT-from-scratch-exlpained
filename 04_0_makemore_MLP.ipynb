{
 "cells": [
  {
   "cell_type": "code",
   "execution_count": 1,
   "metadata": {},
   "outputs": [],
   "source": [
    "import math\n",
    "import random\n",
    "import numpy as np\n",
    "import matplotlib.pyplot as plt\n",
    "import seaborn as sns\n",
    "sns.set_theme(style=\"dark\")\n",
    "%matplotlib inline\n",
    "''' %matplotlib inline sets the backend of matplotlib to\n",
    "the 'inline' backend. When using the 'inline' backend,\n",
    "your matplotlib graphs will be included in your notebook,\n",
    "next to the code.'''\n",
    "\n",
    "import  torch\n",
    "import torch.nn.functional as F\n",
    "'''\n",
    "To get same results when sampling during different runs.\n",
    "If you are using cuDNN, you should set the deterministic behavior.\n",
    "This might make your code quite slow, but might be a good method to check your code and deactivate it later.\n",
    "'''\n",
    "torch.backends.cudnn.deterministic = True"
   ]
  },
  {
   "attachments": {},
   "cell_type": "markdown",
   "metadata": {},
   "source": [
    "# A multi-character level MLP Language Model\n",
    "Now here we want to consider a wider range of character inputs to predict the next character!\n",
    "\n",
    "Benjio et al 2003 (MLP LM) was proposed a LM for words, we use it for characters:\n",
    "\n",
    "    1- bc of the exponentially growing number of states as we increase the number of input chunks of words & characters, (like for 2 characters we had 27 * 27, for 3 char it will be  27**3 and so on!!), we can't continue with the probabilistic approach anymore, but we scale the NN.\n",
    "\n",
    "    2- we are going to embed each word or character to a latent vector (embedding).\n",
    "    \n",
    "    3- This is a cool idea and allow us for out-of distribution generalization:\n",
    "    \n",
    "        3.1- During test time, the network might encounter inputs that has never exactly seen during in the empirical dataset (out-of-empirical-distribution).\n",
    "\n",
    "        3.2 but if we train the network to put similar words or characters embeddings close together, then for example if it has seen \"A dog is running in a room\", it will ba able to change the words or characters with same semantic or grammar rule, and say \"A cat is running in a room\" or \"The cat is running in the room\". Even though you have not seen them!\n",
    "\n",
    "        3.3- we have look up table to map the 27 characters to its multi dimensional embedding index"
   ]
  },
  {
   "cell_type": "code",
   "execution_count": 2,
   "metadata": {},
   "outputs": [],
   "source": [
    "\n",
    "words = open('names.txt', 'r').read().splitlines()"
   ]
  },
  {
   "cell_type": "code",
   "execution_count": 3,
   "metadata": {},
   "outputs": [],
   "source": [
    "# sets takes an input, create a set of all items,\n",
    "# & doesn't allow duplicates :)\n",
    "# then we want a sorted list of course, the order matters! \n",
    "chars = sorted(list(set(''.join(words))))\n",
    "# a map or dict:\n",
    "# start from 1\n",
    "s_to_i = { s:i for i, s in enumerate(chars, start=1)}\n",
    "s_to_i['.'] = 0\n",
    "i_to_s = { i:s for s,i in s_to_i.items()}"
   ]
  },
  {
   "cell_type": "code",
   "execution_count": 4,
   "metadata": {},
   "outputs": [],
   "source": [
    "import itertools\n",
    "def plot_heatmap(tensor, nrow=None, ncol=None, fig_size=(10,10)):\n",
    "    if (nrow is None) or (ncol is None):\n",
    "        nrow = tensor.shape[0]\n",
    "        ncol = tensor.shape[1]\n",
    "    plt.figure(figsize=fig_size)\n",
    "    plt.imshow(tensor.detach().numpy(), cmap= 'Blues')\n",
    "    # manually write text on each cell (seaborn annot doesn't look good)\n",
    "    for i, j in itertools.product(range(nrow), range(ncol)):\n",
    "        # x:col, y:rows, the origin is top left corner, makes bottom <->top\n",
    "        plt.text(x=j, y=i, s=f'{tensor[i,j].item():.2f}', ha='center', va='center', color='grey')\n",
    "    plt.axis('off')"
   ]
  },
  {
   "attachments": {},
   "cell_type": "markdown",
   "metadata": {},
   "source": [
    "## create the training set of (x,y)\n",
    "\n",
    "1. we need a block_size or context input window, meaning how many characters do we take to predict the next one?\n",
    "\n",
    "2. to predict the first character e.g: e in emma, we need 3 previous characters! we assume theses pairs of input-output:\n",
    "\n",
    "    '...' ---> 'e'\n",
    "\n",
    "    '..e' ---> 'm'\n",
    "\n",
    "    '.em' ---> 'm'\n",
    "\n",
    "    'emm' ---> 'a'\n",
    "\n",
    "    'mma' ---> '.'"
   ]
  },
  {
   "cell_type": "code",
   "execution_count": 5,
   "metadata": {},
   "outputs": [
    {
     "name": "stdout",
     "output_type": "stream",
     "text": [
      "xs = tensor([[ 0,  0,  0,  0],\n",
      "        [ 0,  0,  0,  5],\n",
      "        [ 0,  0,  5, 13],\n",
      "        [ 0,  5, 13, 13],\n",
      "        [ 5, 13, 13,  1],\n",
      "        [ 0,  0,  0,  0],\n",
      "        [ 0,  0,  0, 15],\n",
      "        [ 0,  0, 15, 12],\n",
      "        [ 0, 15, 12,  9],\n",
      "        [15, 12,  9, 22],\n",
      "        [12,  9, 22,  9],\n",
      "        [ 9, 22,  9,  1],\n",
      "        [ 0,  0,  0,  0],\n",
      "        [ 0,  0,  0,  1],\n",
      "        [ 0,  0,  1, 22],\n",
      "        [ 0,  1, 22,  1],\n",
      "        [ 0,  0,  0,  0],\n",
      "        [ 0,  0,  0,  9],\n",
      "        [ 0,  0,  9, 19],\n",
      "        [ 0,  9, 19,  1],\n",
      "        [ 9, 19,  1,  2],\n",
      "        [19,  1,  2,  5],\n",
      "        [ 1,  2,  5, 12],\n",
      "        [ 2,  5, 12, 12],\n",
      "        [ 5, 12, 12,  1],\n",
      "        [ 0,  0,  0,  0],\n",
      "        [ 0,  0,  0, 19],\n",
      "        [ 0,  0, 19, 15],\n",
      "        [ 0, 19, 15, 16],\n",
      "        [19, 15, 16,  8],\n",
      "        [15, 16,  8,  9],\n",
      "        [16,  8,  9,  1]])\n",
      "dataset_size = 32\n",
      "window_size = 4\n",
      "nclass = 27\n"
     ]
    }
   ],
   "source": [
    "xs, ys = [], []\n",
    "\n",
    "# context input window: how many characters do we take to predict the next one?\n",
    "window_size = 4\n",
    "\n",
    "for w in words[:5]:\n",
    "    context_window = [0]*window_size\n",
    "    for ch in f'{w}.':\n",
    "        idx_y = s_to_i[ch]\n",
    "        ys.append(idx_y)\n",
    "\n",
    "        xs.append(context_window) # input : ch1\n",
    "        # print(''.join(i_to_s[i] for i in context_window) + f' ---> {ch}' )\n",
    "\n",
    "        # shift_to_left context window and append the idx_y\n",
    "        context_window = context_window[1:] + [idx_y]\n",
    "xs = torch.tensor(xs)\n",
    "# ys = torch.Tensor(ys)\n",
    "ys = torch.tensor(ys)\n",
    "print(f'{xs = }')\n",
    "# print(ys)\n",
    "dataset_size = xs.shape[0]\n",
    "print(f'{dataset_size = }')\n",
    "print(f'{window_size = }')\n",
    "nclass = 27\n",
    "print(f'{nclass = }')"
   ]
  },
  {
   "attachments": {},
   "cell_type": "markdown",
   "metadata": {},
   "source": [
    "## Emebeddings Look-up table\n",
    "in the paper, they embed 17K words into 30 dimensional embedding vectors.\n",
    "\n",
    "we have 27 characters, let's embed them into 2 dimensional embedding vectors.\n",
    "\n",
    "we initialize them with a normal distro. and store them in a tensor as a look up table\n",
    "\n",
    "we can treat it as a look up table"
   ]
  },
  {
   "cell_type": "code",
   "execution_count": 6,
   "metadata": {},
   "outputs": [
    {
     "name": "stdout",
     "output_type": "stream",
     "text": [
      "tensor([[ 1.5674, -0.2373],\n",
      "        [-0.0274, -1.1008],\n",
      "        [ 0.2859, -0.0296],\n",
      "        [-1.5471,  0.6049],\n",
      "        [ 0.0791,  0.9046],\n",
      "        [-0.4713,  0.7868],\n",
      "        [-0.3284, -0.4330],\n",
      "        [ 1.3729,  2.9334],\n",
      "        [ 1.5618, -1.6261],\n",
      "        [ 0.6772, -0.8404],\n",
      "        [ 0.9849, -0.1484],\n",
      "        [-1.4795,  0.4483],\n",
      "        [-0.0707,  2.4968],\n",
      "        [ 2.4448, -0.6701],\n",
      "        [-1.2199,  0.3031],\n",
      "        [-1.0725,  0.7276],\n",
      "        [ 0.0511,  1.3095],\n",
      "        [-0.8022, -0.8504],\n",
      "        [-1.8068,  1.2523],\n",
      "        [ 0.1476, -1.0006],\n",
      "        [-0.5030, -1.0660],\n",
      "        [ 0.8480,  2.0275],\n",
      "        [-0.1158, -1.2078],\n",
      "        [-1.0406, -1.5367],\n",
      "        [-0.5132,  0.2961],\n",
      "        [-1.4904, -0.2838],\n",
      "        [ 0.2569,  0.2130]])\n"
     ]
    },
    {
     "data": {
      "text/plain": [
       "tensor([ 1.5674, -0.2373])"
      ]
     },
     "execution_count": 6,
     "metadata": {},
     "output_type": "execute_result"
    }
   ],
   "source": [
    "g = torch.Generator().manual_seed(2147483647)\n",
    "# for each character, \n",
    "emb_lkt = torch.randn(nclass,2, generator=g)\n",
    "print(emb_lkt)\n",
    "emb_lkt[0] # embedding of '.'"
   ]
  },
  {
   "attachments": {},
   "cell_type": "markdown",
   "metadata": {},
   "source": [
    "### play around with torch\n",
    "to learn the syntax, common errors, and common practices:"
   ]
  },
  {
   "cell_type": "code",
   "execution_count": 7,
   "metadata": {},
   "outputs": [
    {
     "data": {
      "text/plain": [
       "0"
      ]
     },
     "execution_count": 7,
     "metadata": {},
     "output_type": "execute_result"
    }
   ],
   "source": [
    "s_to_i['.']"
   ]
  },
  {
   "attachments": {},
   "cell_type": "markdown",
   "metadata": {},
   "source": [
    "encodings input must be a tensor"
   ]
  },
  {
   "cell_type": "code",
   "execution_count": 8,
   "metadata": {},
   "outputs": [
    {
     "ename": "TypeError",
     "evalue": "one_hot(): argument 'input' (position 1) must be Tensor, not int",
     "output_type": "error",
     "traceback": [
      "\u001b[0;31m---------------------------------------------------------------------------\u001b[0m",
      "\u001b[0;31mTypeError\u001b[0m                                 Traceback (most recent call last)",
      "Cell \u001b[0;32mIn[8], line 1\u001b[0m\n\u001b[0;32m----> 1\u001b[0m F\u001b[39m.\u001b[39;49mone_hot(s_to_i[\u001b[39m'\u001b[39;49m\u001b[39m.\u001b[39;49m\u001b[39m'\u001b[39;49m], num_classes \u001b[39m=\u001b[39;49m nclass)\n",
      "\u001b[0;31mTypeError\u001b[0m: one_hot(): argument 'input' (position 1) must be Tensor, not int"
     ]
    }
   ],
   "source": [
    "F.one_hot(s_to_i['.'], num_classes = nclass)"
   ]
  },
  {
   "cell_type": "code",
   "execution_count": null,
   "metadata": {},
   "outputs": [
    {
     "ename": "TypeError",
     "evalue": "one_hot(): argument 'input' (position 1) must be Tensor, not list",
     "output_type": "error",
     "traceback": [
      "\u001b[0;31m---------------------------------------------------------------------------\u001b[0m",
      "\u001b[0;31mTypeError\u001b[0m                                 Traceback (most recent call last)",
      "Cell \u001b[0;32mIn[57], line 1\u001b[0m\n\u001b[0;32m----> 1\u001b[0m F\u001b[39m.\u001b[39;49mone_hot([s_to_i[\u001b[39m'\u001b[39;49m\u001b[39m.\u001b[39;49m\u001b[39m'\u001b[39;49m]], num_classes \u001b[39m=\u001b[39;49m nclass)\n",
      "\u001b[0;31mTypeError\u001b[0m: one_hot(): argument 'input' (position 1) must be Tensor, not list"
     ]
    }
   ],
   "source": [
    "F.one_hot([s_to_i['.']], num_classes = nclass)"
   ]
  },
  {
   "cell_type": "code",
   "execution_count": null,
   "metadata": {},
   "outputs": [
    {
     "data": {
      "text/plain": [
       "tensor([1, 0, 0, 0, 0, 0, 0, 0, 0, 0, 0, 0, 0, 0, 0, 0, 0, 0, 0, 0, 0, 0, 0, 0,\n",
       "        0, 0, 0])"
      ]
     },
     "execution_count": 39,
     "metadata": {},
     "output_type": "execute_result"
    }
   ],
   "source": [
    "F.one_hot(torch.tensor(s_to_i['.']), num_classes = nclass)"
   ]
  },
  {
   "attachments": {},
   "cell_type": "markdown",
   "metadata": {},
   "source": [
    "remember: torch can not multiply 2 different type of tensors!! the output of one-hot is int (long)"
   ]
  },
  {
   "cell_type": "code",
   "execution_count": null,
   "metadata": {},
   "outputs": [
    {
     "ename": "RuntimeError",
     "evalue": "expected scalar type Long but found Float",
     "output_type": "error",
     "traceback": [
      "\u001b[0;31m---------------------------------------------------------------------------\u001b[0m",
      "\u001b[0;31mRuntimeError\u001b[0m                              Traceback (most recent call last)",
      "Cell \u001b[0;32mIn[40], line 1\u001b[0m\n\u001b[0;32m----> 1\u001b[0m F\u001b[39m.\u001b[39;49mone_hot(torch\u001b[39m.\u001b[39;49mtensor(s_to_i[\u001b[39m'\u001b[39;49m\u001b[39m.\u001b[39;49m\u001b[39m'\u001b[39;49m]), num_classes \u001b[39m=\u001b[39;49m nclass) \u001b[39m@\u001b[39;49m embeddings\n",
      "\u001b[0;31mRuntimeError\u001b[0m: expected scalar type Long but found Float"
     ]
    }
   ],
   "source": [
    "F.one_hot(torch.tensor(s_to_i['.']), num_classes = nclass) @ emb_lkt"
   ]
  },
  {
   "attachments": {},
   "cell_type": "markdown",
   "metadata": {},
   "source": [
    "If we **`multiply the one-hot encoding to the emb_lkt`** we get the corresponding **`embedding of the character`**.\n",
    "\n",
    "this means we can **`treat embedding dimensions as the weights of the first layer with 2 Neurons (in:27, out:2) `** connected to the **`one-hot inputs`** (for each activated input, the emb_lkt that are weights pass to the output).\n",
    "\n",
    "This means we can also train the emb_lkt !!"
   ]
  },
  {
   "cell_type": "code",
   "execution_count": null,
   "metadata": {},
   "outputs": [
    {
     "data": {
      "text/plain": [
       "tensor([ 1.5674, -0.2373])"
      ]
     },
     "execution_count": 84,
     "metadata": {},
     "output_type": "execute_result"
    }
   ],
   "source": [
    "F.one_hot(torch.tensor(s_to_i['.']), num_classes = nclass).float() @ emb_lkt"
   ]
  },
  {
   "attachments": {},
   "cell_type": "markdown",
   "metadata": {},
   "source": [
    "but we are going to use a simple indexing, like emb_lkt[0], for now, bc it's simply faster, no need for matrix multiplication"
   ]
  },
  {
   "attachments": {},
   "cell_type": "markdown",
   "metadata": {},
   "source": [
    "### get the embeddings of context window\n",
    "\n",
    "As we had before, we can index a tensor with a list or another tensor 1d or 2d or ... in torch :)))\n",
    "\n",
    "The shape of emb_lkt is : ncharacter, num embedding dimension\n",
    "\n",
    "when we index with another nD tensor or list, torch treats each entry in that tensor or list as an index.\n",
    "\n",
    "So the shape of output will be exactly the shape of the nD tensor or list, and replacing (map) each index with their embeddings"
   ]
  },
  {
   "cell_type": "code",
   "execution_count": 7,
   "metadata": {},
   "outputs": [
    {
     "name": "stdout",
     "output_type": "stream",
     "text": [
      "tensor([ 1.5674, -0.2373])\n",
      "tensor([ 1.5674, -0.2373])\n",
      "tensor(-0.2373)\n",
      "tensor([[ 1.5674, -0.2373],\n",
      "        [-0.0274, -1.1008]])\n",
      "tensor([[ 1.5674, -0.2373],\n",
      "        [ 1.5674, -0.2373],\n",
      "        [ 1.5674, -0.2373],\n",
      "        [-0.0274, -1.1008]])\n",
      "tensor([[[ 1.5674, -0.2373],\n",
      "         [ 1.5674, -0.2373],\n",
      "         [ 1.5674, -0.2373],\n",
      "         [-0.0274, -1.1008]],\n",
      "\n",
      "        [[ 1.5674, -0.2373],\n",
      "         [ 1.5674, -0.2373],\n",
      "         [-0.0274, -1.1008],\n",
      "         [ 0.2859, -0.0296]]])\n"
     ]
    }
   ],
   "source": [
    "print(emb_lkt[s_to_i['.']])\n",
    "print(emb_lkt[0]) # embedding of '.'\n",
    "print(emb_lkt[0,1]) # the 2nd item of embedding of '.'\n",
    "print(emb_lkt[[0,1]]) # embeddings of '.a'\n",
    "print(emb_lkt[torch.tensor([0,0,0,1])]) # embeddings of '...a'\n",
    "print(emb_lkt[torch.tensor( [[0,0,0,1], [0,0,1,2]] )]) # embeddings of '...a' & '..ab'\n"
   ]
  },
  {
   "attachments": {},
   "cell_type": "markdown",
   "metadata": {},
   "source": [
    "So we can get the embedding of the whole data set!"
   ]
  },
  {
   "cell_type": "code",
   "execution_count": 10,
   "metadata": {},
   "outputs": [
    {
     "data": {
      "text/plain": [
       "torch.Size([228146, 4, 2])"
      ]
     },
     "execution_count": 10,
     "metadata": {},
     "output_type": "execute_result"
    }
   ],
   "source": [
    "emb_lkt[xs].shape # sample in batch, place in input window, embedding dim for each character"
   ]
  },
  {
   "cell_type": "code",
   "execution_count": 11,
   "metadata": {},
   "outputs": [
    {
     "name": "stdout",
     "output_type": "stream",
     "text": [
      "tensor(0)\n",
      "tensor([ 1.5674, -0.2373])\n"
     ]
    }
   ],
   "source": [
    "print(xs[13,2]) # 13th sample in batch , place in input window\n",
    "print(emb_lkt[xs][13,2]) # the embedding of that"
   ]
  },
  {
   "cell_type": "code",
   "execution_count": 8,
   "metadata": {},
   "outputs": [
    {
     "data": {
      "text/plain": [
       "torch.Size([32, 4, 2])"
      ]
     },
     "execution_count": 8,
     "metadata": {},
     "output_type": "execute_result"
    }
   ],
   "source": [
    "emb = emb_lkt[xs]\n",
    "emb_dim = emb.shape[-1]\n",
    "emb.shape\n",
    "# sample in batch, place in input window, embedding dim for each character"
   ]
  },
  {
   "attachments": {},
   "cell_type": "markdown",
   "metadata": {},
   "source": [
    "## constructing the hidden layer\n",
    "we have a n_place_in_window * embedding_dim input"
   ]
  },
  {
   "cell_type": "code",
   "execution_count": 9,
   "metadata": {},
   "outputs": [
    {
     "data": {
      "text/plain": [
       "torch.Size([8, 100])"
      ]
     },
     "execution_count": 9,
     "metadata": {},
     "output_type": "execute_result"
    }
   ],
   "source": [
    "hlayer_size = 100\n",
    "g = torch.Generator().manual_seed(2147483647)\n",
    "W1 = torch.randn( window_size*emb_dim, hlayer_size , generator=g)\n",
    "b1 = torch.randn( hlayer_size, generator=g)\n",
    "W1.shape"
   ]
  },
  {
   "attachments": {},
   "cell_type": "markdown",
   "metadata": {},
   "source": [
    "so the shape of emb & W1 does not allow us to multiply them!!"
   ]
  },
  {
   "cell_type": "code",
   "execution_count": null,
   "metadata": {},
   "outputs": [
    {
     "ename": "RuntimeError",
     "evalue": "mat1 and mat2 shapes cannot be multiplied (128x2 and 8x100)",
     "output_type": "error",
     "traceback": [
      "\u001b[0;31m---------------------------------------------------------------------------\u001b[0m",
      "\u001b[0;31mRuntimeError\u001b[0m                              Traceback (most recent call last)",
      "Cell \u001b[0;32mIn[95], line 1\u001b[0m\n\u001b[0;32m----> 1\u001b[0m emb \u001b[39m@\u001b[39;49m W1 \u001b[39m+\u001b[39m b\n",
      "\u001b[0;31mRuntimeError\u001b[0m: mat1 and mat2 shapes cannot be multiplied (128x2 and 8x100)"
     ]
    }
   ],
   "source": [
    "emb @ W1 + b"
   ]
  },
  {
   "attachments": {},
   "cell_type": "markdown",
   "metadata": {},
   "source": [
    "we need to flatten the input window (4*2) to 8 !!\n",
    "\n",
    "There multiple ways to that:\n",
    "\n",
    "1- the unefficient, memory intensive one:\n",
    "\n",
    "torch.cat(tensors=, dim=)"
   ]
  },
  {
   "cell_type": "code",
   "execution_count": null,
   "metadata": {},
   "outputs": [
    {
     "data": {
      "text/plain": [
       "torch.Size([32, 8])"
      ]
     },
     "execution_count": 100,
     "metadata": {},
     "output_type": "execute_result"
    }
   ],
   "source": [
    "new_emb = torch.cat(tensors=[emb[:,w,:] for w in range(window_size)], dim=1) # dim=0 is for samples , dim=1 is for window_slots\n",
    "new_emb.shape"
   ]
  },
  {
   "cell_type": "code",
   "execution_count": null,
   "metadata": {},
   "outputs": [
    {
     "data": {
      "text/plain": [
       "torch.Size([32, 8])"
      ]
     },
     "execution_count": 101,
     "metadata": {},
     "output_type": "execute_result"
    }
   ],
   "source": [
    "# use unbind instead of loop: give separate tensors of window slots\n",
    "new_emb = torch.cat(tensors=torch.unbind(emb, dim=1), dim=1)\n",
    "new_emb.shape"
   ]
  },
  {
   "attachments": {},
   "cell_type": "markdown",
   "metadata": {},
   "source": [
    "2. The best way is to use torch.view()"
   ]
  },
  {
   "attachments": {},
   "cell_type": "markdown",
   "metadata": {},
   "source": [
    "#### Tutorial on concatination in PyTorch\n",
    "\n",
    "it's extremely efficient, here is a tutorial about torch"
   ]
  },
  {
   "cell_type": "code",
   "execution_count": null,
   "metadata": {},
   "outputs": [
    {
     "data": {
      "text/plain": [
       "tensor([ 0,  1,  2,  3,  4,  5,  6,  7,  8,  9, 10, 11, 12, 13, 14, 15, 16, 17])"
      ]
     },
     "execution_count": 102,
     "metadata": {},
     "output_type": "execute_result"
    }
   ],
   "source": [
    "a = torch.arange(18)\n",
    "a"
   ]
  },
  {
   "cell_type": "code",
   "execution_count": null,
   "metadata": {},
   "outputs": [
    {
     "data": {
      "text/plain": [
       "tensor([[ 0,  1,  2,  3,  4,  5,  6,  7,  8],\n",
       "        [ 9, 10, 11, 12, 13, 14, 15, 16, 17]])"
      ]
     },
     "execution_count": 103,
     "metadata": {},
     "output_type": "execute_result"
    }
   ],
   "source": [
    "a.view(2,9)"
   ]
  },
  {
   "cell_type": "code",
   "execution_count": null,
   "metadata": {},
   "outputs": [
    {
     "data": {
      "text/plain": [
       "tensor([[ 0,  1],\n",
       "        [ 2,  3],\n",
       "        [ 4,  5],\n",
       "        [ 6,  7],\n",
       "        [ 8,  9],\n",
       "        [10, 11],\n",
       "        [12, 13],\n",
       "        [14, 15],\n",
       "        [16, 17]])"
      ]
     },
     "execution_count": 104,
     "metadata": {},
     "output_type": "execute_result"
    }
   ],
   "source": [
    "a.view(9,2)"
   ]
  },
  {
   "attachments": {},
   "cell_type": "markdown",
   "metadata": {},
   "source": [
    "torch can also infer a dimension by assigning -1 :)))"
   ]
  },
  {
   "cell_type": "code",
   "execution_count": null,
   "metadata": {},
   "outputs": [
    {
     "data": {
      "text/plain": [
       "tensor([[[ 0,  1,  2],\n",
       "         [ 3,  4,  5],\n",
       "         [ 6,  7,  8]],\n",
       "\n",
       "        [[ 9, 10, 11],\n",
       "         [12, 13, 14],\n",
       "         [15, 16, 17]]])"
      ]
     },
     "execution_count": 109,
     "metadata": {},
     "output_type": "execute_result"
    }
   ],
   "source": [
    "a.view(-1,3,3)"
   ]
  },
  {
   "cell_type": "code",
   "execution_count": null,
   "metadata": {},
   "outputs": [
    {
     "data": {
      "text/plain": [
       "tensor([[[ 0,  1,  2],\n",
       "         [ 3,  4,  5],\n",
       "         [ 6,  7,  8]],\n",
       "\n",
       "        [[ 9, 10, 11],\n",
       "         [12, 13, 14],\n",
       "         [15, 16, 17]]])"
      ]
     },
     "execution_count": 105,
     "metadata": {},
     "output_type": "execute_result"
    }
   ],
   "source": [
    "a.view(2,3,3)"
   ]
  },
  {
   "attachments": {},
   "cell_type": "markdown",
   "metadata": {},
   "source": [
    "This is due to the way torch stores the values:\n",
    "\n",
    "in each tensor, there is an underlying \"storage()\", which is a 1d \"sequence\", and this is how each tensor is represented in the computer memory.\n",
    "\n",
    "When we call .view(2,3,3) we're manipulating some of the attributes of that tensor, that dictates to torch how this 1d vector sequence is interpreted to be an nD tensor\n",
    "\n",
    "This is amazing bc when we call .view(), it's done without any memory operation (copy, paste, erase, move ).\n",
    "\n",
    "Those attributes are offsets, strides and shapes, if you need. Search for PyTorch Internals"
   ]
  },
  {
   "cell_type": "code",
   "execution_count": null,
   "metadata": {},
   "outputs": [
    {
     "data": {
      "text/plain": [
       " 0\n",
       " 1\n",
       " 2\n",
       " 3\n",
       " 4\n",
       " 5\n",
       " 6\n",
       " 7\n",
       " 8\n",
       " 9\n",
       " 10\n",
       " 11\n",
       " 12\n",
       " 13\n",
       " 14\n",
       " 15\n",
       " 16\n",
       " 17\n",
       "[torch.storage.TypedStorage(dtype=torch.int64, device=cpu) of size 18]"
      ]
     },
     "execution_count": 106,
     "metadata": {},
     "output_type": "execute_result"
    }
   ],
   "source": [
    "a.storage()"
   ]
  },
  {
   "attachments": {},
   "cell_type": "markdown",
   "metadata": {},
   "source": [
    "#### Back to our embeddings"
   ]
  },
  {
   "attachments": {},
   "cell_type": "markdown",
   "metadata": {},
   "source": [
    "so basically you don't need to define another tensor for concatination!! just use .view() and -1 for indexing in operations :))"
   ]
  },
  {
   "cell_type": "code",
   "execution_count": null,
   "metadata": {},
   "outputs": [],
   "source": [
    "\n",
    "emb.view(dataset_size, window_size*emb_dim) == new_emb"
   ]
  },
  {
   "attachments": {},
   "cell_type": "markdown",
   "metadata": {},
   "source": [
    "Now for @ we can do it easily.\n",
    "\n",
    "let's check for the + and broadcasting!!:"
   ]
  },
  {
   "cell_type": "code",
   "execution_count": null,
   "metadata": {},
   "outputs": [
    {
     "name": "stdout",
     "output_type": "stream",
     "text": [
      "torch.Size([100])\n"
     ]
    },
    {
     "data": {
      "text/plain": [
       "torch.Size([32, 100])"
      ]
     },
     "execution_count": 116,
     "metadata": {},
     "output_type": "execute_result"
    }
   ],
   "source": [
    "print(b1.shape)\n",
    "(emb.view(dataset_size, -1)@W1).shape"
   ]
  },
  {
   "attachments": {},
   "cell_type": "markdown",
   "metadata": {},
   "source": [
    "dataset_size | hlayer_size\n",
    "\n",
    "nothing    | hlayer_size\n",
    "\n",
    "Broadcasting will create a fake dimension in b and copy that dataset_size times. and the same bias will be added to all samples."
   ]
  },
  {
   "cell_type": "code",
   "execution_count": 10,
   "metadata": {},
   "outputs": [
    {
     "data": {
      "text/plain": [
       "torch.Size([32, 100])"
      ]
     },
     "execution_count": 10,
     "metadata": {},
     "output_type": "execute_result"
    }
   ],
   "source": [
    "h = torch.tanh(emb.view(dataset_size, -1)@W1 + b1 )\n",
    "h.shape"
   ]
  },
  {
   "attachments": {},
   "cell_type": "markdown",
   "metadata": {},
   "source": [
    "## the output layer\n"
   ]
  },
  {
   "cell_type": "code",
   "execution_count": 11,
   "metadata": {},
   "outputs": [],
   "source": [
    "g = torch.Generator().manual_seed(2147483647)\n",
    "W2 = torch.randn(hlayer_size, nclass, generator=g)\n",
    "b2 = torch.randn(nclass, generator=g)"
   ]
  },
  {
   "cell_type": "code",
   "execution_count": 12,
   "metadata": {},
   "outputs": [
    {
     "data": {
      "text/plain": [
       "torch.Size([32, 27])"
      ]
     },
     "execution_count": 12,
     "metadata": {},
     "output_type": "execute_result"
    }
   ],
   "source": [
    "logits = h @ W2 + b2\n",
    "counts = logits.exp()\n",
    "counts.shape"
   ]
  },
  {
   "cell_type": "code",
   "execution_count": 13,
   "metadata": {},
   "outputs": [
    {
     "data": {
      "text/plain": [
       "torch.Size([32, 27])"
      ]
     },
     "execution_count": 13,
     "metadata": {},
     "output_type": "execute_result"
    }
   ],
   "source": [
    "# sum must be over counts of classes for one sample\n",
    "# meaning dim 1 , broadcasting again\n",
    "probs = counts / counts.sum(dim=1, keepdim=True)\n",
    "probs.shape"
   ]
  },
  {
   "cell_type": "code",
   "execution_count": 14,
   "metadata": {},
   "outputs": [
    {
     "data": {
      "image/png": "[encoded data removed]",
      "text/plain": [
       "<Figure size 1500x3000 with 1 Axes>"
      ]
     },
     "metadata": {},
     "output_type": "display_data"
    }
   ],
   "source": [
    "plot_heatmap(probs, fig_size=(15,30))"
   ]
  },
  {
   "cell_type": "code",
   "execution_count": null,
   "metadata": {},
   "outputs": [
    {
     "data": {
      "text/plain": [
       "tensor(19.7731)"
      ]
     },
     "execution_count": 124,
     "metadata": {},
     "output_type": "execute_result"
    }
   ],
   "source": [
    "# like we had before,\n",
    "# I need to go row-by-row and get the ys col\n",
    "probs[torch.arange(dataset_size), ys]"
   ]
  },
  {
   "attachments": {},
   "cell_type": "markdown",
   "metadata": {},
   "source": [
    "## The summary of parameters"
   ]
  },
  {
   "cell_type": "code",
   "execution_count": 194,
   "metadata": {},
   "outputs": [
    {
     "data": {
      "text/plain": [
       "3681"
      ]
     },
     "execution_count": 194,
     "metadata": {},
     "output_type": "execute_result"
    }
   ],
   "source": [
    "g = torch.Generator().manual_seed(2147483647)\n",
    "emb_lkt = torch.randn( nclass, emb_dim, generator=g)\n",
    "W1 = torch.randn( window_size*emb_dim, hlayer_size , generator=g)\n",
    "b1 = torch.randn( hlayer_size, generator=g)\n",
    "W2 = torch.randn( hlayer_size, nclass, generator=g)\n",
    "b2 = torch.randn( nclass, generator=g)\n",
    "parameters = [emb_lkt, W1, b1, W2, b2]\n",
    "for p in parameters:\n",
    "    p.requires_grad = True\n",
    "    p.grad = None\n",
    "sum(p.nelement() for p in parameters)"
   ]
  },
  {
   "attachments": {},
   "cell_type": "markdown",
   "metadata": {},
   "source": [
    "## The Whole loop with PyTorch Functional"
   ]
  },
  {
   "attachments": {},
   "cell_type": "markdown",
   "metadata": {},
   "source": [
    "#### PyTorch Loss-Input Confusion (Cheatsheet)\n",
    "\n",
    "- `torch.nn.functional.binary_cross_entropy` takes (logistic sigmoid, ys) values as inputs\n",
    "- `torch.nn.functional.binary_cross_entropy_with_logits` takes (logits, ys) as inputs \n",
    "- `torch.nn.functional.cross_entropy` takes (logits, ys) as inputs (performs `log_softmax` internally)\n",
    "- `torch.nn.functional.nll_loss` is like `cross_entropy` but takes (log-probabilities or log-softmax , ys ) values as inputs"
   ]
  },
  {
   "attachments": {},
   "cell_type": "markdown",
   "metadata": {},
   "source": [
    "you must use these functionals,\n",
    "\n",
    "they're more memory efficient, bc:\n",
    "\n",
    "1- In Forward path, they don't implement intermediate operations separately like exp() then log(), then mean ,...\n",
    "\n",
    "    They have fused kernels that very efficiently evaluate these expressions.\n",
    "\n",
    "2- The backward path is mathematically simpler and faster, bc we can analytically derive a simpler equation, like we had in micrograd!! remember!!:\n",
    "\n",
    "    e.g: the gradient for tanh is (1 - tanh**2) very simpler operation than using exp() and compute everything again\n",
    "\n",
    "3- They are usually more numerically well behaved for extreme (noise) cases:\n",
    "\n",
    "    e.g: if you get a very large positive number in the logits, the exp of that might run of range in our floating point number that represent the counts, extremely high  division by zero, ...)\n",
    "\n",
    "    What PyTorch does then!?\n",
    "        \n",
    "        if you add an offset to the logits, bc of the normalization, you get the same probabilities (not counts!) afterward.\n",
    "        \n",
    "        so , torch basically, find the largest logit and subtract it, then compute the counts without any overflow!! and still giving the same probability."
   ]
  },
  {
   "cell_type": "code",
   "execution_count": null,
   "metadata": {},
   "outputs": [
    {
     "data": {
      "text/plain": [
       "tensor([0., 0., 0., nan])"
      ]
     },
     "execution_count": 133,
     "metadata": {},
     "output_type": "execute_result"
    }
   ],
   "source": [
    "# example for 3:\n",
    "logits = torch.tensor([-5, -3, 0, 100]) + 0 # * log counts\n",
    "counts = logits.exp()\n",
    "probs = counts / counts.sum()\n",
    "probs"
   ]
  },
  {
   "cell_type": "code",
   "execution_count": null,
   "metadata": {},
   "outputs": [
    {
     "data": {
      "text/plain": [
       "tensor([0.0000e+00, 1.4013e-45, 3.7835e-44, 1.0000e+00])"
      ]
     },
     "execution_count": 136,
     "metadata": {},
     "output_type": "execute_result"
    }
   ],
   "source": [
    "logits = torch.tensor([-5, -3, 0, 100]) + -100 # * log counts\n",
    "counts = logits.exp()\n",
    "probs = counts / counts.sum()\n",
    "probs"
   ]
  },
  {
   "attachments": {},
   "cell_type": "markdown",
   "metadata": {},
   "source": [
    "### batch optimization & SGD\n",
    "like the permutation we had in micrograd\n",
    "\n",
    "here we use torch.randint to get random int\n",
    "\n",
    "we must index both xs & ys"
   ]
  },
  {
   "cell_type": "code",
   "execution_count": 166,
   "metadata": {},
   "outputs": [
    {
     "data": {
      "text/plain": [
       "tensor([190294,  91512, 225753, 142058, 217020, 201322,  91490,  26965])"
      ]
     },
     "execution_count": 166,
     "metadata": {},
     "output_type": "execute_result"
    }
   ],
   "source": [
    "batch_size = 8\n",
    "torch.randint(low=0, high=dataset_size, size=(batch_size,))"
   ]
  },
  {
   "attachments": {},
   "cell_type": "markdown",
   "metadata": {},
   "source": [
    "### the loop"
   ]
  },
  {
   "cell_type": "code",
   "execution_count": 179,
   "metadata": {},
   "outputs": [
    {
     "name": "stdout",
     "output_type": "stream",
     "text": [
      "iteration: 0 | loss: 2.928352117538452\n",
      "iteration: 1 | loss: 2.6236789226531982\n",
      "iteration: 2 | loss: 2.571687936782837\n",
      "iteration: 3 | loss: 2.542731523513794\n",
      "iteration: 4 | loss: 2.5214524269104004\n",
      "iteration: 5 | loss: 2.5054826736450195\n",
      "iteration: 6 | loss: 2.5027477741241455\n",
      "iteration: 7 | loss: 2.4928383827209473\n",
      "iteration: 8 | loss: 2.483626365661621\n",
      "iteration: 9 | loss: 2.4799180030822754\n",
      "iteration: 10 | loss: 2.478471279144287\n",
      "iteration: 11 | loss: 2.4739043712615967\n",
      "iteration: 12 | loss: 2.4694454669952393\n",
      "iteration: 13 | loss: 2.4668385982513428\n",
      "iteration: 14 | loss: 2.46107816696167\n",
      "iteration: 15 | loss: 2.460569143295288\n",
      "iteration: 16 | loss: 2.454664707183838\n",
      "iteration: 17 | loss: 2.4541611671447754\n",
      "iteration: 18 | loss: 2.450788736343384\n",
      "iteration: 19 | loss: 2.4482078552246094\n",
      "iteration: 20 | loss: 2.4487555027008057\n",
      "iteration: 21 | loss: 2.4499707221984863\n",
      "iteration: 22 | loss: 2.4439096450805664\n",
      "iteration: 23 | loss: 2.444772720336914\n",
      "iteration: 24 | loss: 2.441730260848999\n",
      "iteration: 25 | loss: 2.4416680335998535\n",
      "iteration: 26 | loss: 2.440441370010376\n",
      "iteration: 27 | loss: 2.4427223205566406\n",
      "iteration: 28 | loss: 2.439631223678589\n",
      "iteration: 29 | loss: 2.4372811317443848\n",
      "iteration: 30 | loss: 2.4411916732788086\n",
      "iteration: 31 | loss: 2.4374783039093018\n",
      "iteration: 32 | loss: 2.439962148666382\n",
      "iteration: 33 | loss: 2.4335861206054688\n",
      "iteration: 34 | loss: 2.4367005825042725\n",
      "iteration: 35 | loss: 2.4333174228668213\n",
      "iteration: 36 | loss: 2.435232639312744\n",
      "iteration: 37 | loss: 2.4329493045806885\n",
      "iteration: 38 | loss: 2.4331469535827637\n",
      "iteration: 39 | loss: 2.43019700050354\n",
      "iteration: 40 | loss: 2.4313275814056396\n",
      "iteration: 41 | loss: 2.4269707202911377\n",
      "iteration: 42 | loss: 2.4309604167938232\n",
      "iteration: 43 | loss: 2.4290995597839355\n",
      "iteration: 44 | loss: 2.4271185398101807\n",
      "iteration: 45 | loss: 2.428593397140503\n",
      "iteration: 46 | loss: 2.428602457046509\n",
      "iteration: 47 | loss: 2.426778793334961\n",
      "iteration: 48 | loss: 2.429023027420044\n",
      "iteration: 49 | loss: 2.424548864364624\n",
      "iteration: 50 | loss: 2.4216878414154053\n",
      "iteration: 51 | loss: 2.4288547039031982\n",
      "iteration: 52 | loss: 2.4215641021728516\n",
      "iteration: 53 | loss: 2.4273953437805176\n",
      "iteration: 54 | loss: 2.425992250442505\n",
      "iteration: 55 | loss: 2.4273250102996826\n",
      "iteration: 56 | loss: 2.429548501968384\n",
      "iteration: 57 | loss: 2.4264917373657227\n",
      "iteration: 58 | loss: 2.4201173782348633\n",
      "iteration: 59 | loss: 2.425520896911621\n",
      "iteration: 60 | loss: 2.4232378005981445\n",
      "iteration: 61 | loss: 2.423041343688965\n",
      "iteration: 62 | loss: 2.4236412048339844\n",
      "iteration: 63 | loss: 2.42353892326355\n",
      "iteration: 64 | loss: 2.420792579650879\n",
      "iteration: 65 | loss: 2.418930768966675\n",
      "iteration: 66 | loss: 2.4217960834503174\n",
      "iteration: 67 | loss: 2.4199588298797607\n",
      "iteration: 68 | loss: 2.4269328117370605\n",
      "iteration: 69 | loss: 2.4186038970947266\n",
      "iteration: 70 | loss: 2.4255564212799072\n",
      "iteration: 71 | loss: 2.419386148452759\n",
      "iteration: 72 | loss: 2.4182116985321045\n",
      "iteration: 73 | loss: 2.41591739654541\n",
      "iteration: 74 | loss: 2.4194657802581787\n",
      "iteration: 75 | loss: 2.4173741340637207\n",
      "iteration: 76 | loss: 2.425084352493286\n",
      "iteration: 77 | loss: 2.4179277420043945\n",
      "iteration: 78 | loss: 2.4214162826538086\n",
      "iteration: 79 | loss: 2.422910213470459\n",
      "iteration: 80 | loss: 2.4181060791015625\n",
      "iteration: 81 | loss: 2.4177305698394775\n",
      "iteration: 82 | loss: 2.4165890216827393\n",
      "iteration: 83 | loss: 2.4176549911499023\n",
      "iteration: 84 | loss: 2.419264078140259\n",
      "iteration: 85 | loss: 2.4201362133026123\n",
      "iteration: 86 | loss: 2.4222323894500732\n",
      "iteration: 87 | loss: 2.416253089904785\n",
      "iteration: 88 | loss: 2.416426658630371\n",
      "iteration: 89 | loss: 2.4212584495544434\n",
      "iteration: 90 | loss: 2.4119722843170166\n",
      "iteration: 91 | loss: 2.421651840209961\n",
      "iteration: 92 | loss: 2.416386604309082\n",
      "iteration: 93 | loss: 2.4157633781433105\n",
      "iteration: 94 | loss: 2.4186532497406006\n",
      "iteration: 95 | loss: 2.41593599319458\n",
      "iteration: 96 | loss: 2.4151055812835693\n",
      "iteration: 97 | loss: 2.4153177738189697\n",
      "iteration: 98 | loss: 2.4176149368286133\n",
      "iteration: 99 | loss: 2.415022134780884\n"
     ]
    }
   ],
   "source": [
    "lr = 0.1\n",
    "l2coef = 0.01\n",
    "batch_size = dataset_size\n",
    "\n",
    "for k in range(100):\n",
    "    \n",
    "    # Forward path\n",
    "    mini_batch_idx = torch.randint(low=0, high=dataset_size, size=(batch_size,))\n",
    "    emb = emb_lkt[xs[mini_batch_idx]] # batch_size, window_size, emb_dim\n",
    "    h = torch.tanh(emb.view(batch_size, -1)@W1 + b1 ) # batch_size, hlayer_size\n",
    "    logits = h @ W2 + b2 # * log counts [batch_size, nclass]\n",
    "    # counts = logits.exp() # * equivalent to counts [b, nclass]\n",
    "    # probs = counts / counts.sum(dim=1 , keepdim=True) #[b, nclass]\n",
    "     \n",
    "    # loss = -probs[torch.arange(batch_size), ys].log().mean() + l2coef*(W**2).mean()\n",
    "\n",
    "    loss = F.cross_entropy(logits, ys[mini_batch_idx])\n",
    "\n",
    "    # for p in parameters:\n",
    "    #     p.grad = None\n",
    "    loss.backward()\n",
    "\n",
    "    # update &\n",
    "    # set the weight grads to None, PyTorch interpret it as 0\n",
    "    # but None is more efficient\n",
    "    for p in parameters:\n",
    "        p.data -= lr*p.grad\n",
    "        p.grad = None\n",
    "\n",
    "    print(f'iteration: {k} | loss: {loss.item()}')"
   ]
  },
  {
   "attachments": {},
   "cell_type": "markdown",
   "metadata": {},
   "source": [
    "### Learning rate Exploration\n",
    "torch.linspace() gives us a 1d tensor of size steps evenly spaced from start to end "
   ]
  },
  {
   "attachments": {},
   "cell_type": "markdown",
   "metadata": {},
   "source": [
    "plot the loss & lr to find the best lr\n",
    "\n",
    "during exploration, start from low to high learning rates, bc they usually have low reduction in loss and allow larger ones to get to the party.\n",
    "\n",
    "set batch_size not very low and not the whole dataset"
   ]
  },
  {
   "cell_type": "code",
   "execution_count": 183,
   "metadata": {},
   "outputs": [],
   "source": [
    "lr_expo = torch.linspace(start=-3, end=0, steps=1000)\n",
    "exponential_lr = 10**lr_expo"
   ]
  },
  {
   "cell_type": "code",
   "execution_count": 195,
   "metadata": {},
   "outputs": [
    {
     "name": "stdout",
     "output_type": "stream",
     "text": [
      "iteration: 0 | loss: 18.790063858032227\n",
      "iteration: 1 | loss: 18.748458862304688\n",
      "iteration: 2 | loss: 19.22270965576172\n",
      "iteration: 3 | loss: 16.048357009887695\n",
      "iteration: 4 | loss: 18.345142364501953\n",
      "iteration: 5 | loss: 16.60384750366211\n",
      "iteration: 6 | loss: 17.547109603881836\n",
      "iteration: 7 | loss: 19.46603775024414\n",
      "iteration: 8 | loss: 19.79237937927246\n",
      "iteration: 9 | loss: 19.57198715209961\n",
      "iteration: 10 | loss: 18.106203079223633\n",
      "iteration: 11 | loss: 16.734207153320312\n",
      "iteration: 12 | loss: 18.6744441986084\n",
      "iteration: 13 | loss: 18.30401611328125\n",
      "iteration: 14 | loss: 18.825593948364258\n",
      "iteration: 15 | loss: 17.513948440551758\n",
      "iteration: 16 | loss: 16.597421646118164\n",
      "iteration: 17 | loss: 18.806737899780273\n",
      "iteration: 18 | loss: 16.960378646850586\n",
      "iteration: 19 | loss: 18.583980560302734\n",
      "iteration: 20 | loss: 18.16211700439453\n",
      "iteration: 21 | loss: 16.314538955688477\n",
      "iteration: 22 | loss: 17.639759063720703\n",
      "iteration: 23 | loss: 20.58612823486328\n",
      "iteration: 24 | loss: 19.011287689208984\n",
      "iteration: 25 | loss: 19.131546020507812\n",
      "iteration: 26 | loss: 17.987504959106445\n",
      "iteration: 27 | loss: 16.28864860534668\n",
      "iteration: 28 | loss: 16.4019832611084\n",
      "iteration: 29 | loss: 16.865705490112305\n",
      "iteration: 30 | loss: 19.00101661682129\n",
      "iteration: 31 | loss: 18.28925323486328\n",
      "iteration: 32 | loss: 18.52300453186035\n",
      "iteration: 33 | loss: 19.829402923583984\n",
      "iteration: 34 | loss: 18.396438598632812\n",
      "iteration: 35 | loss: 17.7498836517334\n",
      "iteration: 36 | loss: 18.778518676757812\n",
      "iteration: 37 | loss: 17.821521759033203\n",
      "iteration: 38 | loss: 19.27577018737793\n",
      "iteration: 39 | loss: 17.69221305847168\n",
      "iteration: 40 | loss: 20.257030487060547\n",
      "iteration: 41 | loss: 16.649253845214844\n",
      "iteration: 42 | loss: 19.52474594116211\n",
      "iteration: 43 | loss: 18.721576690673828\n",
      "iteration: 44 | loss: 18.588998794555664\n",
      "iteration: 45 | loss: 17.051956176757812\n",
      "iteration: 46 | loss: 18.15502166748047\n",
      "iteration: 47 | loss: 16.84457015991211\n",
      "iteration: 48 | loss: 15.464277267456055\n",
      "iteration: 49 | loss: 17.619482040405273\n",
      "iteration: 50 | loss: 19.90827178955078\n",
      "iteration: 51 | loss: 17.84491729736328\n",
      "iteration: 52 | loss: 15.854011535644531\n",
      "iteration: 53 | loss: 18.106781005859375\n",
      "iteration: 54 | loss: 17.898134231567383\n",
      "iteration: 55 | loss: 16.41122817993164\n",
      "iteration: 56 | loss: 18.68717384338379\n",
      "iteration: 57 | loss: 16.841651916503906\n",
      "iteration: 58 | loss: 14.597664833068848\n",
      "iteration: 59 | loss: 20.48667335510254\n",
      "iteration: 60 | loss: 20.068078994750977\n",
      "iteration: 61 | loss: 17.5236873626709\n",
      "iteration: 62 | loss: 16.73959732055664\n",
      "iteration: 63 | loss: 17.174903869628906\n",
      "iteration: 64 | loss: 17.578214645385742\n",
      "iteration: 65 | loss: 18.773488998413086\n",
      "iteration: 66 | loss: 16.717239379882812\n",
      "iteration: 67 | loss: 16.10439682006836\n",
      "iteration: 68 | loss: 17.3924560546875\n",
      "iteration: 69 | loss: 16.72913360595703\n",
      "iteration: 70 | loss: 15.46021842956543\n",
      "iteration: 71 | loss: 17.543424606323242\n",
      "iteration: 72 | loss: 18.144939422607422\n",
      "iteration: 73 | loss: 19.522462844848633\n",
      "iteration: 74 | loss: 17.05181312561035\n",
      "iteration: 75 | loss: 17.15205192565918\n",
      "iteration: 76 | loss: 15.763727188110352\n",
      "iteration: 77 | loss: 18.815242767333984\n",
      "iteration: 78 | loss: 16.252243041992188\n",
      "iteration: 79 | loss: 16.58039665222168\n",
      "iteration: 80 | loss: 17.61927604675293\n",
      "iteration: 81 | loss: 18.829923629760742\n",
      "iteration: 82 | loss: 18.474824905395508\n",
      "iteration: 83 | loss: 16.09963035583496\n",
      "iteration: 84 | loss: 18.531972885131836\n",
      "iteration: 85 | loss: 17.88192367553711\n",
      "iteration: 86 | loss: 16.45526885986328\n",
      "iteration: 87 | loss: 16.386795043945312\n",
      "iteration: 88 | loss: 18.89090919494629\n",
      "iteration: 89 | loss: 16.452829360961914\n",
      "iteration: 90 | loss: 18.095226287841797\n",
      "iteration: 91 | loss: 15.697310447692871\n",
      "iteration: 92 | loss: 17.463197708129883\n",
      "iteration: 93 | loss: 18.584657669067383\n",
      "iteration: 94 | loss: 15.34922981262207\n",
      "iteration: 95 | loss: 17.725618362426758\n",
      "iteration: 96 | loss: 16.95052719116211\n",
      "iteration: 97 | loss: 15.249714851379395\n",
      "iteration: 98 | loss: 17.401941299438477\n",
      "iteration: 99 | loss: 15.068625450134277\n",
      "iteration: 100 | loss: 16.581045150756836\n",
      "iteration: 101 | loss: 15.9359130859375\n",
      "iteration: 102 | loss: 19.344863891601562\n",
      "iteration: 103 | loss: 16.900259017944336\n",
      "iteration: 104 | loss: 17.0054931640625\n",
      "iteration: 105 | loss: 16.681570053100586\n",
      "iteration: 106 | loss: 16.752012252807617\n",
      "iteration: 107 | loss: 14.654518127441406\n",
      "iteration: 108 | loss: 14.87376880645752\n",
      "iteration: 109 | loss: 16.373281478881836\n",
      "iteration: 110 | loss: 15.99789047241211\n",
      "iteration: 111 | loss: 15.037667274475098\n",
      "iteration: 112 | loss: 16.718242645263672\n",
      "iteration: 113 | loss: 15.616767883300781\n",
      "iteration: 114 | loss: 17.810148239135742\n",
      "iteration: 115 | loss: 16.14462661743164\n",
      "iteration: 116 | loss: 17.974157333374023\n",
      "iteration: 117 | loss: 16.215301513671875\n",
      "iteration: 118 | loss: 15.73886775970459\n",
      "iteration: 119 | loss: 16.27958869934082\n",
      "iteration: 120 | loss: 13.737595558166504\n",
      "iteration: 121 | loss: 16.567373275756836\n",
      "iteration: 122 | loss: 13.77530288696289\n",
      "iteration: 123 | loss: 15.7527494430542\n",
      "iteration: 124 | loss: 14.577986717224121\n",
      "iteration: 125 | loss: 16.97843360900879\n",
      "iteration: 126 | loss: 14.976412773132324\n",
      "iteration: 127 | loss: 16.760923385620117\n",
      "iteration: 128 | loss: 16.516246795654297\n",
      "iteration: 129 | loss: 13.589788436889648\n",
      "iteration: 130 | loss: 16.027557373046875\n",
      "iteration: 131 | loss: 15.093644142150879\n",
      "iteration: 132 | loss: 13.681970596313477\n",
      "iteration: 133 | loss: 17.285499572753906\n",
      "iteration: 134 | loss: 16.804950714111328\n",
      "iteration: 135 | loss: 14.131153106689453\n",
      "iteration: 136 | loss: 14.636954307556152\n",
      "iteration: 137 | loss: 15.76960277557373\n",
      "iteration: 138 | loss: 15.05977725982666\n",
      "iteration: 139 | loss: 15.441429138183594\n",
      "iteration: 140 | loss: 17.1092586517334\n",
      "iteration: 141 | loss: 15.354385375976562\n",
      "iteration: 142 | loss: 16.374736785888672\n",
      "iteration: 143 | loss: 15.462307929992676\n",
      "iteration: 144 | loss: 13.377492904663086\n",
      "iteration: 145 | loss: 14.073995590209961\n",
      "iteration: 146 | loss: 16.385038375854492\n",
      "iteration: 147 | loss: 14.8201904296875\n",
      "iteration: 148 | loss: 15.372405052185059\n",
      "iteration: 149 | loss: 15.161234855651855\n",
      "iteration: 150 | loss: 16.200048446655273\n",
      "iteration: 151 | loss: 13.985160827636719\n",
      "iteration: 152 | loss: 15.747220993041992\n",
      "iteration: 153 | loss: 14.608821868896484\n",
      "iteration: 154 | loss: 12.329568862915039\n",
      "iteration: 155 | loss: 14.827186584472656\n",
      "iteration: 156 | loss: 14.703909873962402\n",
      "iteration: 157 | loss: 14.408517837524414\n",
      "iteration: 158 | loss: 13.82406997680664\n",
      "iteration: 159 | loss: 14.440130233764648\n",
      "iteration: 160 | loss: 16.083730697631836\n",
      "iteration: 161 | loss: 15.017024993896484\n",
      "iteration: 162 | loss: 13.138899803161621\n",
      "iteration: 163 | loss: 13.745442390441895\n",
      "iteration: 164 | loss: 13.737103462219238\n",
      "iteration: 165 | loss: 16.248332977294922\n",
      "iteration: 166 | loss: 13.570671081542969\n",
      "iteration: 167 | loss: 14.521347999572754\n",
      "iteration: 168 | loss: 15.683913230895996\n",
      "iteration: 169 | loss: 14.668622016906738\n",
      "iteration: 170 | loss: 16.539098739624023\n",
      "iteration: 171 | loss: 14.163644790649414\n",
      "iteration: 172 | loss: 15.666388511657715\n",
      "iteration: 173 | loss: 12.096200942993164\n",
      "iteration: 174 | loss: 14.481639862060547\n",
      "iteration: 175 | loss: 15.154894828796387\n",
      "iteration: 176 | loss: 13.325465202331543\n",
      "iteration: 177 | loss: 13.52198600769043\n",
      "iteration: 178 | loss: 13.813164710998535\n",
      "iteration: 179 | loss: 13.500479698181152\n",
      "iteration: 180 | loss: 14.509756088256836\n",
      "iteration: 181 | loss: 14.045015335083008\n",
      "iteration: 182 | loss: 14.312114715576172\n",
      "iteration: 183 | loss: 15.291231155395508\n",
      "iteration: 184 | loss: 12.761627197265625\n",
      "iteration: 185 | loss: 14.316741943359375\n",
      "iteration: 186 | loss: 17.13913917541504\n",
      "iteration: 187 | loss: 13.074542045593262\n",
      "iteration: 188 | loss: 14.828309059143066\n",
      "iteration: 189 | loss: 13.788253784179688\n",
      "iteration: 190 | loss: 12.818023681640625\n",
      "iteration: 191 | loss: 13.773618698120117\n",
      "iteration: 192 | loss: 14.407049179077148\n",
      "iteration: 193 | loss: 16.05247688293457\n",
      "iteration: 194 | loss: 11.431963920593262\n",
      "iteration: 195 | loss: 13.264082908630371\n",
      "iteration: 196 | loss: 13.77834701538086\n",
      "iteration: 197 | loss: 11.640937805175781\n",
      "iteration: 198 | loss: 13.66938591003418\n",
      "iteration: 199 | loss: 12.735214233398438\n",
      "iteration: 200 | loss: 14.486124992370605\n",
      "iteration: 201 | loss: 12.089313507080078\n",
      "iteration: 202 | loss: 12.627653121948242\n",
      "iteration: 203 | loss: 13.205004692077637\n",
      "iteration: 204 | loss: 12.965341567993164\n",
      "iteration: 205 | loss: 14.156664848327637\n",
      "iteration: 206 | loss: 11.650269508361816\n",
      "iteration: 207 | loss: 14.422471046447754\n",
      "iteration: 208 | loss: 14.519389152526855\n",
      "iteration: 209 | loss: 12.532652854919434\n",
      "iteration: 210 | loss: 13.016448974609375\n",
      "iteration: 211 | loss: 13.447611808776855\n",
      "iteration: 212 | loss: 14.772456169128418\n",
      "iteration: 213 | loss: 13.705863952636719\n",
      "iteration: 214 | loss: 11.900623321533203\n",
      "iteration: 215 | loss: 12.18440055847168\n",
      "iteration: 216 | loss: 12.146279335021973\n",
      "iteration: 217 | loss: 15.12279224395752\n",
      "iteration: 218 | loss: 14.927041053771973\n",
      "iteration: 219 | loss: 11.785897254943848\n",
      "iteration: 220 | loss: 12.510549545288086\n",
      "iteration: 221 | loss: 13.814637184143066\n",
      "iteration: 222 | loss: 13.60486125946045\n",
      "iteration: 223 | loss: 11.796326637268066\n",
      "iteration: 224 | loss: 12.814896583557129\n",
      "iteration: 225 | loss: 12.033003807067871\n",
      "iteration: 226 | loss: 12.100242614746094\n",
      "iteration: 227 | loss: 10.798887252807617\n",
      "iteration: 228 | loss: 14.367056846618652\n",
      "iteration: 229 | loss: 12.875182151794434\n",
      "iteration: 230 | loss: 14.245563507080078\n",
      "iteration: 231 | loss: 13.616694450378418\n",
      "iteration: 232 | loss: 12.211698532104492\n",
      "iteration: 233 | loss: 12.25103759765625\n",
      "iteration: 234 | loss: 14.573525428771973\n",
      "iteration: 235 | loss: 13.461358070373535\n",
      "iteration: 236 | loss: 12.805763244628906\n",
      "iteration: 237 | loss: 12.199305534362793\n",
      "iteration: 238 | loss: 12.572505950927734\n",
      "iteration: 239 | loss: 12.841737747192383\n",
      "iteration: 240 | loss: 15.504920959472656\n",
      "iteration: 241 | loss: 14.26590347290039\n",
      "iteration: 242 | loss: 12.788105964660645\n",
      "iteration: 243 | loss: 12.120498657226562\n",
      "iteration: 244 | loss: 12.304082870483398\n",
      "iteration: 245 | loss: 13.83345890045166\n",
      "iteration: 246 | loss: 10.661700248718262\n",
      "iteration: 247 | loss: 14.599321365356445\n",
      "iteration: 248 | loss: 13.106657981872559\n",
      "iteration: 249 | loss: 13.846334457397461\n",
      "iteration: 250 | loss: 11.33028793334961\n",
      "iteration: 251 | loss: 12.177114486694336\n",
      "iteration: 252 | loss: 10.200385093688965\n",
      "iteration: 253 | loss: 14.677698135375977\n",
      "iteration: 254 | loss: 13.01028823852539\n",
      "iteration: 255 | loss: 11.811079025268555\n",
      "iteration: 256 | loss: 12.309566497802734\n",
      "iteration: 257 | loss: 11.295632362365723\n",
      "iteration: 258 | loss: 11.129182815551758\n",
      "iteration: 259 | loss: 12.114615440368652\n",
      "iteration: 260 | loss: 10.924710273742676\n",
      "iteration: 261 | loss: 12.852538108825684\n",
      "iteration: 262 | loss: 13.22807788848877\n",
      "iteration: 263 | loss: 11.87143325805664\n",
      "iteration: 264 | loss: 11.95372486114502\n",
      "iteration: 265 | loss: 11.706950187683105\n",
      "iteration: 266 | loss: 12.966978073120117\n",
      "iteration: 267 | loss: 11.162267684936523\n",
      "iteration: 268 | loss: 12.109929084777832\n",
      "iteration: 269 | loss: 12.53752613067627\n",
      "iteration: 270 | loss: 10.13936996459961\n",
      "iteration: 271 | loss: 13.898289680480957\n",
      "iteration: 272 | loss: 12.685491561889648\n",
      "iteration: 273 | loss: 11.963603973388672\n",
      "iteration: 274 | loss: 11.153299331665039\n",
      "iteration: 275 | loss: 11.132318496704102\n",
      "iteration: 276 | loss: 12.231071472167969\n",
      "iteration: 277 | loss: 12.811013221740723\n",
      "iteration: 278 | loss: 11.304866790771484\n",
      "iteration: 279 | loss: 12.508224487304688\n",
      "iteration: 280 | loss: 13.528621673583984\n",
      "iteration: 281 | loss: 11.902216911315918\n",
      "iteration: 282 | loss: 11.69247817993164\n",
      "iteration: 283 | loss: 13.04892635345459\n",
      "iteration: 284 | loss: 12.310212135314941\n",
      "iteration: 285 | loss: 12.297597885131836\n",
      "iteration: 286 | loss: 11.491304397583008\n",
      "iteration: 287 | loss: 11.533288955688477\n",
      "iteration: 288 | loss: 12.48097038269043\n",
      "iteration: 289 | loss: 12.542586326599121\n",
      "iteration: 290 | loss: 12.051445007324219\n",
      "iteration: 291 | loss: 11.684988021850586\n",
      "iteration: 292 | loss: 11.16328239440918\n",
      "iteration: 293 | loss: 11.216370582580566\n",
      "iteration: 294 | loss: 9.948883056640625\n",
      "iteration: 295 | loss: 11.856141090393066\n",
      "iteration: 296 | loss: 12.27370548248291\n",
      "iteration: 297 | loss: 12.31212043762207\n",
      "iteration: 298 | loss: 10.719023704528809\n",
      "iteration: 299 | loss: 11.295958518981934\n",
      "iteration: 300 | loss: 11.818305969238281\n",
      "iteration: 301 | loss: 11.723753929138184\n",
      "iteration: 302 | loss: 11.064619064331055\n",
      "iteration: 303 | loss: 10.558533668518066\n",
      "iteration: 304 | loss: 12.86744213104248\n",
      "iteration: 305 | loss: 11.551126480102539\n",
      "iteration: 306 | loss: 12.079648971557617\n",
      "iteration: 307 | loss: 13.586305618286133\n",
      "iteration: 308 | loss: 12.555374145507812\n",
      "iteration: 309 | loss: 11.047994613647461\n",
      "iteration: 310 | loss: 9.709903717041016\n",
      "iteration: 311 | loss: 9.91519546508789\n",
      "iteration: 312 | loss: 9.018033981323242\n",
      "iteration: 313 | loss: 12.609362602233887\n",
      "iteration: 314 | loss: 11.620190620422363\n",
      "iteration: 315 | loss: 10.748351097106934\n",
      "iteration: 316 | loss: 10.70805835723877\n",
      "iteration: 317 | loss: 10.256426811218262\n",
      "iteration: 318 | loss: 9.563146591186523\n",
      "iteration: 319 | loss: 9.554064750671387\n",
      "iteration: 320 | loss: 11.255884170532227\n",
      "iteration: 321 | loss: 10.845279693603516\n",
      "iteration: 322 | loss: 10.259825706481934\n",
      "iteration: 323 | loss: 10.376809120178223\n",
      "iteration: 324 | loss: 9.046728134155273\n",
      "iteration: 325 | loss: 11.040342330932617\n",
      "iteration: 326 | loss: 10.480454444885254\n",
      "iteration: 327 | loss: 9.776687622070312\n",
      "iteration: 328 | loss: 12.482760429382324\n",
      "iteration: 329 | loss: 11.160945892333984\n",
      "iteration: 330 | loss: 10.726906776428223\n",
      "iteration: 331 | loss: 8.703110694885254\n",
      "iteration: 332 | loss: 11.198688507080078\n",
      "iteration: 333 | loss: 10.740785598754883\n",
      "iteration: 334 | loss: 11.681741714477539\n",
      "iteration: 335 | loss: 9.257528305053711\n",
      "iteration: 336 | loss: 10.999366760253906\n",
      "iteration: 337 | loss: 9.107891082763672\n",
      "iteration: 338 | loss: 10.415938377380371\n",
      "iteration: 339 | loss: 10.543235778808594\n",
      "iteration: 340 | loss: 10.429840087890625\n",
      "iteration: 341 | loss: 9.120180130004883\n",
      "iteration: 342 | loss: 10.420907020568848\n",
      "iteration: 343 | loss: 11.044816017150879\n",
      "iteration: 344 | loss: 9.947442054748535\n",
      "iteration: 345 | loss: 10.277501106262207\n",
      "iteration: 346 | loss: 10.491239547729492\n",
      "iteration: 347 | loss: 11.964468002319336\n",
      "iteration: 348 | loss: 13.13190746307373\n",
      "iteration: 349 | loss: 9.928338050842285\n",
      "iteration: 350 | loss: 10.402729988098145\n",
      "iteration: 351 | loss: 9.122784614562988\n",
      "iteration: 352 | loss: 10.766980171203613\n",
      "iteration: 353 | loss: 11.354485511779785\n",
      "iteration: 354 | loss: 9.864550590515137\n",
      "iteration: 355 | loss: 9.937312126159668\n",
      "iteration: 356 | loss: 9.90449047088623\n",
      "iteration: 357 | loss: 9.931401252746582\n",
      "iteration: 358 | loss: 9.076011657714844\n",
      "iteration: 359 | loss: 8.99831485748291\n",
      "iteration: 360 | loss: 9.957865715026855\n",
      "iteration: 361 | loss: 9.858203887939453\n",
      "iteration: 362 | loss: 10.141417503356934\n",
      "iteration: 363 | loss: 9.293264389038086\n",
      "iteration: 364 | loss: 10.3558931350708\n",
      "iteration: 365 | loss: 9.728272438049316\n",
      "iteration: 366 | loss: 8.665481567382812\n",
      "iteration: 367 | loss: 10.198034286499023\n",
      "iteration: 368 | loss: 10.409773826599121\n",
      "iteration: 369 | loss: 9.476919174194336\n",
      "iteration: 370 | loss: 9.682291984558105\n",
      "iteration: 371 | loss: 9.729668617248535\n",
      "iteration: 372 | loss: 9.294922828674316\n",
      "iteration: 373 | loss: 11.159080505371094\n",
      "iteration: 374 | loss: 9.754140853881836\n",
      "iteration: 375 | loss: 7.553470611572266\n",
      "iteration: 376 | loss: 10.33924674987793\n",
      "iteration: 377 | loss: 8.757877349853516\n",
      "iteration: 378 | loss: 9.442033767700195\n",
      "iteration: 379 | loss: 10.88489055633545\n",
      "iteration: 380 | loss: 9.034491539001465\n",
      "iteration: 381 | loss: 8.618969917297363\n",
      "iteration: 382 | loss: 8.837777137756348\n",
      "iteration: 383 | loss: 9.607444763183594\n",
      "iteration: 384 | loss: 9.266395568847656\n",
      "iteration: 385 | loss: 7.418063640594482\n",
      "iteration: 386 | loss: 8.292861938476562\n",
      "iteration: 387 | loss: 8.084102630615234\n",
      "iteration: 388 | loss: 8.425117492675781\n",
      "iteration: 389 | loss: 8.304956436157227\n",
      "iteration: 390 | loss: 9.365994453430176\n",
      "iteration: 391 | loss: 9.744609832763672\n",
      "iteration: 392 | loss: 8.813936233520508\n",
      "iteration: 393 | loss: 8.739521980285645\n",
      "iteration: 394 | loss: 8.26518440246582\n",
      "iteration: 395 | loss: 8.696341514587402\n",
      "iteration: 396 | loss: 9.868496894836426\n",
      "iteration: 397 | loss: 9.063193321228027\n",
      "iteration: 398 | loss: 7.431827068328857\n",
      "iteration: 399 | loss: 8.815420150756836\n",
      "iteration: 400 | loss: 9.720343589782715\n",
      "iteration: 401 | loss: 8.073229789733887\n",
      "iteration: 402 | loss: 8.559464454650879\n",
      "iteration: 403 | loss: 7.133210182189941\n",
      "iteration: 404 | loss: 7.792117118835449\n",
      "iteration: 405 | loss: 8.241729736328125\n",
      "iteration: 406 | loss: 7.8907551765441895\n",
      "iteration: 407 | loss: 8.366250038146973\n",
      "iteration: 408 | loss: 9.455485343933105\n",
      "iteration: 409 | loss: 9.469311714172363\n",
      "iteration: 410 | loss: 7.1908698081970215\n",
      "iteration: 411 | loss: 8.569133758544922\n",
      "iteration: 412 | loss: 8.569832801818848\n",
      "iteration: 413 | loss: 8.06309986114502\n",
      "iteration: 414 | loss: 7.93490743637085\n",
      "iteration: 415 | loss: 10.217296600341797\n",
      "iteration: 416 | loss: 8.738073348999023\n",
      "iteration: 417 | loss: 6.685084819793701\n",
      "iteration: 418 | loss: 9.184990882873535\n",
      "iteration: 419 | loss: 9.252317428588867\n",
      "iteration: 420 | loss: 8.088994026184082\n",
      "iteration: 421 | loss: 7.846836566925049\n",
      "iteration: 422 | loss: 8.195042610168457\n",
      "iteration: 423 | loss: 7.674288749694824\n",
      "iteration: 424 | loss: 7.741481781005859\n",
      "iteration: 425 | loss: 8.197796821594238\n",
      "iteration: 426 | loss: 9.327325820922852\n",
      "iteration: 427 | loss: 8.467751502990723\n",
      "iteration: 428 | loss: 8.01932144165039\n",
      "iteration: 429 | loss: 7.744761943817139\n",
      "iteration: 430 | loss: 9.526692390441895\n",
      "iteration: 431 | loss: 7.4218220710754395\n",
      "iteration: 432 | loss: 7.658993244171143\n",
      "iteration: 433 | loss: 6.710103988647461\n",
      "iteration: 434 | loss: 7.980226516723633\n",
      "iteration: 435 | loss: 8.13121509552002\n",
      "iteration: 436 | loss: 7.492972373962402\n",
      "iteration: 437 | loss: 7.899560451507568\n",
      "iteration: 438 | loss: 7.8369269371032715\n",
      "iteration: 439 | loss: 8.357251167297363\n",
      "iteration: 440 | loss: 7.801252841949463\n",
      "iteration: 441 | loss: 6.86517858505249\n",
      "iteration: 442 | loss: 7.347700119018555\n",
      "iteration: 443 | loss: 6.534701824188232\n",
      "iteration: 444 | loss: 7.101341247558594\n",
      "iteration: 445 | loss: 7.698198318481445\n",
      "iteration: 446 | loss: 6.573078632354736\n",
      "iteration: 447 | loss: 7.023119926452637\n",
      "iteration: 448 | loss: 7.640114784240723\n",
      "iteration: 449 | loss: 7.266060829162598\n",
      "iteration: 450 | loss: 7.012345314025879\n",
      "iteration: 451 | loss: 6.810217380523682\n",
      "iteration: 452 | loss: 7.849604606628418\n",
      "iteration: 453 | loss: 5.802682399749756\n",
      "iteration: 454 | loss: 7.099445819854736\n",
      "iteration: 455 | loss: 8.362733840942383\n",
      "iteration: 456 | loss: 7.3149094581604\n",
      "iteration: 457 | loss: 8.149855613708496\n",
      "iteration: 458 | loss: 7.771804332733154\n",
      "iteration: 459 | loss: 5.879316329956055\n",
      "iteration: 460 | loss: 7.465198993682861\n",
      "iteration: 461 | loss: 6.1041669845581055\n",
      "iteration: 462 | loss: 5.9830145835876465\n",
      "iteration: 463 | loss: 6.959830284118652\n",
      "iteration: 464 | loss: 5.58976411819458\n",
      "iteration: 465 | loss: 7.248511791229248\n",
      "iteration: 466 | loss: 7.6507415771484375\n",
      "iteration: 467 | loss: 7.222265720367432\n",
      "iteration: 468 | loss: 7.578922271728516\n",
      "iteration: 469 | loss: 7.030241012573242\n",
      "iteration: 470 | loss: 7.202018737792969\n",
      "iteration: 471 | loss: 7.874940872192383\n",
      "iteration: 472 | loss: 7.064652442932129\n",
      "iteration: 473 | loss: 6.924656391143799\n",
      "iteration: 474 | loss: 7.099743366241455\n",
      "iteration: 475 | loss: 5.321687698364258\n",
      "iteration: 476 | loss: 5.750231742858887\n",
      "iteration: 477 | loss: 6.568229675292969\n",
      "iteration: 478 | loss: 6.967165470123291\n",
      "iteration: 479 | loss: 7.523191452026367\n",
      "iteration: 480 | loss: 7.349137783050537\n",
      "iteration: 481 | loss: 7.79416561126709\n",
      "iteration: 482 | loss: 6.81702184677124\n",
      "iteration: 483 | loss: 7.074073791503906\n",
      "iteration: 484 | loss: 6.915434837341309\n",
      "iteration: 485 | loss: 7.175122261047363\n",
      "iteration: 486 | loss: 7.721604824066162\n",
      "iteration: 487 | loss: 6.955517768859863\n",
      "iteration: 488 | loss: 6.219801425933838\n",
      "iteration: 489 | loss: 6.651886463165283\n",
      "iteration: 490 | loss: 6.353599548339844\n",
      "iteration: 491 | loss: 6.491199493408203\n",
      "iteration: 492 | loss: 6.109832286834717\n",
      "iteration: 493 | loss: 5.768105506896973\n",
      "iteration: 494 | loss: 6.493978023529053\n",
      "iteration: 495 | loss: 6.349070072174072\n",
      "iteration: 496 | loss: 6.213311672210693\n",
      "iteration: 497 | loss: 5.906982898712158\n",
      "iteration: 498 | loss: 6.253486156463623\n",
      "iteration: 499 | loss: 7.600860118865967\n",
      "iteration: 500 | loss: 5.312227249145508\n",
      "iteration: 501 | loss: 5.987682342529297\n",
      "iteration: 502 | loss: 5.060777187347412\n",
      "iteration: 503 | loss: 5.870951175689697\n",
      "iteration: 504 | loss: 4.513092041015625\n",
      "iteration: 505 | loss: 5.526711940765381\n",
      "iteration: 506 | loss: 5.713802337646484\n",
      "iteration: 507 | loss: 5.738470077514648\n",
      "iteration: 508 | loss: 5.3368048667907715\n",
      "iteration: 509 | loss: 6.7042236328125\n",
      "iteration: 510 | loss: 6.393618106842041\n",
      "iteration: 511 | loss: 4.784233570098877\n",
      "iteration: 512 | loss: 5.689991474151611\n",
      "iteration: 513 | loss: 4.950193881988525\n",
      "iteration: 514 | loss: 6.1867289543151855\n",
      "iteration: 515 | loss: 4.679346561431885\n",
      "iteration: 516 | loss: 4.9968342781066895\n",
      "iteration: 517 | loss: 6.555420398712158\n",
      "iteration: 518 | loss: 4.972394943237305\n",
      "iteration: 519 | loss: 4.488707065582275\n",
      "iteration: 520 | loss: 5.44903039932251\n",
      "iteration: 521 | loss: 4.536694526672363\n",
      "iteration: 522 | loss: 4.835160732269287\n",
      "iteration: 523 | loss: 6.047037124633789\n",
      "iteration: 524 | loss: 5.593060493469238\n",
      "iteration: 525 | loss: 6.192253112792969\n",
      "iteration: 526 | loss: 5.154824733734131\n",
      "iteration: 527 | loss: 4.914059638977051\n",
      "iteration: 528 | loss: 5.267862319946289\n",
      "iteration: 529 | loss: 4.94674825668335\n",
      "iteration: 530 | loss: 6.367447376251221\n",
      "iteration: 531 | loss: 5.837582111358643\n",
      "iteration: 532 | loss: 5.803859710693359\n",
      "iteration: 533 | loss: 4.895613670349121\n",
      "iteration: 534 | loss: 4.8320794105529785\n",
      "iteration: 535 | loss: 4.762502193450928\n",
      "iteration: 536 | loss: 5.9128594398498535\n",
      "iteration: 537 | loss: 5.55859899520874\n",
      "iteration: 538 | loss: 6.180166244506836\n",
      "iteration: 539 | loss: 5.87121057510376\n",
      "iteration: 540 | loss: 5.115394592285156\n",
      "iteration: 541 | loss: 4.429752826690674\n",
      "iteration: 542 | loss: 4.904658317565918\n",
      "iteration: 543 | loss: 5.645903587341309\n",
      "iteration: 544 | loss: 5.058763027191162\n",
      "iteration: 545 | loss: 4.714931011199951\n",
      "iteration: 546 | loss: 5.188029766082764\n",
      "iteration: 547 | loss: 4.677393913269043\n",
      "iteration: 548 | loss: 5.17910623550415\n",
      "iteration: 549 | loss: 5.659623146057129\n",
      "iteration: 550 | loss: 5.038692474365234\n",
      "iteration: 551 | loss: 4.823475360870361\n",
      "iteration: 552 | loss: 4.491365909576416\n",
      "iteration: 553 | loss: 4.795759201049805\n",
      "iteration: 554 | loss: 4.916030406951904\n",
      "iteration: 555 | loss: 4.96776819229126\n",
      "iteration: 556 | loss: 4.204611778259277\n",
      "iteration: 557 | loss: 4.798980236053467\n",
      "iteration: 558 | loss: 5.94659948348999\n",
      "iteration: 559 | loss: 5.676083564758301\n",
      "iteration: 560 | loss: 5.486930847167969\n",
      "iteration: 561 | loss: 4.931013584136963\n",
      "iteration: 562 | loss: 4.792173385620117\n",
      "iteration: 563 | loss: 5.624846458435059\n",
      "iteration: 564 | loss: 4.922920227050781\n",
      "iteration: 565 | loss: 5.261845111846924\n",
      "iteration: 566 | loss: 4.736727237701416\n",
      "iteration: 567 | loss: 4.023842811584473\n",
      "iteration: 568 | loss: 4.911292552947998\n",
      "iteration: 569 | loss: 4.493899345397949\n",
      "iteration: 570 | loss: 5.555744647979736\n",
      "iteration: 571 | loss: 5.127804756164551\n",
      "iteration: 572 | loss: 4.636395454406738\n",
      "iteration: 573 | loss: 4.086303234100342\n",
      "iteration: 574 | loss: 5.044670581817627\n",
      "iteration: 575 | loss: 4.112435817718506\n",
      "iteration: 576 | loss: 4.315958023071289\n",
      "iteration: 577 | loss: 4.950847148895264\n",
      "iteration: 578 | loss: 4.929589748382568\n",
      "iteration: 579 | loss: 4.231984615325928\n",
      "iteration: 580 | loss: 4.619122505187988\n",
      "iteration: 581 | loss: 3.8709592819213867\n",
      "iteration: 582 | loss: 5.331417560577393\n",
      "iteration: 583 | loss: 4.664560794830322\n",
      "iteration: 584 | loss: 4.717655658721924\n",
      "iteration: 585 | loss: 4.50959587097168\n",
      "iteration: 586 | loss: 4.302926540374756\n",
      "iteration: 587 | loss: 4.7119669914245605\n",
      "iteration: 588 | loss: 4.329964637756348\n",
      "iteration: 589 | loss: 4.551169395446777\n",
      "iteration: 590 | loss: 6.284646511077881\n",
      "iteration: 591 | loss: 4.34713888168335\n",
      "iteration: 592 | loss: 4.579905033111572\n",
      "iteration: 593 | loss: 4.269352436065674\n",
      "iteration: 594 | loss: 3.884110689163208\n",
      "iteration: 595 | loss: 4.738595008850098\n",
      "iteration: 596 | loss: 3.6768581867218018\n",
      "iteration: 597 | loss: 4.743949890136719\n",
      "iteration: 598 | loss: 4.144412994384766\n",
      "iteration: 599 | loss: 3.866213321685791\n",
      "iteration: 600 | loss: 4.3523173332214355\n",
      "iteration: 601 | loss: 4.771142959594727\n",
      "iteration: 602 | loss: 4.159796714782715\n",
      "iteration: 603 | loss: 4.836648941040039\n",
      "iteration: 604 | loss: 4.665101051330566\n",
      "iteration: 605 | loss: 5.146535873413086\n",
      "iteration: 606 | loss: 4.201540946960449\n",
      "iteration: 607 | loss: 3.4981563091278076\n",
      "iteration: 608 | loss: 4.578629493713379\n",
      "iteration: 609 | loss: 3.99040150642395\n",
      "iteration: 610 | loss: 4.3327860832214355\n",
      "iteration: 611 | loss: 4.807381629943848\n",
      "iteration: 612 | loss: 4.523613452911377\n",
      "iteration: 613 | loss: 4.139838218688965\n",
      "iteration: 614 | loss: 4.141117095947266\n",
      "iteration: 615 | loss: 4.300374984741211\n",
      "iteration: 616 | loss: 3.3788115978240967\n",
      "iteration: 617 | loss: 4.258991241455078\n",
      "iteration: 618 | loss: 4.423450946807861\n",
      "iteration: 619 | loss: 3.4474918842315674\n",
      "iteration: 620 | loss: 3.670240879058838\n",
      "iteration: 621 | loss: 4.0184102058410645\n",
      "iteration: 622 | loss: 3.67281436920166\n",
      "iteration: 623 | loss: 5.019620895385742\n",
      "iteration: 624 | loss: 4.02831506729126\n",
      "iteration: 625 | loss: 4.768904685974121\n",
      "iteration: 626 | loss: 3.617382049560547\n",
      "iteration: 627 | loss: 3.7899458408355713\n",
      "iteration: 628 | loss: 3.8650753498077393\n",
      "iteration: 629 | loss: 3.9606399536132812\n",
      "iteration: 630 | loss: 4.616423606872559\n",
      "iteration: 631 | loss: 3.7644002437591553\n",
      "iteration: 632 | loss: 4.020452499389648\n",
      "iteration: 633 | loss: 4.3454461097717285\n",
      "iteration: 634 | loss: 4.068892478942871\n",
      "iteration: 635 | loss: 3.447814464569092\n",
      "iteration: 636 | loss: 4.372520446777344\n",
      "iteration: 637 | loss: 3.7017176151275635\n",
      "iteration: 638 | loss: 4.374388694763184\n",
      "iteration: 639 | loss: 3.1559648513793945\n",
      "iteration: 640 | loss: 4.452073097229004\n",
      "iteration: 641 | loss: 3.867969036102295\n",
      "iteration: 642 | loss: 3.749173402786255\n",
      "iteration: 643 | loss: 3.7908644676208496\n",
      "iteration: 644 | loss: 3.86873722076416\n",
      "iteration: 645 | loss: 4.675230979919434\n",
      "iteration: 646 | loss: 3.5339057445526123\n",
      "iteration: 647 | loss: 3.4214820861816406\n",
      "iteration: 648 | loss: 3.531872034072876\n",
      "iteration: 649 | loss: 4.014577388763428\n",
      "iteration: 650 | loss: 3.3606770038604736\n",
      "iteration: 651 | loss: 4.0668864250183105\n",
      "iteration: 652 | loss: 3.2595763206481934\n",
      "iteration: 653 | loss: 3.662494659423828\n",
      "iteration: 654 | loss: 3.961188316345215\n",
      "iteration: 655 | loss: 4.799668788909912\n",
      "iteration: 656 | loss: 3.381730318069458\n",
      "iteration: 657 | loss: 4.275986671447754\n",
      "iteration: 658 | loss: 4.012351036071777\n",
      "iteration: 659 | loss: 4.633155822753906\n",
      "iteration: 660 | loss: 3.236150026321411\n",
      "iteration: 661 | loss: 3.9632439613342285\n",
      "iteration: 662 | loss: 3.6069235801696777\n",
      "iteration: 663 | loss: 3.9182701110839844\n",
      "iteration: 664 | loss: 4.47573709487915\n",
      "iteration: 665 | loss: 3.421511650085449\n",
      "iteration: 666 | loss: 3.1290090084075928\n",
      "iteration: 667 | loss: 3.674417018890381\n",
      "iteration: 668 | loss: 4.476362228393555\n",
      "iteration: 669 | loss: 4.195046901702881\n",
      "iteration: 670 | loss: 3.3814611434936523\n",
      "iteration: 671 | loss: 4.4819231033325195\n",
      "iteration: 672 | loss: 3.2305948734283447\n",
      "iteration: 673 | loss: 3.339952230453491\n",
      "iteration: 674 | loss: 4.485439300537109\n",
      "iteration: 675 | loss: 3.5153424739837646\n",
      "iteration: 676 | loss: 4.378425121307373\n",
      "iteration: 677 | loss: 3.251131772994995\n",
      "iteration: 678 | loss: 3.254836320877075\n",
      "iteration: 679 | loss: 3.2517082691192627\n",
      "iteration: 680 | loss: 4.067453384399414\n",
      "iteration: 681 | loss: 3.999612331390381\n",
      "iteration: 682 | loss: 3.999112367630005\n",
      "iteration: 683 | loss: 3.6973936557769775\n",
      "iteration: 684 | loss: 3.3316848278045654\n",
      "iteration: 685 | loss: 3.754410743713379\n",
      "iteration: 686 | loss: 3.636692762374878\n",
      "iteration: 687 | loss: 3.2117133140563965\n",
      "iteration: 688 | loss: 3.184926986694336\n",
      "iteration: 689 | loss: 4.315901279449463\n",
      "iteration: 690 | loss: 3.6596531867980957\n",
      "iteration: 691 | loss: 3.7120707035064697\n",
      "iteration: 692 | loss: 3.2893612384796143\n",
      "iteration: 693 | loss: 3.9335336685180664\n",
      "iteration: 694 | loss: 3.4747085571289062\n",
      "iteration: 695 | loss: 3.3873517513275146\n",
      "iteration: 696 | loss: 3.147686243057251\n",
      "iteration: 697 | loss: 3.7590973377227783\n",
      "iteration: 698 | loss: 4.046048641204834\n",
      "iteration: 699 | loss: 3.642078161239624\n",
      "iteration: 700 | loss: 3.478753089904785\n",
      "iteration: 701 | loss: 3.539921283721924\n",
      "iteration: 702 | loss: 4.331392765045166\n",
      "iteration: 703 | loss: 3.069709300994873\n",
      "iteration: 704 | loss: 3.1123251914978027\n",
      "iteration: 705 | loss: 3.889247417449951\n",
      "iteration: 706 | loss: 3.813901901245117\n",
      "iteration: 707 | loss: 3.704409599304199\n",
      "iteration: 708 | loss: 3.059178352355957\n",
      "iteration: 709 | loss: 4.240277290344238\n",
      "iteration: 710 | loss: 3.320725202560425\n",
      "iteration: 711 | loss: 3.9096484184265137\n",
      "iteration: 712 | loss: 3.348656177520752\n",
      "iteration: 713 | loss: 3.6560418605804443\n",
      "iteration: 714 | loss: 2.8976833820343018\n",
      "iteration: 715 | loss: 3.286532402038574\n",
      "iteration: 716 | loss: 3.6816134452819824\n",
      "iteration: 717 | loss: 2.819404125213623\n",
      "iteration: 718 | loss: 3.462881565093994\n",
      "iteration: 719 | loss: 4.034286022186279\n",
      "iteration: 720 | loss: 3.108151912689209\n",
      "iteration: 721 | loss: 3.3256466388702393\n",
      "iteration: 722 | loss: 3.3835389614105225\n",
      "iteration: 723 | loss: 3.6517529487609863\n",
      "iteration: 724 | loss: 3.4700849056243896\n",
      "iteration: 725 | loss: 3.7638020515441895\n",
      "iteration: 726 | loss: 3.2067008018493652\n",
      "iteration: 727 | loss: 3.6926016807556152\n",
      "iteration: 728 | loss: 3.1636853218078613\n",
      "iteration: 729 | loss: 3.062965154647827\n",
      "iteration: 730 | loss: 3.35878324508667\n",
      "iteration: 731 | loss: 3.274813175201416\n",
      "iteration: 732 | loss: 3.0501184463500977\n",
      "iteration: 733 | loss: 3.7814247608184814\n",
      "iteration: 734 | loss: 3.503995656967163\n",
      "iteration: 735 | loss: 3.470754384994507\n",
      "iteration: 736 | loss: 3.4030356407165527\n",
      "iteration: 737 | loss: 3.422882318496704\n",
      "iteration: 738 | loss: 3.6359338760375977\n",
      "iteration: 739 | loss: 3.421736240386963\n",
      "iteration: 740 | loss: 2.8015215396881104\n",
      "iteration: 741 | loss: 3.327115297317505\n",
      "iteration: 742 | loss: 3.1033871173858643\n",
      "iteration: 743 | loss: 3.606963634490967\n",
      "iteration: 744 | loss: 3.534255027770996\n",
      "iteration: 745 | loss: 3.288503408432007\n",
      "iteration: 746 | loss: 3.239192008972168\n",
      "iteration: 747 | loss: 3.0252931118011475\n",
      "iteration: 748 | loss: 3.142061710357666\n",
      "iteration: 749 | loss: 3.9470036029815674\n",
      "iteration: 750 | loss: 3.4345571994781494\n",
      "iteration: 751 | loss: 3.9338808059692383\n",
      "iteration: 752 | loss: 3.4965593814849854\n",
      "iteration: 753 | loss: 3.03300142288208\n",
      "iteration: 754 | loss: 3.717139959335327\n",
      "iteration: 755 | loss: 3.166288137435913\n",
      "iteration: 756 | loss: 3.066697597503662\n",
      "iteration: 757 | loss: 3.4923534393310547\n",
      "iteration: 758 | loss: 3.041722059249878\n",
      "iteration: 759 | loss: 2.7540359497070312\n",
      "iteration: 760 | loss: 3.028014898300171\n",
      "iteration: 761 | loss: 2.729808807373047\n",
      "iteration: 762 | loss: 3.2386577129364014\n",
      "iteration: 763 | loss: 3.018822193145752\n",
      "iteration: 764 | loss: 3.3203237056732178\n",
      "iteration: 765 | loss: 3.594278573989868\n",
      "iteration: 766 | loss: 3.1383936405181885\n",
      "iteration: 767 | loss: 3.090597629547119\n",
      "iteration: 768 | loss: 3.237116575241089\n",
      "iteration: 769 | loss: 3.20198655128479\n",
      "iteration: 770 | loss: 2.9254744052886963\n",
      "iteration: 771 | loss: 3.5395402908325195\n",
      "iteration: 772 | loss: 2.938319206237793\n",
      "iteration: 773 | loss: 3.136275291442871\n",
      "iteration: 774 | loss: 3.246109962463379\n",
      "iteration: 775 | loss: 3.9333386421203613\n",
      "iteration: 776 | loss: 3.1060118675231934\n",
      "iteration: 777 | loss: 3.4038496017456055\n",
      "iteration: 778 | loss: 3.1925606727600098\n",
      "iteration: 779 | loss: 3.3581907749176025\n",
      "iteration: 780 | loss: 3.3565051555633545\n",
      "iteration: 781 | loss: 2.553011894226074\n",
      "iteration: 782 | loss: 3.066627264022827\n",
      "iteration: 783 | loss: 3.1782660484313965\n",
      "iteration: 784 | loss: 3.0220589637756348\n",
      "iteration: 785 | loss: 3.445486545562744\n",
      "iteration: 786 | loss: 3.0392019748687744\n",
      "iteration: 787 | loss: 3.137660503387451\n",
      "iteration: 788 | loss: 3.0203356742858887\n",
      "iteration: 789 | loss: 2.888195037841797\n",
      "iteration: 790 | loss: 3.2919750213623047\n",
      "iteration: 791 | loss: 3.3868699073791504\n",
      "iteration: 792 | loss: 3.346585750579834\n",
      "iteration: 793 | loss: 3.461677074432373\n",
      "iteration: 794 | loss: 3.651179790496826\n",
      "iteration: 795 | loss: 2.8367319107055664\n",
      "iteration: 796 | loss: 3.546323776245117\n",
      "iteration: 797 | loss: 4.662939548492432\n",
      "iteration: 798 | loss: 4.011507987976074\n",
      "iteration: 799 | loss: 3.070263385772705\n",
      "iteration: 800 | loss: 3.179784059524536\n",
      "iteration: 801 | loss: 3.370863676071167\n",
      "iteration: 802 | loss: 3.2967135906219482\n",
      "iteration: 803 | loss: 3.34350848197937\n",
      "iteration: 804 | loss: 3.0630264282226562\n",
      "iteration: 805 | loss: 2.8138794898986816\n",
      "iteration: 806 | loss: 2.7586276531219482\n",
      "iteration: 807 | loss: 2.98624587059021\n",
      "iteration: 808 | loss: 2.9913270473480225\n",
      "iteration: 809 | loss: 3.0415263175964355\n",
      "iteration: 810 | loss: 2.7287795543670654\n",
      "iteration: 811 | loss: 2.9979894161224365\n",
      "iteration: 812 | loss: 3.5257322788238525\n",
      "iteration: 813 | loss: 3.6335296630859375\n",
      "iteration: 814 | loss: 3.6716737747192383\n",
      "iteration: 815 | loss: 3.573082685470581\n",
      "iteration: 816 | loss: 3.39626145362854\n",
      "iteration: 817 | loss: 3.4785521030426025\n",
      "iteration: 818 | loss: 3.6152961254119873\n",
      "iteration: 819 | loss: 3.1794252395629883\n",
      "iteration: 820 | loss: 3.01049542427063\n",
      "iteration: 821 | loss: 3.043492317199707\n",
      "iteration: 822 | loss: 3.1924469470977783\n",
      "iteration: 823 | loss: 3.065262794494629\n",
      "iteration: 824 | loss: 3.2319118976593018\n",
      "iteration: 825 | loss: 3.5452075004577637\n",
      "iteration: 826 | loss: 3.3266708850860596\n",
      "iteration: 827 | loss: 2.7067134380340576\n",
      "iteration: 828 | loss: 2.7693705558776855\n",
      "iteration: 829 | loss: 3.0693016052246094\n",
      "iteration: 830 | loss: 3.1034610271453857\n",
      "iteration: 831 | loss: 2.963244915008545\n",
      "iteration: 832 | loss: 3.64536452293396\n",
      "iteration: 833 | loss: 4.31235933303833\n",
      "iteration: 834 | loss: 3.9048690795898438\n",
      "iteration: 835 | loss: 3.6888856887817383\n",
      "iteration: 836 | loss: 3.5094552040100098\n",
      "iteration: 837 | loss: 3.160295248031616\n",
      "iteration: 838 | loss: 2.9752142429351807\n",
      "iteration: 839 | loss: 3.984419345855713\n",
      "iteration: 840 | loss: 3.3793411254882812\n",
      "iteration: 841 | loss: 3.4072883129119873\n",
      "iteration: 842 | loss: 4.579692840576172\n",
      "iteration: 843 | loss: 4.220098495483398\n",
      "iteration: 844 | loss: 3.3974342346191406\n",
      "iteration: 845 | loss: 3.373462200164795\n",
      "iteration: 846 | loss: 3.8072056770324707\n",
      "iteration: 847 | loss: 4.479584217071533\n",
      "iteration: 848 | loss: 3.1036760807037354\n",
      "iteration: 849 | loss: 3.280341625213623\n",
      "iteration: 850 | loss: 3.6738269329071045\n",
      "iteration: 851 | loss: 2.736109733581543\n",
      "iteration: 852 | loss: 2.819549322128296\n",
      "iteration: 853 | loss: 3.373898983001709\n",
      "iteration: 854 | loss: 3.980820417404175\n",
      "iteration: 855 | loss: 3.3453543186187744\n",
      "iteration: 856 | loss: 2.787532091140747\n",
      "iteration: 857 | loss: 3.116452932357788\n",
      "iteration: 858 | loss: 3.511270761489868\n",
      "iteration: 859 | loss: 3.5926527976989746\n",
      "iteration: 860 | loss: 3.609041929244995\n",
      "iteration: 861 | loss: 4.5277180671691895\n",
      "iteration: 862 | loss: 3.169100761413574\n",
      "iteration: 863 | loss: 3.6324617862701416\n",
      "iteration: 864 | loss: 3.0860862731933594\n",
      "iteration: 865 | loss: 3.2590644359588623\n",
      "iteration: 866 | loss: 3.139526128768921\n",
      "iteration: 867 | loss: 2.911832094192505\n",
      "iteration: 868 | loss: 3.094357490539551\n",
      "iteration: 869 | loss: 3.7405762672424316\n",
      "iteration: 870 | loss: 3.241318464279175\n",
      "iteration: 871 | loss: 3.4984419345855713\n",
      "iteration: 872 | loss: 3.0694756507873535\n",
      "iteration: 873 | loss: 4.400929927825928\n",
      "iteration: 874 | loss: 3.760636806488037\n",
      "iteration: 875 | loss: 3.2794716358184814\n",
      "iteration: 876 | loss: 3.5877537727355957\n",
      "iteration: 877 | loss: 4.557529449462891\n",
      "iteration: 878 | loss: 3.962629795074463\n",
      "iteration: 879 | loss: 3.5350608825683594\n",
      "iteration: 880 | loss: 3.86252498626709\n",
      "iteration: 881 | loss: 3.1278491020202637\n",
      "iteration: 882 | loss: 3.0086655616760254\n",
      "iteration: 883 | loss: 4.012612819671631\n",
      "iteration: 884 | loss: 5.279771327972412\n",
      "iteration: 885 | loss: 4.096698760986328\n",
      "iteration: 886 | loss: 4.018853187561035\n",
      "iteration: 887 | loss: 4.2853240966796875\n",
      "iteration: 888 | loss: 3.8732142448425293\n",
      "iteration: 889 | loss: 3.17557692527771\n",
      "iteration: 890 | loss: 3.659933090209961\n",
      "iteration: 891 | loss: 3.7875518798828125\n",
      "iteration: 892 | loss: 3.6551201343536377\n",
      "iteration: 893 | loss: 2.9981353282928467\n",
      "iteration: 894 | loss: 3.8518424034118652\n",
      "iteration: 895 | loss: 4.846495628356934\n",
      "iteration: 896 | loss: 5.805009365081787\n",
      "iteration: 897 | loss: 4.564995288848877\n",
      "iteration: 898 | loss: 5.2278876304626465\n",
      "iteration: 899 | loss: 4.40384578704834\n",
      "iteration: 900 | loss: 4.493903636932373\n",
      "iteration: 901 | loss: 3.152561664581299\n",
      "iteration: 902 | loss: 3.744457483291626\n",
      "iteration: 903 | loss: 4.08947229385376\n",
      "iteration: 904 | loss: 5.511447429656982\n",
      "iteration: 905 | loss: 5.027128219604492\n",
      "iteration: 906 | loss: 4.050703048706055\n",
      "iteration: 907 | loss: 3.730403423309326\n",
      "iteration: 908 | loss: 4.338827610015869\n",
      "iteration: 909 | loss: 4.159923553466797\n",
      "iteration: 910 | loss: 5.710093021392822\n",
      "iteration: 911 | loss: 6.7190632820129395\n",
      "iteration: 912 | loss: 5.103544235229492\n",
      "iteration: 913 | loss: 4.025837421417236\n",
      "iteration: 914 | loss: 5.463780403137207\n",
      "iteration: 915 | loss: 5.430887222290039\n",
      "iteration: 916 | loss: 5.85152006149292\n",
      "iteration: 917 | loss: 3.9637441635131836\n",
      "iteration: 918 | loss: 3.9246041774749756\n",
      "iteration: 919 | loss: 4.54653787612915\n",
      "iteration: 920 | loss: 3.9443702697753906\n",
      "iteration: 921 | loss: 4.616875648498535\n",
      "iteration: 922 | loss: 4.17677116394043\n",
      "iteration: 923 | loss: 4.1214704513549805\n",
      "iteration: 924 | loss: 4.812163829803467\n",
      "iteration: 925 | loss: 5.2439775466918945\n",
      "iteration: 926 | loss: 4.92426872253418\n",
      "iteration: 927 | loss: 4.427371501922607\n",
      "iteration: 928 | loss: 4.143185138702393\n",
      "iteration: 929 | loss: 5.297482967376709\n",
      "iteration: 930 | loss: 5.312089443206787\n",
      "iteration: 931 | loss: 5.56015157699585\n",
      "iteration: 932 | loss: 3.5386416912078857\n",
      "iteration: 933 | loss: 3.7300069332122803\n",
      "iteration: 934 | loss: 3.93304443359375\n",
      "iteration: 935 | loss: 5.371914863586426\n",
      "iteration: 936 | loss: 5.528175354003906\n",
      "iteration: 937 | loss: 5.552775859832764\n",
      "iteration: 938 | loss: 4.937659740447998\n",
      "iteration: 939 | loss: 4.778404712677002\n",
      "iteration: 940 | loss: 4.365368843078613\n",
      "iteration: 941 | loss: 10.687329292297363\n",
      "iteration: 942 | loss: 8.203280448913574\n",
      "iteration: 943 | loss: 6.0002593994140625\n",
      "iteration: 944 | loss: 5.430540084838867\n",
      "iteration: 945 | loss: 6.673915863037109\n",
      "iteration: 946 | loss: 4.720763206481934\n",
      "iteration: 947 | loss: 4.629745006561279\n",
      "iteration: 948 | loss: 5.2877984046936035\n",
      "iteration: 949 | loss: 6.857603549957275\n",
      "iteration: 950 | loss: 5.353025436401367\n",
      "iteration: 951 | loss: 6.705475807189941\n",
      "iteration: 952 | loss: 8.303656578063965\n",
      "iteration: 953 | loss: 5.494881629943848\n",
      "iteration: 954 | loss: 5.9660539627075195\n",
      "iteration: 955 | loss: 5.671664237976074\n",
      "iteration: 956 | loss: 4.723349571228027\n",
      "iteration: 957 | loss: 5.656045913696289\n",
      "iteration: 958 | loss: 6.9203267097473145\n",
      "iteration: 959 | loss: 7.1285576820373535\n",
      "iteration: 960 | loss: 5.471793174743652\n",
      "iteration: 961 | loss: 5.252909183502197\n",
      "iteration: 962 | loss: 4.765099048614502\n",
      "iteration: 963 | loss: 7.100497722625732\n",
      "iteration: 964 | loss: 5.997548580169678\n",
      "iteration: 965 | loss: 4.506973743438721\n",
      "iteration: 966 | loss: 5.031545162200928\n",
      "iteration: 967 | loss: 4.803322792053223\n",
      "iteration: 968 | loss: 4.395718097686768\n",
      "iteration: 969 | loss: 4.896655559539795\n",
      "iteration: 970 | loss: 4.805644512176514\n",
      "iteration: 971 | loss: 4.80123233795166\n",
      "iteration: 972 | loss: 4.884424209594727\n",
      "iteration: 973 | loss: 6.587669372558594\n",
      "iteration: 974 | loss: 8.498595237731934\n",
      "iteration: 975 | loss: 6.4777703285217285\n",
      "iteration: 976 | loss: 6.512328147888184\n",
      "iteration: 977 | loss: 4.796699047088623\n",
      "iteration: 978 | loss: 5.779097557067871\n",
      "iteration: 979 | loss: 5.9118332862854\n",
      "iteration: 980 | loss: 8.499500274658203\n",
      "iteration: 981 | loss: 10.37867259979248\n",
      "iteration: 982 | loss: 9.271692276000977\n",
      "iteration: 983 | loss: 8.837278366088867\n",
      "iteration: 984 | loss: 8.95435619354248\n",
      "iteration: 985 | loss: 8.158259391784668\n",
      "iteration: 986 | loss: 6.841240406036377\n",
      "iteration: 987 | loss: 7.306034564971924\n",
      "iteration: 988 | loss: 6.396230697631836\n",
      "iteration: 989 | loss: 9.20928955078125\n",
      "iteration: 990 | loss: 8.015602111816406\n",
      "iteration: 991 | loss: 7.592930793762207\n",
      "iteration: 992 | loss: 9.705460548400879\n",
      "iteration: 993 | loss: 7.837419033050537\n",
      "iteration: 994 | loss: 9.056916236877441\n",
      "iteration: 995 | loss: 7.533653736114502\n",
      "iteration: 996 | loss: 8.167403221130371\n",
      "iteration: 997 | loss: 9.241852760314941\n",
      "iteration: 998 | loss: 11.761964797973633\n",
      "iteration: 999 | loss: 7.650173187255859\n"
     ]
    }
   ],
   "source": [
    "lri = []\n",
    "lossi = []\n",
    "l2coef = 0.01\n",
    "batch_size = 64\n",
    "\n",
    "for k in range(1000):\n",
    "    \n",
    "    # Forward path\n",
    "    mini_batch_idx = torch.randint(low=0, high=dataset_size, size=(batch_size,))\n",
    "    emb = emb_lkt[xs[mini_batch_idx]] # batch_size, window_size, emb_dim\n",
    "    h = torch.tanh(emb.view(batch_size, -1)@W1 + b1 ) # batch_size, hlayer_size\n",
    "    logits = h @ W2 + b2 # * log counts [batch_size, nclass]\n",
    "    # counts = logits.exp() # * equivalent to counts [b, nclass]\n",
    "    # probs = counts / counts.sum(dim=1 , keepdim=True) #[b, nclass]\n",
    "     \n",
    "    # loss = -probs[torch.arange(batch_size), ys].log().mean() + l2coef*(W**2).mean()\n",
    "\n",
    "    loss = F.cross_entropy(logits, ys[mini_batch_idx])\n",
    "\n",
    "    # for p in parameters:\n",
    "    #     p.grad = None\n",
    "    loss.backward()\n",
    "\n",
    "    # update &\n",
    "    lr = exponential_lr[k]\n",
    "    lri.append(lr_expo[k]) # store the exponent\n",
    "    lossi.append(loss.item())\n",
    "    # set the weight grads to None, PyTorch interpret it as 0\n",
    "    # but None is more efficient\n",
    "    for p in parameters:\n",
    "        p.data -= lr*p.grad\n",
    "        p.grad = None\n",
    "\n",
    "    print(f'iteration: {k} | loss: {loss.item()}')"
   ]
  },
  {
   "cell_type": "code",
   "execution_count": 196,
   "metadata": {},
   "outputs": [
    {
     "data": {
      "text/plain": [
       "[<matplotlib.lines.Line2D at 0x7f3fde8de890>]"
      ]
     },
     "execution_count": 196,
     "metadata": {},
     "output_type": "execute_result"
    },
    {
     "data": {
      "image/png": "[encoded data removed]",
      "text/plain": [
       "<Figure size 640x480 with 1 Axes>"
      ]
     },
     "metadata": {},
     "output_type": "display_data"
    }
   ],
   "source": [
    "plt.plot(lri, lossi)"
   ]
  },
  {
   "attachments": {},
   "cell_type": "markdown",
   "metadata": {},
   "source": [
    "we can see the best exponent range is between -1.0 - -0.5 meaning the best range for lr itself is 0.1 - 0.3 :)"
   ]
  },
  {
   "attachments": {},
   "cell_type": "markdown",
   "metadata": {},
   "source": [
    "So we start with 0.1 for let say 10K batch, then when the loss plateau off, we start Learning rate decay, e.g. by a factor of 10, try 0.01 then 0.001 , ... "
   ]
  },
  {
   "attachments": {},
   "cell_type": "markdown",
   "metadata": {},
   "source": [
    "## Let's Generate some samples like Bigram"
   ]
  },
  {
   "cell_type": "code",
   "execution_count": 95,
   "metadata": {},
   "outputs": [
    {
     "name": "stdout",
     "output_type": "stream",
     "text": [
      "mor\n",
      "axx\n",
      "minaynnnyles\n",
      "koneraisah\n",
      "andhunizarie\n",
      "pberen\n",
      "iadeesh\n",
      "h\n",
      "jlligtien\n",
      "egyrhm\n"
     ]
    }
   ],
   "source": [
    "g = torch.Generator().manual_seed(2147483647)\n",
    "for _ in range(10):\n",
    "    idx = 0\n",
    "    name = ''\n",
    "    while True:\n",
    "        # Forward path\n",
    "        xenc0 = F.one_hot(torch.tensor([idx]), num_classes = 27).float()\n",
    "        logits = xenc0 @ W # * log counts [b, nclass]\n",
    "        counts = logits.exp() # * equivalent to counts [b, nclass]\n",
    "        probs = counts / counts.sum(dim=1 , keepdim=True) #[b, nclass]\n",
    "        idx = torch.multinomial(probs.detach(), num_samples=1, replacement=True, generator=g).item()\n",
    "        if idx == 0:\n",
    "            break\n",
    "        ch = i_to_s[idx]\n",
    "        # print(ch)\n",
    "        name += ch\n",
    "    print(name)"
   ]
  }
 ],
 "metadata": {
  "kernelspec": {
   "display_name": "torch113_1",
   "language": "python",
   "name": "python3"
  },
  "language_info": {
   "codemirror_mode": {
    "name": "ipython",
    "version": 3
   },
   "file_extension": ".py",
   "mimetype": "text/x-python",
   "name": "python",
   "nbconvert_exporter": "python",
   "pygments_lexer": "ipython3",
   "version": "3.10.9"
  },
  "orig_nbformat": 4,
  "vscode": {
   "interpreter": {
    "hash": "dfd31d78f929449d598c868a4ab28a111e30d94109ecabb7e57cae0b5fb90da4"
   }
  }
 },
 "nbformat": 4,
 "nbformat_minor": 2
}
