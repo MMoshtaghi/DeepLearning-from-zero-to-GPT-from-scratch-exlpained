{
 "cells": [
  {
   "cell_type": "markdown",
   "metadata": {},
   "source": [
    "# Micrograd"
   ]
  },
  {
   "cell_type": "markdown",
   "metadata": {},
   "source": [
    "micrograd is basically an autograd engine autograd is short for automatic gradient and really what it does is it implements backpropagation"
   ]
  },
  {
   "cell_type": "markdown",
   "metadata": {},
   "source": [
    "## Back Propagation\n",
    " backpropagation is this algorithm that allows you to efficiently evaluate the gradient of some kind of a loss function with respect to the weights of a neural network and what that allows us to do then is we can iteratively tune the weights of that neural network to minimize the loss function and therefore improve the accuracy of the network"
   ]
  },
  {
   "cell_type": "markdown",
   "metadata": {},
   "source": [
    "### example\n",
    "micrograph basically allows you to build out mathematical expressions and um here what we are doing is we have an expression that we're building out where you have two inputs a and b.\n",
    "\n",
    "you'll see that a and b are negative four and two but we are wrapping those values into this value object that we are going to build out as part of micrograd so this value object will wrap the numbers themselves and then we are going to build out a mathematical expression here where a and b are transformed into c d and eventually e f and g.\n",
    "\n",
    "so it will for example know that c is also a value c was a result of an addition operation and the child nodes of c are a and b and will maintain pointers to a and b value objects.\n",
    "\n",
    "so we'll basically know exactly how all of this is laid out and then not only can we do what we call the **forward pass** where we actually look at the value of g, but the big deal is that we can also take this g value object and we can call **backward** and this will basically uh initialize back propagation at the node g.\n",
    "\n",
    "what backpropagation is going to do is it's going to start at g and it's going to go backwards through that expression graph and it's going to recursively apply the chain rule from calculus and what that allows us to do then is we're going to evaluate basically the derivative of g with respect to all the internal nodes like e d and c but also with respect to the inputs a and .\n",
    "\n",
    "this derivative we'll see soon is very important information because it's telling us how a and b are affecting g. so in here a dot grad is 138 so if we slightly nudge a and make it slightly larger 138 is telling us that g will grow and the slope of that growth is going to be 138 and the slope of growth of b is going to be 645. so that's going to tell us about how g will respond if a and b get tweaked a tiny amount in a positive direction."
   ]
  },
  {
   "cell_type": "markdown",
   "metadata": {},
   "source": [
    "one more note i would like to make at this stage, is that as you see here micrograd is a scalar value auto grad engine so it's working on the level of individual scalars like negative four and two and we're taking neural nets and we're breaking them down all the way to these atoms of individual scalars and all the little pluses and times and it's just excessive and so obviously you would never be doing any of this in production it's really just put down for pedagogical reasons because **it allows us to not have to deal with these n-dimensional tensors that you would use in modern deep neural network library, but none of the math changes,** for larger networks we just take all the scalar values we're packaging them up into tensors which are just arrays of these scalars and then because we have these large arrays **we're making operations on those large arrays that allows us to take advantage of the parallelism** in a computer and all those operations can be done in parallel and then the whole thing runs faster\n",
    "\n",
    "so this is really done so that you understand and refactor out back propagation and chain rule and understand neurologic training."
   ]
  },
  {
   "cell_type": "markdown",
   "metadata": {},
   "source": [
    "MicroGrad has only 2 files:\n",
    "- engine.py : it doesn't know anything about Neural Nets\n",
    "- nn.py : this the neural net architecture"
   ]
  },
  {
   "cell_type": "markdown",
   "metadata": {},
   "source": [
    "## First a quick reminder of derivation"
   ]
  },
  {
   "cell_type": "code",
   "execution_count": null,
   "metadata": {},
   "outputs": [
    {
     "data": {
      "text/plain": [
       "\" %matplotlib inline sets the backend of matplotlib to\\nthe 'inline' backend. When using the 'inline' backend,\\nyour matplotlib graphs will be included in your notebook,\\nnext to the code.\""
      ]
     },
     "metadata": {},
     "output_type": "display_data"
    }
   ],
   "source": [
    "import math\n",
    "import numpy as np\n",
    "import matplotlib.pyplot as plt\n",
    "%matplotlib inline\n",
    "''' %matplotlib inline sets the backend of matplotlib to\n",
    "the 'inline' backend. When using the 'inline' backend,\n",
    "your matplotlib graphs will be included in your notebook,\n",
    "next to the code.'''"
   ]
  },
  {
   "cell_type": "code",
   "execution_count": null,
   "metadata": {},
   "outputs": [],
   "source": [
    "def f(x):\n",
    "    return 3*x**2 - 4*x + 5"
   ]
  },
  {
   "cell_type": "code",
   "execution_count": null,
   "metadata": {},
   "outputs": [
    {
     "data": {
      "text/plain": [
       "array([-5.  , -4.75, -4.5 , -4.25, -4.  , -3.75, -3.5 , -3.25, -3.  ,\n",
       "       -2.75, -2.5 , -2.25, -2.  , -1.75, -1.5 , -1.25, -1.  , -0.75,\n",
       "       -0.5 , -0.25,  0.  ,  0.25,  0.5 ,  0.75,  1.  ,  1.25,  1.5 ,\n",
       "        1.75,  2.  ,  2.25,  2.5 ,  2.75,  3.  ,  3.25,  3.5 ,  3.75,\n",
       "        4.  ,  4.25,  4.5 ,  4.75])"
      ]
     },
     "metadata": {},
     "output_type": "display_data"
    }
   ],
   "source": [
    "xs = np.arange(-5 ,5, 0.25)\n",
    "xs"
   ]
  },
  {
   "cell_type": "code",
   "execution_count": 1,
   "metadata": {},
   "outputs": [
    {
     "ename": "NameError",
     "evalue": "name 'f' is not defined",
     "output_type": "error",
     "traceback": [
      "\u001b[0;31m---------------------------------------------------------------------------\u001b[0m",
      "\u001b[0;31mNameError\u001b[0m                                 Traceback (most recent call last)",
      "Cell \u001b[0;32mIn[1], line 1\u001b[0m\n\u001b[0;32m----> 1\u001b[0m ys \u001b[39m=\u001b[39m f(xs)\n\u001b[1;32m      2\u001b[0m ys\n",
      "\u001b[0;31mNameError\u001b[0m: name 'f' is not defined"
     ]
    }
   ],
   "source": [
    "ys = f(xs)\n",
    "ys"
   ]
  },
  {
   "cell_type": "code",
   "execution_count": null,
   "metadata": {},
   "outputs": [
    {
     "data": {
      "text/plain": [
       "[<matplotlib.lines.Line2D at 0x7f61e85ef490>]"
      ]
     },
     "metadata": {},
     "output_type": "display_data"
    },
    {
     "data": {
      "image/png": "[encoded data removed]",
      "text/plain": [
       "<Figure size 640x480 with 1 Axes>"
      ]
     },
     "metadata": {},
     "output_type": "display_data"
    }
   ],
   "source": [
    "plt.plot(xs,ys)"
   ]
  },
  {
   "cell_type": "code",
   "execution_count": null,
   "metadata": {},
   "outputs": [
    {
     "data": {
      "text/plain": [
       "14.00300000000243"
      ]
     },
     "metadata": {},
     "output_type": "display_data"
    }
   ],
   "source": [
    "h = 0.001\n",
    "x = 3.0\n",
    "(f(x+h)- f(x))/h"
   ]
  },
  {
   "cell_type": "code",
   "execution_count": null,
   "metadata": {},
   "outputs": [
    {
     "data": {
      "text/plain": [
       "-3.000000000010772"
      ]
     },
     "metadata": {},
     "output_type": "display_data"
    }
   ],
   "source": [
    "h = 0.0001\n",
    "a = 2.0\n",
    "b = -3.0\n",
    "c = 10.0\n",
    "d1 = a*b + c\n",
    "d2 = (a+h)*b + c\n",
    "slope = (d2-d1)/h\n",
    "slope"
   ]
  },
  {
   "cell_type": "markdown",
   "metadata": {},
   "source": [
    "### Let's engine file"
   ]
  },
  {
   "cell_type": "code",
   "execution_count": null,
   "metadata": {},
   "outputs": [],
   "source": [
    "class Value:\n",
    "    \n",
    "    def __init__(self, data, _prev=(), _op='', label=''):\n",
    "        self.data = data\n",
    "        self._prev = set(_prev) # the order does not matter, use set instead of list\n",
    "        self._op = _op\n",
    "        self.label = label\n",
    "\n",
    "        self.grad = 1.0\n",
    "    \n",
    "    def __repr__(self) -> str:\n",
    "        return f'Value(data={self.data})'\n",
    "    \n",
    "    def __add__(self, other):\n",
    "        return Value(self.data + other.data, (self, other), '+')\n",
    "    \n",
    "    def __mul__(self, other):\n",
    "        return Value(self.data * other.data, (self, other), '*')"
   ]
  },
  {
   "cell_type": "code",
   "execution_count": null,
   "metadata": {},
   "outputs": [
    {
     "data": {
      "text/plain": [
       "{Value(data=-2.0), Value(data=4.0)}"
      ]
     },
     "metadata": {},
     "output_type": "display_data"
    }
   ],
   "source": [
    "a = Value(2.0, label='a')\n",
    "b = Value(-3.0, label='b')\n",
    "c = Value(10.0, label='c')\n",
    "e = a*b;        e.label = 'e'\n",
    "d = e + c;      d.label = 'd'\n",
    "f = Value(-2.0, label='f')\n",
    "L = d*f;        L.label='L'\n",
    "L._prev"
   ]
  },
  {
   "cell_type": "code",
   "execution_count": null,
   "metadata": {},
   "outputs": [
    {
     "data": {
      "text/plain": [
       "'add'"
      ]
     },
     "metadata": {},
     "output_type": "display_data"
    }
   ],
   "source": [
    "d._op"
   ]
  },
  {
   "cell_type": "code",
   "execution_count": null,
   "metadata": {},
   "outputs": [],
   "source": [
    "L.grad = 1.0\n",
    "# For Mul: child.grad = other.data * out.grad\n",
    "# For Add: child.grad = out.grad\n",
    "f.grad = d.data * L.grad\n",
    "d.grad = f.data * L.grad\n",
    "c.grad = d.grad\n",
    "e.grad = d.grad\n",
    "a.grad = b.data * e.grad\n",
    "b.grad = a.data * e.grad"
   ]
  },
  {
   "cell_type": "code",
   "execution_count": null,
   "metadata": {},
   "outputs": [],
   "source": [
    "from graphviz import Digraph\n",
    "\n",
    "def trace(root):\n",
    "    '''\n",
    "    Build a set of all nodes and edges in a graph\n",
    "    '''\n",
    "    nodes, edges = set(), set()\n",
    "    \n",
    "    def build(v): # a heuristic function\n",
    "        if v not in nodes:\n",
    "            nodes.add(v)\n",
    "            for child in v._prev:\n",
    "                edges.add((child, v)) # define edge like this\n",
    "                build(child)\n",
    "\n",
    "    build(root)\n",
    "    return nodes, edges"
   ]
  },
  {
   "cell_type": "code",
   "execution_count": null,
   "metadata": {},
   "outputs": [],
   "source": [
    "# first have an scheme of your desired graph based on the nodes and operations\n",
    "def draw_dot(root):\n",
    "    dot = Digraph(format='svg', graph_attr={'rankdir': 'LR'}) # LR : left to right\n",
    "\n",
    "    nodes, edges = trace(root)\n",
    "    for n in nodes:\n",
    "        uid = str(id(n))\n",
    "        # for any value in the graph, create a rectangular (record') node for it\n",
    "        # a visual node\n",
    "        dot.node(name=uid, label=f'{n.label} | data: {n.data} | grad: {n.grad}', shape='record')\n",
    "        if n._op:\n",
    "            # if this value is result of some operation, create an operation node for it\n",
    "            dot.node(name=uid+n._op , label=n._op) # n._op is a string\n",
    "            # and connect the op node to the value node\n",
    "            dot.edge(uid+n._op , uid)\n",
    "            for child in n._prev:\n",
    "                dot.edge( str(id(child)) , uid+n._op)\n",
    "    return dot"
   ]
  },
  {
   "cell_type": "code",
   "execution_count": null,
   "metadata": {},
   "outputs": [
    {
     "data": {
      "image/svg+xml": "<?xml version=\"1.0\" encoding=\"UTF-8\" standalone=\"no\"?>\n<!DOCTYPE svg PUBLIC \"-//W3C//DTD SVG 1.1//EN\"\n \"http://www.w3.org/Graphics/SVG/1.1/DTD/svg11.dtd\">\n<!-- Generated by graphviz version 2.50.0 (0)\n -->\n<!-- Pages: 1 -->\n<svg width=\"739pt\" height=\"254pt\"\n viewBox=\"0.00 0.00 739.28 254.00\" xmlns=\"http://www.w3.org/2000/svg\" xmlns:xlink=\"http://www.w3.org/1999/xlink\">\n<g id=\"graph0\" class=\"graph\" transform=\"scale(1 1) rotate(0) translate(4 250)\">\n<polygon fill=\"white\" stroke=\"transparent\" points=\"-4,4 -4,-250 735.28,-250 735.28,4 -4,4\"/>\n<!-- 140058485844544 -->\n<g id=\"node1\" class=\"node\">\n<title>140058485844544</title>\n<polygon fill=\"none\" stroke=\"black\" points=\"433.09,-176.5 433.09,-245.5 517.09,-245.5 517.09,-176.5 433.09,-176.5\"/>\n<text text-anchor=\"middle\" x=\"475.09\" y=\"-230.3\" font-family=\"Times,serif\" font-size=\"14.00\">f</text>\n<polyline fill=\"none\" stroke=\"black\" points=\"433.09,-222.5 517.09,-222.5 \"/>\n<text text-anchor=\"middle\" x=\"475.09\" y=\"-207.3\" font-family=\"Times,serif\" font-size=\"14.00\">data: &#45;2.0</text>\n<polyline fill=\"none\" stroke=\"black\" points=\"433.09,-199.5 517.09,-199.5 \"/>\n<text text-anchor=\"middle\" x=\"475.09\" y=\"-184.3\" font-family=\"Times,serif\" font-size=\"14.00\">grad: 4.0</text>\n</g>\n<!-- 140058485846320mul -->\n<g id=\"node10\" class=\"node\">\n<title>140058485846320mul</title>\n<ellipse fill=\"none\" stroke=\"black\" cx=\"582.69\" cy=\"-167\" rx=\"28.7\" ry=\"18\"/>\n<text text-anchor=\"middle\" x=\"582.69\" y=\"-163.3\" font-family=\"Times,serif\" font-size=\"14.00\">mul</text>\n</g>\n<!-- 140058485844544&#45;&gt;140058485846320mul -->\n<g id=\"edge8\" class=\"edge\">\n<title>140058485844544&#45;&gt;140058485846320mul</title>\n<path fill=\"none\" stroke=\"black\" d=\"M517.22,-193.86C527.84,-189.44 539.12,-184.74 549.23,-180.52\"/>\n<polygon fill=\"black\" stroke=\"black\" points=\"550.62,-183.74 558.5,-176.66 547.93,-177.28 550.62,-183.74\"/>\n</g>\n<!-- 140058485848672 -->\n<g id=\"node2\" class=\"node\">\n<title>140058485848672</title>\n<polygon fill=\"none\" stroke=\"black\" points=\"215.19,-132.5 215.19,-201.5 304.19,-201.5 304.19,-132.5 215.19,-132.5\"/>\n<text text-anchor=\"middle\" x=\"259.69\" y=\"-186.3\" font-family=\"Times,serif\" font-size=\"14.00\">c</text>\n<polyline fill=\"none\" stroke=\"black\" points=\"215.19,-178.5 304.19,-178.5 \"/>\n<text text-anchor=\"middle\" x=\"259.69\" y=\"-163.3\" font-family=\"Times,serif\" font-size=\"14.00\">data: 10.0</text>\n<polyline fill=\"none\" stroke=\"black\" points=\"215.19,-155.5 304.19,-155.5 \"/>\n<text text-anchor=\"middle\" x=\"259.69\" y=\"-140.3\" font-family=\"Times,serif\" font-size=\"14.00\">grad: &#45;2.0</text>\n</g>\n<!-- 140058485844592add -->\n<g id=\"node4\" class=\"node\">\n<title>140058485844592add</title>\n<ellipse fill=\"none\" stroke=\"black\" cx=\"368.14\" cy=\"-123\" rx=\"27.9\" ry=\"18\"/>\n<text text-anchor=\"middle\" x=\"368.14\" y=\"-119.3\" font-family=\"Times,serif\" font-size=\"14.00\">add</text>\n</g>\n<!-- 140058485848672&#45;&gt;140058485844592add -->\n<g id=\"edge3\" class=\"edge\">\n<title>140058485848672&#45;&gt;140058485844592add</title>\n<path fill=\"none\" stroke=\"black\" d=\"M304.3,-148.98C314.44,-144.78 325.06,-140.39 334.63,-136.44\"/>\n<polygon fill=\"black\" stroke=\"black\" points=\"336.25,-139.56 344.15,-132.5 333.57,-133.09 336.25,-139.56\"/>\n</g>\n<!-- 140058485844592 -->\n<g id=\"node3\" class=\"node\">\n<title>140058485844592</title>\n<polygon fill=\"none\" stroke=\"black\" points=\"432.09,-88.5 432.09,-157.5 518.09,-157.5 518.09,-88.5 432.09,-88.5\"/>\n<text text-anchor=\"middle\" x=\"475.09\" y=\"-142.3\" font-family=\"Times,serif\" font-size=\"14.00\">d</text>\n<polyline fill=\"none\" stroke=\"black\" points=\"432.09,-134.5 518.09,-134.5 \"/>\n<text text-anchor=\"middle\" x=\"475.09\" y=\"-119.3\" font-family=\"Times,serif\" font-size=\"14.00\">data: 4.0</text>\n<polyline fill=\"none\" stroke=\"black\" points=\"432.09,-111.5 518.09,-111.5 \"/>\n<text text-anchor=\"middle\" x=\"475.09\" y=\"-96.3\" font-family=\"Times,serif\" font-size=\"14.00\">grad: &#45;2.0</text>\n</g>\n<!-- 140058485844592&#45;&gt;140058485846320mul -->\n<g id=\"edge9\" class=\"edge\">\n<title>140058485844592&#45;&gt;140058485846320mul</title>\n<path fill=\"none\" stroke=\"black\" d=\"M518.13,-140.52C528.39,-144.79 539.23,-149.31 548.99,-153.37\"/>\n<polygon fill=\"black\" stroke=\"black\" points=\"547.75,-156.65 558.32,-157.26 550.44,-150.19 547.75,-156.65\"/>\n</g>\n<!-- 140058485844592add&#45;&gt;140058485844592 -->\n<g id=\"edge1\" class=\"edge\">\n<title>140058485844592add&#45;&gt;140058485844592</title>\n<path fill=\"none\" stroke=\"black\" d=\"M396.17,-123C404.11,-123 413.08,-123 422.03,-123\"/>\n<polygon fill=\"black\" stroke=\"black\" points=\"422.08,-126.5 432.08,-123 422.08,-119.5 422.08,-126.5\"/>\n</g>\n<!-- 140058485846272 -->\n<g id=\"node5\" class=\"node\">\n<title>140058485846272</title>\n<polygon fill=\"none\" stroke=\"black\" points=\"216.69,-44.5 216.69,-113.5 302.69,-113.5 302.69,-44.5 216.69,-44.5\"/>\n<text text-anchor=\"middle\" x=\"259.69\" y=\"-98.3\" font-family=\"Times,serif\" font-size=\"14.00\">e</text>\n<polyline fill=\"none\" stroke=\"black\" points=\"216.69,-90.5 302.69,-90.5 \"/>\n<text text-anchor=\"middle\" x=\"259.69\" y=\"-75.3\" font-family=\"Times,serif\" font-size=\"14.00\">data: &#45;6.0</text>\n<polyline fill=\"none\" stroke=\"black\" points=\"216.69,-67.5 302.69,-67.5 \"/>\n<text text-anchor=\"middle\" x=\"259.69\" y=\"-52.3\" font-family=\"Times,serif\" font-size=\"14.00\">grad: &#45;2.0</text>\n</g>\n<!-- 140058485846272&#45;&gt;140058485844592add -->\n<g id=\"edge2\" class=\"edge\">\n<title>140058485846272&#45;&gt;140058485844592add</title>\n<path fill=\"none\" stroke=\"black\" d=\"M302.77,-96.39C313.42,-100.8 324.71,-105.46 334.8,-109.63\"/>\n<polygon fill=\"black\" stroke=\"black\" points=\"333.47,-112.87 344.05,-113.45 336.14,-106.4 333.47,-112.87\"/>\n</g>\n<!-- 140058485846272mul -->\n<g id=\"node6\" class=\"node\">\n<title>140058485846272mul</title>\n<ellipse fill=\"none\" stroke=\"black\" cx=\"150.6\" cy=\"-79\" rx=\"28.7\" ry=\"18\"/>\n<text text-anchor=\"middle\" x=\"150.6\" y=\"-75.3\" font-family=\"Times,serif\" font-size=\"14.00\">mul</text>\n</g>\n<!-- 140058485846272mul&#45;&gt;140058485846272 -->\n<g id=\"edge4\" class=\"edge\">\n<title>140058485846272mul&#45;&gt;140058485846272</title>\n<path fill=\"none\" stroke=\"black\" d=\"M179.46,-79C187.74,-79 197.1,-79 206.41,-79\"/>\n<polygon fill=\"black\" stroke=\"black\" points=\"206.43,-82.5 216.43,-79 206.43,-75.5 206.43,-82.5\"/>\n</g>\n<!-- 140058485849872 -->\n<g id=\"node7\" class=\"node\">\n<title>140058485849872</title>\n<polygon fill=\"none\" stroke=\"black\" points=\"2.5,-88.5 2.5,-157.5 83.5,-157.5 83.5,-88.5 2.5,-88.5\"/>\n<text text-anchor=\"middle\" x=\"43\" y=\"-142.3\" font-family=\"Times,serif\" font-size=\"14.00\">a</text>\n<polyline fill=\"none\" stroke=\"black\" points=\"2.5,-134.5 83.5,-134.5 \"/>\n<text text-anchor=\"middle\" x=\"43\" y=\"-119.3\" font-family=\"Times,serif\" font-size=\"14.00\">data: 2.0</text>\n<polyline fill=\"none\" stroke=\"black\" points=\"2.5,-111.5 83.5,-111.5 \"/>\n<text text-anchor=\"middle\" x=\"43\" y=\"-96.3\" font-family=\"Times,serif\" font-size=\"14.00\">grad: 6.0</text>\n</g>\n<!-- 140058485849872&#45;&gt;140058485846272mul -->\n<g id=\"edge5\" class=\"edge\">\n<title>140058485849872&#45;&gt;140058485846272mul</title>\n<path fill=\"none\" stroke=\"black\" d=\"M83.62,-106.49C94.64,-101.9 106.48,-96.96 117.05,-92.56\"/>\n<polygon fill=\"black\" stroke=\"black\" points=\"118.45,-95.77 126.33,-88.69 115.76,-89.31 118.45,-95.77\"/>\n</g>\n<!-- 140058485846848 -->\n<g id=\"node8\" class=\"node\">\n<title>140058485846848</title>\n<polygon fill=\"none\" stroke=\"black\" points=\"0,-0.5 0,-69.5 86,-69.5 86,-0.5 0,-0.5\"/>\n<text text-anchor=\"middle\" x=\"43\" y=\"-54.3\" font-family=\"Times,serif\" font-size=\"14.00\">b</text>\n<polyline fill=\"none\" stroke=\"black\" points=\"0,-46.5 86,-46.5 \"/>\n<text text-anchor=\"middle\" x=\"43\" y=\"-31.3\" font-family=\"Times,serif\" font-size=\"14.00\">data: &#45;3.0</text>\n<polyline fill=\"none\" stroke=\"black\" points=\"0,-23.5 86,-23.5 \"/>\n<text text-anchor=\"middle\" x=\"43\" y=\"-8.3\" font-family=\"Times,serif\" font-size=\"14.00\">grad: &#45;4.0</text>\n</g>\n<!-- 140058485846848&#45;&gt;140058485846272mul -->\n<g id=\"edge6\" class=\"edge\">\n<title>140058485846848&#45;&gt;140058485846272mul</title>\n<path fill=\"none\" stroke=\"black\" d=\"M86.04,-52.52C96.3,-56.79 107.14,-61.31 116.9,-65.37\"/>\n<polygon fill=\"black\" stroke=\"black\" points=\"115.66,-68.65 126.23,-69.26 118.35,-62.19 115.66,-68.65\"/>\n</g>\n<!-- 140058485846320 -->\n<g id=\"node9\" class=\"node\">\n<title>140058485846320</title>\n<polygon fill=\"none\" stroke=\"black\" points=\"647.28,-132.5 647.28,-201.5 731.28,-201.5 731.28,-132.5 647.28,-132.5\"/>\n<text text-anchor=\"middle\" x=\"689.28\" y=\"-186.3\" font-family=\"Times,serif\" font-size=\"14.00\">L</text>\n<polyline fill=\"none\" stroke=\"black\" points=\"647.28,-178.5 731.28,-178.5 \"/>\n<text text-anchor=\"middle\" x=\"689.28\" y=\"-163.3\" font-family=\"Times,serif\" font-size=\"14.00\">data: &#45;8.0</text>\n<polyline fill=\"none\" stroke=\"black\" points=\"647.28,-155.5 731.28,-155.5 \"/>\n<text text-anchor=\"middle\" x=\"689.28\" y=\"-140.3\" font-family=\"Times,serif\" font-size=\"14.00\">grad: 1.0</text>\n</g>\n<!-- 140058485846320mul&#45;&gt;140058485846320 -->\n<g id=\"edge7\" class=\"edge\">\n<title>140058485846320mul&#45;&gt;140058485846320</title>\n<path fill=\"none\" stroke=\"black\" d=\"M611.44,-167C619.27,-167 628.05,-167 636.8,-167\"/>\n<polygon fill=\"black\" stroke=\"black\" points=\"637,-170.5 647,-167 637,-163.5 637,-170.5\"/>\n</g>\n</g>\n</svg>\n",
      "text/plain": [
       "<graphviz.graphs.Digraph at 0x7f61e84bead0>"
      ]
     },
     "metadata": {},
     "output_type": "display_data"
    }
   ],
   "source": [
    "draw_dot(L)"
   ]
  },
  {
   "cell_type": "code",
   "execution_count": null,
   "metadata": {},
   "outputs": [],
   "source": []
  },
  {
   "cell_type": "code",
   "execution_count": null,
   "metadata": {},
   "outputs": [],
   "source": [
    "# we don't wanna polute or mess up the global variable scales,\n",
    "# so to play with data we create a local scale\n",
    "def lol():\n",
    "    h = 0.0001\n",
    "\n",
    "    a = Value(2.0, label='a')\n",
    "    b = Value(-3.0, label='b')\n",
    "    c = Value(10.0, label='c')\n",
    "    e = a*b;        e.label = 'e'\n",
    "    d = e + c;      d.label = 'd'\n",
    "    f = Value(-2.0, label='f')\n",
    "    L1 = d*f;        L1.label='L1'\n",
    "\n",
    "    a = Value(2.0 + h, label='a')\n",
    "    b = Value(-3.0, label='b')\n",
    "    c = Value(10.0, label='c')\n",
    "    e = a*b;        e.label = 'e'\n",
    "    d = e + c;      d.label = 'd'\n",
    "    f = Value(-2.0, label='f')\n",
    "    L2 = d*f;        L2.label='L2'\n",
    "    \n",
    "    return (L2.data-L1.data)/h"
   ]
  },
  {
   "cell_type": "code",
   "execution_count": null,
   "metadata": {},
   "outputs": [
    {
     "data": {
      "text/plain": [
       "6.000000000021544"
      ]
     },
     "metadata": {},
     "output_type": "display_data"
    }
   ],
   "source": [
    "lol()"
   ]
  }
 ],
 "metadata": {
  "kernelspec": {
   "display_name": "torch113_1",
   "language": "python",
   "name": "python3"
  },
  "language_info": {
   "codemirror_mode": {
    "name": "ipython",
    "version": 3
   },
   "file_extension": ".py",
   "mimetype": "text/x-python",
   "name": "python",
   "nbconvert_exporter": "python",
   "pygments_lexer": "ipython3",
   "version": "3.10.9"
  },
  "orig_nbformat": 4,
  "vscode": {
   "interpreter": {
    "hash": "dfd31d78f929449d598c868a4ab28a111e30d94109ecabb7e57cae0b5fb90da4"
   }
  }
 },
 "nbformat": 4,
 "nbformat_minor": 2
}
